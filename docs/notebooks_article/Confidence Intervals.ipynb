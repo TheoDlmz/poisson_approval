{
 "cells": [
  {
   "cell_type": "markdown",
   "metadata": {},
   "source": [
    "# Confidence Intervals"
   ]
  },
  {
   "cell_type": "code",
   "execution_count": 1,
   "metadata": {
    "ExecuteTime": {
     "end_time": "2021-02-15T09:27:30.994891Z",
     "start_time": "2021-02-15T09:27:28.450735Z"
    }
   },
   "outputs": [],
   "source": [
    "import numpy as np\n",
    "import pandas as pd\n",
    "from matplotlib import pyplot as plt\n",
    "from scipy.stats import binom\n",
    "from scipy import optimize"
   ]
  },
  {
   "cell_type": "markdown",
   "metadata": {},
   "source": [
    "In our article, for the sake of conciseness, we do not give the confidence interval for each number in the body of the article and in the tables."
   ]
  },
  {
   "cell_type": "markdown",
   "metadata": {},
   "source": [
    "The following function computes the exact confidence interval for a repeated Bernouilli, with *k* successes out of *n* independent samples. The parameter *confidence* specifies the desired level of confidence, e.g. 95%. This function is adapted from https://github.com/KazKobara/ebcic."
   ]
  },
  {
   "cell_type": "code",
   "execution_count": 2,
   "metadata": {
    "ExecuteTime": {
     "end_time": "2021-02-15T09:27:31.028802Z",
     "start_time": "2021-02-15T09:27:30.999877Z"
    }
   },
   "outputs": [],
   "source": [
    "def exact_confidence_interval(n, k, confidence):\n",
    "    \"\"\"Return exact Binomial confidence interval for the parameter.\n",
    "\n",
    "    Returns:\n",
    "            lower_p (float): lower bound of Binomial confidence interval.\n",
    "            upper_p (float): upper bound of Binomial confidence interval.\n",
    "    \"\"\"\n",
    "    alpha = 1 - confidence\n",
    "    r = alpha / 2\n",
    "    if k > n / 2:\n",
    "        # Cumulative error becomes large for k >> n/2,\n",
    "        # so make k < n/2.\n",
    "        k = n - k\n",
    "        reverse_mode = True\n",
    "    else:\n",
    "        reverse_mode = False\n",
    "\n",
    "    def upper(p):\n",
    "        \"\"\"\n",
    "        Upper bound is the p making the following 0.\n",
    "        \"\"\"\n",
    "        return binom.cdf(k, n, p) - r\n",
    "\n",
    "    def lower(p):\n",
    "        \"\"\"\n",
    "        Lower bound for k>0 is the p making the following 0.\n",
    "        \"\"\"\n",
    "        return binom.cdf(n - k, n, 1 - p) - r\n",
    "\n",
    "    if k == 0:\n",
    "        lower_p = 0.0\n",
    "        upper_p = 1 - (alpha)**(1 / n)\n",
    "    else:\n",
    "        # 0 < k <= n/2\n",
    "        u_init = k / n\n",
    "        l_init = k / n\n",
    "        if k == 1:\n",
    "            l_init = 0\n",
    "        elif k == 2:\n",
    "            l_init = k / (2 * n)\n",
    "        lower_p = optimize.fsolve(lower, l_init)[0]\n",
    "        if n == 2 and k == 1:\n",
    "            # Exception of k/n = 1/2 and n is too small.\n",
    "            upper_p = 1 - lower_p\n",
    "        else:\n",
    "            upper_p = optimize.fsolve(upper, u_init)[0]\n",
    "\n",
    "    if reverse_mode:\n",
    "        lower_p, upper_p = 1 - upper_p, 1 - lower_p\n",
    "\n",
    "    return lower_p, upper_p"
   ]
  },
  {
   "cell_type": "markdown",
   "metadata": {},
   "source": [
    "For 10,000 samples, we draw the 95% confidence interval for each possible value of the number of successes *k*:"
   ]
  },
  {
   "cell_type": "code",
   "execution_count": 3,
   "metadata": {
    "ExecuteTime": {
     "end_time": "2021-02-15T09:28:55.651690Z",
     "start_time": "2021-02-15T09:27:31.034785Z"
    }
   },
   "outputs": [],
   "source": [
    "N_SAMPLES = 10000\n",
    "ks = np.array(range(N_SAMPLES + 1))\n",
    "lowers = []\n",
    "uppers = []\n",
    "averages = []\n",
    "for k in ks:\n",
    "    lower, upper = exact_confidence_interval(n=N_SAMPLES, k=k, confidence=0.95)\n",
    "    lowers.append(lower)\n",
    "    uppers.append(upper)\n",
    "    averages.append(k / N_SAMPLES)"
   ]
  },
  {
   "cell_type": "code",
   "execution_count": 4,
   "metadata": {
    "ExecuteTime": {
     "end_time": "2021-02-15T09:28:56.152516Z",
     "start_time": "2021-02-15T09:28:55.656011Z"
    }
   },
   "outputs": [
    {
     "data": {
      "text/plain": [
       "<matplotlib.legend.Legend at 0x1f5f1f69710>"
      ]
     },
     "execution_count": 4,
     "metadata": {},
     "output_type": "execute_result"
    },
    {
     "data": {
      "image/png": "[encoded data removed]",
      "text/plain": [
       "<Figure size 576x288 with 1 Axes>"
      ]
     },
     "metadata": {
      "needs_background": "light"
     },
     "output_type": "display_data"
    }
   ],
   "source": [
    "plt.subplots(figsize=(8, 4))\n",
    "plt.plot(ks, uppers, label='Upper bound')\n",
    "plt.plot(ks, averages, label='Empirical mean')\n",
    "plt.plot(ks, lowers, label='Lower bound')\n",
    "plt.xlabel('Number of sucesses')\n",
    "plt.ylabel('Parameter of the Bernouilli distribution')\n",
    "plt.xlim(0, 10000)\n",
    "plt.ylim(0, 1)\n",
    "plt.grid(True)\n",
    "plt.legend()"
   ]
  },
  {
   "cell_type": "markdown",
   "metadata": {},
   "source": [
    "Some examples:"
   ]
  },
  {
   "cell_type": "code",
   "execution_count": 5,
   "metadata": {
    "ExecuteTime": {
     "end_time": "2021-02-15T09:28:56.261274Z",
     "start_time": "2021-02-15T09:28:56.155562Z"
    }
   },
   "outputs": [
    {
     "data": {
      "text/html": [
       "<div>\n",
       "<style scoped>\n",
       "    .dataframe tbody tr th:only-of-type {\n",
       "        vertical-align: middle;\n",
       "    }\n",
       "\n",
       "    .dataframe tbody tr th {\n",
       "        vertical-align: top;\n",
       "    }\n",
       "\n",
       "    .dataframe thead th {\n",
       "        text-align: right;\n",
       "    }\n",
       "</style>\n",
       "<table border=\"1\" class=\"dataframe\">\n",
       "  <thead>\n",
       "    <tr style=\"text-align: right;\">\n",
       "      <th></th>\n",
       "      <th>Lower bound</th>\n",
       "      <th>Empirical mean</th>\n",
       "      <th>Upper bound</th>\n",
       "    </tr>\n",
       "    <tr>\n",
       "      <th>k</th>\n",
       "      <th></th>\n",
       "      <th></th>\n",
       "      <th></th>\n",
       "    </tr>\n",
       "  </thead>\n",
       "  <tbody>\n",
       "    <tr>\n",
       "      <th>0</th>\n",
       "      <td>0.000000</td>\n",
       "      <td>0.0000</td>\n",
       "      <td>0.000300</td>\n",
       "    </tr>\n",
       "    <tr>\n",
       "      <th>1</th>\n",
       "      <td>0.000003</td>\n",
       "      <td>0.0001</td>\n",
       "      <td>0.000557</td>\n",
       "    </tr>\n",
       "    <tr>\n",
       "      <th>2</th>\n",
       "      <td>0.000024</td>\n",
       "      <td>0.0002</td>\n",
       "      <td>0.000722</td>\n",
       "    </tr>\n",
       "    <tr>\n",
       "      <th>3</th>\n",
       "      <td>0.000062</td>\n",
       "      <td>0.0003</td>\n",
       "      <td>0.000876</td>\n",
       "    </tr>\n",
       "    <tr>\n",
       "      <th>4</th>\n",
       "      <td>0.000109</td>\n",
       "      <td>0.0004</td>\n",
       "      <td>0.001024</td>\n",
       "    </tr>\n",
       "    <tr>\n",
       "      <th>5</th>\n",
       "      <td>0.000162</td>\n",
       "      <td>0.0005</td>\n",
       "      <td>0.001166</td>\n",
       "    </tr>\n",
       "    <tr>\n",
       "      <th>6</th>\n",
       "      <td>0.000220</td>\n",
       "      <td>0.0006</td>\n",
       "      <td>0.001305</td>\n",
       "    </tr>\n",
       "    <tr>\n",
       "      <th>7</th>\n",
       "      <td>0.000281</td>\n",
       "      <td>0.0007</td>\n",
       "      <td>0.001442</td>\n",
       "    </tr>\n",
       "    <tr>\n",
       "      <th>8</th>\n",
       "      <td>0.000345</td>\n",
       "      <td>0.0008</td>\n",
       "      <td>0.001576</td>\n",
       "    </tr>\n",
       "    <tr>\n",
       "      <th>9</th>\n",
       "      <td>0.000412</td>\n",
       "      <td>0.0009</td>\n",
       "      <td>0.001708</td>\n",
       "    </tr>\n",
       "    <tr>\n",
       "      <th>10</th>\n",
       "      <td>0.000480</td>\n",
       "      <td>0.0010</td>\n",
       "      <td>0.001838</td>\n",
       "    </tr>\n",
       "    <tr>\n",
       "      <th>20</th>\n",
       "      <td>0.001222</td>\n",
       "      <td>0.0020</td>\n",
       "      <td>0.003087</td>\n",
       "    </tr>\n",
       "    <tr>\n",
       "      <th>30</th>\n",
       "      <td>0.002025</td>\n",
       "      <td>0.0030</td>\n",
       "      <td>0.004280</td>\n",
       "    </tr>\n",
       "    <tr>\n",
       "      <th>40</th>\n",
       "      <td>0.002859</td>\n",
       "      <td>0.0040</td>\n",
       "      <td>0.005443</td>\n",
       "    </tr>\n",
       "    <tr>\n",
       "      <th>50</th>\n",
       "      <td>0.003713</td>\n",
       "      <td>0.0050</td>\n",
       "      <td>0.006587</td>\n",
       "    </tr>\n",
       "    <tr>\n",
       "      <th>60</th>\n",
       "      <td>0.004582</td>\n",
       "      <td>0.0060</td>\n",
       "      <td>0.007717</td>\n",
       "    </tr>\n",
       "    <tr>\n",
       "      <th>70</th>\n",
       "      <td>0.005461</td>\n",
       "      <td>0.0070</td>\n",
       "      <td>0.008836</td>\n",
       "    </tr>\n",
       "    <tr>\n",
       "      <th>80</th>\n",
       "      <td>0.006348</td>\n",
       "      <td>0.0080</td>\n",
       "      <td>0.009947</td>\n",
       "    </tr>\n",
       "    <tr>\n",
       "      <th>90</th>\n",
       "      <td>0.007243</td>\n",
       "      <td>0.0090</td>\n",
       "      <td>0.011051</td>\n",
       "    </tr>\n",
       "    <tr>\n",
       "      <th>100</th>\n",
       "      <td>0.008144</td>\n",
       "      <td>0.0100</td>\n",
       "      <td>0.012150</td>\n",
       "    </tr>\n",
       "    <tr>\n",
       "      <th>200</th>\n",
       "      <td>0.017347</td>\n",
       "      <td>0.0200</td>\n",
       "      <td>0.022938</td>\n",
       "    </tr>\n",
       "    <tr>\n",
       "      <th>300</th>\n",
       "      <td>0.026744</td>\n",
       "      <td>0.0300</td>\n",
       "      <td>0.033533</td>\n",
       "    </tr>\n",
       "    <tr>\n",
       "      <th>400</th>\n",
       "      <td>0.036244</td>\n",
       "      <td>0.0400</td>\n",
       "      <td>0.044027</td>\n",
       "    </tr>\n",
       "    <tr>\n",
       "      <th>500</th>\n",
       "      <td>0.045810</td>\n",
       "      <td>0.0500</td>\n",
       "      <td>0.054455</td>\n",
       "    </tr>\n",
       "  </tbody>\n",
       "</table>\n",
       "</div>"
      ],
      "text/plain": [
       "     Lower bound  Empirical mean  Upper bound\n",
       "k                                            \n",
       "0       0.000000          0.0000     0.000300\n",
       "1       0.000003          0.0001     0.000557\n",
       "2       0.000024          0.0002     0.000722\n",
       "3       0.000062          0.0003     0.000876\n",
       "4       0.000109          0.0004     0.001024\n",
       "5       0.000162          0.0005     0.001166\n",
       "6       0.000220          0.0006     0.001305\n",
       "7       0.000281          0.0007     0.001442\n",
       "8       0.000345          0.0008     0.001576\n",
       "9       0.000412          0.0009     0.001708\n",
       "10      0.000480          0.0010     0.001838\n",
       "20      0.001222          0.0020     0.003087\n",
       "30      0.002025          0.0030     0.004280\n",
       "40      0.002859          0.0040     0.005443\n",
       "50      0.003713          0.0050     0.006587\n",
       "60      0.004582          0.0060     0.007717\n",
       "70      0.005461          0.0070     0.008836\n",
       "80      0.006348          0.0080     0.009947\n",
       "90      0.007243          0.0090     0.011051\n",
       "100     0.008144          0.0100     0.012150\n",
       "200     0.017347          0.0200     0.022938\n",
       "300     0.026744          0.0300     0.033533\n",
       "400     0.036244          0.0400     0.044027\n",
       "500     0.045810          0.0500     0.054455"
      ]
     },
     "execution_count": 5,
     "metadata": {},
     "output_type": "execute_result"
    }
   ],
   "source": [
    "df = pd.DataFrame()\n",
    "df.index.name = 'k'\n",
    "for k in list(range(10)) + list(range(10, 100, 10)) + list(range(100, 600, 100)):\n",
    "    df.loc[k, 'Lower bound'] = lowers[k]\n",
    "    df.loc[k, 'Empirical mean'] = averages[k]\n",
    "    df.loc[k, 'Upper bound'] = uppers[k]\n",
    "df"
   ]
  }
 ],
 "metadata": {
  "kernelspec": {
   "display_name": "Python 3",
   "language": "python",
   "name": "python3"
  },
  "language_info": {
   "codemirror_mode": {
    "name": "ipython",
    "version": 3
   },
   "file_extension": ".py",
   "mimetype": "text/x-python",
   "name": "python",
   "nbconvert_exporter": "python",
   "pygments_lexer": "ipython3",
   "version": "3.7.3"
  },
  "toc": {
   "base_numbering": 1,
   "nav_menu": {},
   "number_sections": false,
   "sideBar": true,
   "skip_h1_title": true,
   "title_cell": "Table of Contents",
   "title_sidebar": "Contents",
   "toc_cell": false,
   "toc_position": {},
   "toc_section_display": true,
   "toc_window_display": false
  }
 },
 "nbformat": 4,
 "nbformat_minor": 4
}
