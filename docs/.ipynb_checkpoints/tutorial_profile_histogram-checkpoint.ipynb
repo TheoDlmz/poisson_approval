{
 "cells": [
  {
   "cell_type": "markdown",
   "metadata": {},
   "source": [
    "# Tutorial on ProfileHistogram"
   ]
  },
  {
   "cell_type": "code",
   "execution_count": 1,
   "metadata": {
    "ExecuteTime": {
     "end_time": "2020-01-30T18:52:14.123631Z",
     "start_time": "2020-01-30T18:52:13.578089Z"
    }
   },
   "outputs": [],
   "source": [
    "from matplotlib import pyplot as plt\n",
    "import poisson_approval as pa"
   ]
  },
  {
   "cell_type": "markdown",
   "metadata": {},
   "source": [
    "## Profile"
   ]
  },
  {
   "cell_type": "markdown",
   "metadata": {},
   "source": [
    "Generate a random profile:"
   ]
  },
  {
   "cell_type": "code",
   "execution_count": 2,
   "metadata": {
    "ExecuteTime": {
     "end_time": "2020-01-30T18:52:14.134601Z",
     "start_time": "2020-01-30T18:52:14.125625Z"
    }
   },
   "outputs": [
    {
     "data": {
      "text/plain": [
       "<abc: 0.2024301929990251 [0.00169112 0.30094337 0.05623127 0.08430518 0.28065703 0.06203373\n",
       " 0.0483658  0.01365565 0.01980354 0.13231332], acb: 0.15878931985890854 [0.0249386  0.13262261 0.10804939 0.06407001 0.05360461 0.07584126\n",
       " 0.07028921 0.17259369 0.13098232 0.16700829], bac: 0.2701446745394197 [0.13402201 0.07724262 0.06075399 0.00355272 0.37710682 0.02704885\n",
       " 0.04678536 0.12419629 0.03501846 0.11427288], bca: 0.13181095652839792 [0.04636073 0.1171943  0.00528462 0.02242771 0.02904048 0.00148519\n",
       " 0.16329987 0.1828835  0.14800644 0.28401717], cab: 0.12448597281456542 [0.04506608 0.10026943 0.0453203  0.11482289 0.00792083 0.43448789\n",
       " 0.0416861  0.03933063 0.08620383 0.08489202], cba: 0.11233888325968333 [0.32497523 0.01437763 0.04904627 0.03221749 0.00734958 0.07567029\n",
       " 0.17272358 0.00369146 0.20084372 0.11910477]> (Condorcet winner: b)"
      ]
     },
     "execution_count": 2,
     "metadata": {},
     "output_type": "execute_result"
    }
   ],
   "source": [
    "generator_profile = pa.GeneratorProfileHistogramUniform(n_bins = 10)\n",
    "profile = generator_profile()\n",
    "profile"
   ]
  },
  {
   "cell_type": "markdown",
   "metadata": {},
   "source": [
    "Share of each ranking:"
   ]
  },
  {
   "cell_type": "code",
   "execution_count": 3,
   "metadata": {
    "ExecuteTime": {
     "end_time": "2020-01-30T18:52:14.145572Z",
     "start_time": "2020-01-30T18:52:14.136597Z"
    }
   },
   "outputs": [
    {
     "data": {
      "text/plain": [
       "{abc: 0.2024301929990251, acb: 0.15878931985890854, bac: 0.2701446745394197, bca: 0.13181095652839792, cab: 0.12448597281456542, cba: 0.11233888325968333}"
      ]
     },
     "execution_count": 3,
     "metadata": {},
     "output_type": "execute_result"
    }
   ],
   "source": [
    "profile.d_ranking_share"
   ]
  },
  {
   "cell_type": "markdown",
   "metadata": {},
   "source": [
    "Distribution of the utilities for voters $abc$:"
   ]
  },
  {
   "cell_type": "code",
   "execution_count": 4,
   "metadata": {
    "ExecuteTime": {
     "end_time": "2020-01-30T18:52:14.327087Z",
     "start_time": "2020-01-30T18:52:14.147567Z"
    }
   },
   "outputs": [
    {
     "data": {
      "text/plain": [
       "<matplotlib.legend.Legend at 0x2281e0f1518>"
      ]
     },
     "execution_count": 4,
     "metadata": {},
     "output_type": "execute_result"
    },
    {
     "data": {
      "image/png": "[encoded data removed]",
      "text/plain": [
       "<Figure size 432x288 with 1 Axes>"
      ]
     },
     "metadata": {
      "needs_background": "light"
     },
     "output_type": "display_data"
    }
   ],
   "source": [
    "ranking = 'abc'\n",
    "profile.plot_histogram(ranking, label='Histogram')\n",
    "profile.plot_cdf(ranking, label='CDF')\n",
    "plt.ylabel('Proportion of the voters %s' % ranking)\n",
    "plt.legend()"
   ]
  },
  {
   "cell_type": "markdown",
   "metadata": {},
   "source": [
    "## Strategic Analysis"
   ]
  },
  {
   "cell_type": "markdown",
   "metadata": {},
   "source": [
    "Generate a random strategy:"
   ]
  },
  {
   "cell_type": "code",
   "execution_count": 5,
   "metadata": {
    "ExecuteTime": {
     "end_time": "2020-01-30T18:52:14.334069Z",
     "start_time": "2020-01-30T18:52:14.328084Z"
    }
   },
   "outputs": [
    {
     "data": {
      "text/plain": [
       "<abc: utility-dependent (0.9195945446854554), acb: utility-dependent (0.4309132226986997), bac: utility-dependent (0.1309348375132846), bca: utility-dependent (0.7249868732746428), cab: utility-dependent (0.5177328535858804), cba: utility-dependent (0.15081188520544975)>"
      ]
     },
     "execution_count": 5,
     "metadata": {},
     "output_type": "execute_result"
    }
   ],
   "source": [
    "generator_strategy = pa.GeneratorStrategyThresholdUniform()\n",
    "strategy = generator_strategy()\n",
    "strategy"
   ]
  },
  {
   "cell_type": "markdown",
   "metadata": {},
   "source": [
    "Tau vector (ballot shares) associated to the strategy in the given profile:"
   ]
  },
  {
   "cell_type": "code",
   "execution_count": 6,
   "metadata": {
    "ExecuteTime": {
     "end_time": "2020-01-30T18:52:14.351024Z",
     "start_time": "2020-01-30T18:52:14.336065Z"
    }
   },
   "outputs": [
    {
     "data": {
      "text/plain": [
       "<a: 0.23587527092165472, ab: 0.2490202345001132, ac: 0.17968911904625995, b: 0.09944321687072565, bc: 0.15003897833147792, c: 0.0859331803297686> ==> a"
      ]
     },
     "execution_count": 6,
     "metadata": {},
     "output_type": "execute_result"
    }
   ],
   "source": [
    "tau = profile.tau(strategy)\n",
    "tau"
   ]
  },
  {
   "cell_type": "markdown",
   "metadata": {},
   "source": [
    "Is the strategy an equilibrium for the given profile?"
   ]
  },
  {
   "cell_type": "code",
   "execution_count": 7,
   "metadata": {
    "ExecuteTime": {
     "end_time": "2020-01-30T18:52:14.371970Z",
     "start_time": "2020-01-30T18:52:14.353019Z"
    }
   },
   "outputs": [
    {
     "data": {
      "text/plain": [
       "EquilibriumStatus.NOT_EQUILIBRIUM"
      ]
     },
     "execution_count": 7,
     "metadata": {},
     "output_type": "execute_result"
    }
   ],
   "source": [
    "profile.is_equilibrium(strategy)"
   ]
  },
  {
   "cell_type": "markdown",
   "metadata": {},
   "source": [
    "Use iterated voting to search for an equilibrium:"
   ]
  },
  {
   "cell_type": "code",
   "execution_count": 8,
   "metadata": {
    "ExecuteTime": {
     "end_time": "2020-01-30T18:52:16.343697Z",
     "start_time": "2020-01-30T18:52:14.375956Z"
    }
   },
   "outputs": [],
   "source": [
    "result = profile.iterated_voting(strategy_ini=strategy, n_max_episodes=1000, \n",
    "                                 ballot_update_ratio=0.1)\n",
    "cycle_taus_actual = result['cycle_taus_actual']\n",
    "cycle_strategies = result['cycle_strategies']"
   ]
  },
  {
   "cell_type": "code",
   "execution_count": 9,
   "metadata": {
    "ExecuteTime": {
     "end_time": "2020-01-30T18:52:16.349681Z",
     "start_time": "2020-01-30T18:52:16.344694Z"
    }
   },
   "outputs": [
    {
     "data": {
      "text/plain": [
       "[<a: 0.25451892266459714, ac: 0.23118656300790202, b: 0.29993169730049374, bc: 0.2143628170270075> ==> b]"
      ]
     },
     "execution_count": 9,
     "metadata": {},
     "output_type": "execute_result"
    }
   ],
   "source": [
    "cycle_taus_actual"
   ]
  },
  {
   "cell_type": "code",
   "execution_count": 10,
   "metadata": {
    "ExecuteTime": {
     "end_time": "2020-01-30T18:52:16.367633Z",
     "start_time": "2020-01-30T18:52:16.351677Z"
    }
   },
   "outputs": [
    {
     "name": "stdout",
     "output_type": "stream",
     "text": [
      "Convergence to an equilibrium.\n",
      "Limit strategy: <abc: a, acb: utility-dependent (0.39743424317772597), bac: b, bca: utility-dependent (0.602565756822274), cab: ac, cba: bc> ==> b\n",
      "Limit tau-vector: <a: 0.25451892266459714, ac: 0.23118656300790202, b: 0.29993169730049374, bc: 0.2143628170270075> ==> b\n"
     ]
    }
   ],
   "source": [
    "if len(cycle_taus_actual) == 0:\n",
    "    print('No convergence.')\n",
    "elif len(cycle_taus_actual) == 1:\n",
    "    print('Convergence to an equilibrium.')\n",
    "    print('Limit strategy: %s' % cycle_strategies[0])\n",
    "    print('Limit tau-vector: %s' % cycle_taus_actual[0])\n",
    "else:\n",
    "    print('Convergence to a cycle of cardinality %s.' % len(cycle_taus_actual))"
   ]
  },
  {
   "cell_type": "markdown",
   "metadata": {},
   "source": [
    "There is another version of iterated voting, ``fictitious_play``. It allows for update ratios that depend on time, it is faster, but it is not able to detect limit cycles (only convergence). Cf. Reference section for more information."
   ]
  },
  {
   "cell_type": "code",
   "execution_count": 11,
   "metadata": {
    "ExecuteTime": {
     "end_time": "2020-01-30T18:52:17.840738Z",
     "start_time": "2020-01-30T18:52:16.371623Z"
    }
   },
   "outputs": [
    {
     "name": "stderr",
     "output_type": "stream",
     "text": [
      "d:\\github\\poisson_approval\\poisson_approval\\tau_vector\\TauVector.py:183: UserWarning: Warning: tau is not normalized, I will normalize it.\n",
      "  warnings.warn(\"Warning: tau is not normalized, I will normalize it.\")\n"
     ]
    }
   ],
   "source": [
    "from math import log\n",
    "result = profile.fictitious_play(strategy_ini=strategy, n_max_episodes=1000, \n",
    "                                 perception_update_ratio=lambda t: 1 / log(t + 2),\n",
    "                                 ballot_update_ratio=0.1)\n",
    "limit_tau = result['tau']\n",
    "limit_strategy = result['strategy']"
   ]
  },
  {
   "cell_type": "code",
   "execution_count": 12,
   "metadata": {
    "ExecuteTime": {
     "end_time": "2020-01-30T18:52:17.847679Z",
     "start_time": "2020-01-30T18:52:17.841693Z"
    }
   },
   "outputs": [
    {
     "name": "stdout",
     "output_type": "stream",
     "text": [
      "Convergence to an equilibrium.\n",
      "Limit strategy: <abc: a, acb: utility-dependent (0.3974342431774816), bac: b, bca: utility-dependent (0.6025657568225186), cab: ac, cba: bc> ==> b\n",
      "Limit tau-vector: <a: 0.25451892266457243, ac: 0.23118656300792664, b: 0.2999316973005462, bc: 0.21436281702695476> ==> b\n"
     ]
    }
   ],
   "source": [
    "if limit_tau is None:\n",
    "    print('No convergence.')\n",
    "else:\n",
    "    print('Convergence to an equilibrium.')\n",
    "    print('Limit strategy: %s' % limit_strategy)\n",
    "    print('Limit tau-vector: %s' % limit_tau)"
   ]
  }
 ],
 "metadata": {
  "kernelspec": {
   "display_name": "Python 3",
   "language": "python",
   "name": "python3"
  },
  "language_info": {
   "codemirror_mode": {
    "name": "ipython",
    "version": 3
   },
   "file_extension": ".py",
   "mimetype": "text/x-python",
   "name": "python",
   "nbconvert_exporter": "python",
   "pygments_lexer": "ipython3",
   "version": "3.7.3"
  },
  "toc": {
   "base_numbering": 1,
   "nav_menu": {},
   "number_sections": false,
   "sideBar": true,
   "skip_h1_title": true,
   "title_cell": "Table of Contents",
   "title_sidebar": "Contents",
   "toc_cell": false,
   "toc_position": {},
   "toc_section_display": true,
   "toc_window_display": false
  }
 },
 "nbformat": 4,
 "nbformat_minor": 2
}
