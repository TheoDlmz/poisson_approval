{
 "cells": [
  {
   "cell_type": "markdown",
   "metadata": {},
   "source": [
    "# Tutorial on TauVector"
   ]
  },
  {
   "cell_type": "code",
   "execution_count": 1,
   "metadata": {
    "ExecuteTime": {
     "end_time": "2020-01-11T09:34:33.226628Z",
     "start_time": "2020-01-11T09:34:32.755823Z"
    }
   },
   "outputs": [],
   "source": [
    "from fractions import Fraction\n",
    "import poisson_approval as pa"
   ]
  },
  {
   "cell_type": "markdown",
   "metadata": {},
   "source": [
    "## The Tau-Vector and its Basic Properties"
   ]
  },
  {
   "cell_type": "markdown",
   "metadata": {},
   "source": [
    "The most usual way to define a tau-vector (ballot shares) is to deduce it from applying a given strategy in a given profile, like in the tutorial on ProfileOrdinal. That being said, a tau-vector can also be defined directly:"
   ]
  },
  {
   "cell_type": "code",
   "execution_count": 2,
   "metadata": {
    "ExecuteTime": {
     "end_time": "2020-01-11T09:34:33.231574Z",
     "start_time": "2020-01-11T09:34:33.227560Z"
    }
   },
   "outputs": [],
   "source": [
    "tau = pa.TauVector({'a': Fraction(1, 10), 'ab': Fraction(3, 5), 'c': Fraction(3, 10)})"
   ]
  },
  {
   "cell_type": "markdown",
   "metadata": {},
   "source": [
    "Share of the ballot $ab$:"
   ]
  },
  {
   "cell_type": "code",
   "execution_count": 3,
   "metadata": {
    "ExecuteTime": {
     "end_time": "2020-01-11T09:34:33.249501Z",
     "start_time": "2020-01-11T09:34:33.233544Z"
    }
   },
   "outputs": [
    {
     "data": {
      "text/plain": [
       "Fraction(3, 5)"
      ]
     },
     "execution_count": 3,
     "metadata": {},
     "output_type": "execute_result"
    }
   ],
   "source": [
    "tau.ab"
   ]
  },
  {
   "cell_type": "markdown",
   "metadata": {},
   "source": [
    "Scores:"
   ]
  },
  {
   "cell_type": "code",
   "execution_count": 4,
   "metadata": {
    "ExecuteTime": {
     "end_time": "2020-01-11T09:34:33.260472Z",
     "start_time": "2020-01-11T09:34:33.251496Z"
    }
   },
   "outputs": [
    {
     "data": {
      "text/plain": [
       "{a: 7/10, b: 3/5, c: 3/10}"
      ]
     },
     "execution_count": 4,
     "metadata": {},
     "output_type": "execute_result"
    }
   ],
   "source": [
    "tau.scores"
   ]
  },
  {
   "cell_type": "markdown",
   "metadata": {},
   "source": [
    "Winners:"
   ]
  },
  {
   "cell_type": "code",
   "execution_count": 5,
   "metadata": {
    "ExecuteTime": {
     "end_time": "2020-01-11T09:34:33.270484Z",
     "start_time": "2020-01-11T09:34:33.262468Z"
    }
   },
   "outputs": [
    {
     "data": {
      "text/plain": [
       "{'a'}"
      ]
     },
     "execution_count": 5,
     "metadata": {},
     "output_type": "execute_result"
    }
   ],
   "source": [
    "tau.winners"
   ]
  },
  {
   "cell_type": "markdown",
   "metadata": {},
   "source": [
    "## Events: Duos, Pivots and Trios"
   ]
  },
  {
   "cell_type": "markdown",
   "metadata": {},
   "source": [
    "An Event provides the asymptotic development of the limit probability when the expected number of voters $n$ tend to infinity, as well as the offsets for each type of ballot."
   ]
  },
  {
   "cell_type": "markdown",
   "metadata": {},
   "source": [
    "Duo between $a$ and $b$:\n",
    "\n",
    "($a$ and $b$ have the same score, but not necessarily higher than $c$.)"
   ]
  },
  {
   "cell_type": "code",
   "execution_count": 6,
   "metadata": {
    "ExecuteTime": {
     "end_time": "2020-01-11T09:34:33.282454Z",
     "start_time": "2020-01-11T09:34:33.272442Z"
    }
   },
   "outputs": [
    {
     "data": {
      "text/plain": [
       "<asymptotic = exp(- 0.1 n + o(1)), phi_a = 0, phi_c = 1, phi_ab = 1>"
      ]
     },
     "execution_count": 6,
     "metadata": {},
     "output_type": "execute_result"
    }
   ],
   "source": [
    "tau.duo_ab"
   ]
  },
  {
   "cell_type": "markdown",
   "metadata": {},
   "source": [
    "Access the asymptotic development and the offsets:"
   ]
  },
  {
   "cell_type": "code",
   "execution_count": 7,
   "metadata": {
    "ExecuteTime": {
     "end_time": "2020-01-11T09:34:33.292425Z",
     "start_time": "2020-01-11T09:34:33.284410Z"
    }
   },
   "outputs": [
    {
     "data": {
      "text/plain": [
       "exp(- 0.1 n + o(1))"
      ]
     },
     "execution_count": 7,
     "metadata": {},
     "output_type": "execute_result"
    }
   ],
   "source": [
    "tau.duo_ab.asymptotic"
   ]
  },
  {
   "cell_type": "code",
   "execution_count": 8,
   "metadata": {
    "ExecuteTime": {
     "end_time": "2020-01-11T09:34:33.302374Z",
     "start_time": "2020-01-11T09:34:33.295413Z"
    }
   },
   "outputs": [
    {
     "data": {
      "text/plain": [
       "0.0"
      ]
     },
     "execution_count": 8,
     "metadata": {},
     "output_type": "execute_result"
    }
   ],
   "source": [
    "tau.duo_ab.phi_a"
   ]
  },
  {
   "cell_type": "markdown",
   "metadata": {},
   "source": [
    "Pivots between $a$ and $b$:\n",
    "\n",
    "(For the definition of each variant, cf. Reference section.)"
   ]
  },
  {
   "cell_type": "code",
   "execution_count": 9,
   "metadata": {
    "ExecuteTime": {
     "end_time": "2020-01-11T09:34:33.316323Z",
     "start_time": "2020-01-11T09:34:33.304355Z"
    }
   },
   "outputs": [
    {
     "data": {
      "text/plain": [
       "<asymptotic = exp(- 0.1 n + o(1)), phi_a = 0, phi_c = 1, phi_ab = 1>"
      ]
     },
     "execution_count": 9,
     "metadata": {},
     "output_type": "execute_result"
    }
   ],
   "source": [
    "tau.pivot_weak_ab"
   ]
  },
  {
   "cell_type": "code",
   "execution_count": 10,
   "metadata": {
    "ExecuteTime": {
     "end_time": "2020-01-11T09:34:33.326335Z",
     "start_time": "2020-01-11T09:34:33.317320Z"
    }
   },
   "outputs": [
    {
     "data": {
      "text/plain": [
       "<asymptotic = exp(- 0.1 n + o(1)), phi_a = 0, phi_c = 1, phi_ab = 1>"
      ]
     },
     "execution_count": 10,
     "metadata": {},
     "output_type": "execute_result"
    }
   ],
   "source": [
    "tau.pivot_strict_ab"
   ]
  },
  {
   "cell_type": "code",
   "execution_count": 11,
   "metadata": {
    "ExecuteTime": {
     "end_time": "2020-01-11T09:34:33.336324Z",
     "start_time": "2020-01-11T09:34:33.327294Z"
    }
   },
   "outputs": [
    {
     "data": {
      "text/plain": [
       "<asymptotic = exp(- 0.1 n + o(1)), phi_a = 0, phi_c = 1, phi_ab = 1>"
      ]
     },
     "execution_count": 11,
     "metadata": {},
     "output_type": "execute_result"
    }
   ],
   "source": [
    "tau.pivot_tij_abc"
   ]
  },
  {
   "cell_type": "code",
   "execution_count": 12,
   "metadata": {
    "ExecuteTime": {
     "end_time": "2020-01-11T09:34:33.346243Z",
     "start_time": "2020-01-11T09:34:33.338264Z"
    }
   },
   "outputs": [
    {
     "data": {
      "text/plain": [
       "<asymptotic = exp(- inf)>"
      ]
     },
     "execution_count": 12,
     "metadata": {},
     "output_type": "execute_result"
    }
   ],
   "source": [
    "tau.pivot_tjk_abc"
   ]
  },
  {
   "cell_type": "markdown",
   "metadata": {},
   "source": [
    "Trios:\n",
    "\n",
    "(For the definition of each variant, cf. Reference section.)"
   ]
  },
  {
   "cell_type": "code",
   "execution_count": 13,
   "metadata": {
    "ExecuteTime": {
     "end_time": "2020-01-11T09:34:33.356216Z",
     "start_time": "2020-01-11T09:34:33.348238Z"
    }
   },
   "outputs": [
    {
     "data": {
      "text/plain": [
       "<asymptotic = exp(- 0.151472 n - 0.5 log n - 0.836813 + o(1)), phi_a = 0, phi_c = 1.41421, phi_ab = 0.707107>"
      ]
     },
     "execution_count": 13,
     "metadata": {},
     "output_type": "execute_result"
    }
   ],
   "source": [
    "tau.trio"
   ]
  },
  {
   "cell_type": "code",
   "execution_count": 14,
   "metadata": {
    "ExecuteTime": {
     "end_time": "2020-01-11T09:34:33.365192Z",
     "start_time": "2020-01-11T09:34:33.357214Z"
    }
   },
   "outputs": [
    {
     "data": {
      "text/plain": [
       "<asymptotic = exp(- inf)>"
      ]
     },
     "execution_count": 14,
     "metadata": {},
     "output_type": "execute_result"
    }
   ],
   "source": [
    "tau.trio_1t_a"
   ]
  },
  {
   "cell_type": "code",
   "execution_count": 15,
   "metadata": {
    "ExecuteTime": {
     "end_time": "2020-01-11T09:34:33.376163Z",
     "start_time": "2020-01-11T09:34:33.367187Z"
    }
   },
   "outputs": [
    {
     "data": {
      "text/plain": [
       "<asymptotic = exp(- 0.151472 n - 0.5 log n - 1.18339 + o(1)), phi_a = 0, phi_c = 1.41421, phi_ab = 0.707107>"
      ]
     },
     "execution_count": 15,
     "metadata": {},
     "output_type": "execute_result"
    }
   ],
   "source": [
    "tau.trio_2t_ab"
   ]
  },
  {
   "cell_type": "markdown",
   "metadata": {},
   "source": [
    "Print all weak pivots:"
   ]
  },
  {
   "cell_type": "code",
   "execution_count": 16,
   "metadata": {
    "ExecuteTime": {
     "end_time": "2020-01-11T09:34:33.387133Z",
     "start_time": "2020-01-11T09:34:33.377166Z"
    }
   },
   "outputs": [
    {
     "name": "stdout",
     "output_type": "stream",
     "text": [
      "pivot_weak_ab:  <asymptotic = exp(- 0.1 n + o(1)), phi_a = 0, phi_c = 1, phi_ab = 1>\n",
      "pivot_weak_ac:  <asymptotic = exp(- 0.0834849 n - 0.5 log n - 0.87535 + o(1)), phi_a = 0.654654, phi_c = 1.52753, phi_ab = 0.654654>\n",
      "pivot_weak_bc:  <asymptotic = exp(- 0.151472 n - 0.5 log n - 0.836813 + o(1)), phi_a = 0, phi_c = 1.41421, phi_ab = 0.707107>\n",
      "trio:  <asymptotic = exp(- 0.151472 n - 0.5 log n - 0.836813 + o(1)), phi_a = 0, phi_c = 1.41421, phi_ab = 0.707107>\n"
     ]
    }
   ],
   "source": [
    "tau.print_weak_pivots()"
   ]
  },
  {
   "cell_type": "markdown",
   "metadata": {},
   "source": [
    "Print all pivots:"
   ]
  },
  {
   "cell_type": "code",
   "execution_count": 17,
   "metadata": {
    "ExecuteTime": {
     "end_time": "2020-01-11T09:34:33.402093Z",
     "start_time": "2020-01-11T09:34:33.388131Z"
    }
   },
   "outputs": [
    {
     "name": "stdout",
     "output_type": "stream",
     "text": [
      "pivot_weak_ab:  <asymptotic = exp(- 0.1 n + o(1)), phi_a = 0, phi_c = 1, phi_ab = 1>\n",
      "pivot_weak_ac:  <asymptotic = exp(- 0.0834849 n - 0.5 log n - 0.87535 + o(1)), phi_a = 0.654654, phi_c = 1.52753, phi_ab = 0.654654>\n",
      "pivot_weak_bc:  <asymptotic = exp(- 0.151472 n - 0.5 log n - 0.836813 + o(1)), phi_a = 0, phi_c = 1.41421, phi_ab = 0.707107>\n",
      "pivot_strict_ab:  <asymptotic = exp(- 0.1 n + o(1)), phi_a = 0, phi_c = 1, phi_ab = 1>\n",
      "pivot_strict_ac:  <asymptotic = exp(- 0.0834849 n - 0.5 log n - 0.87535 + o(1)), phi_a = 0.654654, phi_c = 1.52753, phi_ab = 0.654654>\n",
      "pivot_strict_bc:  <asymptotic = exp(- inf)>\n",
      "pivot_tij_abc:  <asymptotic = exp(- 0.1 n + o(1)), phi_a = 0, phi_c = 1, phi_ab = 1>\n",
      "pivot_tij_acb:  <asymptotic = exp(- 0.0834849 n - 0.5 log n - 0.371758 + o(1)), phi_a = 0.654654, phi_c = 1.52753, phi_ab = 0.654654>\n",
      "pivot_tij_bac:  <asymptotic = exp(- 0.1 n + log n - 2.30259 + o(1)), phi_a = 0, phi_c = 1, phi_ab = 1>\n",
      "pivot_tij_bca:  <asymptotic = exp(- 0.151472 n - 0.5 log n - 0.302013 + o(1)), phi_a = 0, phi_c = 1.41421, phi_ab = 0.707107>\n",
      "pivot_tij_cab:  <asymptotic = exp(- 0.0834849 n - 0.5 log n + 0.0518905 + o(1)), phi_a = 0.654654, phi_c = 1.52753, phi_ab = 0.654654>\n",
      "pivot_tij_cba:  <asymptotic = exp(- 0.151472 n - 0.5 log n - 0.836813 + o(1)), phi_a = 0, phi_c = 1.41421, phi_ab = 0.707107>\n",
      "pivot_tjk_abc:  <asymptotic = exp(- inf)>\n",
      "pivot_tjk_acb:  <asymptotic = exp(- inf)>\n",
      "pivot_tjk_bac:  <asymptotic = exp(- 0.0834849 n - 0.5 log n - 0.371758 + o(1)), phi_a = 0.654654, phi_c = 1.52753, phi_ab = 0.654654>\n",
      "pivot_tjk_bca:  <asymptotic = exp(- 0.0834849 n - 0.5 log n + 0.0518905 + o(1)), phi_a = 0.654654, phi_c = 1.52753, phi_ab = 0.654654>\n",
      "pivot_tjk_cab:  <asymptotic = exp(- 0.1 n + o(1)), phi_a = 0, phi_c = 1, phi_ab = 1>\n",
      "pivot_tjk_cba:  <asymptotic = exp(- 0.1 n + log n - 2.30259 + o(1)), phi_a = 0, phi_c = 1, phi_ab = 1>\n",
      "trio:  <asymptotic = exp(- 0.151472 n - 0.5 log n - 0.836813 + o(1)), phi_a = 0, phi_c = 1.41421, phi_ab = 0.707107>\n",
      "trio_1t_a:  <asymptotic = exp(- inf)>\n",
      "trio_1t_b:  <asymptotic = exp(- 0.151472 n + 0.5 log n - 3.48597 + o(1)), phi_a = 0, phi_c = 1.41421, phi_ab = 0.707107>\n",
      "trio_1t_c:  <asymptotic = exp(- 0.151472 n - 0.5 log n - 0.490239 + o(1)), phi_a = 0, phi_c = 1.41421, phi_ab = 0.707107>\n",
      "trio_2t_ab:  <asymptotic = exp(- 0.151472 n - 0.5 log n - 1.18339 + o(1)), phi_a = 0, phi_c = 1.41421, phi_ab = 0.707107>\n",
      "trio_2t_ac:  <asymptotic = exp(- inf)>\n",
      "trio_2t_bc:  <asymptotic = exp(- 0.151472 n + 0.5 log n - 3.1394 + o(1)), phi_a = 0, phi_c = 1.41421, phi_ab = 0.707107>\n",
      "duo_ab:  <asymptotic = exp(- 0.1 n + o(1)), phi_a = 0, phi_c = 1, phi_ab = 1>\n",
      "duo_ac:  <asymptotic = exp(- 0.0834849 n - 0.5 log n - 0.87535 + o(1)), phi_a = 0.654654, phi_c = 1.52753, phi_ab = 0.654654>\n",
      "duo_bc:  <asymptotic = exp(- 0.0514719 n - 0.5 log n - 0.836813 + o(1)), phi_a = 1, phi_c = 1.41421, phi_ab = 0.707107>\n"
     ]
    }
   ],
   "source": [
    "tau.print_all_pivots()"
   ]
  },
  {
   "cell_type": "markdown",
   "metadata": {},
   "source": [
    "## Best Responses"
   ]
  },
  {
   "cell_type": "markdown",
   "metadata": {},
   "source": [
    "Focus of this Tau-Vector:\n",
    "\n",
    "(*Direct*: the three weak pivots have distinct magnitudes. *Forward-Focused*: the two lowest magnitudes are equal. *Backward-Focused*: the two highest magnitudes are equal. *Unfocused*: the three magnitudes are equal.)"
   ]
  },
  {
   "cell_type": "code",
   "execution_count": 18,
   "metadata": {
    "ExecuteTime": {
     "end_time": "2020-01-11T09:34:33.411069Z",
     "start_time": "2020-01-11T09:34:33.404089Z"
    }
   },
   "outputs": [
    {
     "data": {
      "text/plain": [
       "Focus.DIRECT"
      ]
     },
     "execution_count": 18,
     "metadata": {},
     "output_type": "execute_result"
    }
   ],
   "source": [
    "tau.focus"
   ]
  },
  {
   "cell_type": "markdown",
   "metadata": {},
   "source": [
    "Best response for each ranking:"
   ]
  },
  {
   "cell_type": "code",
   "execution_count": 19,
   "metadata": {
    "ExecuteTime": {
     "end_time": "2020-01-11T09:34:33.423053Z",
     "start_time": "2020-01-11T09:34:33.412066Z"
    }
   },
   "outputs": [
    {
     "data": {
      "text/plain": [
       "{'abc': <ballot = a, threshold_utility = 1, justification = Asymptotic method, pivot_tij = exp(- 0.1 n + o(1)), pivot_tjk = exp(- inf), trio_1t = exp(- inf), trio_2t = exp(- 0.151472 n - 0.5 log n - 1.18339 + o(1)), trio = exp(- 0.151472 n - 0.5 log n - 0.836813 + o(1))>,\n",
       " 'acb': <ballot = a, threshold_utility = 1, justification = Asymptotic method, pivot_tij = exp(- 0.0834849 n - 0.5 log n - 0.371758 + o(1)), pivot_tjk = exp(- inf), trio_1t = exp(- inf), trio_2t = exp(- inf), trio = exp(- 0.151472 n - 0.5 log n - 0.836813 + o(1))>,\n",
       " 'bac': <ballot = ab, threshold_utility = 0, justification = Asymptotic method, pivot_tij = exp(- 0.1 n + log n - 2.30259 + o(1)), pivot_tjk = exp(- 0.0834849 n - 0.5 log n - 0.371758 + o(1)), trio_1t = exp(- 0.151472 n + 0.5 log n - 3.48597 + o(1)), trio_2t = exp(- 0.151472 n - 0.5 log n - 1.18339 + o(1)), trio = exp(- 0.151472 n - 0.5 log n - 0.836813 + o(1))>,\n",
       " 'bca': <ballot = bc, threshold_utility = 0, justification = Asymptotic method, pivot_tij = exp(- 0.151472 n - 0.5 log n - 0.302013 + o(1)), pivot_tjk = exp(- 0.0834849 n - 0.5 log n + 0.0518905 + o(1)), trio_1t = exp(- 0.151472 n + 0.5 log n - 3.48597 + o(1)), trio_2t = exp(- 0.151472 n + 0.5 log n - 3.1394 + o(1)), trio = exp(- 0.151472 n - 0.5 log n - 0.836813 + o(1))>,\n",
       " 'cab': <ballot = c, threshold_utility = 1, justification = Asymptotic method, pivot_tij = exp(- 0.0834849 n - 0.5 log n + 0.0518905 + o(1)), pivot_tjk = exp(- 0.1 n + o(1)), trio_1t = exp(- 0.151472 n - 0.5 log n - 0.490239 + o(1)), trio_2t = exp(- inf), trio = exp(- 0.151472 n - 0.5 log n - 0.836813 + o(1))>,\n",
       " 'cba': <ballot = bc, threshold_utility = 0, justification = Asymptotic method, pivot_tij = exp(- 0.151472 n - 0.5 log n - 0.836813 + o(1)), pivot_tjk = exp(- 0.1 n + log n - 2.30259 + o(1)), trio_1t = exp(- 0.151472 n - 0.5 log n - 0.490239 + o(1)), trio_2t = exp(- 0.151472 n + 0.5 log n - 3.1394 + o(1)), trio = exp(- 0.151472 n - 0.5 log n - 0.836813 + o(1))>}"
      ]
     },
     "execution_count": 19,
     "metadata": {},
     "output_type": "execute_result"
    }
   ],
   "source": [
    "tau.d_ranking_best_response"
   ]
  },
  {
   "cell_type": "markdown",
   "metadata": {},
   "source": [
    "Characteristics of the best response for voters with ranking $abc$:"
   ]
  },
  {
   "cell_type": "code",
   "execution_count": 20,
   "metadata": {
    "ExecuteTime": {
     "end_time": "2020-01-11T09:34:33.434009Z",
     "start_time": "2020-01-11T09:34:33.425033Z"
    }
   },
   "outputs": [
    {
     "data": {
      "text/plain": [
       "<ballot = a, threshold_utility = 1, justification = Asymptotic method, pivot_tij = exp(- 0.1 n + o(1)), pivot_tjk = exp(- inf), trio_1t = exp(- inf), trio_2t = exp(- 0.151472 n - 0.5 log n - 1.18339 + o(1)), trio = exp(- 0.151472 n - 0.5 log n - 0.836813 + o(1))>"
      ]
     },
     "execution_count": 20,
     "metadata": {},
     "output_type": "execute_result"
    }
   ],
   "source": [
    "tau.d_ranking_best_response['abc']"
   ]
  },
  {
   "cell_type": "code",
   "execution_count": 21,
   "metadata": {
    "ExecuteTime": {
     "end_time": "2020-01-11T09:34:33.442984Z",
     "start_time": "2020-01-11T09:34:33.436002Z"
    }
   },
   "outputs": [
    {
     "data": {
      "text/plain": [
       "'a'"
      ]
     },
     "execution_count": 21,
     "metadata": {},
     "output_type": "execute_result"
    }
   ],
   "source": [
    "tau.d_ranking_best_response['abc'].ballot"
   ]
  },
  {
   "cell_type": "code",
   "execution_count": 22,
   "metadata": {
    "ExecuteTime": {
     "end_time": "2020-01-11T09:34:33.451960Z",
     "start_time": "2020-01-11T09:34:33.443981Z"
    }
   },
   "outputs": [
    {
     "data": {
      "text/plain": [
       "1.0"
      ]
     },
     "execution_count": 22,
     "metadata": {},
     "output_type": "execute_result"
    }
   ],
   "source": [
    "tau.d_ranking_best_response['abc'].threshold_utility"
   ]
  },
  {
   "cell_type": "code",
   "execution_count": 23,
   "metadata": {
    "ExecuteTime": {
     "end_time": "2020-01-11T09:34:33.461934Z",
     "start_time": "2020-01-11T09:34:33.454953Z"
    }
   },
   "outputs": [
    {
     "data": {
      "text/plain": [
       "'Asymptotic method'"
      ]
     },
     "execution_count": 23,
     "metadata": {},
     "output_type": "execute_result"
    }
   ],
   "source": [
    "tau.d_ranking_best_response['abc'].justification"
   ]
  },
  {
   "cell_type": "code",
   "execution_count": 24,
   "metadata": {
    "ExecuteTime": {
     "end_time": "2020-01-11T09:34:33.471908Z",
     "start_time": "2020-01-11T09:34:33.463935Z"
    }
   },
   "outputs": [
    {
     "data": {
      "text/plain": [
       "<asymptotic = exp(- 0.1 n + o(1)), phi_a = 0, phi_c = 1, phi_ab = 1>"
      ]
     },
     "execution_count": 24,
     "metadata": {},
     "output_type": "execute_result"
    }
   ],
   "source": [
    "tau.d_ranking_best_response['abc'].pivot_tij"
   ]
  },
  {
   "cell_type": "markdown",
   "metadata": {},
   "source": [
    "## Strategy with Attached Profile and Implicit Tau"
   ]
  },
  {
   "cell_type": "markdown",
   "metadata": {},
   "source": [
    "As mentioned in the tutorial on ProfileOrdinal, you can define a strategy with an attached profile:"
   ]
  },
  {
   "cell_type": "code",
   "execution_count": 25,
   "metadata": {
    "ExecuteTime": {
     "end_time": "2020-01-11T09:34:33.481880Z",
     "start_time": "2020-01-11T09:34:33.472904Z"
    }
   },
   "outputs": [],
   "source": [
    "profile = pa.ProfileOrdinal({'abc': Fraction(1, 10), 'bac': Fraction(6, 10), 'cab': Fraction(3, 10)})\n",
    "strategy = pa.StrategyOrdinal({'abc': 'a', 'bac': 'ab', 'cab': 'c'}, profile=profile)"
   ]
  },
  {
   "cell_type": "markdown",
   "metadata": {},
   "source": [
    "This defines a tau vector:"
   ]
  },
  {
   "cell_type": "code",
   "execution_count": 26,
   "metadata": {
    "ExecuteTime": {
     "end_time": "2020-01-11T09:34:33.493848Z",
     "start_time": "2020-01-11T09:34:33.482877Z"
    }
   },
   "outputs": [
    {
     "data": {
      "text/plain": [
       "<a: 1/10, ab: 3/5, c: 3/10> ==> a"
      ]
     },
     "execution_count": 26,
     "metadata": {},
     "output_type": "execute_result"
    }
   ],
   "source": [
    "strategy.tau"
   ]
  },
  {
   "cell_type": "markdown",
   "metadata": {},
   "source": [
    "In that case, the strategy has shortcuts for all the properties of the tau vector. Thus for example, instead of writing:"
   ]
  },
  {
   "cell_type": "code",
   "execution_count": 27,
   "metadata": {
    "ExecuteTime": {
     "end_time": "2020-01-11T09:34:33.503822Z",
     "start_time": "2020-01-11T09:34:33.495860Z"
    }
   },
   "outputs": [
    {
     "data": {
      "text/plain": [
       "{a: 7/10, b: 3/5, c: 3/10}"
      ]
     },
     "execution_count": 27,
     "metadata": {},
     "output_type": "execute_result"
    }
   ],
   "source": [
    "strategy.tau.scores"
   ]
  },
  {
   "cell_type": "markdown",
   "metadata": {},
   "source": [
    "You can simply write:"
   ]
  },
  {
   "cell_type": "code",
   "execution_count": 28,
   "metadata": {
    "ExecuteTime": {
     "end_time": "2020-01-11T09:34:33.512798Z",
     "start_time": "2020-01-11T09:34:33.505816Z"
    }
   },
   "outputs": [
    {
     "data": {
      "text/plain": [
       "{a: 7/10, b: 3/5, c: 3/10}"
      ]
     },
     "execution_count": 28,
     "metadata": {},
     "output_type": "execute_result"
    }
   ],
   "source": [
    "strategy.scores"
   ]
  },
  {
   "cell_type": "markdown",
   "metadata": {},
   "source": [
    "Similarly, instead of writing:"
   ]
  },
  {
   "cell_type": "code",
   "execution_count": 29,
   "metadata": {
    "ExecuteTime": {
     "end_time": "2020-01-11T09:34:33.523768Z",
     "start_time": "2020-01-11T09:34:33.514793Z"
    }
   },
   "outputs": [
    {
     "name": "stdout",
     "output_type": "stream",
     "text": [
      "pivot_weak_ab:  <asymptotic = exp(- 0.1 n + o(1)), phi_a = 0, phi_c = 1, phi_ab = 1>\n",
      "pivot_weak_ac:  <asymptotic = exp(- 0.0834849 n - 0.5 log n - 0.87535 + o(1)), phi_a = 0.654654, phi_c = 1.52753, phi_ab = 0.654654>\n",
      "pivot_weak_bc:  <asymptotic = exp(- 0.151472 n - 0.5 log n - 0.836813 + o(1)), phi_a = 0, phi_c = 1.41421, phi_ab = 0.707107>\n",
      "trio:  <asymptotic = exp(- 0.151472 n - 0.5 log n - 0.836813 + o(1)), phi_a = 0, phi_c = 1.41421, phi_ab = 0.707107>\n"
     ]
    }
   ],
   "source": [
    "strategy.tau.print_weak_pivots()"
   ]
  },
  {
   "cell_type": "markdown",
   "metadata": {},
   "source": [
    "You can write:"
   ]
  },
  {
   "cell_type": "code",
   "execution_count": 30,
   "metadata": {
    "ExecuteTime": {
     "end_time": "2020-01-11T09:34:33.534755Z",
     "start_time": "2020-01-11T09:34:33.524765Z"
    }
   },
   "outputs": [
    {
     "name": "stdout",
     "output_type": "stream",
     "text": [
      "pivot_weak_ab:  <asymptotic = exp(- 0.1 n + o(1)), phi_a = 0, phi_c = 1, phi_ab = 1>\n",
      "pivot_weak_ac:  <asymptotic = exp(- 0.0834849 n - 0.5 log n - 0.87535 + o(1)), phi_a = 0.654654, phi_c = 1.52753, phi_ab = 0.654654>\n",
      "pivot_weak_bc:  <asymptotic = exp(- 0.151472 n - 0.5 log n - 0.836813 + o(1)), phi_a = 0, phi_c = 1.41421, phi_ab = 0.707107>\n",
      "trio:  <asymptotic = exp(- 0.151472 n - 0.5 log n - 0.836813 + o(1)), phi_a = 0, phi_c = 1.41421, phi_ab = 0.707107>\n"
     ]
    }
   ],
   "source": [
    "strategy.print_weak_pivots()"
   ]
  }
 ],
 "metadata": {
  "kernelspec": {
   "display_name": "Python 3",
   "language": "python",
   "name": "python3"
  },
  "language_info": {
   "codemirror_mode": {
    "name": "ipython",
    "version": 3
   },
   "file_extension": ".py",
   "mimetype": "text/x-python",
   "name": "python",
   "nbconvert_exporter": "python",
   "pygments_lexer": "ipython3",
   "version": "3.7.3"
  },
  "toc": {
   "base_numbering": 1,
   "nav_menu": {},
   "number_sections": false,
   "sideBar": true,
   "skip_h1_title": true,
   "title_cell": "Table of Contents",
   "title_sidebar": "Contents",
   "toc_cell": false,
   "toc_position": {},
   "toc_section_display": true,
   "toc_window_display": false
  }
 },
 "nbformat": 4,
 "nbformat_minor": 2
}
