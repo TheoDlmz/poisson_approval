{
 "cells": [
  {
   "cell_type": "markdown",
   "metadata": {},
   "source": [
    "# Tutorial on ProfileOrdinal"
   ]
  },
  {
   "cell_type": "code",
   "execution_count": 1,
   "metadata": {
    "ExecuteTime": {
     "end_time": "2020-01-29T15:06:32.829872Z",
     "start_time": "2020-01-29T15:06:32.363044Z"
    }
   },
   "outputs": [],
   "source": [
    "from fractions import Fraction\n",
    "import poisson_approval as pa"
   ]
  },
  {
   "cell_type": "markdown",
   "metadata": {},
   "source": [
    "## A Profile and its Basic Properties"
   ]
  },
  {
   "cell_type": "markdown",
   "metadata": {},
   "source": [
    "Create a profile:"
   ]
  },
  {
   "cell_type": "code",
   "execution_count": 2,
   "metadata": {
    "ExecuteTime": {
     "end_time": "2020-01-29T15:06:32.837776Z",
     "start_time": "2020-01-29T15:06:32.831820Z"
    }
   },
   "outputs": [
    {
     "data": {
      "text/plain": [
       "<abc: 1/10, bac: 3/5, cab: 3/10> (Condorcet winner: b)"
      ]
     },
     "execution_count": 2,
     "metadata": {},
     "output_type": "execute_result"
    }
   ],
   "source": [
    "profile = pa.ProfileOrdinal({'abc': Fraction(1, 10), 'bac': Fraction(6, 10), 'cab': Fraction(3, 10)})\n",
    "profile"
   ]
  },
  {
   "cell_type": "markdown",
   "metadata": {},
   "source": [
    "Share of voters $abc$ (i.e. who prefer candidate $a$, then $b$, then $c$):"
   ]
  },
  {
   "cell_type": "code",
   "execution_count": 3,
   "metadata": {
    "ExecuteTime": {
     "end_time": "2020-01-29T15:06:32.853764Z",
     "start_time": "2020-01-29T15:06:32.839769Z"
    }
   },
   "outputs": [
    {
     "data": {
      "text/plain": [
       "Fraction(1, 10)"
      ]
     },
     "execution_count": 3,
     "metadata": {},
     "output_type": "execute_result"
    }
   ],
   "source": [
    "profile.abc"
   ]
  },
  {
   "cell_type": "markdown",
   "metadata": {},
   "source": [
    "Which rankings are in the profile?"
   ]
  },
  {
   "cell_type": "code",
   "execution_count": 4,
   "metadata": {
    "ExecuteTime": {
     "end_time": "2020-01-29T15:06:32.862708Z",
     "start_time": "2020-01-29T15:06:32.854729Z"
    }
   },
   "outputs": [
    {
     "data": {
      "text/plain": [
       "{abc, bac, cab}"
      ]
     },
     "execution_count": 4,
     "metadata": {},
     "output_type": "execute_result"
    }
   ],
   "source": [
    "profile.support_in_rankings"
   ]
  },
  {
   "cell_type": "markdown",
   "metadata": {},
   "source": [
    "Are all possible rankings in the profile?"
   ]
  },
  {
   "cell_type": "code",
   "execution_count": 5,
   "metadata": {
    "ExecuteTime": {
     "end_time": "2020-01-29T15:06:32.873710Z",
     "start_time": "2020-01-29T15:06:32.863705Z"
    }
   },
   "outputs": [
    {
     "data": {
      "text/plain": [
       "False"
      ]
     },
     "execution_count": 5,
     "metadata": {},
     "output_type": "execute_result"
    }
   ],
   "source": [
    "profile.is_generic_in_rankings"
   ]
  },
  {
   "cell_type": "markdown",
   "metadata": {},
   "source": [
    "Is one ranking shared by a majority of voters?"
   ]
  },
  {
   "cell_type": "code",
   "execution_count": 6,
   "metadata": {
    "ExecuteTime": {
     "end_time": "2020-01-29T15:06:32.883694Z",
     "start_time": "2020-01-29T15:06:32.874675Z"
    }
   },
   "outputs": [
    {
     "data": {
      "text/plain": [
       "True"
      ]
     },
     "execution_count": 6,
     "metadata": {},
     "output_type": "execute_result"
    }
   ],
   "source": [
    "profile.has_majority_ranking"
   ]
  },
  {
   "cell_type": "markdown",
   "metadata": {},
   "source": [
    "Is one candidate prefered by a majority of voters?"
   ]
  },
  {
   "cell_type": "code",
   "execution_count": 7,
   "metadata": {
    "ExecuteTime": {
     "end_time": "2020-01-29T15:06:32.892628Z",
     "start_time": "2020-01-29T15:06:32.885647Z"
    }
   },
   "outputs": [
    {
     "data": {
      "text/plain": [
       "True"
      ]
     },
     "execution_count": 7,
     "metadata": {},
     "output_type": "execute_result"
    }
   ],
   "source": [
    "profile.has_majority_favorite"
   ]
  },
  {
   "cell_type": "markdown",
   "metadata": {},
   "source": [
    "Is the profile single-peaked?"
   ]
  },
  {
   "cell_type": "code",
   "execution_count": 8,
   "metadata": {
    "ExecuteTime": {
     "end_time": "2020-01-29T15:06:32.901636Z",
     "start_time": "2020-01-29T15:06:32.894623Z"
    }
   },
   "outputs": [
    {
     "data": {
      "text/plain": [
       "True"
      ]
     },
     "execution_count": 8,
     "metadata": {},
     "output_type": "execute_result"
    }
   ],
   "source": [
    "profile.is_single_peaked"
   ]
  },
  {
   "cell_type": "markdown",
   "metadata": {},
   "source": [
    "Weighted majority graph:"
   ]
  },
  {
   "cell_type": "code",
   "execution_count": 9,
   "metadata": {
    "ExecuteTime": {
     "end_time": "2020-01-29T15:06:32.911577Z",
     "start_time": "2020-01-29T15:06:32.903599Z"
    }
   },
   "outputs": [
    {
     "data": {
      "text/plain": [
       "array([[0, Fraction(-1, 5), Fraction(2, 5)],\n",
       "       [Fraction(1, 5), 0, Fraction(2, 5)],\n",
       "       [Fraction(-2, 5), Fraction(-2, 5), 0]], dtype=object)"
      ]
     },
     "execution_count": 9,
     "metadata": {},
     "output_type": "execute_result"
    }
   ],
   "source": [
    "profile.weighted_maj_graph"
   ]
  },
  {
   "cell_type": "markdown",
   "metadata": {},
   "source": [
    "Condorcet winner(s):"
   ]
  },
  {
   "cell_type": "code",
   "execution_count": 10,
   "metadata": {
    "ExecuteTime": {
     "end_time": "2020-01-29T15:06:32.921550Z",
     "start_time": "2020-01-29T15:06:32.912574Z"
    }
   },
   "outputs": [
    {
     "data": {
      "text/plain": [
       "{'b'}"
      ]
     },
     "execution_count": 10,
     "metadata": {},
     "output_type": "execute_result"
    }
   ],
   "source": [
    "profile.condorcet_winners"
   ]
  },
  {
   "cell_type": "markdown",
   "metadata": {},
   "source": [
    "Does the profile have a Condorcet winner?\n",
    "\n",
    "(1.0: Yes, 0.5: one or several weak Condorcet winners, 0.0: No)"
   ]
  },
  {
   "cell_type": "code",
   "execution_count": 11,
   "metadata": {
    "ExecuteTime": {
     "end_time": "2020-01-29T15:06:32.931524Z",
     "start_time": "2020-01-29T15:06:32.922547Z"
    }
   },
   "outputs": [
    {
     "data": {
      "text/plain": [
       "1.0"
      ]
     },
     "execution_count": 11,
     "metadata": {},
     "output_type": "execute_result"
    }
   ],
   "source": [
    "profile.is_profile_condorcet"
   ]
  },
  {
   "cell_type": "markdown",
   "metadata": {},
   "source": [
    "N.B.: All the above basic properties are defined not only for a ProfileOrdinal, but also for any Profile, such as ProfileTwelve or ProfileHistogram."
   ]
  },
  {
   "cell_type": "markdown",
   "metadata": {},
   "source": [
    "## Study a Strategy"
   ]
  },
  {
   "cell_type": "markdown",
   "metadata": {},
   "source": [
    "Define a strategy:"
   ]
  },
  {
   "cell_type": "code",
   "execution_count": 12,
   "metadata": {
    "ExecuteTime": {
     "end_time": "2020-01-29T15:06:32.940500Z",
     "start_time": "2020-01-29T15:06:32.932520Z"
    }
   },
   "outputs": [
    {
     "data": {
      "text/plain": [
       "<abc: a, bac: ab, cab: c>"
      ]
     },
     "execution_count": 12,
     "metadata": {},
     "output_type": "execute_result"
    }
   ],
   "source": [
    "strategy = pa.StrategyOrdinal({'abc': 'a', 'bac': 'ab', 'cab': 'c'})\n",
    "strategy"
   ]
  },
  {
   "cell_type": "markdown",
   "metadata": {},
   "source": [
    "Ballot of the voters with ranking $abc$:"
   ]
  },
  {
   "cell_type": "code",
   "execution_count": 13,
   "metadata": {
    "ExecuteTime": {
     "end_time": "2020-01-29T15:06:32.950512Z",
     "start_time": "2020-01-29T15:06:32.941498Z"
    }
   },
   "outputs": [
    {
     "data": {
      "text/plain": [
       "'a'"
      ]
     },
     "execution_count": 13,
     "metadata": {},
     "output_type": "execute_result"
    }
   ],
   "source": [
    "strategy.abc"
   ]
  },
  {
   "cell_type": "markdown",
   "metadata": {},
   "source": [
    "Tau vector (ballot shares) associated to the strategy in the given profile:"
   ]
  },
  {
   "cell_type": "code",
   "execution_count": 14,
   "metadata": {
    "ExecuteTime": {
     "end_time": "2020-01-29T15:06:32.958484Z",
     "start_time": "2020-01-29T15:06:32.951471Z"
    }
   },
   "outputs": [
    {
     "data": {
      "text/plain": [
       "<a: 1/10, ab: 3/5, c: 3/10> ==> a"
      ]
     },
     "execution_count": 14,
     "metadata": {},
     "output_type": "execute_result"
    }
   ],
   "source": [
    "profile.tau(strategy)"
   ]
  },
  {
   "cell_type": "markdown",
   "metadata": {},
   "source": [
    "Is the strategy an equilibrium for the given profile?"
   ]
  },
  {
   "cell_type": "code",
   "execution_count": 15,
   "metadata": {
    "ExecuteTime": {
     "end_time": "2020-01-29T15:06:32.972454Z",
     "start_time": "2020-01-29T15:06:32.959450Z"
    }
   },
   "outputs": [
    {
     "data": {
      "text/plain": [
       "EquilibriumStatus.EQUILIBRIUM"
      ]
     },
     "execution_count": 15,
     "metadata": {},
     "output_type": "execute_result"
    }
   ],
   "source": [
    "profile.is_equilibrium(strategy)"
   ]
  },
  {
   "cell_type": "markdown",
   "metadata": {},
   "source": [
    "Alternatively, as soon as you define a strategy, you can attach a profile to it. In that case, the strategy is considered from the point of view of its usage in the given profile. Thus you can write:"
   ]
  },
  {
   "cell_type": "code",
   "execution_count": 16,
   "metadata": {
    "ExecuteTime": {
     "end_time": "2020-01-29T15:06:32.983387Z",
     "start_time": "2020-01-29T15:06:32.973412Z"
    }
   },
   "outputs": [
    {
     "data": {
      "text/plain": [
       "<abc: a, bac: ab, cab: c> ==> a"
      ]
     },
     "execution_count": 16,
     "metadata": {},
     "output_type": "execute_result"
    }
   ],
   "source": [
    "strategy = pa.StrategyOrdinal({'abc': 'a', 'bac': 'ab', 'cab': 'c'}, profile=profile)\n",
    "strategy"
   ]
  },
  {
   "cell_type": "code",
   "execution_count": 17,
   "metadata": {
    "ExecuteTime": {
     "end_time": "2020-01-29T15:06:32.993358Z",
     "start_time": "2020-01-29T15:06:32.984383Z"
    }
   },
   "outputs": [
    {
     "data": {
      "text/plain": [
       "<a: 1/10, ab: 3/5, c: 3/10> ==> a"
      ]
     },
     "execution_count": 17,
     "metadata": {},
     "output_type": "execute_result"
    }
   ],
   "source": [
    "strategy.tau"
   ]
  },
  {
   "cell_type": "code",
   "execution_count": 18,
   "metadata": {
    "ExecuteTime": {
     "end_time": "2020-01-29T15:06:33.005365Z",
     "start_time": "2020-01-29T15:06:32.994356Z"
    }
   },
   "outputs": [
    {
     "data": {
      "text/plain": [
       "EquilibriumStatus.EQUILIBRIUM"
      ]
     },
     "execution_count": 18,
     "metadata": {},
     "output_type": "execute_result"
    }
   ],
   "source": [
    "strategy.is_equilibrium"
   ]
  },
  {
   "cell_type": "markdown",
   "metadata": {},
   "source": [
    "## Study all Strategies"
   ]
  },
  {
   "cell_type": "markdown",
   "metadata": {},
   "source": [
    "Analyze all possible strategies:"
   ]
  },
  {
   "cell_type": "code",
   "execution_count": 19,
   "metadata": {
    "ExecuteTime": {
     "end_time": "2020-01-29T15:06:33.047248Z",
     "start_time": "2020-01-29T15:06:33.006325Z"
    }
   },
   "outputs": [
    {
     "data": {
      "text/plain": [
       "Equilibria:\n",
       "<abc: a, bac: b, cab: ac> ==> b (FF)\n",
       "<abc: a, bac: ab, cab: c> ==> a (D)\n",
       "\n",
       "Utility-dependent equilibrium:\n",
       "<abc: ab, bac: b, cab: c> ==> b (FF)\n",
       "\n",
       "Non-equilibria:\n",
       "<abc: a, bac: b, cab: c> ==> b (FF)\n",
       "<abc: a, bac: ab, cab: ac> ==> a (D)\n",
       "<abc: ab, bac: b, cab: ac> ==> b (FF)\n",
       "<abc: ab, bac: ab, cab: c> ==> a, b (FF)\n",
       "<abc: ab, bac: ab, cab: ac> ==> a (D)"
      ]
     },
     "execution_count": 19,
     "metadata": {},
     "output_type": "execute_result"
    }
   ],
   "source": [
    "profile.analyzed_strategies"
   ]
  },
  {
   "cell_type": "markdown",
   "metadata": {},
   "source": [
    "To access one of these strategies in particular:"
   ]
  },
  {
   "cell_type": "code",
   "execution_count": 20,
   "metadata": {
    "ExecuteTime": {
     "end_time": "2020-01-29T15:06:33.053199Z",
     "start_time": "2020-01-29T15:06:33.048212Z"
    }
   },
   "outputs": [
    {
     "data": {
      "text/plain": [
       "<abc: a, bac: b, cab: ac> ==> b"
      ]
     },
     "execution_count": 20,
     "metadata": {},
     "output_type": "execute_result"
    }
   ],
   "source": [
    "profile.analyzed_strategies.equilibria[0]"
   ]
  },
  {
   "cell_type": "code",
   "execution_count": 21,
   "metadata": {
    "ExecuteTime": {
     "end_time": "2020-01-29T15:06:33.063207Z",
     "start_time": "2020-01-29T15:06:33.054197Z"
    }
   },
   "outputs": [
    {
     "data": {
      "text/plain": [
       "<abc: ab, bac: b, cab: c> ==> b"
      ]
     },
     "execution_count": 21,
     "metadata": {},
     "output_type": "execute_result"
    }
   ],
   "source": [
    "profile.analyzed_strategies.utility_dependent[0]"
   ]
  },
  {
   "cell_type": "code",
   "execution_count": 22,
   "metadata": {
    "ExecuteTime": {
     "end_time": "2020-01-29T15:06:33.075185Z",
     "start_time": "2020-01-29T15:06:33.064168Z"
    }
   },
   "outputs": [
    {
     "data": {
      "text/plain": [
       "<abc: a, bac: b, cab: c> ==> b"
      ]
     },
     "execution_count": 22,
     "metadata": {},
     "output_type": "execute_result"
    }
   ],
   "source": [
    "profile.analyzed_strategies.non_equilibria[0]"
   ]
  },
  {
   "cell_type": "markdown",
   "metadata": {},
   "source": [
    "The following functions compute probabilities. They are based on the assumption that the utility of voters $abc$ for their middle candidate $b$ is drawn uniformly between 0 and 1; and similarly for voters $acb$, $bac$, etc."
   ]
  },
  {
   "cell_type": "markdown",
   "metadata": {},
   "source": [
    "Probability that there exists an equilibrium:\n",
    "\n",
    "(In the example below, the probability is 1 because in this profile, there exists some equilibria that do not depend on the utilities.)"
   ]
  },
  {
   "cell_type": "code",
   "execution_count": 23,
   "metadata": {
    "ExecuteTime": {
     "end_time": "2020-01-29T15:06:33.085153Z",
     "start_time": "2020-01-29T15:06:33.079131Z"
    }
   },
   "outputs": [
    {
     "data": {
      "text/plain": [
       "1"
      ]
     },
     "execution_count": 23,
     "metadata": {},
     "output_type": "execute_result"
    }
   ],
   "source": [
    "profile.proba_equilibrium()"
   ]
  },
  {
   "cell_type": "markdown",
   "metadata": {
    "ExecuteTime": {
     "end_time": "2019-12-30T07:18:55.532720Z",
     "start_time": "2019-12-30T07:18:55.526697Z"
    }
   },
   "source": [
    "Probability that there exists an equilibrium where voters $abc$ cast a ballot $ab$:"
   ]
  },
  {
   "cell_type": "code",
   "execution_count": 24,
   "metadata": {
    "ExecuteTime": {
     "end_time": "2020-01-29T15:06:33.101070Z",
     "start_time": "2020-01-29T15:06:33.086110Z"
    }
   },
   "outputs": [
    {
     "data": {
      "text/plain": [
       "0.13709468816628012"
      ]
     },
     "execution_count": 24,
     "metadata": {},
     "output_type": "execute_result"
    }
   ],
   "source": [
    "def test_abc_vote_ab(strategy):\n",
    "    return strategy.abc == 'ab'\n",
    "profile.proba_equilibrium(test=test_abc_vote_ab)"
   ]
  },
  {
   "cell_type": "markdown",
   "metadata": {},
   "source": [
    "Probability that there exists an equilibrium where candidate $c$ wins:"
   ]
  },
  {
   "cell_type": "code",
   "execution_count": 25,
   "metadata": {
    "ExecuteTime": {
     "end_time": "2020-01-29T15:06:33.114075Z",
     "start_time": "2020-01-29T15:06:33.102068Z"
    }
   },
   "outputs": [
    {
     "data": {
      "text/plain": [
       "0"
      ]
     },
     "execution_count": 25,
     "metadata": {},
     "output_type": "execute_result"
    }
   ],
   "source": [
    "def test_c_wins(strategy):\n",
    "    return 'c' in strategy.winners\n",
    "profile.proba_equilibrium(test=test_c_wins)"
   ]
  },
  {
   "cell_type": "markdown",
   "metadata": {},
   "source": [
    "Distribution of the number of equilibria:\n",
    "\n",
    "(In the example below, it is impossible that there is 0 or 1 equilibrium and positive probabilities that there are 2 or 3 equilibria.)"
   ]
  },
  {
   "cell_type": "code",
   "execution_count": 26,
   "metadata": {
    "ExecuteTime": {
     "end_time": "2020-01-29T15:06:33.127999Z",
     "start_time": "2020-01-29T15:06:33.115034Z"
    }
   },
   "outputs": [
    {
     "data": {
      "text/plain": [
       "array([0.        , 0.        , 0.86290531, 0.13709469])"
      ]
     },
     "execution_count": 26,
     "metadata": {},
     "output_type": "execute_result"
    }
   ],
   "source": [
    "profile.distribution_equilibria()"
   ]
  },
  {
   "cell_type": "markdown",
   "metadata": {},
   "source": [
    "You can access the distribution of equilibria, conditionally on a given test:\n",
    "\n",
    "(In the example below, there are positive probabilities that there is 0 or 1 equilibrium.)"
   ]
  },
  {
   "cell_type": "code",
   "execution_count": 27,
   "metadata": {
    "ExecuteTime": {
     "end_time": "2020-01-29T15:06:33.137007Z",
     "start_time": "2020-01-29T15:06:33.128997Z"
    }
   },
   "outputs": [
    {
     "data": {
      "text/plain": [
       "array([0.86290531, 0.13709469])"
      ]
     },
     "execution_count": 27,
     "metadata": {},
     "output_type": "execute_result"
    }
   ],
   "source": [
    "profile.distribution_equilibria(test=test_abc_vote_ab)"
   ]
  },
  {
   "cell_type": "markdown",
   "metadata": {},
   "source": [
    "Distribution of the number of winners at equilibrium:\n",
    "\n",
    "(In the example below, there are always 2 candidates, namely $a$ and $b$, that can win at equilibrium.)"
   ]
  },
  {
   "cell_type": "code",
   "execution_count": 28,
   "metadata": {
    "ExecuteTime": {
     "end_time": "2020-01-29T15:06:33.148981Z",
     "start_time": "2020-01-29T15:06:33.138977Z"
    }
   },
   "outputs": [
    {
     "data": {
      "text/plain": [
       "array([0., 0., 1., 0.])"
      ]
     },
     "execution_count": 28,
     "metadata": {},
     "output_type": "execute_result"
    }
   ],
   "source": [
    "profile.distribution_winners()"
   ]
  },
  {
   "cell_type": "markdown",
   "metadata": {},
   "source": [
    "You can access the distribution of winners, conditionally on a given test:\n",
    "\n",
    "(In the example below, there can be 0 winner, i.e. when there is no equilibrium, or 1 winner.)"
   ]
  },
  {
   "cell_type": "code",
   "execution_count": 29,
   "metadata": {
    "ExecuteTime": {
     "end_time": "2020-01-29T15:06:33.161908Z",
     "start_time": "2020-01-29T15:06:33.149941Z"
    }
   },
   "outputs": [
    {
     "data": {
      "text/plain": [
       "array([0.86290531, 0.13709469, 0.        , 0.        ])"
      ]
     },
     "execution_count": 29,
     "metadata": {},
     "output_type": "execute_result"
    }
   ],
   "source": [
    "profile.distribution_winners(test=test_abc_vote_ab)"
   ]
  }
 ],
 "metadata": {
  "kernelspec": {
   "display_name": "Python 3",
   "language": "python",
   "name": "python3"
  },
  "language_info": {
   "codemirror_mode": {
    "name": "ipython",
    "version": 3
   },
   "file_extension": ".py",
   "mimetype": "text/x-python",
   "name": "python",
   "nbconvert_exporter": "python",
   "pygments_lexer": "ipython3",
   "version": "3.7.3"
  },
  "toc": {
   "base_numbering": 1,
   "nav_menu": {},
   "number_sections": false,
   "sideBar": true,
   "skip_h1_title": true,
   "title_cell": "Table of Contents",
   "title_sidebar": "Contents",
   "toc_cell": false,
   "toc_position": {},
   "toc_section_display": true,
   "toc_window_display": false
  }
 },
 "nbformat": 4,
 "nbformat_minor": 2
}
