{
 "cells": [
  {
   "cell_type": "markdown",
   "metadata": {},
   "source": [
    "# Probabilities"
   ]
  },
  {
   "cell_type": "code",
   "execution_count": 1,
   "metadata": {
    "ExecuteTime": {
     "end_time": "2021-02-11T16:04:46.403411Z",
     "start_time": "2021-02-11T16:04:41.140050Z"
    }
   },
   "outputs": [],
   "source": [
    "from matplotlib import pyplot as plt\n",
    "from fractions import Fraction\n",
    "import poisson_approval as pa"
   ]
  },
  {
   "cell_type": "markdown",
   "metadata": {},
   "source": [
    "## Random Factories"
   ]
  },
  {
   "cell_type": "markdown",
   "metadata": {},
   "source": [
    "The package provides a large variety of random factories to generate **profiles**, **strategies** or **tau-vectors**. For example, define a random factory of tau-vectors:"
   ]
  },
  {
   "cell_type": "code",
   "execution_count": 2,
   "metadata": {
    "ExecuteTime": {
     "end_time": "2021-02-11T16:04:46.414751Z",
     "start_time": "2021-02-11T16:04:46.407772Z"
    }
   },
   "outputs": [],
   "source": [
    "rand_tau = pa.RandTauVectorUniform()"
   ]
  },
  {
   "cell_type": "markdown",
   "metadata": {},
   "source": [
    "Then use this random factory to generate a tau-vector:"
   ]
  },
  {
   "cell_type": "code",
   "execution_count": 3,
   "metadata": {
    "ExecuteTime": {
     "end_time": "2021-02-11T16:04:46.453647Z",
     "start_time": "2021-02-11T16:04:46.419738Z"
    }
   },
   "outputs": [
    {
     "data": {
      "text/plain": [
       "<a: 0.12899531221204752, ab: 0.029093853592319863, ac: 0.1813635425327782, b: 0.12359657142207547, bc: 0.24777668308677925, c: 0.2891740371539997> ==> c"
      ]
     },
     "execution_count": 3,
     "metadata": {},
     "output_type": "execute_result"
    }
   ],
   "source": [
    "tau = rand_tau()\n",
    "tau"
   ]
  },
  {
   "cell_type": "markdown",
   "metadata": {},
   "source": [
    "Most random factories of the package also have a \"grid\" counterpart where the coefficients are fractions of a given denominator. This is convenient to generate less \"messy\" examples:"
   ]
  },
  {
   "cell_type": "code",
   "execution_count": 4,
   "metadata": {
    "ExecuteTime": {
     "end_time": "2021-02-11T16:04:46.478583Z",
     "start_time": "2021-02-11T16:04:46.458477Z"
    }
   },
   "outputs": [
    {
     "data": {
      "text/plain": [
       "<a: 17/100, ab: 13/50, ac: 3/50, b: 13/100, bc: 1/5, c: 9/50> ==> b"
      ]
     },
     "execution_count": 4,
     "metadata": {},
     "output_type": "execute_result"
    }
   ],
   "source": [
    "rand_tau = pa.RandTauVectorGridUniform(denominator=100)\n",
    "tau = rand_tau()\n",
    "tau"
   ]
  },
  {
   "cell_type": "markdown",
   "metadata": {},
   "source": [
    "Also, most random factories have options that enable to finely tune the distribution:"
   ]
  },
  {
   "cell_type": "code",
   "execution_count": 5,
   "metadata": {
    "ExecuteTime": {
     "end_time": "2021-02-11T16:04:46.502531Z",
     "start_time": "2021-02-11T16:04:46.483570Z"
    }
   },
   "outputs": [
    {
     "data": {
      "text/plain": [
       "<a: 0.018593636074880373, b: 0.8814063639251196, c: 0.1> ==> b (Plurality)"
      ]
     },
     "execution_count": 5,
     "metadata": {},
     "output_type": "execute_result"
    }
   ],
   "source": [
    "rand_tau = pa.RandTauVectorUniform(\n",
    "    ballots=['a', 'b'], \n",
    "    d_ballot_fixed_share={'c': 0.1}, \n",
    "    voting_rule=pa.PLURALITY\n",
    ")\n",
    "tau = rand_tau()\n",
    "tau"
   ]
  },
  {
   "cell_type": "markdown",
   "metadata": {},
   "source": [
    "For more information, cf. the *Reference* section on random factories."
   ]
  },
  {
   "cell_type": "markdown",
   "metadata": {},
   "source": [
    "## Conditional Random Factory"
   ]
  },
  {
   "cell_type": "markdown",
   "metadata": {},
   "source": [
    "*RandConditional* is a random factory implementing rejection sampling. It needs:\n",
    "\n",
    "* Another random factory that is responsible for generating the objects,\n",
    "* A test that the objects must meet,\n",
    "* A maximum number of trials before renouncing (which can be *None* if you want to draw objects forever, until finding one that meets the test)."
   ]
  },
  {
   "cell_type": "markdown",
   "metadata": {},
   "source": [
    "Here, we use a conditional random factory to generate an example of *TauVector* with a direct focus:"
   ]
  },
  {
   "cell_type": "code",
   "execution_count": 6,
   "metadata": {
    "ExecuteTime": {
     "end_time": "2021-02-11T16:04:46.520468Z",
     "start_time": "2021-02-11T16:04:46.505060Z"
    }
   },
   "outputs": [],
   "source": [
    "def test_direct_focus(tau):\n",
    "    return tau.focus == pa.Focus.DIRECT"
   ]
  },
  {
   "cell_type": "code",
   "execution_count": 7,
   "metadata": {
    "ExecuteTime": {
     "end_time": "2021-02-11T16:04:46.571372Z",
     "start_time": "2021-02-11T16:04:46.525453Z"
    }
   },
   "outputs": [
    {
     "data": {
      "text/plain": [
       "<a: 3/100, ab: 9/25, ac: 11/100, b: 27/100, bc: 7/50, c: 9/100> ==> b"
      ]
     },
     "execution_count": 7,
     "metadata": {},
     "output_type": "execute_result"
    }
   ],
   "source": [
    "rand_tau = pa.RandConditional(\n",
    "    factory=pa.RandTauVectorGridUniform(denominator=100),\n",
    "    test=test_direct_focus,\n",
    "    n_trials_max=None\n",
    ")\n",
    "tau = rand_tau()\n",
    "tau"
   ]
  },
  {
   "cell_type": "markdown",
   "metadata": {},
   "source": [
    "Alternatively, *RandConditional* accepts a tuple of factories, and a test on the tuple of the results. Here is an example of a *ProfileNoisyDiscrete* and a *StrategyOrdinal*, such that the strategy is an equilibrium for the profile:"
   ]
  },
  {
   "cell_type": "code",
   "execution_count": 8,
   "metadata": {
    "ExecuteTime": {
     "end_time": "2021-02-11T16:04:46.596267Z",
     "start_time": "2021-02-11T16:04:46.577348Z"
    }
   },
   "outputs": [],
   "source": [
    "rand_profile = pa.RandProfileNoisyDiscreteGridUniform(\n",
    "    denominator=100,\n",
    "    types=[('abc', 0.4, 0.01),\n",
    "           ('bac', 0.2, 0.01),\n",
    "           ('cab', 0.7, 0.01)]\n",
    ")\n",
    "rand_strategy = pa.RandStrategyOrdinalUniform()\n",
    "def test_is_equilibrium(profile, strategy):\n",
    "    return profile.is_equilibrium(strategy) == pa.EquilibriumStatus.EQUILIBRIUM"
   ]
  },
  {
   "cell_type": "code",
   "execution_count": 9,
   "metadata": {
    "ExecuteTime": {
     "end_time": "2021-02-11T16:04:46.680074Z",
     "start_time": "2021-02-11T16:04:46.600288Z"
    }
   },
   "outputs": [
    {
     "name": "stdout",
     "output_type": "stream",
     "text": [
      "<abc 0.4 ± 0.01: 71/100, bac 0.2 ± 0.01: 29/100> (Condorcet winner: a)\n",
      "<abc: a, acb: a, bac: b, bca: bc, cab: ac, cba: bc>\n"
     ]
    }
   ],
   "source": [
    "rand_example = pa.RandConditional(\n",
    "    factory=(rand_profile, rand_strategy),\n",
    "    test=test_is_equilibrium,\n",
    "    n_trials_max=None\n",
    ")\n",
    "profile, strategy = rand_example()\n",
    "print(profile)\n",
    "print(strategy)"
   ]
  },
  {
   "cell_type": "markdown",
   "metadata": {},
   "source": [
    "## Probability Estimation"
   ]
  },
  {
   "cell_type": "markdown",
   "metadata": {},
   "source": [
    "To compute a probability, use the function *probability*."
   ]
  },
  {
   "cell_type": "markdown",
   "metadata": {},
   "source": [
    "For example, estimate the probability that a *TauVector* drawn uniformly at random has a direct focus:"
   ]
  },
  {
   "cell_type": "code",
   "execution_count": 10,
   "metadata": {
    "ExecuteTime": {
     "end_time": "2021-02-11T16:04:46.687024Z",
     "start_time": "2021-02-11T16:04:46.682037Z"
    }
   },
   "outputs": [],
   "source": [
    "def test_direct_focus(tau):\n",
    "    return tau.focus == pa.Focus.DIRECT"
   ]
  },
  {
   "cell_type": "code",
   "execution_count": 11,
   "metadata": {
    "ExecuteTime": {
     "end_time": "2021-02-11T16:04:47.011331Z",
     "start_time": "2021-02-11T16:04:46.690042Z"
    }
   },
   "outputs": [
    {
     "data": {
      "text/plain": [
       "0.54"
      ]
     },
     "execution_count": 11,
     "metadata": {},
     "output_type": "execute_result"
    }
   ],
   "source": [
    "pa.probability(\n",
    "    factory=pa.RandTauVectorUniform(),\n",
    "    n_samples=100,\n",
    "    test=test_direct_focus\n",
    ")"
   ]
  },
  {
   "cell_type": "markdown",
   "metadata": {},
   "source": [
    "To avoid the definition of an auxiliary function, you can use a *lambda*. For example:"
   ]
  },
  {
   "cell_type": "code",
   "execution_count": 12,
   "metadata": {
    "ExecuteTime": {
     "end_time": "2021-02-11T16:04:47.359226Z",
     "start_time": "2021-02-11T16:04:47.016142Z"
    }
   },
   "outputs": [
    {
     "data": {
      "text/plain": [
       "0.47"
      ]
     },
     "execution_count": 12,
     "metadata": {},
     "output_type": "execute_result"
    }
   ],
   "source": [
    "pa.probability(\n",
    "    factory=pa.RandTauVectorUniform(),\n",
    "    n_samples=100,\n",
    "    test=lambda tau: tau.focus == pa.Focus.DIRECT\n",
    ")"
   ]
  },
  {
   "cell_type": "markdown",
   "metadata": {
    "ExecuteTime": {
     "end_time": "2020-01-03T06:55:13.021088Z",
     "start_time": "2020-01-03T06:55:13.016102Z"
    }
   },
   "source": [
    "You can also compute a conditional probability. For example, the probability that a *ProfileNoisyDiscrete* (generated by the random factory defined below) has an ordinal equilibrium, conditionally on having a strict Condorcet winner:"
   ]
  },
  {
   "cell_type": "code",
   "execution_count": 13,
   "metadata": {
    "ExecuteTime": {
     "end_time": "2021-02-11T16:04:47.372901Z",
     "start_time": "2021-02-11T16:04:47.363217Z"
    }
   },
   "outputs": [],
   "source": [
    "rand_profile = pa.RandProfileNoisyDiscreteUniform(\n",
    "    types=[('abc', 0.4, 0.01),\n",
    "           ('bac', 0.2, 0.01),\n",
    "           ('cab', 0.7, 0.01)]\n",
    ")\n",
    "def test_exists_ordinal_equilibrium(profile):\n",
    "    return len(profile.analyzed_strategies_ordinal.equilibria) > 0\n",
    "def test_is_strictly_condorcet(profile):\n",
    "    return profile.is_profile_condorcet == 1.0"
   ]
  },
  {
   "cell_type": "code",
   "execution_count": 14,
   "metadata": {
    "ExecuteTime": {
     "end_time": "2021-02-11T16:04:51.705628Z",
     "start_time": "2021-02-11T16:04:47.377176Z"
    }
   },
   "outputs": [
    {
     "data": {
      "text/plain": [
       "1.0"
      ]
     },
     "execution_count": 14,
     "metadata": {},
     "output_type": "execute_result"
    }
   ],
   "source": [
    "pa.probability(\n",
    "    factory=rand_profile,\n",
    "    n_samples=100,\n",
    "    test=test_exists_ordinal_equilibrium,\n",
    "    conditional_on=test_is_strictly_condorcet\n",
    ")"
   ]
  },
  {
   "cell_type": "markdown",
   "metadata": {},
   "source": [
    "You can also use a tuple of random factories, and tests on the tuple of the results. For example, estimate the probability that a random *StrategyOrdinal* is an equilibrium for a random *ProfileNoisyDiscrete* (generated by the random factory defined below), conditionally on the fact that the profile has a strict Condorcet winner and that the initial strategy elects the Condorcet winner:"
   ]
  },
  {
   "cell_type": "code",
   "execution_count": 15,
   "metadata": {
    "ExecuteTime": {
     "end_time": "2021-02-11T16:04:51.718659Z",
     "start_time": "2021-02-11T16:04:51.708620Z"
    }
   },
   "outputs": [],
   "source": [
    "rand_profile = pa.RandProfileNoisyDiscreteUniform(\n",
    "    types=[('abc', 0.4, 0.01),\n",
    "           ('bac', 0.2, 0.01),\n",
    "           ('cab', 0.7, 0.01)]\n",
    ")\n",
    "rand_strategy = pa.RandStrategyOrdinalUniform()\n",
    "def test_is_equilibrium(profile, strategy):\n",
    "    return profile.is_equilibrium(strategy) == pa.EquilibriumStatus.EQUILIBRIUM\n",
    "def test_elect_condorcet_winner(profile, strategy):\n",
    "    return (profile.is_profile_condorcet == 1. \n",
    "            and profile.tau(strategy).winners == profile.condorcet_winners)"
   ]
  },
  {
   "cell_type": "code",
   "execution_count": 16,
   "metadata": {
    "ExecuteTime": {
     "end_time": "2021-02-11T16:04:52.326937Z",
     "start_time": "2021-02-11T16:04:51.721621Z"
    }
   },
   "outputs": [
    {
     "data": {
      "text/plain": [
       "0.31"
      ]
     },
     "execution_count": 16,
     "metadata": {},
     "output_type": "execute_result"
    }
   ],
   "source": [
    "pa.probability(\n",
    "    factory=(rand_profile, rand_strategy),\n",
    "    n_samples=100,\n",
    "    test=test_is_equilibrium,\n",
    "    conditional_on=test_elect_condorcet_winner\n",
    ")"
   ]
  },
  {
   "cell_type": "markdown",
   "metadata": {},
   "source": [
    "Finally, you can also use a tuple of tests in order to estimate several probabilities with the same sample. For example, estimate the probability that a *TauVector* drawn uniformly at random is direct, forward-focused, backward-focused, or unfocused:"
   ]
  },
  {
   "cell_type": "code",
   "execution_count": 17,
   "metadata": {
    "ExecuteTime": {
     "end_time": "2021-02-11T16:04:52.777762Z",
     "start_time": "2021-02-11T16:04:52.329925Z"
    }
   },
   "outputs": [
    {
     "data": {
      "text/plain": [
       "(0.42, 0.58, 0.0, 0.0)"
      ]
     },
     "execution_count": 17,
     "metadata": {},
     "output_type": "execute_result"
    }
   ],
   "source": [
    "pa.probability(\n",
    "    factory=pa.RandTauVectorUniform(),\n",
    "    n_samples=100,\n",
    "    test=(lambda tau: tau.focus == pa.Focus.DIRECT, \n",
    "          lambda tau: tau.focus == pa.Focus.FORWARD_FOCUSED,\n",
    "          lambda tau: tau.focus == pa.Focus.BACKWARD_FOCUSED,\n",
    "          lambda tau: tau.focus == pa.Focus.UNFOCUSED)\n",
    ")"
   ]
  },
  {
   "cell_type": "markdown",
   "metadata": {},
   "source": [
    "## Image Distribution Estimation"
   ]
  },
  {
   "cell_type": "markdown",
   "metadata": {},
   "source": [
    "To compute an image distribution, use the function *image_distribution*.\n",
    "\n",
    "For example, when drawing a *ProfileNoisyDiscrete* (with the random factory defined below) and an initial *StrategyOrdinal* at random, and when applying iterated voting, let us estimate the distribution of the length of the cycle to which it converges:"
   ]
  },
  {
   "cell_type": "code",
   "execution_count": 18,
   "metadata": {
    "ExecuteTime": {
     "end_time": "2021-02-11T16:04:52.792712Z",
     "start_time": "2021-02-11T16:04:52.782712Z"
    }
   },
   "outputs": [],
   "source": [
    "rand_profile = pa.RandProfileNoisyDiscreteUniform(\n",
    "    types=[('abc', 0.4, 0.01),\n",
    "           ('bca', 0.2, 0.01),\n",
    "           ('cab', 0.7, 0.01)]\n",
    ")\n",
    "rand_strategy = pa.RandStrategyOrdinalUniform()"
   ]
  },
  {
   "cell_type": "code",
   "execution_count": 19,
   "metadata": {
    "ExecuteTime": {
     "end_time": "2021-02-11T16:04:52.829619Z",
     "start_time": "2021-02-11T16:04:52.797677Z"
    }
   },
   "outputs": [],
   "source": [
    "def len_cycle(profile, strategy_ini):\n",
    "    cycle = profile.iterated_voting(init=strategy_ini, n_max_episodes=100)['cycle_taus_actual']\n",
    "    return len(cycle)"
   ]
  },
  {
   "cell_type": "code",
   "execution_count": 20,
   "metadata": {
    "ExecuteTime": {
     "end_time": "2021-02-11T16:04:56.394179Z",
     "start_time": "2021-02-11T16:04:52.835571Z"
    }
   },
   "outputs": [
    {
     "data": {
      "text/plain": [
       "{1: 0.18, 2: 0.02, 3: 0.8}"
      ]
     },
     "execution_count": 20,
     "metadata": {},
     "output_type": "execute_result"
    }
   ],
   "source": [
    "d_len_occurrences = pa.image_distribution(\n",
    "    factory=(rand_profile, rand_strategy),\n",
    "    n_samples=100, f=len_cycle)\n",
    "d_len_occurrences"
   ]
  },
  {
   "cell_type": "code",
   "execution_count": 21,
   "metadata": {
    "ExecuteTime": {
     "end_time": "2021-02-11T16:04:56.817962Z",
     "start_time": "2021-02-11T16:04:56.399081Z"
    }
   },
   "outputs": [
    {
     "data": {
      "text/plain": [
       "<BarContainer object of 3 artists>"
      ]
     },
     "execution_count": 21,
     "metadata": {},
     "output_type": "execute_result"
    },
    {
     "data": {
      "image/png": "[encoded data removed]",
      "text/plain": [
       "<Figure size 432x288 with 1 Axes>"
      ]
     },
     "metadata": {
      "needs_background": "light"
     },
     "output_type": "display_data"
    }
   ],
   "source": [
    "plt.bar(d_len_occurrences.keys(), d_len_occurrences.values())"
   ]
  }
 ],
 "metadata": {
  "kernelspec": {
   "display_name": "Python 3",
   "language": "python",
   "name": "python3"
  },
  "language_info": {
   "codemirror_mode": {
    "name": "ipython",
    "version": 3
   },
   "file_extension": ".py",
   "mimetype": "text/x-python",
   "name": "python",
   "nbconvert_exporter": "python",
   "pygments_lexer": "ipython3",
   "version": "3.7.3"
  },
  "toc": {
   "base_numbering": 1,
   "nav_menu": {},
   "number_sections": false,
   "sideBar": true,
   "skip_h1_title": true,
   "title_cell": "Table of Contents",
   "title_sidebar": "Contents",
   "toc_cell": false,
   "toc_position": {
    "height": "calc(100% - 180px)",
    "left": "10px",
    "top": "150px",
    "width": "218.875px"
   },
   "toc_section_display": true,
   "toc_window_display": false
  }
 },
 "nbformat": 4,
 "nbformat_minor": 2
}
