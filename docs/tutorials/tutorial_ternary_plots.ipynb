{
 "cells": [
  {
   "cell_type": "markdown",
   "metadata": {},
   "source": [
    "# Tutorial on Ternary Plots"
   ]
  },
  {
   "cell_type": "code",
   "execution_count": null,
   "metadata": {},
   "outputs": [],
   "source": [
    "import poisson_approval as pa\n",
    "from fractions import Fraction"
   ]
  },
  {
   "cell_type": "markdown",
   "metadata": {},
   "source": [
    "## SimplexToProfile"
   ]
  },
  {
   "cell_type": "markdown",
   "metadata": {
    "ExecuteTime": {
     "end_time": "2020-02-15T12:35:50.964270Z",
     "start_time": "2020-02-15T12:35:50.958250Z"
    }
   },
   "source": [
    "Poisson Approval relies on the package ``python-ternary`` to draw plots on the simplex where points have 3 coordinates summing to 1. The coordinates of a point are denoted ``right``, ``top`` and ``left`` because they are respectively equal to 1 at the right, top and left corners of the triangular figure. They typically represent shares of different types in a profile. In order to draw plots, we need a ``SimplexToProfile`` object that will generate the needed profiles:"
   ]
  },
  {
   "cell_type": "code",
   "execution_count": null,
   "metadata": {},
   "outputs": [],
   "source": [
    "simplex_to_profile = pa.SimplexToProfile(\n",
    "    pa.ProfileNoisyDiscrete, left_type=('abc', 0.5, 0.01), right_type=('bac', 0.5, 0.01), top_type='c>a~b',\n",
    "    d_type_fixed_share={('abc', 0.1, 0.01): Fraction(1, 10), ('abc', 0.9, 0.01): Fraction(2, 10)})"
   ]
  },
  {
   "cell_type": "markdown",
   "metadata": {},
   "source": [
    "The above syntax defines a function ``simplex_to_profile`` that maps a tuple (right, top, left) to a profile defined as:\n",
    "\n",
    "* The class is ``pa.ProfileNoisyDiscrete``,\n",
    "* A fixed share 1/10 of voters are of type ``('abc', 0.1, 0.01)``, and a fixed share 1/10 are of type ``('abc', 0.9, 0.01)``,\n",
    "* The other voters, i.e. a share 8/10, are distributed between ``left_type``, ``right_type`` and ``top_type``, in respective proportions that are given by the input tuple (right, top, left).\n",
    "\n",
    "For example:"
   ]
  },
  {
   "cell_type": "code",
   "execution_count": null,
   "metadata": {},
   "outputs": [],
   "source": [
    "simplex_to_profile(left=Fraction(11, 80), top=Fraction(52, 80), right=Fraction(17, 80))"
   ]
  },
  {
   "cell_type": "markdown",
   "metadata": {},
   "source": [
    "## Scale"
   ]
  },
  {
   "cell_type": "markdown",
   "metadata": {},
   "source": [
    "All the plots require a resolution parameter called ``scale``. For example, if ``scale=10``, then the simplex is divided into cells of diameter 1/10 and the value of the plotted function is computed at the center of each cell. For more information, cf. the documentation of the package ``python-ternary``. In this tutorial, we define a global parameter ``SCALE`` and we will use it for all the plots."
   ]
  },
  {
   "cell_type": "code",
   "execution_count": null,
   "metadata": {},
   "outputs": [],
   "source": [
    "SCALE = 21"
   ]
  },
  {
   "cell_type": "markdown",
   "metadata": {},
   "source": [
    "## Number of Equilibria"
   ]
  },
  {
   "cell_type": "markdown",
   "metadata": {},
   "source": [
    "By default, the function ``ternary_plot_n_equilibria`` computes the ordinal equilibria, i.e. those where all voters having the same ranking cast the same ballot:"
   ]
  },
  {
   "cell_type": "code",
   "execution_count": null,
   "metadata": {},
   "outputs": [],
   "source": [
    "pa.ternary_plot_n_equilibria(\n",
    "    simplex_to_profile,\n",
    "    scale=SCALE,\n",
    "    title='Number of ordinal equilibria')"
   ]
  },
  {
   "cell_type": "markdown",
   "metadata": {},
   "source": [
    "Using the option ``meth``, you can investigate other kinds of equilibria:"
   ]
  },
  {
   "cell_type": "code",
   "execution_count": null,
   "metadata": {},
   "outputs": [],
   "source": [
    "pa.ternary_plot_n_equilibria(\n",
    "    simplex_to_profile, \n",
    "    scale=SCALE,\n",
    "    title='Number of group equilibria', \n",
    "    meth='analyzed_strategies_group')"
   ]
  },
  {
   "cell_type": "markdown",
   "metadata": {},
   "source": [
    "Depending on the class of profile, the possible values may be ``analyzed_strategies_ordinal`` (the default), ``analyzed_strategies_group`` (for profiles where a reasonable notion of group is defined, such as ``ProfileNoisyDiscrete``), or ``analyzed_strategies_pure`` (for discrete profiles such as ``ProfileDiscrete`` or ``ProfileTwelve``)."
   ]
  },
  {
   "cell_type": "markdown",
   "metadata": {},
   "source": [
    "## Winners at Equilibrium"
   ]
  },
  {
   "cell_type": "markdown",
   "metadata": {},
   "source": [
    "The function ``ternary_plot_n_equilibria`` works similarly:"
   ]
  },
  {
   "cell_type": "code",
   "execution_count": null,
   "metadata": {},
   "outputs": [],
   "source": [
    "pa.ternary_plot_winners_at_equilibrium(\n",
    "    simplex_to_profile, \n",
    "    scale=SCALE,\n",
    "    title='Winners in ordinal equilibria')"
   ]
  },
  {
   "cell_type": "code",
   "execution_count": null,
   "metadata": {},
   "outputs": [],
   "source": [
    "pa.ternary_plot_winners_at_equilibrium(\n",
    "    simplex_to_profile, \n",
    "    scale=SCALE,\n",
    "    title='Winners in group equilibria',\n",
    "    legend_title='Winners', \n",
    "    meth='analyzed_strategies_group')"
   ]
  },
  {
   "cell_type": "markdown",
   "metadata": {},
   "source": [
    "## Winning Frequencies in Fictitious Play or Iterated Voting"
   ]
  },
  {
   "cell_type": "markdown",
   "metadata": {},
   "source": [
    "By default, the function ``ternary_plot_winning_frequencies`` computes the winning frequencies in fictitious play, with an initialization in sincere strategy, and with all update ratio in 1 / (t + 1):"
   ]
  },
  {
   "cell_type": "code",
   "execution_count": null,
   "metadata": {},
   "outputs": [],
   "source": [
    "pa.ternary_plot_winning_frequencies(simplex_to_profile, scale=SCALE, n_max_episodes=100)"
   ]
  },
  {
   "cell_type": "markdown",
   "metadata": {},
   "source": [
    "You can change this behavior with the optional parameters of the function:"
   ]
  },
  {
   "cell_type": "code",
   "execution_count": null,
   "metadata": {},
   "outputs": [],
   "source": [
    "pa.ternary_plot_winning_frequencies(\n",
    "    simplex_to_profile, \n",
    "    scale=SCALE, \n",
    "    meth='iterated_voting',\n",
    "    init='random',\n",
    "    samples_per_point=10, \n",
    "    perception_update_ratio=1,\n",
    "    ballot_update_ratio=1,\n",
    "    winning_frequency_update_ratio=pa.one_over_t_plus_one,\n",
    "    n_max_episodes=100, \n",
    "    title='Winning frequencies in iterated voting',\n",
    "    legend_title='Winners', )"
   ]
  },
  {
   "cell_type": "markdown",
   "metadata": {},
   "source": [
    "## Customize the Plot"
   ]
  },
  {
   "cell_type": "markdown",
   "metadata": {},
   "source": [
    "Grid and lines:"
   ]
  },
  {
   "cell_type": "code",
   "execution_count": null,
   "metadata": {},
   "outputs": [],
   "source": [
    "figure, tax = pa.ternary_figure()\n",
    "tax.gridlines_simplex(multiple=0.1)\n",
    "tax.horizontal_line_simplex(0.1)\n",
    "tax.left_parallel_line_simplex(0.2)\n",
    "tax.right_parallel_line_simplex(0.3)\n",
    "tax.line_simplex((1, 0, 0), (0.2, 0.5, 0.3))"
   ]
  },
  {
   "cell_type": "markdown",
   "metadata": {},
   "source": [
    "Titles and annotations:"
   ]
  },
  {
   "cell_type": "code",
   "execution_count": null,
   "metadata": {},
   "outputs": [],
   "source": [
    "figure, tax = pa.ternary_figure()\n",
    "tax.set_title_padded('The title of the figure')\n",
    "tax.right_corner_label('The right label')\n",
    "tax.top_corner_label('The top label')\n",
    "tax.left_corner_label('The left label')\n",
    "tax.annotate_simplex('An annotation', (0.33, 0.33, 0.33))"
   ]
  },
  {
   "cell_type": "markdown",
   "metadata": {},
   "source": [
    "## Advanced Intensity Heat Maps"
   ]
  },
  {
   "cell_type": "markdown",
   "metadata": {},
   "source": [
    "First, define a function that maps a point of the simplex to a number:"
   ]
  },
  {
   "cell_type": "code",
   "execution_count": null,
   "metadata": {},
   "outputs": [],
   "source": [
    "def f(right, top, left):\n",
    "    return (right**2 + top) / (left + 1)"
   ]
  },
  {
   "cell_type": "markdown",
   "metadata": {},
   "source": [
    "Then use the method ``heatmap_intensity``:"
   ]
  },
  {
   "cell_type": "code",
   "execution_count": null,
   "metadata": {},
   "outputs": [],
   "source": [
    "figure, tax = pa.ternary_figure(scale=SCALE)\n",
    "tax.heatmap_intensity(f, \n",
    "                      left_label='left',\n",
    "                      right_label='right',\n",
    "                      top_label='top')\n",
    "tax.set_title_padded('An intensity heat map')"
   ]
  },
  {
   "cell_type": "markdown",
   "metadata": {},
   "source": [
    "## Advanced Candidate Heat Maps"
   ]
  },
  {
   "cell_type": "markdown",
   "metadata": {},
   "source": [
    "First, define a function that maps a point of the simplex to a array of size 3 (associated with candidates a, b, c):"
   ]
  },
  {
   "cell_type": "code",
   "execution_count": null,
   "metadata": {},
   "outputs": [],
   "source": [
    "def g(right, top, left):\n",
    "    a = top**.5\n",
    "    b = left**2\n",
    "    c = 1 - a - b\n",
    "    return [a, b, c]"
   ]
  },
  {
   "cell_type": "markdown",
   "metadata": {},
   "source": [
    "Then use the method ``heatmap_candidates``:"
   ]
  },
  {
   "cell_type": "code",
   "execution_count": null,
   "metadata": {},
   "outputs": [],
   "source": [
    "figure, tax = pa.ternary_figure(scale=SCALE)\n",
    "tax.heatmap_candidates(g, \n",
    "                       left_label='left',\n",
    "                       right_label='right',\n",
    "                       top_label='top',\n",
    "                       legend_title='Candidates',\n",
    "                       legend_style='palette')\n",
    "tax.set_title_padded('A candidate heat map')"
   ]
  }
 ],
 "metadata": {
  "kernelspec": {
   "display_name": "Python 3",
   "language": "python",
   "name": "python3"
  },
  "language_info": {
   "codemirror_mode": {
    "name": "ipython",
    "version": 3
   },
   "file_extension": ".py",
   "mimetype": "text/x-python",
   "name": "python",
   "nbconvert_exporter": "python",
   "pygments_lexer": "ipython3",
   "version": "3.7.3"
  },
  "nbsphinx": {
   "execute": "never"
  },
  "toc": {
   "base_numbering": 1,
   "nav_menu": {},
   "number_sections": false,
   "sideBar": true,
   "skip_h1_title": true,
   "title_cell": "Table of Contents",
   "title_sidebar": "Contents",
   "toc_cell": false,
   "toc_position": {},
   "toc_section_display": true,
   "toc_window_display": false
  }
 },
 "nbformat": 4,
 "nbformat_minor": 2
}
