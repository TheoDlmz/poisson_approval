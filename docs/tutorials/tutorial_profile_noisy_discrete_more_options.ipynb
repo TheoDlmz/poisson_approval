{
 "cells": [
  {
   "cell_type": "markdown",
   "metadata": {},
   "source": [
    "# Tutorial on ProfileNoisyDiscrete: More Options"
   ]
  },
  {
   "cell_type": "code",
   "execution_count": 1,
   "metadata": {
    "ExecuteTime": {
     "end_time": "2020-03-12T17:48:38.936238Z",
     "start_time": "2020-03-12T17:48:37.349062Z"
    }
   },
   "outputs": [],
   "source": [
    "from fractions import Fraction\n",
    "import poisson_approval as pa"
   ]
  },
  {
   "cell_type": "markdown",
   "metadata": {},
   "source": [
    "## Weak orders"
   ]
  },
  {
   "cell_type": "markdown",
   "metadata": {
    "ExecuteTime": {
     "end_time": "2020-02-20T05:41:15.651548Z",
     "start_time": "2020-02-20T05:41:15.646521Z"
    }
   },
   "source": [
    "The profile can contains weak orders. Voters of the form ``'a>b~c'`` (\"lovers\") always vote for their top candidate, and voters of the form ``'a~b>c'`` (\"haters\") always vote for their two top candidates."
   ]
  },
  {
   "cell_type": "code",
   "execution_count": 2,
   "metadata": {
    "ExecuteTime": {
     "end_time": "2020-03-12T17:48:38.945216Z",
     "start_time": "2020-03-12T17:48:38.937256Z"
    }
   },
   "outputs": [
    {
     "data": {
      "text/plain": [
       "<abc 0.9 ± 0.01: 3/10, bac 0.9 ± 0.01: 3/10, c>a~b: 2/5> (Condorcet winner: a, b)"
      ]
     },
     "execution_count": 2,
     "metadata": {},
     "output_type": "execute_result"
    }
   ],
   "source": [
    "profile = pa.ProfileNoisyDiscrete({\n",
    "    ('abc', 0.9, 0.01): Fraction(3, 10), \n",
    "    ('bac', 0.9, 0.01): Fraction(3, 10), \n",
    "    'c>a~b': Fraction(4, 10)\n",
    "})\n",
    "profile"
   ]
  },
  {
   "cell_type": "markdown",
   "metadata": {},
   "source": [
    "Which rankings are in the profile?"
   ]
  },
  {
   "cell_type": "code",
   "execution_count": 3,
   "metadata": {
    "ExecuteTime": {
     "end_time": "2020-03-12T17:48:38.961214Z",
     "start_time": "2020-03-12T17:48:38.948209Z"
    }
   },
   "outputs": [
    {
     "data": {
      "text/plain": [
       "{abc, bac}"
      ]
     },
     "execution_count": 3,
     "metadata": {},
     "output_type": "execute_result"
    }
   ],
   "source": [
    "profile.support_in_rankings"
   ]
  },
  {
   "cell_type": "markdown",
   "metadata": {},
   "source": [
    "Which weak orders are in the profile?"
   ]
  },
  {
   "cell_type": "code",
   "execution_count": 4,
   "metadata": {
    "ExecuteTime": {
     "end_time": "2020-03-12T17:48:38.973180Z",
     "start_time": "2020-03-12T17:48:38.963171Z"
    }
   },
   "outputs": [
    {
     "data": {
      "text/plain": [
       "{c>a~b}"
      ]
     },
     "execution_count": 4,
     "metadata": {},
     "output_type": "execute_result"
    }
   ],
   "source": [
    "profile.support_in_weak_orders"
   ]
  },
  {
   "cell_type": "markdown",
   "metadata": {},
   "source": [
    "Does the profile contain rankings?"
   ]
  },
  {
   "cell_type": "code",
   "execution_count": 5,
   "metadata": {
    "ExecuteTime": {
     "end_time": "2020-03-12T17:48:38.984114Z",
     "start_time": "2020-03-12T17:48:38.974139Z"
    }
   },
   "outputs": [
    {
     "data": {
      "text/plain": [
       "True"
      ]
     },
     "execution_count": 5,
     "metadata": {},
     "output_type": "execute_result"
    }
   ],
   "source": [
    "profile.contains_rankings"
   ]
  },
  {
   "cell_type": "markdown",
   "metadata": {},
   "source": [
    "Does the profile contain weak orders?"
   ]
  },
  {
   "cell_type": "code",
   "execution_count": 6,
   "metadata": {
    "ExecuteTime": {
     "end_time": "2020-03-12T17:48:38.996081Z",
     "start_time": "2020-03-12T17:48:38.987148Z"
    }
   },
   "outputs": [
    {
     "data": {
      "text/plain": [
       "True"
      ]
     },
     "execution_count": 6,
     "metadata": {},
     "output_type": "execute_result"
    }
   ],
   "source": [
    "profile.contains_weak_orders"
   ]
  },
  {
   "cell_type": "markdown",
   "metadata": {},
   "source": [
    "## Expressive voters"
   ]
  },
  {
   "cell_type": "markdown",
   "metadata": {},
   "source": [
    "Two kinds of expressive voters are defined:\n",
    "\n",
    "* *Sincere* voters vote for their top candidate anyway, and vote for their second candidate if and only if their utility for her is strictly greater than 0.5.\n",
    "* *Fanatic* voters always vote for their top candidate only."
   ]
  },
  {
   "cell_type": "markdown",
   "metadata": {},
   "source": [
    "Define a profile with some sincere and some fanatic voters:"
   ]
  },
  {
   "cell_type": "code",
   "execution_count": 7,
   "metadata": {
    "ExecuteTime": {
     "end_time": "2020-03-12T17:48:39.008083Z",
     "start_time": "2020-03-12T17:48:38.997079Z"
    }
   },
   "outputs": [
    {
     "data": {
      "text/plain": [
       "<abc 0.4 ± 0.01: 1/10, bac 0.2 ± 0.01: 3/5, cab 0.7 ± 0.01: 3/10> (Condorcet winner: b) (ratio_sincere: 1/100) (ratio_fanatic: 1/50)"
      ]
     },
     "execution_count": 7,
     "metadata": {},
     "output_type": "execute_result"
    }
   ],
   "source": [
    "profile = pa.ProfileNoisyDiscrete({\n",
    "    ('abc', 0.4, 0.01): Fraction(1, 10),\n",
    "    ('bac', 0.2, 0.01): Fraction(6, 10),\n",
    "    ('cab', 0.7, 0.01): Fraction(3, 10)\n",
    "}, ratio_sincere=Fraction(1, 100), ratio_fanatic=Fraction(2, 100))\n",
    "profile"
   ]
  },
  {
   "cell_type": "markdown",
   "metadata": {},
   "source": [
    "In the example above, in all groups, a fraction 1/100 of the voters vote sincerely, and a fraction 2/100 vote fanatically. For example, let us define a strategy:"
   ]
  },
  {
   "cell_type": "code",
   "execution_count": 8,
   "metadata": {
    "ExecuteTime": {
     "end_time": "2020-03-12T17:48:39.022051Z",
     "start_time": "2020-03-12T17:48:39.010046Z"
    }
   },
   "outputs": [
    {
     "data": {
      "text/plain": [
       "<abc: a, bac: ab, cab: c>"
      ]
     },
     "execution_count": 8,
     "metadata": {},
     "output_type": "execute_result"
    }
   ],
   "source": [
    "strategy = pa.StrategyOrdinal({'abc': 'a', 'bac': 'ab', 'cab': 'c'})\n",
    "strategy"
   ]
  },
  {
   "cell_type": "markdown",
   "metadata": {},
   "source": [
    "If we apply this strategy to the profile, what happens?"
   ]
  },
  {
   "cell_type": "code",
   "execution_count": 9,
   "metadata": {
    "ExecuteTime": {
     "end_time": "2020-03-12T17:48:39.033981Z",
     "start_time": "2020-03-12T17:48:39.024005Z"
    }
   },
   "outputs": [
    {
     "data": {
      "text/plain": [
       "<a: 1/10, ab: 291/500, ac: 3/1000, b: 9/500, c: 297/1000> ==> a"
      ]
     },
     "execution_count": 9,
     "metadata": {},
     "output_type": "execute_result"
    }
   ],
   "source": [
    "profile.tau(strategy)"
   ]
  },
  {
   "cell_type": "markdown",
   "metadata": {},
   "source": [
    "Out of the 3/10 of voters of the group $(cab, 0.7, 0.01)$:\n",
    "\n",
    "* 1/100 of them, i.e. 3/1000, are sincere and vote for $ac$,\n",
    "* 2/100 of them, i.e. 6/1000, are fanatic and vote for $c$,\n",
    "* The rest of them, i.e. 291/1000, apply the given strategy and vote for $c$.\n",
    "\n",
    "In total, 3/1000 vote for $ac$ and 297/1000 vote for $c$."
   ]
  },
  {
   "cell_type": "markdown",
   "metadata": {},
   "source": [
    "The analyzed strategies take this behavior into account:"
   ]
  },
  {
   "cell_type": "code",
   "execution_count": 10,
   "metadata": {
    "ExecuteTime": {
     "end_time": "2020-03-12T17:48:39.070919Z",
     "start_time": "2020-03-12T17:48:39.037969Z"
    }
   },
   "outputs": [
    {
     "data": {
      "text/plain": [
       "Equilibrium:\n",
       "<abc: a, bac: b, cab: ac> ==> b (FF)\n",
       "\n",
       "Non-equilibria:\n",
       "<abc: a, bac: b, cab: c> ==> b (FF)\n",
       "<abc: a, bac: ab, cab: c> ==> a (D)\n",
       "<abc: a, bac: ab, cab: ac> ==> a (D)\n",
       "<abc: ab, bac: b, cab: c> ==> b (FF)\n",
       "<abc: ab, bac: b, cab: ac> ==> b (FF)\n",
       "<abc: ab, bac: ab, cab: c> ==> b (D)\n",
       "<abc: ab, bac: ab, cab: ac> ==> a (D)"
      ]
     },
     "execution_count": 10,
     "metadata": {},
     "output_type": "execute_result"
    }
   ],
   "source": [
    "profile.analyzed_strategies_ordinal"
   ]
  },
  {
   "cell_type": "markdown",
   "metadata": {},
   "source": [
    "Note that without expressive voters, the equilibria are different:"
   ]
  },
  {
   "cell_type": "code",
   "execution_count": 11,
   "metadata": {
    "ExecuteTime": {
     "end_time": "2020-03-12T17:48:39.103793Z",
     "start_time": "2020-03-12T17:48:39.072877Z"
    }
   },
   "outputs": [
    {
     "data": {
      "text/plain": [
       "Equilibria:\n",
       "<abc: a, bac: b, cab: ac> ==> b (FF)\n",
       "<abc: a, bac: ab, cab: c> ==> a (D)\n",
       "\n",
       "Non-equilibria:\n",
       "<abc: a, bac: b, cab: c> ==> b (FF)\n",
       "<abc: a, bac: ab, cab: ac> ==> a (D)\n",
       "<abc: ab, bac: b, cab: c> ==> b (FF)\n",
       "<abc: ab, bac: b, cab: ac> ==> b (FF)\n",
       "<abc: ab, bac: ab, cab: c> ==> a, b (FF)\n",
       "<abc: ab, bac: ab, cab: ac> ==> a (D)"
      ]
     },
     "execution_count": 11,
     "metadata": {},
     "output_type": "execute_result"
    }
   ],
   "source": [
    "profile = pa.ProfileNoisyDiscrete({\n",
    "    ('abc', 0.4, 0.01): Fraction(1, 10),\n",
    "    ('bac', 0.2, 0.01): Fraction(6, 10),\n",
    "    ('cab', 0.7, 0.01): Fraction(3, 10)\n",
    "})\n",
    "profile.analyzed_strategies_ordinal"
   ]
  },
  {
   "cell_type": "markdown",
   "metadata": {},
   "source": [
    "## Other Voting Rules: Plurality and Anti-Plurality"
   ]
  },
  {
   "cell_type": "markdown",
   "metadata": {},
   "source": [
    "In addition to Approval, the package also implements Plurality and Anti-plurality."
   ]
  },
  {
   "cell_type": "markdown",
   "metadata": {},
   "source": [
    "For Plurality, you just need to specify ``voting_rule=pa.PLURALITY`` when you define a Profile or a Strategy:"
   ]
  },
  {
   "cell_type": "code",
   "execution_count": 12,
   "metadata": {
    "ExecuteTime": {
     "end_time": "2020-03-12T17:48:39.111773Z",
     "start_time": "2020-03-12T17:48:39.105787Z"
    }
   },
   "outputs": [
    {
     "data": {
      "text/plain": [
       "<abc 0.4 ± 0.01: 1/10, bac 0.2 ± 0.01: 3/5, cab 0.7 ± 0.01: 3/10> (Condorcet winner: b) (Plurality)"
      ]
     },
     "execution_count": 12,
     "metadata": {},
     "output_type": "execute_result"
    }
   ],
   "source": [
    "profile = pa.ProfileNoisyDiscrete({\n",
    "    ('abc', 0.4, 0.01): Fraction(1, 10),\n",
    "    ('bac', 0.2, 0.01): Fraction(6, 10),\n",
    "    ('cab', 0.7, 0.01): Fraction(3, 10)\n",
    "}, voting_rule=pa.PLURALITY)\n",
    "profile"
   ]
  },
  {
   "cell_type": "code",
   "execution_count": 13,
   "metadata": {
    "ExecuteTime": {
     "end_time": "2020-03-12T17:48:39.123739Z",
     "start_time": "2020-03-12T17:48:39.113766Z"
    }
   },
   "outputs": [
    {
     "data": {
      "text/plain": [
       "<abc: a, bac: b, cab: a> (Plurality)"
      ]
     },
     "execution_count": 13,
     "metadata": {},
     "output_type": "execute_result"
    }
   ],
   "source": [
    "strategy = pa.StrategyOrdinal({'abc': 'a', 'bac': 'b', 'cab': 'a'}, voting_rule=pa.PLURALITY)\n",
    "strategy"
   ]
  },
  {
   "cell_type": "markdown",
   "metadata": {},
   "source": [
    "Note that if you define a strategy with an attached profile, you do not need to specify the voting rule again because it is deduced from the one of the profile:"
   ]
  },
  {
   "cell_type": "code",
   "execution_count": 14,
   "metadata": {
    "ExecuteTime": {
     "end_time": "2020-03-12T17:48:39.135709Z",
     "start_time": "2020-03-12T17:48:39.125733Z"
    }
   },
   "outputs": [
    {
     "data": {
      "text/plain": [
       "<abc: a, bac: b, cab: a> ==> b (Plurality)"
      ]
     },
     "execution_count": 14,
     "metadata": {},
     "output_type": "execute_result"
    }
   ],
   "source": [
    "strategy = pa.StrategyOrdinal({'abc': 'a', 'bac': 'b', 'cab': 'a'}, profile=profile)\n",
    "strategy"
   ]
  },
  {
   "cell_type": "markdown",
   "metadata": {},
   "source": [
    "All the other features work as usual. For example:"
   ]
  },
  {
   "cell_type": "code",
   "execution_count": 15,
   "metadata": {
    "ExecuteTime": {
     "end_time": "2020-03-12T17:48:39.160686Z",
     "start_time": "2020-03-12T17:48:39.137710Z"
    }
   },
   "outputs": [
    {
     "data": {
      "text/plain": [
       "Equilibria:\n",
       "<abc: a, bac: b, cab: a> ==> b (Plurality) (FF)\n",
       "<abc: a, bac: a, cab: c> ==> a (Plurality) (FF)\n",
       "<abc: b, bac: b, cab: c> ==> b (Plurality) (FF)\n",
       "\n",
       "Non-equilibria:\n",
       "<abc: a, bac: b, cab: c> ==> b (Plurality) (FF)\n",
       "<abc: a, bac: a, cab: a> ==> a (Plurality) (UF)\n",
       "<abc: b, bac: b, cab: a> ==> b (Plurality) (FF)\n",
       "<abc: b, bac: a, cab: c> ==> a (Plurality) (FF)\n",
       "<abc: b, bac: a, cab: a> ==> a (Plurality) (FF)"
      ]
     },
     "execution_count": 15,
     "metadata": {},
     "output_type": "execute_result"
    }
   ],
   "source": [
    "profile.analyzed_strategies_ordinal"
   ]
  },
  {
   "cell_type": "markdown",
   "metadata": {},
   "source": [
    "Similarly, there exists an option ``voting_rule=pa.ANTI_PLURALITY``. Since this package is focused on Approval, the anti-plurality ballots are represented by their approval counterpart: for example, a ballot against candidate $c$ is represented by $ab$."
   ]
  },
  {
   "cell_type": "code",
   "execution_count": 16,
   "metadata": {
    "ExecuteTime": {
     "end_time": "2020-03-12T17:48:39.174603Z",
     "start_time": "2020-03-12T17:48:39.161637Z"
    }
   },
   "outputs": [
    {
     "data": {
      "text/plain": [
       "<abc 0.4 ± 0.01: 1/10, bac 0.2 ± 0.01: 3/5, cab 0.7 ± 0.01: 3/10> (Condorcet winner: b) (Anti-plurality)"
      ]
     },
     "execution_count": 16,
     "metadata": {},
     "output_type": "execute_result"
    }
   ],
   "source": [
    "profile = pa.ProfileNoisyDiscrete({\n",
    "    ('abc', 0.4, 0.01): Fraction(1, 10),\n",
    "    ('bac', 0.2, 0.01): Fraction(6, 10),\n",
    "    ('cab', 0.7, 0.01): Fraction(3, 10)\n",
    "}, voting_rule=pa.ANTI_PLURALITY)\n",
    "profile"
   ]
  },
  {
   "cell_type": "code",
   "execution_count": 17,
   "metadata": {
    "ExecuteTime": {
     "end_time": "2020-03-12T17:48:39.187570Z",
     "start_time": "2020-03-12T17:48:39.175600Z"
    }
   },
   "outputs": [
    {
     "data": {
      "text/plain": [
       "<abc: ab, bac: ab, cab: ac> ==> a (Anti-plurality)"
      ]
     },
     "execution_count": 17,
     "metadata": {},
     "output_type": "execute_result"
    }
   ],
   "source": [
    "strategy = pa.StrategyOrdinal({'abc': 'ab', 'bac': 'ab', 'cab': 'ac'}, profile=profile)\n",
    "strategy"
   ]
  },
  {
   "cell_type": "code",
   "execution_count": 18,
   "metadata": {
    "ExecuteTime": {
     "end_time": "2020-03-12T17:48:39.197541Z",
     "start_time": "2020-03-12T17:48:39.189563Z"
    }
   },
   "outputs": [
    {
     "data": {
      "text/plain": [
       "EquilibriumStatus.NOT_EQUILIBRIUM"
      ]
     },
     "execution_count": 18,
     "metadata": {},
     "output_type": "execute_result"
    }
   ],
   "source": [
    "strategy.is_equilibrium"
   ]
  }
 ],
 "metadata": {
  "kernelspec": {
   "display_name": "Python 3",
   "language": "python",
   "name": "python3"
  },
  "language_info": {
   "codemirror_mode": {
    "name": "ipython",
    "version": 3
   },
   "file_extension": ".py",
   "mimetype": "text/x-python",
   "name": "python",
   "nbconvert_exporter": "python",
   "pygments_lexer": "ipython3",
   "version": "3.7.3"
  },
  "toc": {
   "base_numbering": 1,
   "nav_menu": {},
   "number_sections": false,
   "sideBar": true,
   "skip_h1_title": true,
   "title_cell": "Table of Contents",
   "title_sidebar": "Contents",
   "toc_cell": false,
   "toc_position": {},
   "toc_section_display": true,
   "toc_window_display": false
  }
 },
 "nbformat": 4,
 "nbformat_minor": 2
}
