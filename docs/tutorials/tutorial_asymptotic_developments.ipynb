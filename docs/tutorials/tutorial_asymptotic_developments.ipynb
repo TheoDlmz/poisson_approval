{
 "cells": [
  {
   "cell_type": "markdown",
   "metadata": {},
   "source": [
    "# Tutorial on Asymptotic Developments"
   ]
  },
  {
   "cell_type": "code",
   "execution_count": 1,
   "metadata": {
    "ExecuteTime": {
     "end_time": "2020-03-12T18:19:09.301041Z",
     "start_time": "2020-03-12T18:19:07.689280Z"
    }
   },
   "outputs": [],
   "source": [
    "from math import log, pi\n",
    "import poisson_approval as pa"
   ]
  },
  {
   "cell_type": "markdown",
   "metadata": {},
   "source": [
    "Asymptotic developments are mostly used internally by *Poisson Approval* in order to compute pivot events and best responses. However, they can also be used directly."
   ]
  },
  {
   "cell_type": "markdown",
   "metadata": {},
   "source": [
    "Define an asymptotic developement (manually):"
   ]
  },
  {
   "cell_type": "code",
   "execution_count": 2,
   "metadata": {
    "ExecuteTime": {
     "end_time": "2020-03-12T18:19:09.308992Z",
     "start_time": "2020-03-12T18:19:09.303001Z"
    }
   },
   "outputs": [
    {
     "data": {
      "text/plain": [
       "exp(- 0.111111 n - 0.5 log n - 0.513473 + o(1))"
      ]
     },
     "execution_count": 2,
     "metadata": {},
     "output_type": "execute_result"
    }
   ],
   "source": [
    "asymptotic = pa.Asymptotic(mu=-1 / 9, nu=-1 / 2, xi=-1 / 2 * log(8 * pi / 9))\n",
    "asymptotic"
   ]
  },
  {
   "cell_type": "markdown",
   "metadata": {},
   "source": [
    "Access its coefficients:"
   ]
  },
  {
   "cell_type": "code",
   "execution_count": 3,
   "metadata": {
    "ExecuteTime": {
     "end_time": "2020-03-12T18:19:09.324911Z",
     "start_time": "2020-03-12T18:19:09.310950Z"
    }
   },
   "outputs": [
    {
     "data": {
      "text/plain": [
       "-0.1111111111111111"
      ]
     },
     "execution_count": 3,
     "metadata": {},
     "output_type": "execute_result"
    }
   ],
   "source": [
    "asymptotic.mu"
   ]
  },
  {
   "cell_type": "code",
   "execution_count": 4,
   "metadata": {
    "ExecuteTime": {
     "end_time": "2020-03-12T18:19:09.333927Z",
     "start_time": "2020-03-12T18:19:09.325911Z"
    }
   },
   "outputs": [
    {
     "data": {
      "text/plain": [
       "-0.5"
      ]
     },
     "execution_count": 4,
     "metadata": {},
     "output_type": "execute_result"
    }
   ],
   "source": [
    "asymptotic.nu"
   ]
  },
  {
   "cell_type": "code",
   "execution_count": 5,
   "metadata": {
    "ExecuteTime": {
     "end_time": "2020-03-12T18:19:09.343861Z",
     "start_time": "2020-03-12T18:19:09.335883Z"
    }
   },
   "outputs": [
    {
     "data": {
      "text/plain": [
       "-0.5134734250965083"
      ]
     },
     "execution_count": 5,
     "metadata": {},
     "output_type": "execute_result"
    }
   ],
   "source": [
    "asymptotic.xi"
   ]
  },
  {
   "cell_type": "markdown",
   "metadata": {},
   "source": [
    "Multiply or add two asymptotic developments:"
   ]
  },
  {
   "cell_type": "code",
   "execution_count": 6,
   "metadata": {
    "ExecuteTime": {
     "end_time": "2020-03-12T18:19:09.355829Z",
     "start_time": "2020-03-12T18:19:09.345862Z"
    }
   },
   "outputs": [
    {
     "data": {
      "text/plain": [
       "exp(- 0.5 n - log n - 1 + o(1))"
      ]
     },
     "execution_count": 6,
     "metadata": {},
     "output_type": "execute_result"
    }
   ],
   "source": [
    "asymptotic2 = pa.Asymptotic(mu=-1 / 2, nu=-1, xi=-1)\n",
    "asymptotic2"
   ]
  },
  {
   "cell_type": "code",
   "execution_count": 7,
   "metadata": {
    "ExecuteTime": {
     "end_time": "2020-03-12T18:19:09.366800Z",
     "start_time": "2020-03-12T18:19:09.356829Z"
    }
   },
   "outputs": [
    {
     "data": {
      "text/plain": [
       "exp(- 0.611111 n - 1.5 log n - 1.51347 + o(1))"
      ]
     },
     "execution_count": 7,
     "metadata": {},
     "output_type": "execute_result"
    }
   ],
   "source": [
    "asymptotic * asymptotic2"
   ]
  },
  {
   "cell_type": "code",
   "execution_count": 8,
   "metadata": {
    "ExecuteTime": {
     "end_time": "2020-03-12T18:19:09.376779Z",
     "start_time": "2020-03-12T18:19:09.368795Z"
    }
   },
   "outputs": [
    {
     "data": {
      "text/plain": [
       "exp(- 0.111111 n - 0.5 log n - 0.513473 + o(1))"
      ]
     },
     "execution_count": 8,
     "metadata": {},
     "output_type": "execute_result"
    }
   ],
   "source": [
    "asymptotic + asymptotic2"
   ]
  },
  {
   "cell_type": "markdown",
   "metadata": {},
   "source": [
    "We now consider two random variables $X_1 \\sim \\text{Poisson}(\\tau_1 n)$ and $X_2 \\sim \\text{Poisson}(\\tau_2 n)$."
   ]
  },
  {
   "cell_type": "code",
   "execution_count": 9,
   "metadata": {
    "ExecuteTime": {
     "end_time": "2020-03-12T18:19:09.391737Z",
     "start_time": "2020-03-12T18:19:09.379765Z"
    }
   },
   "outputs": [
    {
     "name": "stdout",
     "output_type": "stream",
     "text": [
      "P(X_1 = 0) =  exp(- 0.111111 n + o(1))\n",
      "P(X_1 = X_2)  = exp(- 0.371461 n - 0.5 log n - 0.68676 + o(1))\n",
      "P(X_1 = X_2 + 1)  = exp(- 0.371461 n - 0.5 log n - 1.72648 + o(1))\n",
      "P(X_1 >= X_2) = exp(- 0.371461 n - 0.5 log n - 0.250496 + o(1))\n",
      "P(X_1 > X_2)  = exp(- 0.371461 n - 0.5 log n - 1.29022 + o(1))\n",
      "P(X_1 > X_2 + 1)  = exp(- 0.371461 n - 0.5 log n - 2.32994 + o(1))\n"
     ]
    }
   ],
   "source": [
    "tau_1, tau_2 = 1 / 9, 8 / 9\n",
    "print('P(X_1 = 0) = ', pa.Asymptotic.poisson_value(tau_1, 0))\n",
    "print('P(X_1 = X_2)  =', pa.Asymptotic.poisson_eq(tau_1, tau_2))\n",
    "print('P(X_1 = X_2 + 1)  =', pa.Asymptotic.poisson_one_more(tau_1, tau_2))\n",
    "print('P(X_1 >= X_2) =', pa.Asymptotic.poisson_ge(tau_1, tau_2))\n",
    "print('P(X_1 > X_2)  =', pa.Asymptotic.poisson_gt(tau_1, tau_2))\n",
    "print('P(X_1 > X_2 + 1)  =', pa.Asymptotic.poisson_gt_one_more(tau_1, tau_2))"
   ]
  },
  {
   "cell_type": "markdown",
   "metadata": {},
   "source": [
    "Like profiles and tau-vectors, asymptotic developments accept the parameter ``symbolic=True``:"
   ]
  },
  {
   "cell_type": "code",
   "execution_count": 10,
   "metadata": {
    "ExecuteTime": {
     "end_time": "2020-03-12T18:19:09.939269Z",
     "start_time": "2020-03-12T18:19:09.393728Z"
    }
   },
   "outputs": [
    {
     "name": "stdout",
     "output_type": "stream",
     "text": [
      "P(X_1 = 0) =  exp(- n/9 + o(1))\n",
      "P(X_1 = X_2)  = exp(n*(-1 + 4*sqrt(2)/9) - log(n)/2 - 7*log(2)/4 - log(pi)/2 + log(3) + o(1))\n",
      "P(X_1 = X_2 + 1)  = exp(n*(-1 + 4*sqrt(2)/9) - log(n)/2 - 13*log(2)/4 - log(pi)/2 + log(3) + o(1))\n",
      "P(X_1 >= X_2) = exp(n*(-1 + 4*sqrt(2)/9) - log(n)/2 + log(3*2**(1/4)/(4*sqrt(pi)*(1 - sqrt(2)/4))) + o(1))\n",
      "P(X_1 > X_2)  = exp(n*(-1 + 4*sqrt(2)/9) - log(n)/2 + log(3*2**(3/4)/(16*sqrt(pi)*(1 - sqrt(2)/4))) + o(1))\n",
      "P(X_1 > X_2 + 1)  = exp(n*(-1 + 4*sqrt(2)/9) - log(n)/2 + log(3*2**(1/4)/(32*sqrt(pi)*(1 - sqrt(2)/4))) + o(1))\n"
     ]
    }
   ],
   "source": [
    "from fractions import Fraction\n",
    "tau_1 = Fraction(1, 9)\n",
    "tau_2 = Fraction(8, 9)\n",
    "print('P(X_1 = 0) = ', pa.Asymptotic.poisson_value(tau_1, 0, symbolic=True))\n",
    "print('P(X_1 = X_2)  =', pa.Asymptotic.poisson_eq(tau_1, tau_2, symbolic=True))\n",
    "print('P(X_1 = X_2 + 1)  =', pa.Asymptotic.poisson_one_more(tau_1, tau_2, symbolic=True))\n",
    "print('P(X_1 >= X_2) =', pa.Asymptotic.poisson_ge(tau_1, tau_2, symbolic=True))\n",
    "print('P(X_1 > X_2)  =', pa.Asymptotic.poisson_gt(tau_1, tau_2, symbolic=True))\n",
    "print('P(X_1 > X_2 + 1)  =', pa.Asymptotic.poisson_gt_one_more(tau_1, tau_2, symbolic=True))"
   ]
  }
 ],
 "metadata": {
  "kernelspec": {
   "display_name": "Python 3",
   "language": "python",
   "name": "python3"
  },
  "language_info": {
   "codemirror_mode": {
    "name": "ipython",
    "version": 3
   },
   "file_extension": ".py",
   "mimetype": "text/x-python",
   "name": "python",
   "nbconvert_exporter": "python",
   "pygments_lexer": "ipython3",
   "version": "3.7.3"
  },
  "toc": {
   "base_numbering": 1,
   "nav_menu": {},
   "number_sections": false,
   "sideBar": true,
   "skip_h1_title": true,
   "title_cell": "Table of Contents",
   "title_sidebar": "Contents",
   "toc_cell": false,
   "toc_position": {},
   "toc_section_display": true,
   "toc_window_display": false
  }
 },
 "nbformat": 4,
 "nbformat_minor": 2
}
