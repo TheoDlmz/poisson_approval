{
 "cells": [
  {
   "cell_type": "markdown",
   "metadata": {},
   "source": [
    "# Tutorial on Mass Simulations"
   ]
  },
  {
   "cell_type": "code",
   "execution_count": 1,
   "metadata": {
    "ExecuteTime": {
     "end_time": "2020-02-20T05:46:51.679306Z",
     "start_time": "2020-02-20T05:46:51.117828Z"
    }
   },
   "outputs": [],
   "source": [
    "from matplotlib import pyplot as plt\n",
    "import poisson_approval as pa"
   ]
  },
  {
   "cell_type": "markdown",
   "metadata": {},
   "source": [
    "## Probability Estimation"
   ]
  },
  {
   "cell_type": "markdown",
   "metadata": {},
   "source": [
    "Probability that a TauVector drawn uniformly at random has a direct focus:"
   ]
  },
  {
   "cell_type": "code",
   "execution_count": 2,
   "metadata": {
    "ExecuteTime": {
     "end_time": "2020-02-20T05:46:51.685291Z",
     "start_time": "2020-02-20T05:46:51.681302Z"
    }
   },
   "outputs": [],
   "source": [
    "def test_direct_focus(tau):\n",
    "    return tau.focus == pa.Focus.DIRECT"
   ]
  },
  {
   "cell_type": "code",
   "execution_count": 3,
   "metadata": {
    "ExecuteTime": {
     "end_time": "2020-02-20T05:46:51.774053Z",
     "start_time": "2020-02-20T05:46:51.687285Z"
    }
   },
   "outputs": [
    {
     "data": {
      "text/plain": [
       "0.56"
      ]
     },
     "execution_count": 3,
     "metadata": {},
     "output_type": "execute_result"
    }
   ],
   "source": [
    "pa.probability(\n",
    "    generator=pa.GeneratorTauVectorUniform(),\n",
    "    n_samples=100,\n",
    "    test=test_direct_focus\n",
    ")"
   ]
  },
  {
   "cell_type": "markdown",
   "metadata": {},
   "source": [
    "To avoid the definition of an auxiliary function, you can use a \"lambda\". For example:"
   ]
  },
  {
   "cell_type": "code",
   "execution_count": 4,
   "metadata": {
    "ExecuteTime": {
     "end_time": "2020-02-20T05:46:51.865809Z",
     "start_time": "2020-02-20T05:46:51.776048Z"
    }
   },
   "outputs": [
    {
     "data": {
      "text/plain": [
       "0.53"
      ]
     },
     "execution_count": 4,
     "metadata": {},
     "output_type": "execute_result"
    }
   ],
   "source": [
    "pa.probability(\n",
    "    generator=pa.GeneratorTauVectorUniform(),\n",
    "    n_samples=100,\n",
    "    test=lambda tau: tau.focus == pa.Focus.DIRECT\n",
    ")"
   ]
  },
  {
   "cell_type": "markdown",
   "metadata": {
    "ExecuteTime": {
     "end_time": "2020-01-03T06:55:13.021088Z",
     "start_time": "2020-01-03T06:55:13.016102Z"
    }
   },
   "source": [
    "Probability that a ProfileOrdinal drawn uniformly at random has a direct equilibrium, conditionally on having a strict Condorcet winner:"
   ]
  },
  {
   "cell_type": "code",
   "execution_count": 5,
   "metadata": {
    "ExecuteTime": {
     "end_time": "2020-02-20T05:46:51.871792Z",
     "start_time": "2020-02-20T05:46:51.867803Z"
    }
   },
   "outputs": [],
   "source": [
    "def test_exists_direct_equilibrium(profile):\n",
    "    return len(profile.analyzed_strategies.equilibria) > 0"
   ]
  },
  {
   "cell_type": "code",
   "execution_count": 6,
   "metadata": {
    "ExecuteTime": {
     "end_time": "2020-02-20T05:46:51.881765Z",
     "start_time": "2020-02-20T05:46:51.873788Z"
    }
   },
   "outputs": [],
   "source": [
    "def test_is_strictly_condorcet(profile):\n",
    "    return profile.is_profile_condorcet == 1.0"
   ]
  },
  {
   "cell_type": "code",
   "execution_count": 7,
   "metadata": {
    "ExecuteTime": {
     "end_time": "2020-02-20T05:46:55.701593Z",
     "start_time": "2020-02-20T05:46:51.883760Z"
    }
   },
   "outputs": [
    {
     "data": {
      "text/plain": [
       "0.22"
      ]
     },
     "execution_count": 7,
     "metadata": {},
     "output_type": "execute_result"
    }
   ],
   "source": [
    "pa.probability(\n",
    "    generator=pa.GeneratorProfileOrdinalUniform(),\n",
    "    n_samples=100,\n",
    "    test=test_exists_direct_equilibrium,\n",
    "    conditional_on=test_is_strictly_condorcet\n",
    ")"
   ]
  },
  {
   "cell_type": "markdown",
   "metadata": {},
   "source": [
    "Probability that a random StrategyOrdinal is an equilibrium for a random ProfileOrdinal, conditionally on the fact that the profile has a strict Condorcet winner and that the initial strategy elects the Condorcet winner:"
   ]
  },
  {
   "cell_type": "code",
   "execution_count": 8,
   "metadata": {
    "ExecuteTime": {
     "end_time": "2020-02-20T05:46:55.707581Z",
     "start_time": "2020-02-20T05:46:55.703549Z"
    }
   },
   "outputs": [],
   "source": [
    "def test_is_equilibrium(profile, strategy):\n",
    "    return profile.is_equilibrium(strategy) == pa.EquilibriumStatus.EQUILIBRIUM"
   ]
  },
  {
   "cell_type": "code",
   "execution_count": 9,
   "metadata": {
    "ExecuteTime": {
     "end_time": "2020-02-20T05:46:55.722500Z",
     "start_time": "2020-02-20T05:46:55.709534Z"
    }
   },
   "outputs": [],
   "source": [
    "def test_elect_condorcet_winner(profile, strategy):\n",
    "    return (profile.is_profile_condorcet == 1. \n",
    "            and profile.tau(strategy).winners == profile.condorcet_winners)"
   ]
  },
  {
   "cell_type": "code",
   "execution_count": 10,
   "metadata": {
    "ExecuteTime": {
     "end_time": "2020-02-20T05:46:56.756771Z",
     "start_time": "2020-02-20T05:46:55.723495Z"
    }
   },
   "outputs": [
    {
     "data": {
      "text/plain": [
       "0.004"
      ]
     },
     "execution_count": 10,
     "metadata": {},
     "output_type": "execute_result"
    }
   ],
   "source": [
    "pa.probability(\n",
    "    generator=(pa.GeneratorProfileOrdinalUniform(), \n",
    "               pa.GeneratorStrategyOrdinalUniform()),\n",
    "    n_samples=1000,\n",
    "    test=test_is_equilibrium,\n",
    "    conditional_on=test_elect_condorcet_winner\n",
    ")"
   ]
  },
  {
   "cell_type": "markdown",
   "metadata": {},
   "source": [
    "## Find an Example"
   ]
  },
  {
   "cell_type": "markdown",
   "metadata": {},
   "source": [
    "An example of TauVector with a direct focus:"
   ]
  },
  {
   "cell_type": "code",
   "execution_count": 11,
   "metadata": {
    "ExecuteTime": {
     "end_time": "2020-02-20T05:46:56.760766Z",
     "start_time": "2020-02-20T05:46:56.757731Z"
    }
   },
   "outputs": [],
   "source": [
    "def test_direct_focus(tau):\n",
    "    return tau.focus == pa.Focus.DIRECT"
   ]
  },
  {
   "cell_type": "code",
   "execution_count": 12,
   "metadata": {
    "ExecuteTime": {
     "end_time": "2020-02-20T05:46:56.781675Z",
     "start_time": "2020-02-20T05:46:56.761722Z"
    }
   },
   "outputs": [
    {
     "data": {
      "text/plain": [
       "<a: 9/100, ab: 33/100, ac: 41/100, b: 2/25, bc: 3/50, c: 3/100> ==> a"
      ]
     },
     "execution_count": 12,
     "metadata": {},
     "output_type": "execute_result"
    }
   ],
   "source": [
    "generator = pa.GeneratorExample(\n",
    "    generator=pa.GeneratorTauVectorGridUniform(denominator=100),\n",
    "    test=test_direct_focus,\n",
    "    n_trials_max=None\n",
    ")\n",
    "tau = generator()\n",
    "tau"
   ]
  },
  {
   "cell_type": "markdown",
   "metadata": {},
   "source": [
    "An example of ProfileOrdinal and StrategyOrdinal, such that the strategy is an equilibrium for the profile:"
   ]
  },
  {
   "cell_type": "code",
   "execution_count": 13,
   "metadata": {
    "ExecuteTime": {
     "end_time": "2020-02-20T05:46:56.791641Z",
     "start_time": "2020-02-20T05:46:56.783663Z"
    }
   },
   "outputs": [],
   "source": [
    "def test_is_equilibrium(profile, strategy):\n",
    "    return profile.is_equilibrium(strategy) == pa.EquilibriumStatus.EQUILIBRIUM"
   ]
  },
  {
   "cell_type": "code",
   "execution_count": 14,
   "metadata": {
    "ExecuteTime": {
     "end_time": "2020-02-20T05:46:57.339180Z",
     "start_time": "2020-02-20T05:46:56.794632Z"
    }
   },
   "outputs": [
    {
     "name": "stdout",
     "output_type": "stream",
     "text": [
      "<abc: 1/4, acb: 4/25, bca: 7/50, cab: 3/50, cba: 39/100> (Condorcet winner: c)\n",
      "<abc: ab, acb: ac, bac: b, bca: b, cab: c, cba: c>\n"
     ]
    }
   ],
   "source": [
    "generator = pa.GeneratorExample(\n",
    "    generator=(pa.GeneratorProfileOrdinalGridUniform(denominator=100), \n",
    "               pa.GeneratorStrategyOrdinalUniform()),\n",
    "    test=test_is_equilibrium,\n",
    "    n_trials_max=None\n",
    ")\n",
    "profile, strategy = generator()\n",
    "print(profile)\n",
    "print(strategy)"
   ]
  },
  {
   "cell_type": "markdown",
   "metadata": {},
   "source": [
    "## Distribution Estimation"
   ]
  },
  {
   "cell_type": "markdown",
   "metadata": {},
   "source": [
    "When drawing a ProfileHistogram and an initial StrategyThreshold at random, distribution of the length of the cycle to which it converges (cf. ``ProfileHistogram.iterated_voting_taus``):"
   ]
  },
  {
   "cell_type": "code",
   "execution_count": 15,
   "metadata": {
    "ExecuteTime": {
     "end_time": "2020-02-20T05:46:57.345161Z",
     "start_time": "2020-02-20T05:46:57.341171Z"
    }
   },
   "outputs": [],
   "source": [
    "def len_cycle(profile, strategy_ini):\n",
    "    cycle = profile.iterated_voting(init=strategy_ini, n_max_episodes=100)['cycle_taus_actual']\n",
    "    return len(cycle)"
   ]
  },
  {
   "cell_type": "code",
   "execution_count": 16,
   "metadata": {
    "ExecuteTime": {
     "end_time": "2020-02-20T05:46:59.638033Z",
     "start_time": "2020-02-20T05:46:57.348155Z"
    }
   },
   "outputs": [
    {
     "data": {
      "text/plain": [
       "{0: 0.06, 1: 0.52, 2: 0.13, 3: 0.17, 4: 0.07, 5: 0.04, 8: 0.01}"
      ]
     },
     "execution_count": 16,
     "metadata": {},
     "output_type": "execute_result"
    }
   ],
   "source": [
    "d_len_occurrences = pa.image_distribution(\n",
    "    generator=(pa.GeneratorProfileHistogramUniform(n_bins=10), pa.GeneratorStrategyThresholdUniform()),\n",
    "    n_samples=100, f=len_cycle)\n",
    "d_len_occurrences"
   ]
  },
  {
   "cell_type": "code",
   "execution_count": 17,
   "metadata": {
    "ExecuteTime": {
     "end_time": "2020-02-20T05:46:59.808576Z",
     "start_time": "2020-02-20T05:46:59.640028Z"
    }
   },
   "outputs": [
    {
     "data": {
      "text/plain": [
       "<BarContainer object of 7 artists>"
      ]
     },
     "execution_count": 17,
     "metadata": {},
     "output_type": "execute_result"
    },
    {
     "data": {
      "image/png": "[encoded data removed]",
      "text/plain": [
       "<Figure size 432x288 with 1 Axes>"
      ]
     },
     "metadata": {
      "needs_background": "light"
     },
     "output_type": "display_data"
    }
   ],
   "source": [
    "plt.bar(d_len_occurrences.keys(), d_len_occurrences.values())"
   ]
  },
  {
   "cell_type": "markdown",
   "metadata": {},
   "source": [
    "## Grid explorations"
   ]
  },
  {
   "cell_type": "markdown",
   "metadata": {},
   "source": [
    "### ExploreGridProfilesOrdinal"
   ]
  },
  {
   "cell_type": "markdown",
   "metadata": {},
   "source": [
    "Here, we examine all examples with a given denominator in the profile. For example, if $\\textrm{denominator} = 9$, we will examine profiles such as $(1/9, 2/9, 2/9, 1/9, 1/3, 0)$ or $(1/9, 5/9, 0, 3/9, 0, 0)$, etc."
   ]
  },
  {
   "cell_type": "markdown",
   "metadata": {},
   "source": [
    "Beforehand, we may define a test function that indicates what kinds of profiles we want to study. In this example, we restrict to Condorcet profiles that have at least a utility-dependent equilibrium."
   ]
  },
  {
   "cell_type": "code",
   "execution_count": 18,
   "metadata": {
    "ExecuteTime": {
     "end_time": "2020-02-20T05:46:59.814560Z",
     "start_time": "2020-02-20T05:46:59.809573Z"
    }
   },
   "outputs": [],
   "source": [
    "def test_condorcet_with_utility_dependent(profile):\n",
    "    return(\n",
    "        profile.is_profile_condorcet == 1.0\n",
    "        and len(profile.analyzed_strategies.utility_dependent) > 0\n",
    "    )"
   ]
  },
  {
   "cell_type": "markdown",
   "metadata": {},
   "source": [
    "N.B.: as in the example above, it is better to put the fast tests (here, is_profile_condorcet) before the slow tests (here, having no true equilibrium). It speeds up the program significantly."
   ]
  },
  {
   "cell_type": "markdown",
   "metadata": {},
   "source": [
    "Launch the exploration:"
   ]
  },
  {
   "cell_type": "code",
   "execution_count": 19,
   "metadata": {
    "ExecuteTime": {
     "end_time": "2020-02-20T05:46:59.925263Z",
     "start_time": "2020-02-20T05:46:59.816554Z"
    }
   },
   "outputs": [
    {
     "data": {
      "text/plain": [
       "0 equilibrium, 1 utility-dependent equilibrium, 3 non-equilibria\n",
       "<abc: 2/3, cab: 1/3> (Condorcet winner: a)\n",
       "\n",
       "0 equilibrium, 1 utility-dependent equilibrium, 7 non-equilibria\n",
       "<abc: 1/3, acb: 1/3, bac: 1/3> (Condorcet winner: a)\n",
       "\n",
       "0 equilibrium, 2 utility-dependent equilibria, 2 non-equilibria\n",
       "<abc: 2/3, cba: 1/3> (Condorcet winner: a)\n",
       "<abc: 2/3, bca: 1/3> (Condorcet winner: a)\n",
       "\n",
       "0 equilibrium, 3 utility-dependent equilibria, 5 non-equilibria\n",
       "<abc: 1/3, acb: 1/3, bca: 1/3> (Condorcet winner: a)\n",
       "\n",
       "2 equilibria, 1 utility-dependent equilibrium, 5 non-equilibria\n",
       "<abc: 1/3, bac: 1/3, cab: 1/3> (Condorcet winner: a)"
      ]
     },
     "execution_count": 19,
     "metadata": {},
     "output_type": "execute_result"
    }
   ],
   "source": [
    "exploration = pa.ExploreGridProfilesOrdinal(\n",
    "    denominator=3, test=test_condorcet_with_utility_dependent)\n",
    "exploration"
   ]
  },
  {
   "cell_type": "markdown",
   "metadata": {},
   "source": [
    "Access one profile in particular in order to study it:"
   ]
  },
  {
   "cell_type": "code",
   "execution_count": 20,
   "metadata": {
    "ExecuteTime": {
     "end_time": "2020-02-20T05:46:59.933243Z",
     "start_time": "2020-02-20T05:46:59.926261Z"
    }
   },
   "outputs": [
    {
     "data": {
      "text/plain": [
       "<abc: 2/3, cab: 1/3> (Condorcet winner: a)"
      ]
     },
     "execution_count": 20,
     "metadata": {},
     "output_type": "execute_result"
    }
   ],
   "source": [
    "profile = exploration[(0, 1, 3)][0]\n",
    "profile"
   ]
  },
  {
   "cell_type": "markdown",
   "metadata": {},
   "source": [
    "If the test breaks the symmetry between candidates, you should use the option $\\verb|standardized = False|$:"
   ]
  },
  {
   "cell_type": "code",
   "execution_count": 21,
   "metadata": {
    "ExecuteTime": {
     "end_time": "2020-02-20T05:47:00.026033Z",
     "start_time": "2020-02-20T05:46:59.935237Z"
    }
   },
   "outputs": [
    {
     "data": {
      "text/plain": [
       "0 equilibrium, 1 utility-dependent equilibrium, 3 non-equilibria\n",
       "<bac: 1/2, cab: 1/2> (Condorcet winner: a, b, c)\n",
       "<acb: 1/2, cba: 1/2> (Condorcet winner: a, c)\n",
       "<acb: 1/2, bca: 1/2> (Condorcet winner: a, b, c)\n",
       "<acb: 1/2, bac: 1/2> (Condorcet winner: a, b)\n",
       "<abc: 1/2, cba: 1/2> (Condorcet winner: a, b, c)\n",
       "<abc: 1/2, cab: 1/2> (Condorcet winner: a, c)\n",
       "<abc: 1/2, bca: 1/2> (Condorcet winner: a, b)\n",
       "\n",
       "1 equilibrium, 0 utility-dependent equilibrium, 1 non-equilibrium\n",
       "<acb: 1> (Condorcet winner: a)\n",
       "<abc: 1> (Condorcet winner: a)\n",
       "\n",
       "1 equilibrium, 0 utility-dependent equilibrium, 3 non-equilibria\n",
       "<acb: 1/2, cab: 1/2> (Condorcet winner: a, c)\n",
       "<abc: 1/2, bac: 1/2> (Condorcet winner: a, b)\n",
       "<abc: 1/2, acb: 1/2> (Condorcet winner: a)"
      ]
     },
     "execution_count": 21,
     "metadata": {},
     "output_type": "execute_result"
    }
   ],
   "source": [
    "def test_a_is_condorcet_winner(profile):\n",
    "    return 'a' in profile.condorcet_winners\n",
    "exploration = pa.ExploreGridProfilesOrdinal(\n",
    "    test=test_a_is_condorcet_winner, denominator=2, standardized=False)\n",
    "exploration"
   ]
  },
  {
   "cell_type": "markdown",
   "metadata": {},
   "source": [
    "### ExploreGridTaus"
   ]
  },
  {
   "cell_type": "markdown",
   "metadata": {},
   "source": [
    "Define a test and explore:"
   ]
  },
  {
   "cell_type": "code",
   "execution_count": 22,
   "metadata": {
    "ExecuteTime": {
     "end_time": "2020-02-20T05:47:00.108776Z",
     "start_time": "2020-02-20T05:47:00.027991Z"
    }
   },
   "outputs": [
    {
     "data": {
      "text/plain": [
       "<a: 1/3, ab: 1/6, bc: 1/2> ==> b\n",
       "<a: 1/3, b: 1/6, bc: 1/2> ==> b\n",
       "<a: 1/3, ab: 1/6, ac: 1/3, b: 1/6> ==> a\n",
       "<a: 1/3, ac: 1/6, b: 1/3, c: 1/6> ==> a\n",
       "<a: 1/2, ab: 1/3, ac: 1/6> ==> a\n",
       "<a: 1/2, ac: 1/3, b: 1/6> ==> a\n",
       "<a: 1/2, ab: 1/6, b: 1/6, c: 1/6> ==> a"
      ]
     },
     "execution_count": 22,
     "metadata": {},
     "output_type": "execute_result"
    }
   ],
   "source": [
    "def test_direct_focus(tau):\n",
    "    return tau.focus == pa.Focus.DIRECT\n",
    "exploration = pa.ExploreGridTaus(\n",
    "    denominator=6, test=test_direct_focus)\n",
    "exploration"
   ]
  },
  {
   "cell_type": "markdown",
   "metadata": {},
   "source": [
    "Access one tau in particular in order to study it:"
   ]
  },
  {
   "cell_type": "code",
   "execution_count": 23,
   "metadata": {
    "ExecuteTime": {
     "end_time": "2020-02-20T05:47:00.118777Z",
     "start_time": "2020-02-20T05:47:00.112763Z"
    }
   },
   "outputs": [
    {
     "data": {
      "text/plain": [
       "<a: 1/3, ab: 1/6, bc: 1/2> ==> b"
      ]
     },
     "execution_count": 23,
     "metadata": {},
     "output_type": "execute_result"
    }
   ],
   "source": [
    "tau = exploration[0]\n",
    "tau"
   ]
  },
  {
   "cell_type": "markdown",
   "metadata": {},
   "source": [
    "## Meta-Analysis: NiceStatsProfileOrdinal"
   ]
  },
  {
   "cell_type": "markdown",
   "metadata": {},
   "source": [
    "Define a protocol of meta-analysis:\n",
    "\n",
    "(For more detailed information, cf. Reference section.)"
   ]
  },
  {
   "cell_type": "code",
   "execution_count": 24,
   "metadata": {
    "ExecuteTime": {
     "end_time": "2020-02-20T05:47:00.128721Z",
     "start_time": "2020-02-20T05:47:00.120741Z"
    }
   },
   "outputs": [],
   "source": [
    "nice_stats = pa.NiceStatsProfileOrdinal(\n",
    "    tests_profile=[\n",
    "        (lambda profile: any([strategy for strategy in profile.analyzed_strategies.equilibria\n",
    "                              if strategy.profile.condorcet_winners == strategy.winners]),\n",
    "         'There exists a true equilibrium electing the CW'),\n",
    "    ],\n",
    "    tests_strategy=[\n",
    "        (lambda strategy: strategy.profile.condorcet_winners == strategy.winners,\n",
    "         'There exists an equilibrium that elects the CW')\n",
    "    ],\n",
    "    tests_strategy_dist=[\n",
    "        (lambda strategy: strategy.profile.condorcet_winners == strategy.winners,\n",
    "         'There exists an equilibrium that elects the CW')\n",
    "    ],\n",
    "   conditional_on=lambda profile: profile.is_profile_condorcet == 1.\n",
    ")"
   ]
  },
  {
   "cell_type": "markdown",
   "metadata": {},
   "source": [
    "Run the Monte-Carlo simulation:"
   ]
  },
  {
   "cell_type": "code",
   "execution_count": 25,
   "metadata": {
    "ExecuteTime": {
     "end_time": "2020-02-20T05:47:00.696205Z",
     "start_time": "2020-02-20T05:47:00.131713Z"
    }
   },
   "outputs": [],
   "source": [
    "nice_stats.run(n_samples=10)"
   ]
  },
  {
   "cell_type": "markdown",
   "metadata": {},
   "source": [
    "Synthetic view of the results:"
   ]
  },
  {
   "cell_type": "code",
   "execution_count": 26,
   "metadata": {
    "ExecuteTime": {
     "end_time": "2020-02-20T05:47:01.180907Z",
     "start_time": "2020-02-20T05:47:00.698199Z"
    }
   },
   "outputs": [
    {
     "name": "stdout",
     "output_type": "stream",
     "text": [
      "P(There exists a true equilibrium electing the CW) = 0.3\n"
     ]
    },
    {
     "data": {
      "image/png": "[encoded data removed]",
      "text/plain": [
       "<Figure size 432x288 with 1 Axes>"
      ]
     },
     "metadata": {
      "needs_background": "light"
     },
     "output_type": "display_data"
    },
    {
     "name": "stdout",
     "output_type": "stream",
     "text": [
      "P(There exists an equilibrium that elects the CW) :\n",
      "{0: 0.30396836603043387, 1: 0.3724915848402969, 2: 0.2656706169256632, 3: 0.05404088104067676, 4: 0.003828551162929366}\n"
     ]
    },
    {
     "data": {
      "image/png": "[encoded data removed]",
      "text/plain": [
       "<Figure size 432x288 with 1 Axes>"
      ]
     },
     "metadata": {
      "needs_background": "light"
     },
     "output_type": "display_data"
    }
   ],
   "source": [
    "nice_stats.display_results()"
   ]
  },
  {
   "cell_type": "markdown",
   "metadata": {},
   "source": [
    "Find an example for one of the tests:"
   ]
  },
  {
   "cell_type": "code",
   "execution_count": 27,
   "metadata": {
    "ExecuteTime": {
     "end_time": "2020-02-20T05:47:01.187889Z",
     "start_time": "2020-02-20T05:47:01.181905Z"
    }
   },
   "outputs": [
    {
     "data": {
      "text/plain": [
       "<abc: 0.0919753011544352, acb: 0.41858152557324635, bac: 0.14574202231383582, bca: 0.12847695379243684, cab: 0.09560751989217853, cba: 0.11961667727386727> (Condorcet winner: a)"
      ]
     },
     "execution_count": 27,
     "metadata": {},
     "output_type": "execute_result"
    }
   ],
   "source": [
    "profile = nice_stats.find_example('There exists a true equilibrium electing the CW', False)\n",
    "profile"
   ]
  },
  {
   "cell_type": "markdown",
   "metadata": {},
   "source": [
    "Draw a plot:"
   ]
  },
  {
   "cell_type": "code",
   "execution_count": 28,
   "metadata": {
    "ExecuteTime": {
     "end_time": "2020-02-20T05:47:01.449192Z",
     "start_time": "2020-02-20T05:47:01.190881Z"
    }
   },
   "outputs": [
    {
     "data": {
      "text/plain": [
       "(-0.05, 1.05)"
      ]
     },
     "execution_count": 28,
     "metadata": {},
     "output_type": "execute_result"
    },
    {
     "data": {
      "image/png": "[encoded data removed]",
      "text/plain": [
       "<Figure size 432x288 with 1 Axes>"
      ]
     },
     "metadata": {
      "needs_background": "light"
     },
     "output_type": "display_data"
    }
   ],
   "source": [
    "nice_stats.plot_test_strategy('There exists an equilibrium that elects the CW')\n",
    "nice_stats.plot_cutoff('There exists a true equilibrium electing the CW',\n",
    "                       left='No true equilibrium', right='True equilibrium')\n",
    "plt.xlim(-0.05, 1.05)"
   ]
  }
 ],
 "metadata": {
  "kernelspec": {
   "display_name": "Python 3",
   "language": "python",
   "name": "python3"
  },
  "language_info": {
   "codemirror_mode": {
    "name": "ipython",
    "version": 3
   },
   "file_extension": ".py",
   "mimetype": "text/x-python",
   "name": "python",
   "nbconvert_exporter": "python",
   "pygments_lexer": "ipython3",
   "version": "3.7.3"
  },
  "toc": {
   "base_numbering": 1,
   "nav_menu": {},
   "number_sections": false,
   "sideBar": true,
   "skip_h1_title": true,
   "title_cell": "Table of Contents",
   "title_sidebar": "Contents",
   "toc_cell": false,
   "toc_position": {},
   "toc_section_display": true,
   "toc_window_display": false
  }
 },
 "nbformat": 4,
 "nbformat_minor": 2
}
