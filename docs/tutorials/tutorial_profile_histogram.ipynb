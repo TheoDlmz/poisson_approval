{
 "cells": [
  {
   "cell_type": "markdown",
   "metadata": {},
   "source": [
    "# Tutorial on ProfileHistogram"
   ]
  },
  {
   "cell_type": "code",
   "execution_count": 1,
   "metadata": {
    "ExecuteTime": {
     "end_time": "2020-02-09T06:18:30.369249Z",
     "start_time": "2020-02-09T06:18:29.849604Z"
    }
   },
   "outputs": [],
   "source": [
    "from matplotlib import pyplot as plt\n",
    "import poisson_approval as pa"
   ]
  },
  {
   "cell_type": "markdown",
   "metadata": {},
   "source": [
    "## Profile"
   ]
  },
  {
   "cell_type": "markdown",
   "metadata": {},
   "source": [
    "Generate a random profile:"
   ]
  },
  {
   "cell_type": "code",
   "execution_count": 2,
   "metadata": {
    "ExecuteTime": {
     "end_time": "2020-02-09T06:18:30.379189Z",
     "start_time": "2020-02-09T06:18:30.371251Z"
    }
   },
   "outputs": [
    {
     "data": {
      "text/plain": [
       "<abc: 0.2283177724372194 [0.01681934 0.15441964 0.07149361 0.0103879  0.00477677 0.00468168\n",
       " 0.23755266 0.46880522 0.01960546 0.01145773], acb: 0.045771507052634 [0.07472504 0.03340931 0.00962379 0.00941899 0.29517598 0.09889542\n",
       " 0.09899299 0.12891987 0.14661928 0.10421933], bac: 0.19248521927334128 [0.13524657 0.02250642 0.02579933 0.20392864 0.08543421 0.04282741\n",
       " 0.10738777 0.26106346 0.1005135  0.01529269], bca: 0.33762082283997397 [0.06598086 0.00567613 0.0604436  0.07436286 0.40435495 0.01343427\n",
       " 0.08686279 0.10592607 0.06958157 0.11337691], cab: 0.18974361994404743 [0.05046724 0.13161617 0.03049045 0.03669328 0.03437138 0.22834466\n",
       " 0.16827399 0.24354454 0.00827359 0.0679247 ], cba: 0.0060610584527839295 [0.06814074 0.10053958 0.05068696 0.10999994 0.21313672 0.20649618\n",
       " 0.04440661 0.05111743 0.0891455  0.06633036]> (Condorcet winner: b)"
      ]
     },
     "execution_count": 2,
     "metadata": {},
     "output_type": "execute_result"
    }
   ],
   "source": [
    "generator_profile = pa.GeneratorProfileHistogramUniform(n_bins = 10)\n",
    "profile = generator_profile()\n",
    "profile"
   ]
  },
  {
   "cell_type": "markdown",
   "metadata": {},
   "source": [
    "Share of each ranking:"
   ]
  },
  {
   "cell_type": "code",
   "execution_count": 3,
   "metadata": {
    "ExecuteTime": {
     "end_time": "2020-02-09T06:18:30.395146Z",
     "start_time": "2020-02-09T06:18:30.380185Z"
    }
   },
   "outputs": [
    {
     "data": {
      "text/plain": [
       "{abc: 0.2283177724372194, acb: 0.045771507052634, bac: 0.19248521927334128, bca: 0.33762082283997397, cab: 0.18974361994404743, cba: 0.0060610584527839295}"
      ]
     },
     "execution_count": 3,
     "metadata": {},
     "output_type": "execute_result"
    }
   ],
   "source": [
    "profile.d_ranking_share"
   ]
  },
  {
   "cell_type": "markdown",
   "metadata": {},
   "source": [
    "Distribution of the utilities for voters $abc$:"
   ]
  },
  {
   "cell_type": "code",
   "execution_count": 4,
   "metadata": {
    "ExecuteTime": {
     "end_time": "2020-02-09T06:18:30.644478Z",
     "start_time": "2020-02-09T06:18:30.397141Z"
    }
   },
   "outputs": [
    {
     "data": {
      "text/plain": [
       "<matplotlib.legend.Legend at 0x145ef51eb70>"
      ]
     },
     "execution_count": 4,
     "metadata": {},
     "output_type": "execute_result"
    },
    {
     "data": {
      "image/png": "[encoded data removed]",
      "text/plain": [
       "<Figure size 432x288 with 1 Axes>"
      ]
     },
     "metadata": {
      "needs_background": "light"
     },
     "output_type": "display_data"
    }
   ],
   "source": [
    "ranking = 'abc'\n",
    "profile.plot_histogram(ranking, label='Histogram')\n",
    "profile.plot_cdf(ranking, label='CDF')\n",
    "plt.ylabel('Proportion of the voters %s' % ranking)\n",
    "plt.legend()"
   ]
  },
  {
   "cell_type": "markdown",
   "metadata": {},
   "source": [
    "## Strategic Analysis"
   ]
  },
  {
   "cell_type": "markdown",
   "metadata": {},
   "source": [
    "Generate a random strategy:"
   ]
  },
  {
   "cell_type": "code",
   "execution_count": 5,
   "metadata": {
    "ExecuteTime": {
     "end_time": "2020-02-09T06:18:30.651522Z",
     "start_time": "2020-02-09T06:18:30.646475Z"
    }
   },
   "outputs": [
    {
     "data": {
      "text/plain": [
       "<abc: utility-dependent (0.8734045676578399), acb: utility-dependent (0.06848251734326449), bac: utility-dependent (0.15289048540828432), bca: utility-dependent (0.685726398358069), cab: utility-dependent (0.2975392203549041), cba: utility-dependent (0.2329924633957775)>"
      ]
     },
     "execution_count": 5,
     "metadata": {},
     "output_type": "execute_result"
    }
   ],
   "source": [
    "generator_strategy = pa.GeneratorStrategyThresholdUniform()\n",
    "strategy = generator_strategy()\n",
    "strategy"
   ]
  },
  {
   "cell_type": "markdown",
   "metadata": {},
   "source": [
    "Tau vector (ballot shares) associated to the strategy in the given profile:"
   ]
  },
  {
   "cell_type": "code",
   "execution_count": 6,
   "metadata": {
    "ExecuteTime": {
     "end_time": "2020-02-09T06:18:30.661434Z",
     "start_time": "2020-02-09T06:18:30.652457Z"
    }
   },
   "outputs": [
    {
     "data": {
      "text/plain": [
       "<a: 0.22685357783447793, ab: 0.1679674429825053, ac: 0.19298066681140863, b: 0.26422567384667867, bc: 0.10665673094746782, c: 0.04131590757746169> ==> a"
      ]
     },
     "execution_count": 6,
     "metadata": {},
     "output_type": "execute_result"
    }
   ],
   "source": [
    "tau = profile.tau(strategy)\n",
    "tau"
   ]
  },
  {
   "cell_type": "markdown",
   "metadata": {},
   "source": [
    "Is the strategy an equilibrium for the given profile?"
   ]
  },
  {
   "cell_type": "code",
   "execution_count": 7,
   "metadata": {
    "ExecuteTime": {
     "end_time": "2020-02-09T06:18:30.671407Z",
     "start_time": "2020-02-09T06:18:30.662431Z"
    }
   },
   "outputs": [
    {
     "data": {
      "text/plain": [
       "EquilibriumStatus.NOT_EQUILIBRIUM"
      ]
     },
     "execution_count": 7,
     "metadata": {},
     "output_type": "execute_result"
    }
   ],
   "source": [
    "profile.is_equilibrium(strategy)"
   ]
  },
  {
   "cell_type": "markdown",
   "metadata": {},
   "source": [
    "Use iterated voting to search for an equilibrium:"
   ]
  },
  {
   "cell_type": "code",
   "execution_count": 8,
   "metadata": {
    "ExecuteTime": {
     "end_time": "2020-02-09T06:18:30.982896Z",
     "start_time": "2020-02-09T06:18:30.673402Z"
    }
   },
   "outputs": [],
   "source": [
    "result = profile.iterated_voting(strategy_ini=strategy, n_max_episodes=1000, \n",
    "                                 ballot_update_ratio=0.1)\n",
    "cycle_taus_actual = result['cycle_taus_actual']\n",
    "cycle_strategies = result['cycle_strategies']"
   ]
  },
  {
   "cell_type": "code",
   "execution_count": 9,
   "metadata": {
    "ExecuteTime": {
     "end_time": "2020-02-09T06:18:30.988559Z",
     "start_time": "2020-02-09T06:18:30.984609Z"
    }
   },
   "outputs": [
    {
     "data": {
      "text/plain": [
       "[<a: 0.24647100353693238, ac: 0.21736189589696864, b: 0.399105869450325, bc: 0.13706123111577434> ==> b]"
      ]
     },
     "execution_count": 9,
     "metadata": {},
     "output_type": "execute_result"
    }
   ],
   "source": [
    "cycle_taus_actual"
   ]
  },
  {
   "cell_type": "code",
   "execution_count": 10,
   "metadata": {
    "ExecuteTime": {
     "end_time": "2020-02-09T06:18:31.000526Z",
     "start_time": "2020-02-09T06:18:30.990554Z"
    }
   },
   "outputs": [
    {
     "name": "stdout",
     "output_type": "stream",
     "text": [
      "Convergence to an equilibrium.\n",
      "Limit strategy: <abc: a, acb: utility-dependent (0.49127719824672345), bac: b, bca: utility-dependent (0.5087228017532764), cab: ac, cba: bc> ==> b\n",
      "Limit tau-vector: <a: 0.24647100353693238, ac: 0.21736189589696864, b: 0.399105869450325, bc: 0.13706123111577434> ==> b\n"
     ]
    }
   ],
   "source": [
    "if len(cycle_taus_actual) == 0:\n",
    "    print('No convergence.')\n",
    "elif len(cycle_taus_actual) == 1:\n",
    "    print('Convergence to an equilibrium.')\n",
    "    print('Limit strategy: %s' % cycle_strategies[0])\n",
    "    print('Limit tau-vector: %s' % cycle_taus_actual[0])\n",
    "else:\n",
    "    print('Convergence to a cycle of cardinality %s.' % len(cycle_taus_actual))"
   ]
  },
  {
   "cell_type": "markdown",
   "metadata": {},
   "source": [
    "There is another version of iterated voting, ``fictitious_play``. It allows for update ratios that depend on time, it is faster, but it is not able to detect limit cycles (only convergence). Cf. Reference section for more information."
   ]
  },
  {
   "cell_type": "code",
   "execution_count": 11,
   "metadata": {
    "ExecuteTime": {
     "end_time": "2020-02-09T06:18:31.207346Z",
     "start_time": "2020-02-09T06:18:31.001524Z"
    }
   },
   "outputs": [],
   "source": [
    "from math import log\n",
    "result = profile.fictitious_play(strategy_ini=strategy, n_max_episodes=1000, \n",
    "                                 perception_update_ratio=lambda t: 1 / log(t + 2),\n",
    "                                 ballot_update_ratio=0.1)\n",
    "limit_tau = result['tau']\n",
    "limit_strategy = result['strategy']"
   ]
  },
  {
   "cell_type": "code",
   "execution_count": 12,
   "metadata": {
    "ExecuteTime": {
     "end_time": "2020-02-09T06:18:31.213996Z",
     "start_time": "2020-02-09T06:18:31.208969Z"
    }
   },
   "outputs": [
    {
     "name": "stdout",
     "output_type": "stream",
     "text": [
      "Convergence to an equilibrium.\n",
      "Limit strategy: <abc: a, acb: utility-dependent (0.49127719895871375), bac: b, bca: utility-dependent (0.5087228010412863), cab: ac, cba: bc> ==> b\n",
      "Limit tau-vector: <a: 0.24647100363312688, ac: 0.21736189580077395, b: 0.39910586941803106, bc: 0.1370612311480681> ==> b\n"
     ]
    }
   ],
   "source": [
    "if limit_tau is None:\n",
    "    print('No convergence.')\n",
    "else:\n",
    "    print('Convergence to an equilibrium.')\n",
    "    print('Limit strategy: %s' % limit_strategy)\n",
    "    print('Limit tau-vector: %s' % limit_tau)"
   ]
  }
 ],
 "metadata": {
  "kernelspec": {
   "display_name": "Python 3",
   "language": "python",
   "name": "python3"
  },
  "language_info": {
   "codemirror_mode": {
    "name": "ipython",
    "version": 3
   },
   "file_extension": ".py",
   "mimetype": "text/x-python",
   "name": "python",
   "nbconvert_exporter": "python",
   "pygments_lexer": "ipython3",
   "version": "3.7.3"
  },
  "toc": {
   "base_numbering": 1,
   "nav_menu": {},
   "number_sections": false,
   "sideBar": true,
   "skip_h1_title": true,
   "title_cell": "Table of Contents",
   "title_sidebar": "Contents",
   "toc_cell": false,
   "toc_position": {},
   "toc_section_display": true,
   "toc_window_display": false
  }
 },
 "nbformat": 4,
 "nbformat_minor": 2
}
