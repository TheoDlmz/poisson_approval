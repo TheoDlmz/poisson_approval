{
 "cells": [
  {
   "cell_type": "markdown",
   "metadata": {},
   "source": [
    "# Tutorial on ProfileHistogram"
   ]
  },
  {
   "cell_type": "code",
   "execution_count": 1,
   "metadata": {
    "ExecuteTime": {
     "end_time": "2020-02-20T05:44:33.657108Z",
     "start_time": "2020-02-20T05:44:33.037632Z"
    }
   },
   "outputs": [],
   "source": [
    "from matplotlib import pyplot as plt\n",
    "import poisson_approval as pa"
   ]
  },
  {
   "cell_type": "markdown",
   "metadata": {},
   "source": [
    "## Profile"
   ]
  },
  {
   "cell_type": "markdown",
   "metadata": {},
   "source": [
    "Generate a random profile:"
   ]
  },
  {
   "cell_type": "code",
   "execution_count": 2,
   "metadata": {
    "ExecuteTime": {
     "end_time": "2020-02-20T05:44:33.669927Z",
     "start_time": "2020-02-20T05:44:33.658957Z"
    }
   },
   "outputs": [
    {
     "data": {
      "text/plain": [
       "<abc: 0.2690623935284776 [0.02696769 0.03557842 0.01251176 0.22013726 0.26670373 0.14432914\n",
       " 0.06733686 0.03320928 0.19062748 0.00259839], acb: 0.004194732555969027 [0.04573455 0.03998229 0.13365088 0.12191452 0.08396889 0.10802076\n",
       " 0.13378233 0.15633912 0.10328862 0.07331804], bac: 0.3329067586796971 [5.33170897e-02 5.12471595e-01 3.55416347e-02 2.58778204e-02\n",
       " 2.49800253e-04 6.54430835e-02 1.70878321e-01 3.61654692e-02\n",
       " 2.78413837e-02 7.22138022e-02], bca: 0.21220137424032337 [0.17791499 0.14963264 0.08231313 0.16979015 0.02042343 0.10778814\n",
       " 0.11527432 0.00184213 0.04286339 0.13215768], cab: 0.06367750472036071 [0.04320671 0.00605101 0.29843443 0.02107376 0.33554684 0.15916992\n",
       " 0.03257756 0.01708445 0.0429468  0.04390852], cba: 0.11795723627517218 [0.10366437 0.01454906 0.11201012 0.31686785 0.06447532 0.10193769\n",
       " 0.08908018 0.10034689 0.06455423 0.03251429]> (Condorcet winner: b)"
      ]
     },
     "execution_count": 2,
     "metadata": {},
     "output_type": "execute_result"
    }
   ],
   "source": [
    "generator_profile = pa.GeneratorProfileHistogramUniform(n_bins = 10)\n",
    "profile = generator_profile()\n",
    "profile"
   ]
  },
  {
   "cell_type": "markdown",
   "metadata": {},
   "source": [
    "Share of each ranking:"
   ]
  },
  {
   "cell_type": "code",
   "execution_count": 3,
   "metadata": {
    "ExecuteTime": {
     "end_time": "2020-02-20T05:44:33.677905Z",
     "start_time": "2020-02-20T05:44:33.671921Z"
    }
   },
   "outputs": [
    {
     "data": {
      "text/plain": [
       "{abc: 0.2690623935284776, acb: 0.004194732555969027, bac: 0.3329067586796971, bca: 0.21220137424032337, cab: 0.06367750472036071, cba: 0.11795723627517218}"
      ]
     },
     "execution_count": 3,
     "metadata": {},
     "output_type": "execute_result"
    }
   ],
   "source": [
    "profile.d_ranking_share"
   ]
  },
  {
   "cell_type": "markdown",
   "metadata": {},
   "source": [
    "Distribution of the utilities for voters $abc$:"
   ]
  },
  {
   "cell_type": "code",
   "execution_count": 4,
   "metadata": {
    "ExecuteTime": {
     "end_time": "2020-02-20T05:44:33.853438Z",
     "start_time": "2020-02-20T05:44:33.679901Z"
    }
   },
   "outputs": [
    {
     "data": {
      "text/plain": [
       "<matplotlib.legend.Legend at 0x2713617bd30>"
      ]
     },
     "execution_count": 4,
     "metadata": {},
     "output_type": "execute_result"
    },
    {
     "data": {
      "image/png": "[encoded data removed]",
      "text/plain": [
       "<Figure size 432x288 with 1 Axes>"
      ]
     },
     "metadata": {
      "needs_background": "light"
     },
     "output_type": "display_data"
    }
   ],
   "source": [
    "ranking = 'abc'\n",
    "profile.plot_histogram(ranking, label='Histogram')\n",
    "profile.plot_cdf(ranking, label='CDF')\n",
    "plt.ylabel('Proportion of the voters %s' % ranking)\n",
    "plt.legend()"
   ]
  },
  {
   "cell_type": "markdown",
   "metadata": {},
   "source": [
    "## Strategic Analysis"
   ]
  },
  {
   "cell_type": "markdown",
   "metadata": {},
   "source": [
    "Generate a random strategy:"
   ]
  },
  {
   "cell_type": "code",
   "execution_count": 5,
   "metadata": {
    "ExecuteTime": {
     "end_time": "2020-02-20T05:44:33.861415Z",
     "start_time": "2020-02-20T05:44:33.856430Z"
    }
   },
   "outputs": [
    {
     "data": {
      "text/plain": [
       "<abc: utility-dependent (0.280087855517808), acb: utility-dependent (0.8602132465675677), bac: utility-dependent (0.2004880191646491), bca: utility-dependent (0.7764943667416055), cab: utility-dependent (0.9500942850916189), cba: utility-dependent (0.6249042430067644)>"
      ]
     },
     "execution_count": 5,
     "metadata": {},
     "output_type": "execute_result"
    }
   ],
   "source": [
    "generator_strategy = pa.GeneratorStrategyThresholdUniform()\n",
    "strategy = generator_strategy()\n",
    "strategy"
   ]
  },
  {
   "cell_type": "markdown",
   "metadata": {},
   "source": [
    "Tau vector (ballot shares) associated to the strategy in the given profile:"
   ]
  },
  {
   "cell_type": "code",
   "execution_count": 6,
   "metadata": {
    "ExecuteTime": {
     "end_time": "2020-02-20T05:44:33.879400Z",
     "start_time": "2020-02-20T05:44:33.862412Z"
    }
   },
   "outputs": [
    {
     "data": {
      "text/plain": [
       "<a: 0.023239717164007433, ab: 0.39403161494654654, ac: 0.0018752890356885797, b: 0.36338239650277043, bc: 0.06840897469236464, c: 0.1490620076586224> ==> b"
      ]
     },
     "execution_count": 6,
     "metadata": {},
     "output_type": "execute_result"
    }
   ],
   "source": [
    "tau = profile.tau(strategy)\n",
    "tau"
   ]
  },
  {
   "cell_type": "markdown",
   "metadata": {},
   "source": [
    "Is the strategy an equilibrium for the given profile?"
   ]
  },
  {
   "cell_type": "code",
   "execution_count": 7,
   "metadata": {
    "ExecuteTime": {
     "end_time": "2020-02-20T05:44:33.890337Z",
     "start_time": "2020-02-20T05:44:33.880364Z"
    }
   },
   "outputs": [
    {
     "data": {
      "text/plain": [
       "EquilibriumStatus.NOT_EQUILIBRIUM"
      ]
     },
     "execution_count": 7,
     "metadata": {},
     "output_type": "execute_result"
    }
   ],
   "source": [
    "profile.is_equilibrium(strategy)"
   ]
  },
  {
   "cell_type": "markdown",
   "metadata": {},
   "source": [
    "Use iterated voting to search for an equilibrium:"
   ]
  },
  {
   "cell_type": "code",
   "execution_count": 8,
   "metadata": {
    "ExecuteTime": {
     "end_time": "2020-02-20T05:44:34.370056Z",
     "start_time": "2020-02-20T05:44:33.892334Z"
    }
   },
   "outputs": [],
   "source": [
    "result = profile.iterated_voting(init=strategy, n_max_episodes=1000, \n",
    "                                 ballot_update_ratio=0.1)\n",
    "cycle_taus_actual = result['cycle_taus_actual']\n",
    "cycle_strategies = result['cycle_strategies']"
   ]
  },
  {
   "cell_type": "code",
   "execution_count": 9,
   "metadata": {
    "ExecuteTime": {
     "end_time": "2020-02-20T05:44:34.378034Z",
     "start_time": "2020-02-20T05:44:34.372050Z"
    }
   },
   "outputs": [
    {
     "data": {
      "text/plain": [
       "[<ab: 0.26906239352847794, ac: 0.06787223727632968, b: 0.5451081329200201, c: 0.11795723627517235> ==> b]"
      ]
     },
     "execution_count": 9,
     "metadata": {},
     "output_type": "execute_result"
    }
   ],
   "source": [
    "cycle_taus_actual"
   ]
  },
  {
   "cell_type": "code",
   "execution_count": 10,
   "metadata": {
    "ExecuteTime": {
     "end_time": "2020-02-20T05:44:34.390004Z",
     "start_time": "2020-02-20T05:44:34.380029Z"
    }
   },
   "outputs": [
    {
     "name": "stdout",
     "output_type": "stream",
     "text": [
      "Convergence to an equilibrium.\n",
      "Limit strategy: <abc: ab, acb: ac, bac: b, bca: b, cab: ac, cba: c> ==> b\n",
      "Limit tau-vector: <ab: 0.26906239352847794, ac: 0.06787223727632968, b: 0.5451081329200201, c: 0.11795723627517235> ==> b\n"
     ]
    }
   ],
   "source": [
    "if len(cycle_taus_actual) == 0:\n",
    "    print('No convergence.')\n",
    "elif len(cycle_taus_actual) == 1:\n",
    "    print('Convergence to an equilibrium.')\n",
    "    print('Limit strategy: %s' % cycle_strategies[0])\n",
    "    print('Limit tau-vector: %s' % cycle_taus_actual[0])\n",
    "else:\n",
    "    print('Convergence to a cycle of cardinality %s.' % len(cycle_taus_actual))"
   ]
  },
  {
   "cell_type": "markdown",
   "metadata": {},
   "source": [
    "There is another version of iterated voting, ``fictitious_play``. It allows for update ratios that depend on time, it is faster, but it is not able to detect limit cycles (only convergence). Cf. Reference section for more information."
   ]
  },
  {
   "cell_type": "code",
   "execution_count": 11,
   "metadata": {
    "ExecuteTime": {
     "end_time": "2020-02-20T05:44:34.645600Z",
     "start_time": "2020-02-20T05:44:34.391998Z"
    }
   },
   "outputs": [],
   "source": [
    "from math import log\n",
    "result = profile.fictitious_play(init=strategy, n_max_episodes=1000, \n",
    "                                 perception_update_ratio=pa.one_over_log_t_plus_two,\n",
    "                                 ballot_update_ratio=0.1)\n",
    "limit_tau = result['tau']\n",
    "limit_strategy = result['strategy']"
   ]
  },
  {
   "cell_type": "code",
   "execution_count": 12,
   "metadata": {
    "ExecuteTime": {
     "end_time": "2020-02-20T05:44:34.653298Z",
     "start_time": "2020-02-20T05:44:34.647314Z"
    }
   },
   "outputs": [
    {
     "name": "stdout",
     "output_type": "stream",
     "text": [
      "Convergence to an equilibrium.\n",
      "Limit strategy: <abc: ab, acb: ac, bac: b, bca: b, cab: ac, cba: c> ==> b\n",
      "Limit tau-vector: <ab: 0.2690623935284776, ac: 0.06787223727632974, b: 0.5451081329200205, c: 0.11795723627517218> ==> b\n"
     ]
    }
   ],
   "source": [
    "if limit_tau is None:\n",
    "    print('No convergence.')\n",
    "else:\n",
    "    print('Convergence to an equilibrium.')\n",
    "    print('Limit strategy: %s' % limit_strategy)\n",
    "    print('Limit tau-vector: %s' % limit_tau)"
   ]
  },
  {
   "cell_type": "markdown",
   "metadata": {},
   "source": [
    "The methods ``iterated_voting`` and ``fictitious_play`` also provide the winning frequency of each candidate. In case of convergence to a limit or a periodical orbit, these frequencies are computed at the limit. In case of non-convergence, it gives the winning frequencies on the history of the process."
   ]
  },
  {
   "cell_type": "code",
   "execution_count": 13,
   "metadata": {
    "ExecuteTime": {
     "end_time": "2020-02-20T05:44:34.683219Z",
     "start_time": "2020-02-20T05:44:34.656292Z"
    }
   },
   "outputs": [
    {
     "data": {
      "text/plain": [
       "{b: 1}"
      ]
     },
     "execution_count": 13,
     "metadata": {},
     "output_type": "execute_result"
    }
   ],
   "source": [
    "result = profile.iterated_voting(init=strategy, n_max_episodes=10, \n",
    "                                 ballot_update_ratio=0.1)\n",
    "result['d_candidate_winning_frequency']"
   ]
  },
  {
   "cell_type": "markdown",
   "metadata": {},
   "source": [
    "If you want to convert these winning frequencies to an array, you can use the function ``d_candidate_value_to_array``:"
   ]
  },
  {
   "cell_type": "code",
   "execution_count": 14,
   "metadata": {
    "ExecuteTime": {
     "end_time": "2020-02-20T05:44:34.695186Z",
     "start_time": "2020-02-20T05:44:34.684247Z"
    }
   },
   "outputs": [
    {
     "data": {
      "text/plain": [
       "array([0, 1, 0])"
      ]
     },
     "execution_count": 14,
     "metadata": {},
     "output_type": "execute_result"
    }
   ],
   "source": [
    "pa.d_candidate_value_to_array(result['d_candidate_winning_frequency'])"
   ]
  }
 ],
 "metadata": {
  "kernelspec": {
   "display_name": "Python 3",
   "language": "python",
   "name": "python3"
  },
  "language_info": {
   "codemirror_mode": {
    "name": "ipython",
    "version": 3
   },
   "file_extension": ".py",
   "mimetype": "text/x-python",
   "name": "python",
   "nbconvert_exporter": "python",
   "pygments_lexer": "ipython3",
   "version": "3.7.3"
  },
  "toc": {
   "base_numbering": 1,
   "nav_menu": {},
   "number_sections": false,
   "sideBar": true,
   "skip_h1_title": true,
   "title_cell": "Table of Contents",
   "title_sidebar": "Contents",
   "toc_cell": false,
   "toc_position": {},
   "toc_section_display": true,
   "toc_window_display": false
  }
 },
 "nbformat": 4,
 "nbformat_minor": 2
}
