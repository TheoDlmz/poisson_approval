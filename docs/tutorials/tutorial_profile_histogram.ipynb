{
 "cells": [
  {
   "cell_type": "markdown",
   "metadata": {},
   "source": [
    "# Tutorial on ProfileHistogram"
   ]
  },
  {
   "cell_type": "code",
   "execution_count": 1,
   "metadata": {
    "ExecuteTime": {
     "end_time": "2020-02-09T12:50:09.066392Z",
     "start_time": "2020-02-09T12:50:08.522766Z"
    }
   },
   "outputs": [],
   "source": [
    "from matplotlib import pyplot as plt\n",
    "import poisson_approval as pa"
   ]
  },
  {
   "cell_type": "markdown",
   "metadata": {},
   "source": [
    "## Profile"
   ]
  },
  {
   "cell_type": "markdown",
   "metadata": {},
   "source": [
    "Generate a random profile:"
   ]
  },
  {
   "cell_type": "code",
   "execution_count": 2,
   "metadata": {
    "ExecuteTime": {
     "end_time": "2020-02-09T12:50:09.079278Z",
     "start_time": "2020-02-09T12:50:09.069306Z"
    }
   },
   "outputs": [
    {
     "data": {
      "text/plain": [
       "<abc: 0.23584266515105823 [0.32905246 0.05086927 0.08412409 0.16542357 0.03159868 0.0075145\n",
       " 0.00950813 0.26427174 0.02018049 0.03745708], acb: 0.13100429768458766 [0.28224815 0.01645788 0.03149529 0.036729   0.22698395 0.05836253\n",
       " 0.05303298 0.10786256 0.03640244 0.15042521], bac: 0.01689429074642268 [0.00341629 0.01248218 0.04036559 0.15091306 0.30879437 0.01995679\n",
       " 0.32855364 0.00150202 0.07978717 0.05422888], bca: 0.14313356596626325 [0.14978739 0.0315621  0.0733023  0.09504868 0.21032482 0.02039006\n",
       " 0.06032449 0.17238151 0.09090097 0.09597769], cab: 0.39831122421598175 [0.02244039 0.00228905 0.16858019 0.11659089 0.12601785 0.02971328\n",
       " 0.09460164 0.02019142 0.17544016 0.24413513], cba: 0.07481395623568643 [0.04197074 0.01088197 0.07398063 0.08663419 0.00108959 0.08801202\n",
       " 0.18322173 0.1944935  0.0336268  0.28608882]> (Condorcet winner: c)"
      ]
     },
     "execution_count": 2,
     "metadata": {},
     "output_type": "execute_result"
    }
   ],
   "source": [
    "generator_profile = pa.GeneratorProfileHistogramUniform(n_bins = 10)\n",
    "profile = generator_profile()\n",
    "profile"
   ]
  },
  {
   "cell_type": "markdown",
   "metadata": {},
   "source": [
    "Share of each ranking:"
   ]
  },
  {
   "cell_type": "code",
   "execution_count": 3,
   "metadata": {
    "ExecuteTime": {
     "end_time": "2020-02-09T12:50:09.091285Z",
     "start_time": "2020-02-09T12:50:09.081274Z"
    }
   },
   "outputs": [
    {
     "data": {
      "text/plain": [
       "{abc: 0.23584266515105823, acb: 0.13100429768458766, bac: 0.01689429074642268, bca: 0.14313356596626325, cab: 0.39831122421598175, cba: 0.07481395623568643}"
      ]
     },
     "execution_count": 3,
     "metadata": {},
     "output_type": "execute_result"
    }
   ],
   "source": [
    "profile.d_ranking_share"
   ]
  },
  {
   "cell_type": "markdown",
   "metadata": {},
   "source": [
    "Distribution of the utilities for voters $abc$:"
   ]
  },
  {
   "cell_type": "code",
   "execution_count": 4,
   "metadata": {
    "ExecuteTime": {
     "end_time": "2020-02-09T12:50:09.259796Z",
     "start_time": "2020-02-09T12:50:09.093242Z"
    }
   },
   "outputs": [
    {
     "data": {
      "text/plain": [
       "<matplotlib.legend.Legend at 0x296e5c85cc0>"
      ]
     },
     "execution_count": 4,
     "metadata": {},
     "output_type": "execute_result"
    },
    {
     "data": {
      "image/png": "[encoded data removed]",
      "text/plain": [
       "<Figure size 432x288 with 1 Axes>"
      ]
     },
     "metadata": {
      "needs_background": "light"
     },
     "output_type": "display_data"
    }
   ],
   "source": [
    "ranking = 'abc'\n",
    "profile.plot_histogram(ranking, label='Histogram')\n",
    "profile.plot_cdf(ranking, label='CDF')\n",
    "plt.ylabel('Proportion of the voters %s' % ranking)\n",
    "plt.legend()"
   ]
  },
  {
   "cell_type": "markdown",
   "metadata": {},
   "source": [
    "## Strategic Analysis"
   ]
  },
  {
   "cell_type": "markdown",
   "metadata": {},
   "source": [
    "Generate a random strategy:"
   ]
  },
  {
   "cell_type": "code",
   "execution_count": 5,
   "metadata": {
    "ExecuteTime": {
     "end_time": "2020-02-09T12:50:09.276785Z",
     "start_time": "2020-02-09T12:50:09.264788Z"
    }
   },
   "outputs": [
    {
     "data": {
      "text/plain": [
       "<abc: utility-dependent (0.7986445841944864), acb: utility-dependent (0.672568357209391), bac: utility-dependent (0.5751115785872648), bca: utility-dependent (0.8173746035999343), cab: utility-dependent (0.5314651994046576), cba: utility-dependent (0.8012197220188538)>"
      ]
     },
     "execution_count": 5,
     "metadata": {},
     "output_type": "execute_result"
    }
   ],
   "source": [
    "generator_strategy = pa.GeneratorStrategyThresholdUniform()\n",
    "strategy = generator_strategy()\n",
    "strategy"
   ]
  },
  {
   "cell_type": "markdown",
   "metadata": {},
   "source": [
    "Tau vector (ballot shares) associated to the strategy in the given profile:"
   ]
  },
  {
   "cell_type": "code",
   "execution_count": 6,
   "metadata": {
    "ExecuteTime": {
     "end_time": "2020-02-09T12:50:09.292706Z",
     "start_time": "2020-02-09T12:50:09.279741Z"
    }
   },
   "outputs": [
    {
     "data": {
      "text/plain": [
       "<a: 0.31189726848992966, ab: 0.02236225824806984, ac: 0.2614676054030505, b: 0.12761577802738255, bc: 0.04837650922482575, c: 0.22828058060674175> ==> a"
      ]
     },
     "execution_count": 6,
     "metadata": {},
     "output_type": "execute_result"
    }
   ],
   "source": [
    "tau = profile.tau(strategy)\n",
    "tau"
   ]
  },
  {
   "cell_type": "markdown",
   "metadata": {},
   "source": [
    "Is the strategy an equilibrium for the given profile?"
   ]
  },
  {
   "cell_type": "code",
   "execution_count": 7,
   "metadata": {
    "ExecuteTime": {
     "end_time": "2020-02-09T12:50:09.306669Z",
     "start_time": "2020-02-09T12:50:09.293704Z"
    }
   },
   "outputs": [
    {
     "data": {
      "text/plain": [
       "EquilibriumStatus.NOT_EQUILIBRIUM"
      ]
     },
     "execution_count": 7,
     "metadata": {},
     "output_type": "execute_result"
    }
   ],
   "source": [
    "profile.is_equilibrium(strategy)"
   ]
  },
  {
   "cell_type": "markdown",
   "metadata": {},
   "source": [
    "Use iterated voting to search for an equilibrium:"
   ]
  },
  {
   "cell_type": "code",
   "execution_count": 8,
   "metadata": {
    "ExecuteTime": {
     "end_time": "2020-02-09T12:50:09.684705Z",
     "start_time": "2020-02-09T12:50:09.308664Z"
    }
   },
   "outputs": [],
   "source": [
    "result = profile.iterated_voting(strategy_ini=strategy, n_max_episodes=1000, \n",
    "                                 ballot_update_ratio=0.1)\n",
    "cycle_taus_actual = result['cycle_taus_actual']\n",
    "cycle_strategies = result['cycle_strategies']"
   ]
  },
  {
   "cell_type": "code",
   "execution_count": 9,
   "metadata": {
    "ExecuteTime": {
     "end_time": "2020-02-09T12:50:09.701617Z",
     "start_time": "2020-02-09T12:50:09.685660Z"
    }
   },
   "outputs": [
    {
     "data": {
      "text/plain": [
       "[<a: 0.22332150149690577, ab: 0.16041975208516293, bc: 0.1690442871655397, c: 0.4472144592523917> ==> c]"
      ]
     },
     "execution_count": 9,
     "metadata": {},
     "output_type": "execute_result"
    }
   ],
   "source": [
    "cycle_taus_actual"
   ]
  },
  {
   "cell_type": "code",
   "execution_count": 10,
   "metadata": {
    "ExecuteTime": {
     "end_time": "2020-02-09T12:50:09.713581Z",
     "start_time": "2020-02-09T12:50:09.704641Z"
    }
   },
   "outputs": [
    {
     "name": "stdout",
     "output_type": "stream",
     "text": [
      "Convergence to an equilibrium.\n",
      "Limit strategy: <abc: utility-dependent (0.21368671470724906), acb: a, bac: ab, bca: bc, cab: c, cba: utility-dependent (0.7863132852927509)> ==> c\n",
      "Limit tau-vector: <a: 0.22332150149690577, ab: 0.16041975208516293, bc: 0.1690442871655397, c: 0.4472144592523917> ==> c\n"
     ]
    }
   ],
   "source": [
    "if len(cycle_taus_actual) == 0:\n",
    "    print('No convergence.')\n",
    "elif len(cycle_taus_actual) == 1:\n",
    "    print('Convergence to an equilibrium.')\n",
    "    print('Limit strategy: %s' % cycle_strategies[0])\n",
    "    print('Limit tau-vector: %s' % cycle_taus_actual[0])\n",
    "else:\n",
    "    print('Convergence to a cycle of cardinality %s.' % len(cycle_taus_actual))"
   ]
  },
  {
   "cell_type": "markdown",
   "metadata": {},
   "source": [
    "There is another version of iterated voting, ``fictitious_play``. It allows for update ratios that depend on time, it is faster, but it is not able to detect limit cycles (only convergence). Cf. Reference section for more information."
   ]
  },
  {
   "cell_type": "code",
   "execution_count": 11,
   "metadata": {
    "ExecuteTime": {
     "end_time": "2020-02-09T12:50:09.963300Z",
     "start_time": "2020-02-09T12:50:09.714577Z"
    }
   },
   "outputs": [],
   "source": [
    "from math import log\n",
    "result = profile.fictitious_play(strategy_ini=strategy, n_max_episodes=1000, \n",
    "                                 perception_update_ratio=lambda t: 1 / log(t + 2),\n",
    "                                 ballot_update_ratio=0.1)\n",
    "limit_tau = result['tau']\n",
    "limit_strategy = result['strategy']"
   ]
  },
  {
   "cell_type": "code",
   "execution_count": 12,
   "metadata": {
    "ExecuteTime": {
     "end_time": "2020-02-09T12:50:09.969895Z",
     "start_time": "2020-02-09T12:50:09.964908Z"
    }
   },
   "outputs": [
    {
     "name": "stdout",
     "output_type": "stream",
     "text": [
      "Convergence to an equilibrium.\n",
      "Limit strategy: <abc: utility-dependent (0.21368671420404697), acb: a, bac: ab, bca: bc, cab: c, cba: utility-dependent (0.786313285795953)> ==> c\n",
      "Limit tau-vector: <a: 0.22332150139706997, ab: 0.1604197521849986, bc: 0.1690442870923193, c: 0.4472144593256121> ==> c\n"
     ]
    }
   ],
   "source": [
    "if limit_tau is None:\n",
    "    print('No convergence.')\n",
    "else:\n",
    "    print('Convergence to an equilibrium.')\n",
    "    print('Limit strategy: %s' % limit_strategy)\n",
    "    print('Limit tau-vector: %s' % limit_tau)"
   ]
  },
  {
   "cell_type": "markdown",
   "metadata": {},
   "source": [
    "The methods ``iterated_voting`` and ``fictitious_play`` also provide the winning frequency of each candidate. In case of convergence to a limit or a periodical orbit, these frequencies are computed at the limit. In case of non-convergence, it gives the winning frequencies on the history of the process."
   ]
  },
  {
   "cell_type": "code",
   "execution_count": 13,
   "metadata": {
    "ExecuteTime": {
     "end_time": "2020-02-09T12:50:10.008791Z",
     "start_time": "2020-02-09T12:50:09.971889Z"
    }
   },
   "outputs": [
    {
     "data": {
      "text/plain": [
       "{a: 3/11, c: 8/11}"
      ]
     },
     "execution_count": 13,
     "metadata": {},
     "output_type": "execute_result"
    }
   ],
   "source": [
    "result = profile.iterated_voting(strategy_ini=strategy, n_max_episodes=10, \n",
    "                                 ballot_update_ratio=0.1)\n",
    "result['d_candidate_winning_frequency']"
   ]
  },
  {
   "cell_type": "markdown",
   "metadata": {},
   "source": [
    "If you want to convert these winning frequencies to an array, you can use the function ``d_candidate_value_to_array``:"
   ]
  },
  {
   "cell_type": "code",
   "execution_count": 14,
   "metadata": {
    "ExecuteTime": {
     "end_time": "2020-02-09T12:50:10.015773Z",
     "start_time": "2020-02-09T12:50:10.009791Z"
    }
   },
   "outputs": [
    {
     "data": {
      "text/plain": [
       "array([Fraction(3, 11), 0, Fraction(8, 11)], dtype=object)"
      ]
     },
     "execution_count": 14,
     "metadata": {},
     "output_type": "execute_result"
    }
   ],
   "source": [
    "pa.d_candidate_value_to_array(result['d_candidate_winning_frequency'])"
   ]
  }
 ],
 "metadata": {
  "kernelspec": {
   "display_name": "Python 3",
   "language": "python",
   "name": "python3"
  },
  "language_info": {
   "codemirror_mode": {
    "name": "ipython",
    "version": 3
   },
   "file_extension": ".py",
   "mimetype": "text/x-python",
   "name": "python",
   "nbconvert_exporter": "python",
   "pygments_lexer": "ipython3",
   "version": "3.7.3"
  },
  "toc": {
   "base_numbering": 1,
   "nav_menu": {},
   "number_sections": false,
   "sideBar": true,
   "skip_h1_title": true,
   "title_cell": "Table of Contents",
   "title_sidebar": "Contents",
   "toc_cell": false,
   "toc_position": {},
   "toc_section_display": true,
   "toc_window_display": false
  }
 },
 "nbformat": 4,
 "nbformat_minor": 2
}
