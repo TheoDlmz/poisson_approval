{
 "cells": [
  {
   "cell_type": "markdown",
   "metadata": {},
   "source": [
    "# Tutorial on ProfileHistogram"
   ]
  },
  {
   "cell_type": "code",
   "execution_count": 1,
   "metadata": {
    "ExecuteTime": {
     "end_time": "2020-02-24T12:46:10.387871Z",
     "start_time": "2020-02-24T12:46:09.819189Z"
    }
   },
   "outputs": [],
   "source": [
    "from matplotlib import pyplot as plt\n",
    "import poisson_approval as pa"
   ]
  },
  {
   "cell_type": "markdown",
   "metadata": {},
   "source": [
    "## Profile"
   ]
  },
  {
   "cell_type": "markdown",
   "metadata": {},
   "source": [
    "Generate a random profile:"
   ]
  },
  {
   "cell_type": "code",
   "execution_count": 2,
   "metadata": {
    "ExecuteTime": {
     "end_time": "2020-02-24T12:46:10.396743Z",
     "start_time": "2020-02-24T12:46:10.389722Z"
    }
   },
   "outputs": [
    {
     "data": {
      "text/plain": [
       "<abc: 0.04477112760394042 [0.02733593 0.0254004  0.08686327 0.29494647 0.1071913  0.00713374\n",
       " 0.05069472 0.07030596 0.21674723 0.11338099], acb: 0.00637716318074022 [0.06911736 0.25727278 0.01167343 0.1200638  0.33667857 0.0230838\n",
       " 0.02296106 0.00850083 0.02849692 0.12215145], bac: 0.0728143793890591 [0.11752635 0.03888622 0.07077817 0.17470001 0.08543158 0.02786895\n",
       " 0.22368162 0.04918734 0.18670932 0.02523044], bca: 0.33472741935751227 [0.01428321 0.00889946 0.22474271 0.06056195 0.11752904 0.04026981\n",
       " 0.3646511  0.02574448 0.08137808 0.06194016], cab: 0.37135671605211495 [0.07352354 0.12197224 0.14612472 0.01471396 0.09794938 0.11401528\n",
       " 0.11293961 0.19887983 0.05940027 0.06048118], cba: 0.16995319441663304 [0.05673732 0.01539995 0.02618386 0.28069404 0.00837357 0.08411518\n",
       " 0.00497543 0.04266208 0.39912737 0.08173121]> (Condorcet winner: c)"
      ]
     },
     "execution_count": 2,
     "metadata": {},
     "output_type": "execute_result"
    }
   ],
   "source": [
    "generator_profile = pa.GeneratorProfileHistogramUniform(n_bins = 10)\n",
    "profile = generator_profile()\n",
    "profile"
   ]
  },
  {
   "cell_type": "markdown",
   "metadata": {},
   "source": [
    "Share of each ranking:"
   ]
  },
  {
   "cell_type": "code",
   "execution_count": 3,
   "metadata": {
    "ExecuteTime": {
     "end_time": "2020-02-24T12:46:10.421669Z",
     "start_time": "2020-02-24T12:46:10.398714Z"
    }
   },
   "outputs": [
    {
     "data": {
      "text/plain": [
       "{abc: 0.04477112760394042, acb: 0.00637716318074022, bac: 0.0728143793890591, bca: 0.33472741935751227, cab: 0.37135671605211495, cba: 0.16995319441663304}"
      ]
     },
     "execution_count": 3,
     "metadata": {},
     "output_type": "execute_result"
    }
   ],
   "source": [
    "profile.d_ranking_share"
   ]
  },
  {
   "cell_type": "markdown",
   "metadata": {},
   "source": [
    "Distribution of the utilities for voters $abc$:"
   ]
  },
  {
   "cell_type": "code",
   "execution_count": 4,
   "metadata": {
    "ExecuteTime": {
     "end_time": "2020-02-24T12:46:10.589232Z",
     "start_time": "2020-02-24T12:46:10.423630Z"
    }
   },
   "outputs": [
    {
     "data": {
      "text/plain": [
       "<matplotlib.legend.Legend at 0x2568a979d30>"
      ]
     },
     "execution_count": 4,
     "metadata": {},
     "output_type": "execute_result"
    },
    {
     "data": {
      "image/png": "[encoded data removed]",
      "text/plain": [
       "<Figure size 432x288 with 1 Axes>"
      ]
     },
     "metadata": {
      "needs_background": "light"
     },
     "output_type": "display_data"
    }
   ],
   "source": [
    "ranking = 'abc'\n",
    "profile.plot_histogram(ranking, label='Histogram')\n",
    "profile.plot_cdf(ranking, label='CDF')\n",
    "plt.ylabel('Proportion of the voters %s' % ranking)\n",
    "plt.legend()"
   ]
  },
  {
   "cell_type": "markdown",
   "metadata": {},
   "source": [
    "## Strategic Analysis"
   ]
  },
  {
   "cell_type": "markdown",
   "metadata": {},
   "source": [
    "Generate a random strategy:"
   ]
  },
  {
   "cell_type": "code",
   "execution_count": 5,
   "metadata": {
    "ExecuteTime": {
     "end_time": "2020-02-24T12:46:10.595212Z",
     "start_time": "2020-02-24T12:46:10.591183Z"
    }
   },
   "outputs": [
    {
     "data": {
      "text/plain": [
       "<abc: utility-dependent (0.007283026175163965), acb: utility-dependent (0.41195951430171107), bac: utility-dependent (0.5755262413553989), bca: utility-dependent (0.15329931141455655), cab: utility-dependent (0.17148163760390278), cba: utility-dependent (0.4068462977459244)>"
      ]
     },
     "execution_count": 5,
     "metadata": {},
     "output_type": "execute_result"
    }
   ],
   "source": [
    "generator_strategy = pa.GeneratorStrategyThresholdUniform()\n",
    "strategy = generator_strategy()\n",
    "strategy"
   ]
  },
  {
   "cell_type": "markdown",
   "metadata": {},
   "source": [
    "Tau vector (ballot shares) associated to the strategy in the given profile:"
   ]
  },
  {
   "cell_type": "code",
   "execution_count": 6,
   "metadata": {
    "ExecuteTime": {
     "end_time": "2020-02-24T12:46:10.613123Z",
     "start_time": "2020-02-24T12:46:10.596169Z"
    }
   },
   "outputs": [
    {
     "data": {
      "text/plain": [
       "<a: 0.0032674643704393618, ab: 0.08047967603668002, ac: 0.3148743285787048, b: 0.04338540853215641, bc: 0.4337996325628845, c: 0.12419348991913495> ==> c"
      ]
     },
     "execution_count": 6,
     "metadata": {},
     "output_type": "execute_result"
    }
   ],
   "source": [
    "tau = profile.tau(strategy)\n",
    "tau"
   ]
  },
  {
   "cell_type": "markdown",
   "metadata": {},
   "source": [
    "Is the strategy an equilibrium for the given profile?"
   ]
  },
  {
   "cell_type": "code",
   "execution_count": 7,
   "metadata": {
    "ExecuteTime": {
     "end_time": "2020-02-24T12:46:10.623133Z",
     "start_time": "2020-02-24T12:46:10.615118Z"
    }
   },
   "outputs": [
    {
     "data": {
      "text/plain": [
       "EquilibriumStatus.NOT_EQUILIBRIUM"
      ]
     },
     "execution_count": 7,
     "metadata": {},
     "output_type": "execute_result"
    }
   ],
   "source": [
    "profile.is_equilibrium(strategy)"
   ]
  },
  {
   "cell_type": "markdown",
   "metadata": {},
   "source": [
    "Use iterated voting to search for an equilibrium:"
   ]
  },
  {
   "cell_type": "code",
   "execution_count": 8,
   "metadata": {
    "ExecuteTime": {
     "end_time": "2020-02-24T12:46:10.981493Z",
     "start_time": "2020-02-24T12:46:10.626107Z"
    }
   },
   "outputs": [],
   "source": [
    "result = profile.iterated_voting(init=strategy, n_max_episodes=1000, \n",
    "                                 ballot_update_ratio=0.1)\n",
    "cycle_taus_actual = result['cycle_taus_actual']\n",
    "cycle_strategies = result['cycle_strategies']"
   ]
  },
  {
   "cell_type": "code",
   "execution_count": 9,
   "metadata": {
    "ExecuteTime": {
     "end_time": "2020-02-24T12:46:10.988120Z",
     "start_time": "2020-02-24T12:46:10.983135Z"
    }
   },
   "outputs": [
    {
     "data": {
      "text/plain": [
       "[<ab: 0.09217265795211504, ac: 0.15399658416869957, b: 0.3601402683983966, c: 0.3936904894807888> ==> c]"
      ]
     },
     "execution_count": 9,
     "metadata": {},
     "output_type": "execute_result"
    }
   ],
   "source": [
    "cycle_taus_actual"
   ]
  },
  {
   "cell_type": "code",
   "execution_count": 10,
   "metadata": {
    "ExecuteTime": {
     "end_time": "2020-02-24T12:46:11.004084Z",
     "start_time": "2020-02-24T12:46:10.989118Z"
    }
   },
   "outputs": [
    {
     "name": "stdout",
     "output_type": "stream",
     "text": [
      "Convergence to an equilibrium.\n",
      "Limit strategy: <abc: ab, acb: ac, bac: utility-dependent (0.3697297732368909), bca: b, cab: utility-dependent (0.630270226763109), cba: c> ==> c\n",
      "Limit tau-vector: <ab: 0.09217265795211504, ac: 0.15399658416869957, b: 0.3601402683983966, c: 0.3936904894807888> ==> c\n"
     ]
    }
   ],
   "source": [
    "if len(cycle_taus_actual) == 0:\n",
    "    print('No convergence.')\n",
    "elif len(cycle_taus_actual) == 1:\n",
    "    print('Convergence to an equilibrium.')\n",
    "    print('Limit strategy: %s' % cycle_strategies[0])\n",
    "    print('Limit tau-vector: %s' % cycle_taus_actual[0])\n",
    "else:\n",
    "    print('Convergence to a cycle of cardinality %s.' % len(cycle_taus_actual))"
   ]
  },
  {
   "cell_type": "markdown",
   "metadata": {},
   "source": [
    "There is another version of iterated voting, ``fictitious_play``. It allows for update ratios that depend on time, it is faster, but it is not able to detect limit cycles (only convergence). Cf. Reference section for more information."
   ]
  },
  {
   "cell_type": "code",
   "execution_count": 11,
   "metadata": {
    "ExecuteTime": {
     "end_time": "2020-02-24T12:46:11.254784Z",
     "start_time": "2020-02-24T12:46:11.005077Z"
    }
   },
   "outputs": [],
   "source": [
    "from math import log\n",
    "result = profile.fictitious_play(init=strategy, n_max_episodes=1000, \n",
    "                                 perception_update_ratio=pa.one_over_log_t_plus_two,\n",
    "                                 ballot_update_ratio=0.1)\n",
    "limit_tau = result['tau']\n",
    "limit_strategy = result['strategy']"
   ]
  },
  {
   "cell_type": "code",
   "execution_count": 12,
   "metadata": {
    "ExecuteTime": {
     "end_time": "2020-02-24T12:46:11.261392Z",
     "start_time": "2020-02-24T12:46:11.256467Z"
    }
   },
   "outputs": [
    {
     "name": "stdout",
     "output_type": "stream",
     "text": [
      "Convergence to an equilibrium.\n",
      "Limit strategy: <abc: ab, acb: ac, bac: utility-dependent (0.3697297741192059), bca: b, cab: utility-dependent (0.6302702258807941), cba: c> ==> c\n",
      "Limit tau-vector: <ab: 0.09217265783987855, ac: 0.1539965845387502, b: 0.36014026851063324, c: 0.393690489110738> ==> c\n"
     ]
    }
   ],
   "source": [
    "if limit_tau is None:\n",
    "    print('No convergence.')\n",
    "else:\n",
    "    print('Convergence to an equilibrium.')\n",
    "    print('Limit strategy: %s' % limit_strategy)\n",
    "    print('Limit tau-vector: %s' % limit_tau)"
   ]
  },
  {
   "cell_type": "markdown",
   "metadata": {},
   "source": [
    "The methods ``iterated_voting`` and ``fictitious_play`` also provide the winning frequency of each candidate. In case of convergence to a limit or a periodical orbit, these frequencies are computed at the limit. In case of non-convergence, it gives the winning frequencies on the history of the process."
   ]
  },
  {
   "cell_type": "code",
   "execution_count": 13,
   "metadata": {
    "ExecuteTime": {
     "end_time": "2020-02-24T12:46:11.290673Z",
     "start_time": "2020-02-24T12:46:11.263386Z"
    }
   },
   "outputs": [
    {
     "data": {
      "text/plain": [
       "{c: 1}"
      ]
     },
     "execution_count": 13,
     "metadata": {},
     "output_type": "execute_result"
    }
   ],
   "source": [
    "result = profile.iterated_voting(init=strategy, n_max_episodes=10, \n",
    "                                 ballot_update_ratio=0.1)\n",
    "result['d_candidate_winning_frequency']"
   ]
  },
  {
   "cell_type": "markdown",
   "metadata": {},
   "source": [
    "If you want to convert these winning frequencies to an array, you can use the function ``d_candidate_value_to_array``:"
   ]
  },
  {
   "cell_type": "code",
   "execution_count": 14,
   "metadata": {
    "ExecuteTime": {
     "end_time": "2020-02-24T12:46:11.302605Z",
     "start_time": "2020-02-24T12:46:11.291635Z"
    }
   },
   "outputs": [
    {
     "data": {
      "text/plain": [
       "array([Fraction(0, 1), Fraction(0, 1), Fraction(1, 1)], dtype=object)"
      ]
     },
     "execution_count": 14,
     "metadata": {},
     "output_type": "execute_result"
    }
   ],
   "source": [
    "pa.d_candidate_value_to_array(result['d_candidate_winning_frequency'])"
   ]
  }
 ],
 "metadata": {
  "kernelspec": {
   "display_name": "Python 3",
   "language": "python",
   "name": "python3"
  },
  "language_info": {
   "codemirror_mode": {
    "name": "ipython",
    "version": 3
   },
   "file_extension": ".py",
   "mimetype": "text/x-python",
   "name": "python",
   "nbconvert_exporter": "python",
   "pygments_lexer": "ipython3",
   "version": "3.7.3"
  },
  "toc": {
   "base_numbering": 1,
   "nav_menu": {},
   "number_sections": false,
   "sideBar": true,
   "skip_h1_title": true,
   "title_cell": "Table of Contents",
   "title_sidebar": "Contents",
   "toc_cell": false,
   "toc_position": {},
   "toc_section_display": true,
   "toc_window_display": false
  }
 },
 "nbformat": 4,
 "nbformat_minor": 2
}
