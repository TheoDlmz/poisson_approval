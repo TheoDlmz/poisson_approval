{
 "cells": [
  {
   "cell_type": "markdown",
   "metadata": {},
   "source": [
    "# Tutorial on ProfileHistogram"
   ]
  },
  {
   "cell_type": "code",
   "execution_count": 1,
   "metadata": {
    "ExecuteTime": {
     "end_time": "2020-02-09T12:37:29.643410Z",
     "start_time": "2020-02-09T12:37:29.096872Z"
    }
   },
   "outputs": [],
   "source": [
    "from matplotlib import pyplot as plt\n",
    "import poisson_approval as pa"
   ]
  },
  {
   "cell_type": "markdown",
   "metadata": {},
   "source": [
    "## Profile"
   ]
  },
  {
   "cell_type": "markdown",
   "metadata": {},
   "source": [
    "Generate a random profile:"
   ]
  },
  {
   "cell_type": "code",
   "execution_count": 2,
   "metadata": {
    "ExecuteTime": {
     "end_time": "2020-02-09T12:37:29.653384Z",
     "start_time": "2020-02-09T12:37:29.644406Z"
    }
   },
   "outputs": [
    {
     "data": {
      "text/plain": [
       "<abc: 0.014093683812545721 [0.12902165 0.13038141 0.25386721 0.06899872 0.16094093 0.03105416\n",
       " 0.00436686 0.10496423 0.03151964 0.0848852 ], acb: 0.3556191653985178 [0.22578093 0.08992128 0.00935606 0.23376057 0.10210256 0.06074381\n",
       " 0.11135558 0.12683691 0.01338817 0.02675412], bac: 0.09120516299879933 [0.22223229 0.01154818 0.19434652 0.17189083 0.2592756  0.01385795\n",
       " 0.0068147  0.03255832 0.07861565 0.00885997], bca: 0.18985105472032138 [0.0139795  0.04927313 0.03575703 0.03517683 0.290629   0.14129978\n",
       " 0.15652724 0.03980198 0.11906643 0.11848907], cab: 0.1966167402725948 [0.04973717 0.02364423 0.07491768 0.10821358 0.03714189 0.09180188\n",
       " 0.20862091 0.053674   0.00449641 0.34775227], cba: 0.152614192797221 [0.07244281 0.08510434 0.19292881 0.03326211 0.03228866 0.23185513\n",
       " 0.06160289 0.12650861 0.14374293 0.0202637 ]> (Condorcet winner: c)"
      ]
     },
     "execution_count": 2,
     "metadata": {},
     "output_type": "execute_result"
    }
   ],
   "source": [
    "generator_profile = pa.GeneratorProfileHistogramUniform(n_bins = 10)\n",
    "profile = generator_profile()\n",
    "profile"
   ]
  },
  {
   "cell_type": "markdown",
   "metadata": {},
   "source": [
    "Share of each ranking:"
   ]
  },
  {
   "cell_type": "code",
   "execution_count": 3,
   "metadata": {
    "ExecuteTime": {
     "end_time": "2020-02-09T12:37:29.667379Z",
     "start_time": "2020-02-09T12:37:29.654380Z"
    }
   },
   "outputs": [
    {
     "data": {
      "text/plain": [
       "{abc: 0.014093683812545721, acb: 0.3556191653985178, bac: 0.09120516299879933, bca: 0.18985105472032138, cab: 0.1966167402725948, cba: 0.152614192797221}"
      ]
     },
     "execution_count": 3,
     "metadata": {},
     "output_type": "execute_result"
    }
   ],
   "source": [
    "profile.d_ranking_share"
   ]
  },
  {
   "cell_type": "markdown",
   "metadata": {},
   "source": [
    "Distribution of the utilities for voters $abc$:"
   ]
  },
  {
   "cell_type": "code",
   "execution_count": 4,
   "metadata": {
    "ExecuteTime": {
     "end_time": "2020-02-09T12:37:29.830929Z",
     "start_time": "2020-02-09T12:37:29.668344Z"
    }
   },
   "outputs": [
    {
     "data": {
      "text/plain": [
       "<matplotlib.legend.Legend at 0x1e407fede10>"
      ]
     },
     "execution_count": 4,
     "metadata": {},
     "output_type": "execute_result"
    },
    {
     "data": {
      "image/png": "[encoded data removed]",
      "text/plain": [
       "<Figure size 432x288 with 1 Axes>"
      ]
     },
     "metadata": {
      "needs_background": "light"
     },
     "output_type": "display_data"
    }
   ],
   "source": [
    "ranking = 'abc'\n",
    "profile.plot_histogram(ranking, label='Histogram')\n",
    "profile.plot_cdf(ranking, label='CDF')\n",
    "plt.ylabel('Proportion of the voters %s' % ranking)\n",
    "plt.legend()"
   ]
  },
  {
   "cell_type": "markdown",
   "metadata": {},
   "source": [
    "## Strategic Analysis"
   ]
  },
  {
   "cell_type": "markdown",
   "metadata": {},
   "source": [
    "Generate a random strategy:"
   ]
  },
  {
   "cell_type": "code",
   "execution_count": 5,
   "metadata": {
    "ExecuteTime": {
     "end_time": "2020-02-09T12:37:29.848861Z",
     "start_time": "2020-02-09T12:37:29.837899Z"
    }
   },
   "outputs": [
    {
     "data": {
      "text/plain": [
       "<abc: utility-dependent (0.894157491702005), acb: utility-dependent (0.985992744194446), bac: utility-dependent (0.7621812886787621), bca: utility-dependent (0.15397289700739614), cab: utility-dependent (0.32639579468120816), cba: utility-dependent (0.7737421645782198)>"
      ]
     },
     "execution_count": 5,
     "metadata": {},
     "output_type": "execute_result"
    }
   ],
   "source": [
    "generator_strategy = pa.GeneratorStrategyThresholdUniform()\n",
    "strategy = generator_strategy()\n",
    "strategy"
   ]
  },
  {
   "cell_type": "markdown",
   "metadata": {},
   "source": [
    "Tau vector (ballot shares) associated to the strategy in the given profile:"
   ]
  },
  {
   "cell_type": "code",
   "execution_count": 6,
   "metadata": {
    "ExecuteTime": {
     "end_time": "2020-02-09T12:37:29.865864Z",
     "start_time": "2020-02-09T12:37:29.850855Z"
    }
   },
   "outputs": [
    {
     "data": {
      "text/plain": [
       "<a: 0.3671578605482438, ab: 0.010323548454573821, ac: 0.16317522182029354, b: 0.08980686136337036, bc: 0.21224744885590724, c: 0.15728905895761125> ==> a"
      ]
     },
     "execution_count": 6,
     "metadata": {},
     "output_type": "execute_result"
    }
   ],
   "source": [
    "tau = profile.tau(strategy)\n",
    "tau"
   ]
  },
  {
   "cell_type": "markdown",
   "metadata": {},
   "source": [
    "Is the strategy an equilibrium for the given profile?"
   ]
  },
  {
   "cell_type": "code",
   "execution_count": 7,
   "metadata": {
    "ExecuteTime": {
     "end_time": "2020-02-09T12:37:29.877786Z",
     "start_time": "2020-02-09T12:37:29.867810Z"
    }
   },
   "outputs": [
    {
     "data": {
      "text/plain": [
       "EquilibriumStatus.NOT_EQUILIBRIUM"
      ]
     },
     "execution_count": 7,
     "metadata": {},
     "output_type": "execute_result"
    }
   ],
   "source": [
    "profile.is_equilibrium(strategy)"
   ]
  },
  {
   "cell_type": "markdown",
   "metadata": {},
   "source": [
    "Use iterated voting to search for an equilibrium:"
   ]
  },
  {
   "cell_type": "code",
   "execution_count": 8,
   "metadata": {
    "ExecuteTime": {
     "end_time": "2020-02-09T12:37:30.230211Z",
     "start_time": "2020-02-09T12:37:29.880775Z"
    }
   },
   "outputs": [],
   "source": [
    "result = profile.iterated_voting(strategy_ini=strategy, n_max_episodes=1000, \n",
    "                                 ballot_update_ratio=0.1)\n",
    "cycle_taus_actual = result['cycle_taus_actual']\n",
    "cycle_strategies = result['cycle_strategies']"
   ]
  },
  {
   "cell_type": "code",
   "execution_count": 9,
   "metadata": {
    "ExecuteTime": {
     "end_time": "2020-02-09T12:37:30.238171Z",
     "start_time": "2020-02-09T12:37:30.231836Z"
    }
   },
   "outputs": [
    {
     "data": {
      "text/plain": [
       "[<a: 0.3622605056056952, ab: 0.09865750660416805, bc: 0.23099043015712836, c: 0.30809155763300883> ==> c]"
      ]
     },
     "execution_count": 9,
     "metadata": {},
     "output_type": "execute_result"
    }
   ],
   "source": [
    "cycle_taus_actual"
   ]
  },
  {
   "cell_type": "code",
   "execution_count": 10,
   "metadata": {
    "ExecuteTime": {
     "end_time": "2020-02-09T12:37:30.255772Z",
     "start_time": "2020-02-09T12:37:30.239814Z"
    }
   },
   "outputs": [
    {
     "name": "stdout",
     "output_type": "stream",
     "text": [
      "Convergence to an equilibrium.\n",
      "Limit strategy: <abc: utility-dependent (0.2834393168410417), acb: a, bac: ab, bca: bc, cab: c, cba: utility-dependent (0.7165606831589585)> ==> c\n",
      "Limit tau-vector: <a: 0.3622605056056952, ab: 0.09865750660416805, bc: 0.23099043015712836, c: 0.30809155763300883> ==> c\n"
     ]
    }
   ],
   "source": [
    "if len(cycle_taus_actual) == 0:\n",
    "    print('No convergence.')\n",
    "elif len(cycle_taus_actual) == 1:\n",
    "    print('Convergence to an equilibrium.')\n",
    "    print('Limit strategy: %s' % cycle_strategies[0])\n",
    "    print('Limit tau-vector: %s' % cycle_taus_actual[0])\n",
    "else:\n",
    "    print('Convergence to a cycle of cardinality %s.' % len(cycle_taus_actual))"
   ]
  },
  {
   "cell_type": "markdown",
   "metadata": {},
   "source": [
    "There is another version of iterated voting, ``fictitious_play``. It allows for update ratios that depend on time, it is faster, but it is not able to detect limit cycles (only convergence). Cf. Reference section for more information."
   ]
  },
  {
   "cell_type": "code",
   "execution_count": 11,
   "metadata": {
    "ExecuteTime": {
     "end_time": "2020-02-09T12:37:30.543377Z",
     "start_time": "2020-02-09T12:37:30.267749Z"
    }
   },
   "outputs": [],
   "source": [
    "from math import log\n",
    "result = profile.fictitious_play(strategy_ini=strategy, n_max_episodes=1000, \n",
    "                                 perception_update_ratio=lambda t: 1 / log(t + 2),\n",
    "                                 ballot_update_ratio=0.1)\n",
    "limit_tau = result['tau']\n",
    "limit_strategy = result['strategy']"
   ]
  },
  {
   "cell_type": "code",
   "execution_count": 12,
   "metadata": {
    "ExecuteTime": {
     "end_time": "2020-02-09T12:37:30.549984Z",
     "start_time": "2020-02-09T12:37:30.544999Z"
    }
   },
   "outputs": [
    {
     "name": "stdout",
     "output_type": "stream",
     "text": [
      "Convergence to an equilibrium.\n",
      "Limit strategy: <abc: utility-dependent (0.2834393159072892), acb: a, bac: ab, bca: bc, cab: c, cba: utility-dependent (0.7165606840927107)> ==> c\n",
      "Limit tau-vector: <a: 0.36226050557228584, ab: 0.098657506637577, bc: 0.2309904299768487, c: 0.30809155781328845> ==> c\n"
     ]
    }
   ],
   "source": [
    "if limit_tau is None:\n",
    "    print('No convergence.')\n",
    "else:\n",
    "    print('Convergence to an equilibrium.')\n",
    "    print('Limit strategy: %s' % limit_strategy)\n",
    "    print('Limit tau-vector: %s' % limit_tau)"
   ]
  },
  {
   "cell_type": "markdown",
   "metadata": {},
   "source": [
    "The methods ``iterated_voting`` and ``fictitious_play`` also provide the winning frequency of each candidate. In case of convergence to a limit or a periodical orbit, these frequencies are computed at the limit. In case of non-convergence, it gives the winning frequencies on the history of the process."
   ]
  },
  {
   "cell_type": "code",
   "execution_count": 13,
   "metadata": {
    "ExecuteTime": {
     "end_time": "2020-02-09T12:37:30.592870Z",
     "start_time": "2020-02-09T12:37:30.550982Z"
    }
   },
   "outputs": [
    {
     "data": {
      "text/plain": [
       "{a: 1/11, c: 10/11}"
      ]
     },
     "execution_count": 13,
     "metadata": {},
     "output_type": "execute_result"
    }
   ],
   "source": [
    "result = profile.iterated_voting(strategy_ini=strategy, n_max_episodes=10, \n",
    "                                 ballot_update_ratio=0.1)\n",
    "result['d_candidate_winning_frequency']"
   ]
  }
 ],
 "metadata": {
  "kernelspec": {
   "display_name": "Python 3",
   "language": "python",
   "name": "python3"
  },
  "language_info": {
   "codemirror_mode": {
    "name": "ipython",
    "version": 3
   },
   "file_extension": ".py",
   "mimetype": "text/x-python",
   "name": "python",
   "nbconvert_exporter": "python",
   "pygments_lexer": "ipython3",
   "version": "3.7.3"
  },
  "toc": {
   "base_numbering": 1,
   "nav_menu": {},
   "number_sections": false,
   "sideBar": true,
   "skip_h1_title": true,
   "title_cell": "Table of Contents",
   "title_sidebar": "Contents",
   "toc_cell": false,
   "toc_position": {},
   "toc_section_display": true,
   "toc_window_display": false
  }
 },
 "nbformat": 4,
 "nbformat_minor": 2
}
