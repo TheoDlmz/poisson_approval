{
 "cells": [
  {
   "cell_type": "markdown",
   "metadata": {},
   "source": [
    "# Tutorial on ProfileHistogram"
   ]
  },
  {
   "cell_type": "code",
   "execution_count": 1,
   "metadata": {
    "ExecuteTime": {
     "end_time": "2020-02-09T15:17:48.228298Z",
     "start_time": "2020-02-09T15:17:47.144982Z"
    }
   },
   "outputs": [],
   "source": [
    "from matplotlib import pyplot as plt\n",
    "import poisson_approval as pa"
   ]
  },
  {
   "cell_type": "markdown",
   "metadata": {},
   "source": [
    "## Profile"
   ]
  },
  {
   "cell_type": "markdown",
   "metadata": {},
   "source": [
    "Generate a random profile:"
   ]
  },
  {
   "cell_type": "code",
   "execution_count": 2,
   "metadata": {
    "ExecuteTime": {
     "end_time": "2020-02-09T15:17:48.244162Z",
     "start_time": "2020-02-09T15:17:48.231197Z"
    }
   },
   "outputs": [
    {
     "data": {
      "text/plain": [
       "<abc: 0.18890938560894532 [0.13393351 0.02013136 0.07476864 0.07444938 0.03667761 0.06322726\n",
       " 0.45445469 0.02780528 0.02505587 0.0894964 ], acb: 0.33224687847990764 [0.00793336 0.11552382 0.11605388 0.08164517 0.008182   0.06331206\n",
       " 0.12628987 0.0157799  0.20739576 0.25788418], bac: 0.044577597402163494 [0.01811799 0.10388619 0.00862752 0.16048967 0.03052624 0.14443829\n",
       " 0.32283677 0.11659627 0.09335992 0.00112113], bca: 0.3107857630238704 [0.08705945 0.21534907 0.01019125 0.25125925 0.11310234 0.00800757\n",
       " 0.13589862 0.09217074 0.03798775 0.04897397], cab: 0.0012305774861577357 [0.21126279 0.05016869 0.2848006  0.13228294 0.03485529 0.08352746\n",
       " 0.01191863 0.08321433 0.05829271 0.04967656], cba: 0.12224979799895541 [0.00863964 0.13899273 0.00551384 0.0737621  0.25031811 0.08505295\n",
       " 0.08895789 0.12108927 0.12362433 0.10404915]> (Condorcet winner: a)"
      ]
     },
     "execution_count": 2,
     "metadata": {},
     "output_type": "execute_result"
    }
   ],
   "source": [
    "generator_profile = pa.GeneratorProfileHistogramUniform(n_bins = 10)\n",
    "profile = generator_profile()\n",
    "profile"
   ]
  },
  {
   "cell_type": "markdown",
   "metadata": {},
   "source": [
    "Share of each ranking:"
   ]
  },
  {
   "cell_type": "code",
   "execution_count": 3,
   "metadata": {
    "ExecuteTime": {
     "end_time": "2020-02-09T15:17:48.258089Z",
     "start_time": "2020-02-09T15:17:48.249113Z"
    }
   },
   "outputs": [
    {
     "data": {
      "text/plain": [
       "{abc: 0.18890938560894532, acb: 0.33224687847990764, bac: 0.044577597402163494, bca: 0.3107857630238704, cab: 0.0012305774861577357, cba: 0.12224979799895541}"
      ]
     },
     "execution_count": 3,
     "metadata": {},
     "output_type": "execute_result"
    }
   ],
   "source": [
    "profile.d_ranking_share"
   ]
  },
  {
   "cell_type": "markdown",
   "metadata": {},
   "source": [
    "Distribution of the utilities for voters $abc$:"
   ]
  },
  {
   "cell_type": "code",
   "execution_count": 4,
   "metadata": {
    "ExecuteTime": {
     "end_time": "2020-02-09T15:17:48.666000Z",
     "start_time": "2020-02-09T15:17:48.260154Z"
    }
   },
   "outputs": [
    {
     "data": {
      "text/plain": [
       "<matplotlib.legend.Legend at 0x1ec71c4b4a8>"
      ]
     },
     "execution_count": 4,
     "metadata": {},
     "output_type": "execute_result"
    },
    {
     "data": {
      "image/png": "[encoded data removed]",
      "text/plain": [
       "<Figure size 432x288 with 1 Axes>"
      ]
     },
     "metadata": {
      "needs_background": "light"
     },
     "output_type": "display_data"
    }
   ],
   "source": [
    "ranking = 'abc'\n",
    "profile.plot_histogram(ranking, label='Histogram')\n",
    "profile.plot_cdf(ranking, label='CDF')\n",
    "plt.ylabel('Proportion of the voters %s' % ranking)\n",
    "plt.legend()"
   ]
  },
  {
   "cell_type": "markdown",
   "metadata": {},
   "source": [
    "## Strategic Analysis"
   ]
  },
  {
   "cell_type": "markdown",
   "metadata": {},
   "source": [
    "Generate a random strategy:"
   ]
  },
  {
   "cell_type": "code",
   "execution_count": 5,
   "metadata": {
    "ExecuteTime": {
     "end_time": "2020-02-09T15:17:48.675971Z",
     "start_time": "2020-02-09T15:17:48.669072Z"
    }
   },
   "outputs": [
    {
     "data": {
      "text/plain": [
       "<abc: utility-dependent (0.3966435378026776), acb: utility-dependent (0.05249431462970078), bac: utility-dependent (0.33759698745669897), bca: utility-dependent (0.7160604617027472), cab: utility-dependent (0.4813472196359111), cba: utility-dependent (0.006722412657342858)>"
      ]
     },
     "execution_count": 5,
     "metadata": {},
     "output_type": "execute_result"
    }
   ],
   "source": [
    "generator_strategy = pa.GeneratorStrategyThresholdUniform()\n",
    "strategy = generator_strategy()\n",
    "strategy"
   ]
  },
  {
   "cell_type": "markdown",
   "metadata": {},
   "source": [
    "Tau vector (ballot shares) associated to the strategy in the given profile:"
   ]
  },
  {
   "cell_type": "code",
   "execution_count": 6,
   "metadata": {
    "ExecuteTime": {
     "end_time": "2020-02-09T15:17:48.694921Z",
     "start_time": "2020-02-09T15:17:48.678326Z"
    }
   },
   "outputs": [
    {
     "data": {
      "text/plain": [
       "<a: 0.05820458855672905, ab: 0.1681530300072475, ac: 0.3312239364285123, b: 0.26822754898438095, bc: 0.1732500374013703, c: 0.0009408586217599765> ==> b"
      ]
     },
     "execution_count": 6,
     "metadata": {},
     "output_type": "execute_result"
    }
   ],
   "source": [
    "tau = profile.tau(strategy)\n",
    "tau"
   ]
  },
  {
   "cell_type": "markdown",
   "metadata": {},
   "source": [
    "Is the strategy an equilibrium for the given profile?"
   ]
  },
  {
   "cell_type": "code",
   "execution_count": 7,
   "metadata": {
    "ExecuteTime": {
     "end_time": "2020-02-09T15:17:48.708920Z",
     "start_time": "2020-02-09T15:17:48.697211Z"
    }
   },
   "outputs": [
    {
     "data": {
      "text/plain": [
       "EquilibriumStatus.NOT_EQUILIBRIUM"
      ]
     },
     "execution_count": 7,
     "metadata": {},
     "output_type": "execute_result"
    }
   ],
   "source": [
    "profile.is_equilibrium(strategy)"
   ]
  },
  {
   "cell_type": "markdown",
   "metadata": {},
   "source": [
    "Use iterated voting to search for an equilibrium:"
   ]
  },
  {
   "cell_type": "code",
   "execution_count": 8,
   "metadata": {
    "ExecuteTime": {
     "end_time": "2020-02-09T15:17:50.985992Z",
     "start_time": "2020-02-09T15:17:48.710879Z"
    }
   },
   "outputs": [],
   "source": [
    "result = profile.iterated_voting(strategy_ini=strategy, n_max_episodes=1000, \n",
    "                                 ballot_update_ratio=0.1)\n",
    "cycle_taus_actual = result['cycle_taus_actual']\n",
    "cycle_strategies = result['cycle_strategies']"
   ]
  },
  {
   "cell_type": "code",
   "execution_count": 9,
   "metadata": {
    "ExecuteTime": {
     "end_time": "2020-02-09T15:17:50.994770Z",
     "start_time": "2020-02-09T15:17:50.989787Z"
    }
   },
   "outputs": [
    {
     "data": {
      "text/plain": [
       "[]"
      ]
     },
     "execution_count": 9,
     "metadata": {},
     "output_type": "execute_result"
    }
   ],
   "source": [
    "cycle_taus_actual"
   ]
  },
  {
   "cell_type": "code",
   "execution_count": 10,
   "metadata": {
    "ExecuteTime": {
     "end_time": "2020-02-09T15:17:51.016729Z",
     "start_time": "2020-02-09T15:17:50.996765Z"
    }
   },
   "outputs": [
    {
     "name": "stdout",
     "output_type": "stream",
     "text": [
      "No convergence.\n"
     ]
    }
   ],
   "source": [
    "if len(cycle_taus_actual) == 0:\n",
    "    print('No convergence.')\n",
    "elif len(cycle_taus_actual) == 1:\n",
    "    print('Convergence to an equilibrium.')\n",
    "    print('Limit strategy: %s' % cycle_strategies[0])\n",
    "    print('Limit tau-vector: %s' % cycle_taus_actual[0])\n",
    "else:\n",
    "    print('Convergence to a cycle of cardinality %s.' % len(cycle_taus_actual))"
   ]
  },
  {
   "cell_type": "markdown",
   "metadata": {},
   "source": [
    "There is another version of iterated voting, ``fictitious_play``. It allows for update ratios that depend on time, it is faster, but it is not able to detect limit cycles (only convergence). Cf. Reference section for more information."
   ]
  },
  {
   "cell_type": "code",
   "execution_count": 11,
   "metadata": {
    "ExecuteTime": {
     "end_time": "2020-02-09T15:17:51.564257Z",
     "start_time": "2020-02-09T15:17:51.018706Z"
    }
   },
   "outputs": [],
   "source": [
    "from math import log\n",
    "result = profile.fictitious_play(strategy_ini=strategy, n_max_episodes=1000, \n",
    "                                 perception_update_ratio=pa.one_over_log_t_plus_two,\n",
    "                                 ballot_update_ratio=0.1)\n",
    "limit_tau = result['tau']\n",
    "limit_strategy = result['strategy']"
   ]
  },
  {
   "cell_type": "code",
   "execution_count": 12,
   "metadata": {
    "ExecuteTime": {
     "end_time": "2020-02-09T15:17:51.573985Z",
     "start_time": "2020-02-09T15:17:51.566244Z"
    }
   },
   "outputs": [
    {
     "name": "stdout",
     "output_type": "stream",
     "text": [
      "Convergence to an equilibrium.\n",
      "Limit strategy: <abc: a, acb: utility-dependent (0.9269555740385537), bac: b, bca: utility-dependent (0.07304442596144627), cab: ac, cba: bc> ==> a\n",
      "Limit tau-vector: <a: 0.458570913519187, ac: 0.0638159280558237, b: 0.06434110843041413, bc: 0.4132720499945752> ==> a\n"
     ]
    }
   ],
   "source": [
    "if limit_tau is None:\n",
    "    print('No convergence.')\n",
    "else:\n",
    "    print('Convergence to an equilibrium.')\n",
    "    print('Limit strategy: %s' % limit_strategy)\n",
    "    print('Limit tau-vector: %s' % limit_tau)"
   ]
  },
  {
   "cell_type": "markdown",
   "metadata": {},
   "source": [
    "The methods ``iterated_voting`` and ``fictitious_play`` also provide the winning frequency of each candidate. In case of convergence to a limit or a periodical orbit, these frequencies are computed at the limit. In case of non-convergence, it gives the winning frequencies on the history of the process."
   ]
  },
  {
   "cell_type": "code",
   "execution_count": 13,
   "metadata": {
    "ExecuteTime": {
     "end_time": "2020-02-09T15:17:51.608129Z",
     "start_time": "2020-02-09T15:17:51.575217Z"
    }
   },
   "outputs": [
    {
     "data": {
      "text/plain": [
       "{a: 3/11, b: 8/11}"
      ]
     },
     "execution_count": 13,
     "metadata": {},
     "output_type": "execute_result"
    }
   ],
   "source": [
    "result = profile.iterated_voting(strategy_ini=strategy, n_max_episodes=10, \n",
    "                                 ballot_update_ratio=0.1)\n",
    "result['d_candidate_winning_frequency']"
   ]
  },
  {
   "cell_type": "markdown",
   "metadata": {},
   "source": [
    "If you want to convert these winning frequencies to an array, you can use the function ``d_candidate_value_to_array``:"
   ]
  },
  {
   "cell_type": "code",
   "execution_count": 14,
   "metadata": {
    "ExecuteTime": {
     "end_time": "2020-02-09T15:17:51.616109Z",
     "start_time": "2020-02-09T15:17:51.611121Z"
    }
   },
   "outputs": [
    {
     "data": {
      "text/plain": [
       "array([Fraction(3, 11), Fraction(8, 11), 0], dtype=object)"
      ]
     },
     "execution_count": 14,
     "metadata": {},
     "output_type": "execute_result"
    }
   ],
   "source": [
    "pa.d_candidate_value_to_array(result['d_candidate_winning_frequency'])"
   ]
  }
 ],
 "metadata": {
  "kernelspec": {
   "display_name": "Python 3",
   "language": "python",
   "name": "python3"
  },
  "language_info": {
   "codemirror_mode": {
    "name": "ipython",
    "version": 3
   },
   "file_extension": ".py",
   "mimetype": "text/x-python",
   "name": "python",
   "nbconvert_exporter": "python",
   "pygments_lexer": "ipython3",
   "version": "3.7.3"
  },
  "toc": {
   "base_numbering": 1,
   "nav_menu": {},
   "number_sections": false,
   "sideBar": true,
   "skip_h1_title": true,
   "title_cell": "Table of Contents",
   "title_sidebar": "Contents",
   "toc_cell": false,
   "toc_position": {},
   "toc_section_display": true,
   "toc_window_display": false
  }
 },
 "nbformat": 4,
 "nbformat_minor": 2
}
