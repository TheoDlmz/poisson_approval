{
 "cells": [
  {
   "cell_type": "markdown",
   "metadata": {},
   "source": [
    "# More Classes of Profiles"
   ]
  },
  {
   "cell_type": "code",
   "execution_count": 1,
   "metadata": {
    "ExecuteTime": {
     "end_time": "2020-03-12T18:18:16.077036Z",
     "start_time": "2020-03-12T18:18:14.339366Z"
    }
   },
   "outputs": [],
   "source": [
    "from fractions import Fraction\n",
    "from matplotlib import pyplot as plt\n",
    "import poisson_approval as pa"
   ]
  },
  {
   "cell_type": "markdown",
   "metadata": {},
   "source": [
    "Up to now, we have always used the class of profiles ProfileNoisyDiscrete. The package provides other kinds of profiles."
   ]
  },
  {
   "cell_type": "markdown",
   "metadata": {},
   "source": [
    "## ProfileHistogram"
   ]
  },
  {
   "cell_type": "markdown",
   "metadata": {},
   "source": [
    "ProfileHistogram is probably the closest class to ProfileNoisyDiscrete, because both are:\n",
    "\n",
    "* *Cardinal*: the voters have explicit utilities (unlike ProfileOrdinal, cf. below).\n",
    "* *Continuous*: there is no concentration of voters on a specific utility (unlike ProfileDiscrete, cf. below)."
   ]
  },
  {
   "cell_type": "markdown",
   "metadata": {},
   "source": [
    "A ProfileHistogram can be defined manually (cf. Reference section), but it is more common to use a random factory:"
   ]
  },
  {
   "cell_type": "code",
   "execution_count": 2,
   "metadata": {
    "ExecuteTime": {
     "end_time": "2020-03-12T18:18:16.090720Z",
     "start_time": "2020-03-12T18:18:16.078713Z"
    }
   },
   "outputs": [
    {
     "data": {
      "text/plain": [
       "<abc: 3/100 [Fraction(1, 25) Fraction(1, 10) Fraction(1, 100) Fraction(1, 20)\n",
       " Fraction(1, 10) Fraction(7, 50) Fraction(3, 25) Fraction(17, 100)\n",
       " Fraction(27, 100) 0], acb: 7/50 [Fraction(1, 5) 0 Fraction(1, 100) Fraction(1, 100) Fraction(9, 100)\n",
       " Fraction(11, 50) Fraction(3, 50) Fraction(1, 25) Fraction(19, 100)\n",
       " Fraction(9, 50)], bac: 1/100 [0 Fraction(1, 25) Fraction(1, 4) 0 Fraction(17, 100) Fraction(9, 50)\n",
       " Fraction(9, 100) Fraction(1, 20) Fraction(7, 50) Fraction(2, 25)], bca: 9/100 [Fraction(1, 20) Fraction(7, 50) Fraction(1, 25) Fraction(3, 50)\n",
       " Fraction(1, 25) Fraction(3, 20) Fraction(11, 100) Fraction(29, 100)\n",
       " Fraction(2, 25) Fraction(1, 25)], cab: 21/100 [Fraction(29, 100) Fraction(3, 25) Fraction(7, 100) Fraction(1, 25)\n",
       " Fraction(2, 25) 0 Fraction(37, 100) Fraction(1, 100) Fraction(1, 100)\n",
       " Fraction(1, 100)], cba: 13/25 [Fraction(1, 20) Fraction(6, 25) Fraction(3, 100) Fraction(23, 100)\n",
       " Fraction(9, 50) 0 Fraction(1, 10) Fraction(1, 25) Fraction(1, 25)\n",
       " Fraction(9, 100)]> (Condorcet winner: c)"
      ]
     },
     "execution_count": 2,
     "metadata": {},
     "output_type": "execute_result"
    }
   ],
   "source": [
    "rand_profile = pa.RandProfileHistogramGridUniform(\n",
    "    denominator=100,\n",
    "    denominator_bins=100,\n",
    "    n_bins=10\n",
    ")\n",
    "profile = rand_profile()\n",
    "profile"
   ]
  },
  {
   "cell_type": "markdown",
   "metadata": {},
   "source": [
    "In this example, the share of voters $abc$ is:"
   ]
  },
  {
   "cell_type": "code",
   "execution_count": 3,
   "metadata": {
    "ExecuteTime": {
     "end_time": "2020-03-12T18:18:16.105641Z",
     "start_time": "2020-03-12T18:18:16.092676Z"
    }
   },
   "outputs": [
    {
     "data": {
      "text/plain": [
       "Fraction(3, 100)"
      ]
     },
     "execution_count": 3,
     "metadata": {},
     "output_type": "execute_result"
    }
   ],
   "source": [
    "profile.abc"
   ]
  },
  {
   "cell_type": "markdown",
   "metadata": {},
   "source": [
    "The distribution of their utility for their middle candidate $b$ is given by a histogram:"
   ]
  },
  {
   "cell_type": "code",
   "execution_count": 4,
   "metadata": {
    "ExecuteTime": {
     "end_time": "2020-03-12T18:18:16.115615Z",
     "start_time": "2020-03-12T18:18:16.106639Z"
    }
   },
   "outputs": [
    {
     "data": {
      "text/plain": [
       "array([Fraction(1, 25), Fraction(1, 10), Fraction(1, 100),\n",
       "       Fraction(1, 20), Fraction(1, 10), Fraction(7, 50), Fraction(3, 25),\n",
       "       Fraction(17, 100), Fraction(27, 100), 0], dtype=object)"
      ]
     },
     "execution_count": 4,
     "metadata": {},
     "output_type": "execute_result"
    }
   ],
   "source": [
    "profile.d_ranking_histogram['abc']"
   ]
  },
  {
   "cell_type": "markdown",
   "metadata": {},
   "source": [
    "The above notation means for example that for a voter $abc$, the probability that her utility for her second candidate $b$ is in the first of the ten bins (i.e. between 0 and 0.1) is:"
   ]
  },
  {
   "cell_type": "code",
   "execution_count": 5,
   "metadata": {
    "ExecuteTime": {
     "end_time": "2020-03-12T18:18:16.125625Z",
     "start_time": "2020-03-12T18:18:16.116612Z"
    }
   },
   "outputs": [
    {
     "data": {
      "text/plain": [
       "Fraction(1, 25)"
      ]
     },
     "execution_count": 5,
     "metadata": {},
     "output_type": "execute_result"
    }
   ],
   "source": [
    "profile.d_ranking_histogram['abc'][0]"
   ]
  },
  {
   "cell_type": "markdown",
   "metadata": {},
   "source": [
    "Voters in a bin are distributed uniformly. This histogram and the CDF of this distribution can be visualized by:"
   ]
  },
  {
   "cell_type": "code",
   "execution_count": 6,
   "metadata": {
    "ExecuteTime": {
     "end_time": "2020-03-12T18:18:16.306105Z",
     "start_time": "2020-03-12T18:18:16.127583Z"
    }
   },
   "outputs": [
    {
     "data": {
      "text/plain": [
       "<matplotlib.legend.Legend at 0x26664dcfb00>"
      ]
     },
     "execution_count": 6,
     "metadata": {},
     "output_type": "execute_result"
    },
    {
     "data": {
      "image/png": "[encoded data removed]",
      "text/plain": [
       "<Figure size 432x288 with 1 Axes>"
      ]
     },
     "metadata": {
      "needs_background": "light"
     },
     "output_type": "display_data"
    }
   ],
   "source": [
    "ranking = 'abc'\n",
    "profile.plot_histogram(ranking, label='Histogram')\n",
    "profile.plot_cdf(ranking, label='CDF')\n",
    "plt.ylabel('Proportion of the voters %s' % ranking)\n",
    "plt.legend()"
   ]
  },
  {
   "cell_type": "markdown",
   "metadata": {},
   "source": [
    "All other features are defined as usual. For example:"
   ]
  },
  {
   "cell_type": "code",
   "execution_count": 7,
   "metadata": {
    "ExecuteTime": {
     "end_time": "2020-03-12T18:18:16.315087Z",
     "start_time": "2020-03-12T18:18:16.308100Z"
    }
   },
   "outputs": [
    {
     "data": {
      "text/plain": [
       "<abc: utility-dependent (19/25), acb: utility-dependent (59/100), bac: utility-dependent (27/100), bca: utility-dependent (67/100), cab: utility-dependent (83/100), cba: utility-dependent (7/20)> ==> c"
      ]
     },
     "execution_count": 7,
     "metadata": {},
     "output_type": "execute_result"
    }
   ],
   "source": [
    "rand_strategy = pa.RandStrategyThresholdGridUniform(denominator_threshold=100, profile=profile)\n",
    "strategy = rand_strategy()\n",
    "strategy"
   ]
  },
  {
   "cell_type": "code",
   "execution_count": 8,
   "metadata": {
    "ExecuteTime": {
     "end_time": "2020-03-12T18:18:16.333052Z",
     "start_time": "2020-03-12T18:18:16.318073Z"
    }
   },
   "outputs": [
    {
     "data": {
      "text/plain": [
       "EquilibriumStatus.NOT_EQUILIBRIUM"
      ]
     },
     "execution_count": 8,
     "metadata": {},
     "output_type": "execute_result"
    }
   ],
   "source": [
    "strategy.is_equilibrium"
   ]
  },
  {
   "cell_type": "markdown",
   "metadata": {},
   "source": [
    "## ProfileTwelve"
   ]
  },
  {
   "cell_type": "markdown",
   "metadata": {},
   "source": [
    "In a ProfileTwelve, the voters behave as if their utility for their middle candidate was either infinitely close to 0 or to 1. For example, voters with the ranking $abc$ are split in two categories: voters ``a_bc`` (whose utility for $b$ is very low) and voters ``ab_c`` (whose utility for $b$ is very high). This can be interpreted in two ways:\n",
    "\n",
    "* As a model of their preferences: voters ``a_bc`` have a utility for $b$ that is very close to 1,\n",
    "* As a behavioral model: when their best response is utility-dependent, voters ``a_bc`` always choose to vote $a$ only, no matter the utility threshold of the best response."
   ]
  },
  {
   "cell_type": "markdown",
   "metadata": {},
   "source": [
    "Create a profile:"
   ]
  },
  {
   "cell_type": "code",
   "execution_count": 9,
   "metadata": {
    "ExecuteTime": {
     "end_time": "2020-03-12T18:18:16.345036Z",
     "start_time": "2020-03-12T18:18:16.336025Z"
    }
   },
   "outputs": [
    {
     "data": {
      "text/plain": [
       "<ab_c: 1/10, b_ac: 3/5, c_ab: 1/5, ca_b: 1/10> (Condorcet winner: b)"
      ]
     },
     "execution_count": 9,
     "metadata": {},
     "output_type": "execute_result"
    }
   ],
   "source": [
    "profile = pa.ProfileTwelve({'ab_c': Fraction(1, 10), 'b_ac': Fraction(6, 10),\n",
    "                            'c_ab': Fraction(2, 10), 'ca_b': Fraction(1, 10)})\n",
    "profile"
   ]
  },
  {
   "cell_type": "markdown",
   "metadata": {},
   "source": [
    "Share of voters ``ab_c``:"
   ]
  },
  {
   "cell_type": "code",
   "execution_count": 10,
   "metadata": {
    "ExecuteTime": {
     "end_time": "2020-03-12T18:18:16.356971Z",
     "start_time": "2020-03-12T18:18:16.346996Z"
    }
   },
   "outputs": [
    {
     "data": {
      "text/plain": [
       "Fraction(1, 10)"
      ]
     },
     "execution_count": 10,
     "metadata": {},
     "output_type": "execute_result"
    }
   ],
   "source": [
    "profile.ab_c"
   ]
  },
  {
   "cell_type": "markdown",
   "metadata": {},
   "source": [
    "Which types are in the profile?"
   ]
  },
  {
   "cell_type": "code",
   "execution_count": 11,
   "metadata": {
    "ExecuteTime": {
     "end_time": "2020-03-12T18:18:16.366982Z",
     "start_time": "2020-03-12T18:18:16.357967Z"
    }
   },
   "outputs": [
    {
     "data": {
      "text/plain": [
       "{ab_c, b_ac, c_ab, ca_b}"
      ]
     },
     "execution_count": 11,
     "metadata": {},
     "output_type": "execute_result"
    }
   ],
   "source": [
    "profile.support_in_types"
   ]
  },
  {
   "cell_type": "markdown",
   "metadata": {},
   "source": [
    "Are all possible types in the profile?"
   ]
  },
  {
   "cell_type": "code",
   "execution_count": 12,
   "metadata": {
    "ExecuteTime": {
     "end_time": "2020-03-12T18:18:16.376953Z",
     "start_time": "2020-03-12T18:18:16.367940Z"
    }
   },
   "outputs": [
    {
     "data": {
      "text/plain": [
       "False"
      ]
     },
     "execution_count": 12,
     "metadata": {},
     "output_type": "execute_result"
    }
   ],
   "source": [
    "profile.is_generic_in_types"
   ]
  },
  {
   "cell_type": "markdown",
   "metadata": {},
   "source": [
    "Is one type shared by a majority of voters?"
   ]
  },
  {
   "cell_type": "code",
   "execution_count": 13,
   "metadata": {
    "ExecuteTime": {
     "end_time": "2020-03-12T18:18:16.386929Z",
     "start_time": "2020-03-12T18:18:16.377914Z"
    }
   },
   "outputs": [
    {
     "data": {
      "text/plain": [
       "True"
      ]
     },
     "execution_count": 13,
     "metadata": {},
     "output_type": "execute_result"
    }
   ],
   "source": [
    "profile.has_majority_type"
   ]
  },
  {
   "cell_type": "markdown",
   "metadata": {},
   "source": [
    "In addition to the usual StrategyOrdinal and StrategyThreshold, this kind of profile also accepts a StrategyTwelve:"
   ]
  },
  {
   "cell_type": "code",
   "execution_count": 14,
   "metadata": {
    "ExecuteTime": {
     "end_time": "2020-03-12T18:18:16.397867Z",
     "start_time": "2020-03-12T18:18:16.388884Z"
    }
   },
   "outputs": [
    {
     "data": {
      "text/plain": [
       "<abc: ab, bac: b, cab: utility-dependent> ==> b"
      ]
     },
     "execution_count": 14,
     "metadata": {},
     "output_type": "execute_result"
    }
   ],
   "source": [
    "strategy = pa.StrategyTwelve({'abc': 'ab', 'bac': 'b', 'cab': pa.UTILITY_DEPENDENT}, profile=profile)\n",
    "strategy"
   ]
  },
  {
   "cell_type": "markdown",
   "metadata": {},
   "source": [
    "In the example above, the strategy for $cab$ is utility-dependent, meaning that voters ``c_ba`` vote for $c$ and voters ``cb_a`` vote for $c$ and $b$. One can envision it as a threshold strategy, but it is useless to specify the value of the threshold because we're dealing with a ProfileTwelve."
   ]
  },
  {
   "cell_type": "code",
   "execution_count": 15,
   "metadata": {
    "ExecuteTime": {
     "end_time": "2020-03-12T18:18:16.408870Z",
     "start_time": "2020-03-12T18:18:16.400852Z"
    }
   },
   "outputs": [
    {
     "data": {
      "text/plain": [
       "EquilibriumStatus.EQUILIBRIUM"
      ]
     },
     "execution_count": 15,
     "metadata": {},
     "output_type": "execute_result"
    }
   ],
   "source": [
    "profile.is_equilibrium(strategy)"
   ]
  },
  {
   "cell_type": "markdown",
   "metadata": {},
   "source": [
    "Since there is a finite number of pure strategies for a ProfileTwelve, it is possible to analyze them all:"
   ]
  },
  {
   "cell_type": "code",
   "execution_count": 16,
   "metadata": {
    "ExecuteTime": {
     "end_time": "2020-03-12T18:18:16.454707Z",
     "start_time": "2020-03-12T18:18:16.409828Z"
    }
   },
   "outputs": [
    {
     "data": {
      "text/plain": [
       "Equilibria:\n",
       "<abc: a, bac: b, cab: ac> ==> b (FF)\n",
       "<abc: a, bac: ab, cab: c> ==> a (D)\n",
       "<abc: ab, bac: b, cab: utility-dependent> ==> b (FF)\n",
       "\n",
       "Non-equilibria:\n",
       "<abc: a, bac: b, cab: c> ==> b (FF)\n",
       "<abc: a, bac: b, cab: utility-dependent> ==> b (FF)\n",
       "<abc: a, bac: ab, cab: ac> ==> a (D)\n",
       "<abc: a, bac: ab, cab: utility-dependent> ==> a (D)\n",
       "<abc: ab, bac: b, cab: c> ==> b (FF)\n",
       "<abc: ab, bac: b, cab: ac> ==> b (FF)\n",
       "<abc: ab, bac: ab, cab: c> ==> a, b (FF)\n",
       "<abc: ab, bac: ab, cab: ac> ==> a (D)\n",
       "<abc: ab, bac: ab, cab: utility-dependent> ==> a (D)"
      ]
     },
     "execution_count": 16,
     "metadata": {},
     "output_type": "execute_result"
    }
   ],
   "source": [
    "profile.analyzed_strategies_pure"
   ]
  },
  {
   "cell_type": "markdown",
   "metadata": {},
   "source": [
    "All other features are defined as usual."
   ]
  },
  {
   "cell_type": "markdown",
   "metadata": {},
   "source": [
    "## ProfileDiscrete"
   ]
  },
  {
   "cell_type": "markdown",
   "metadata": {},
   "source": [
    "A ProfileDiscrete is similar to a ProfileNoisyDiscrete, but of course without noise:"
   ]
  },
  {
   "cell_type": "code",
   "execution_count": 17,
   "metadata": {
    "ExecuteTime": {
     "end_time": "2020-03-12T18:18:16.463685Z",
     "start_time": "2020-03-12T18:18:16.456702Z"
    }
   },
   "outputs": [
    {
     "data": {
      "text/plain": [
       "<abc 0.9: 1/10, bac 0.2: 3/5, cab 0.25: 1/5, cab 0.75: 1/10> (Condorcet winner: b)"
      ]
     },
     "execution_count": 17,
     "metadata": {},
     "output_type": "execute_result"
    }
   ],
   "source": [
    "profile = pa.ProfileDiscrete({\n",
    "    ('abc', 0.9): Fraction(1, 10),\n",
    "    ('bac', 0.2): Fraction(6, 10),\n",
    "    ('cab', 0.25): Fraction(2, 10),\n",
    "    ('cab', 0.75): Fraction(1, 10)\n",
    "})\n",
    "profile"
   ]
  },
  {
   "cell_type": "markdown",
   "metadata": {
    "ExecuteTime": {
     "end_time": "2020-03-12T14:22:56.012010Z",
     "start_time": "2020-03-12T14:22:56.006038Z"
    }
   },
   "source": [
    "In the above example, the share of voters with ranking $abc$ and a utility 0.9 for their middle candidate $b$ is 1/10, the share of voters with ranking $bac$ and a utility 0.2 for their middle candidate $a$ is 3/5, etc."
   ]
  },
  {
   "cell_type": "markdown",
   "metadata": {},
   "source": [
    "The difficulty is that there is now a concentration of voters, for example, on $(abc, 0.9)$. This opens the door to mixed strategies where voters of this type split their ballots between $a$ and $ab$. To account for this fact, a StrategyThreshold can include ratios of *optimistic voters*:"
   ]
  },
  {
   "cell_type": "code",
   "execution_count": 18,
   "metadata": {
    "ExecuteTime": {
     "end_time": "2020-03-12T18:18:16.476650Z",
     "start_time": "2020-03-12T18:18:16.464682Z"
    }
   },
   "outputs": [
    {
     "data": {
      "text/plain": [
       "<abc: utility-dependent (0.9, 0.7), bac: utility-dependent (0.5), cab: utility-dependent (0.5)> ==> b"
      ]
     },
     "execution_count": 18,
     "metadata": {},
     "output_type": "execute_result"
    }
   ],
   "source": [
    "strategy = pa.StrategyThreshold({\n",
    "    'abc': (0.9, 0.7),\n",
    "    'bac': 0.5,\n",
    "    'cab': 0.5\n",
    "}, profile=profile)\n",
    "strategy"
   ]
  },
  {
   "cell_type": "markdown",
   "metadata": {},
   "source": [
    "The above notation means that voters $abc$ have:\n",
    "\n",
    "* A utility threshold of 0.9: they vote for $a$ (resp. $ab$) if their utility for their second candidate $b$ is lower (resp. greater) than 0.9;\n",
    "* An ratio of optimistic voters of 0.7: voters whose utility for $b$ is equal to the utility threshold 0.9 are split, with 0.7 of them voting for $a$ and the rest voting for $ab$."
   ]
  },
  {
   "cell_type": "markdown",
   "metadata": {},
   "source": [
    "Like for ProfileTwelve, there is a finite number of pure strategies, so it is possible to analyze them all:"
   ]
  },
  {
   "cell_type": "code",
   "execution_count": 19,
   "metadata": {
    "ExecuteTime": {
     "end_time": "2020-03-12T18:18:16.526516Z",
     "start_time": "2020-03-12T18:18:16.477646Z"
    }
   },
   "outputs": [
    {
     "data": {
      "text/plain": [
       "Equilibria:\n",
       "<abc: ab, bac: b, cab: utility-dependent (0.5)> ==> b (FF)\n",
       "<abc: a, bac: ab, cab: c> ==> a (D)\n",
       "<abc: a, bac: b, cab: ac> ==> b (FF)\n",
       "\n",
       "Non-equilibria:\n",
       "<abc: ab, bac: ab, cab: ac> ==> a (D)\n",
       "<abc: ab, bac: ab, cab: utility-dependent (0.5)> ==> a (D)\n",
       "<abc: ab, bac: ab, cab: c> ==> a, b (FF)\n",
       "<abc: ab, bac: b, cab: ac> ==> b (FF)\n",
       "<abc: ab, bac: b, cab: c> ==> b (FF)\n",
       "<abc: a, bac: ab, cab: ac> ==> a (D)\n",
       "<abc: a, bac: ab, cab: utility-dependent (0.5)> ==> a (D)\n",
       "<abc: a, bac: b, cab: utility-dependent (0.5)> ==> b (FF)\n",
       "<abc: a, bac: b, cab: c> ==> b (FF)"
      ]
     },
     "execution_count": 19,
     "metadata": {},
     "output_type": "execute_result"
    }
   ],
   "source": [
    "profile.analyzed_strategies_pure"
   ]
  },
  {
   "cell_type": "markdown",
   "metadata": {},
   "source": [
    "All other features are defined as usual."
   ]
  },
  {
   "cell_type": "markdown",
   "metadata": {},
   "source": [
    "## ProfileOrdinal"
   ]
  },
  {
   "cell_type": "markdown",
   "metadata": {},
   "source": [
    "A ProfileOrdinal is a bit special, in the sense that it does not represent a profile, strictly speaking, but rather a family of profiles that have the same ordinal representation."
   ]
  },
  {
   "cell_type": "markdown",
   "metadata": {},
   "source": [
    "### Definition and Strategic Analysis"
   ]
  },
  {
   "cell_type": "code",
   "execution_count": 20,
   "metadata": {
    "ExecuteTime": {
     "end_time": "2020-03-12T18:18:16.533501Z",
     "start_time": "2020-03-12T18:18:16.528510Z"
    }
   },
   "outputs": [
    {
     "data": {
      "text/plain": [
       "<abc: 1/10, bac: 3/5, cab: 3/10> (Condorcet winner: b)"
      ]
     },
     "execution_count": 20,
     "metadata": {},
     "output_type": "execute_result"
    }
   ],
   "source": [
    "profile = pa.ProfileOrdinal({\n",
    "    'abc': Fraction(1, 10), \n",
    "    'bac': Fraction(6, 10), \n",
    "    'cab': Fraction(3, 10)\n",
    "})\n",
    "profile"
   ]
  },
  {
   "cell_type": "markdown",
   "metadata": {},
   "source": [
    "Let us analyze its ordinal strategies:"
   ]
  },
  {
   "cell_type": "code",
   "execution_count": 21,
   "metadata": {
    "ExecuteTime": {
     "end_time": "2020-03-12T18:18:16.567406Z",
     "start_time": "2020-03-12T18:18:16.535492Z"
    }
   },
   "outputs": [
    {
     "data": {
      "text/plain": [
       "Equilibria:\n",
       "<abc: a, bac: b, cab: ac> ==> b (FF)\n",
       "<abc: a, bac: ab, cab: c> ==> a (D)\n",
       "\n",
       "Utility-dependent equilibrium:\n",
       "<abc: ab, bac: b, cab: c> ==> b (FF)\n",
       "\n",
       "Non-equilibria:\n",
       "<abc: a, bac: b, cab: c> ==> b (FF)\n",
       "<abc: a, bac: ab, cab: ac> ==> a (D)\n",
       "<abc: ab, bac: b, cab: ac> ==> b (FF)\n",
       "<abc: ab, bac: ab, cab: c> ==> a, b (FF)\n",
       "<abc: ab, bac: ab, cab: ac> ==> a (D)"
      ]
     },
     "execution_count": 21,
     "metadata": {},
     "output_type": "execute_result"
    }
   ],
   "source": [
    "profile.analyzed_strategies_ordinal"
   ]
  },
  {
   "cell_type": "markdown",
   "metadata": {},
   "source": [
    "In the example above, there are not only equilibria and non-equilibria but also a new category of strategies: utility-dependent equilibria. For example:"
   ]
  },
  {
   "cell_type": "code",
   "execution_count": 22,
   "metadata": {
    "ExecuteTime": {
     "end_time": "2020-03-12T18:18:16.577379Z",
     "start_time": "2020-03-12T18:18:16.568404Z"
    }
   },
   "outputs": [
    {
     "data": {
      "text/plain": [
       "<abc: ab, bac: b, cab: c> ==> b"
      ]
     },
     "execution_count": 22,
     "metadata": {},
     "output_type": "execute_result"
    }
   ],
   "source": [
    "strategy = profile.analyzed_strategies_ordinal.utility_dependent[0]\n",
    "strategy"
   ]
  },
  {
   "cell_type": "code",
   "execution_count": 23,
   "metadata": {
    "ExecuteTime": {
     "end_time": "2020-03-12T18:18:16.587353Z",
     "start_time": "2020-03-12T18:18:16.581379Z"
    }
   },
   "outputs": [
    {
     "data": {
      "text/plain": [
       "<ballot = ab, threshold_utility = 0, justification = Asymptotic method>"
      ]
     },
     "execution_count": 23,
     "metadata": {},
     "output_type": "execute_result"
    }
   ],
   "source": [
    "strategy.d_ranking_best_response['abc']"
   ]
  },
  {
   "cell_type": "code",
   "execution_count": 24,
   "metadata": {
    "ExecuteTime": {
     "end_time": "2020-03-12T18:18:16.597326Z",
     "start_time": "2020-03-12T18:18:16.589347Z"
    }
   },
   "outputs": [
    {
     "data": {
      "text/plain": [
       "<ballot = utility-dependent, threshold_utility = 0.836014, justification = Asymptotic method>"
      ]
     },
     "execution_count": 24,
     "metadata": {},
     "output_type": "execute_result"
    }
   ],
   "source": [
    "strategy.d_ranking_best_response['bac']"
   ]
  },
  {
   "cell_type": "code",
   "execution_count": 25,
   "metadata": {
    "ExecuteTime": {
     "end_time": "2020-03-12T18:18:16.608297Z",
     "start_time": "2020-03-12T18:18:16.600320Z"
    }
   },
   "outputs": [
    {
     "data": {
      "text/plain": [
       "<ballot = utility-dependent, threshold_utility = 0.163986, justification = Asymptotic method>"
      ]
     },
     "execution_count": 25,
     "metadata": {},
     "output_type": "execute_result"
    }
   ],
   "source": [
    "strategy.d_ranking_best_response['cab']"
   ]
  },
  {
   "cell_type": "markdown",
   "metadata": {},
   "source": [
    "What happens here? For example, the best response for voters $bac$ is utility-dependent, with a utility threshold of 0.84 approximately. The fact that they vote $b$ in ``strategy`` is indeed a best response if and only if their utility for their second candidate $a$ is lower than this value. Overall, ``strategy`` is an equilibrium if and only if:\n",
    "\n",
    "* The utility of voters $bac$ for $a$ is lower than 0.84,\n",
    "* And the utility of voters $cab$ for $a$ is lower than 0.16."
   ]
  },
  {
   "cell_type": "markdown",
   "metadata": {},
   "source": [
    "### Probability computations"
   ]
  },
  {
   "cell_type": "markdown",
   "metadata": {},
   "source": [
    "The following functions compute probabilities. They are based on the assumption that voters $abc$ have the **same** utility for their second candidate $b$ and that it is drawn uniformly in [0, 1]. And similarly for voters $acb$, $bac$, etc."
   ]
  },
  {
   "cell_type": "markdown",
   "metadata": {},
   "source": [
    "Probability that there exists an equilibrium:"
   ]
  },
  {
   "cell_type": "code",
   "execution_count": 26,
   "metadata": {
    "ExecuteTime": {
     "end_time": "2020-03-12T18:18:16.620265Z",
     "start_time": "2020-03-12T18:18:16.610292Z"
    }
   },
   "outputs": [
    {
     "data": {
      "text/plain": [
       "1"
      ]
     },
     "execution_count": 26,
     "metadata": {},
     "output_type": "execute_result"
    }
   ],
   "source": [
    "profile.proba_equilibrium()"
   ]
  },
  {
   "cell_type": "markdown",
   "metadata": {},
   "source": [
    "In this example, the probability is 1 because there exists some equilibria that do not depend on the utilities."
   ]
  },
  {
   "cell_type": "markdown",
   "metadata": {},
   "source": [
    "Probability that there exists an equilibrium where voters $abc$ cast a ballot $ab$:"
   ]
  },
  {
   "cell_type": "code",
   "execution_count": 27,
   "metadata": {
    "ExecuteTime": {
     "end_time": "2020-03-12T18:18:16.630238Z",
     "start_time": "2020-03-12T18:18:16.622260Z"
    }
   },
   "outputs": [
    {
     "data": {
      "text/plain": [
       "0.13709468816628012"
      ]
     },
     "execution_count": 27,
     "metadata": {},
     "output_type": "execute_result"
    }
   ],
   "source": [
    "def test_abc_vote_ab(strategy):\n",
    "    return strategy.abc == 'ab'\n",
    "profile.proba_equilibrium(test=test_abc_vote_ab)"
   ]
  },
  {
   "cell_type": "markdown",
   "metadata": {},
   "source": [
    "Probability that there exists an equilibrium where candidate $c$ wins:"
   ]
  },
  {
   "cell_type": "code",
   "execution_count": 28,
   "metadata": {
    "ExecuteTime": {
     "end_time": "2020-03-12T18:18:16.640212Z",
     "start_time": "2020-03-12T18:18:16.632233Z"
    }
   },
   "outputs": [
    {
     "data": {
      "text/plain": [
       "0"
      ]
     },
     "execution_count": 28,
     "metadata": {},
     "output_type": "execute_result"
    }
   ],
   "source": [
    "def test_c_wins(strategy):\n",
    "    return 'c' in strategy.winners\n",
    "profile.proba_equilibrium(test=test_c_wins)"
   ]
  },
  {
   "cell_type": "markdown",
   "metadata": {},
   "source": [
    "Distribution of the number of equilibria:"
   ]
  },
  {
   "cell_type": "code",
   "execution_count": 29,
   "metadata": {
    "ExecuteTime": {
     "end_time": "2020-03-12T18:18:16.650185Z",
     "start_time": "2020-03-12T18:18:16.641208Z"
    }
   },
   "outputs": [
    {
     "data": {
      "text/plain": [
       "array([0.        , 0.        , 0.86290531, 0.13709469])"
      ]
     },
     "execution_count": 29,
     "metadata": {},
     "output_type": "execute_result"
    }
   ],
   "source": [
    "profile.distribution_equilibria()"
   ]
  },
  {
   "cell_type": "markdown",
   "metadata": {},
   "source": [
    "The above array means that it is impossible that there is 0 or 1 equilibrium, a probability 0.86 to have 2 equilibria, and a probability 0.14 to have 3 equilibria."
   ]
  },
  {
   "cell_type": "markdown",
   "metadata": {},
   "source": [
    "You can access the distribution of equilibria, conditionally on a given test:"
   ]
  },
  {
   "cell_type": "code",
   "execution_count": 30,
   "metadata": {
    "ExecuteTime": {
     "end_time": "2020-03-12T18:18:16.661155Z",
     "start_time": "2020-03-12T18:18:16.653177Z"
    }
   },
   "outputs": [
    {
     "data": {
      "text/plain": [
       "array([0.86290531, 0.13709469])"
      ]
     },
     "execution_count": 30,
     "metadata": {},
     "output_type": "execute_result"
    }
   ],
   "source": [
    "profile.distribution_equilibria(test=test_abc_vote_ab)"
   ]
  },
  {
   "cell_type": "markdown",
   "metadata": {},
   "source": [
    "The above array means that there is a probability 0.86 to have no equilibrium, and a probability 0.14 to have one equilibrium (conditionally on the given test)."
   ]
  },
  {
   "cell_type": "markdown",
   "metadata": {},
   "source": [
    "Distribution of the number of winners at equilibrium:"
   ]
  },
  {
   "cell_type": "code",
   "execution_count": 31,
   "metadata": {
    "ExecuteTime": {
     "end_time": "2020-03-12T18:18:16.670132Z",
     "start_time": "2020-03-12T18:18:16.662153Z"
    }
   },
   "outputs": [
    {
     "data": {
      "text/plain": [
       "array([0, 0, 1, 0])"
      ]
     },
     "execution_count": 31,
     "metadata": {},
     "output_type": "execute_result"
    }
   ],
   "source": [
    "profile.distribution_winners()"
   ]
  },
  {
   "cell_type": "markdown",
   "metadata": {},
   "source": [
    "The array above means that there are always 2 candidates (namely $a$ and $b$) who can win at equilibrium."
   ]
  },
  {
   "cell_type": "markdown",
   "metadata": {},
   "source": [
    "You can access the distribution of winners, conditionally on a given test:"
   ]
  },
  {
   "cell_type": "code",
   "execution_count": 32,
   "metadata": {
    "ExecuteTime": {
     "end_time": "2020-03-12T18:18:16.681103Z",
     "start_time": "2020-03-12T18:18:16.672127Z"
    }
   },
   "outputs": [
    {
     "data": {
      "text/plain": [
       "array([0.86290531, 0.13709469, 0.        , 0.        ])"
      ]
     },
     "execution_count": 32,
     "metadata": {},
     "output_type": "execute_result"
    }
   ],
   "source": [
    "profile.distribution_winners(test=test_abc_vote_ab)"
   ]
  },
  {
   "cell_type": "markdown",
   "metadata": {
    "ExecuteTime": {
     "end_time": "2020-03-12T15:02:21.506602Z",
     "start_time": "2020-03-12T15:02:21.501650Z"
    }
   },
   "source": [
    "The above array means that there is a probability 0.86 of having 0 winner (i.e. when there is no equilibrium), and a probability 0.14 to have 1 winner (conditionally on the given test)."
   ]
  }
 ],
 "metadata": {
  "kernelspec": {
   "display_name": "Python 3",
   "language": "python",
   "name": "python3"
  },
  "language_info": {
   "codemirror_mode": {
    "name": "ipython",
    "version": 3
   },
   "file_extension": ".py",
   "mimetype": "text/x-python",
   "name": "python",
   "nbconvert_exporter": "python",
   "pygments_lexer": "ipython3",
   "version": "3.7.3"
  },
  "toc": {
   "base_numbering": 1,
   "nav_menu": {},
   "number_sections": false,
   "sideBar": true,
   "skip_h1_title": true,
   "title_cell": "Table of Contents",
   "title_sidebar": "Contents",
   "toc_cell": false,
   "toc_position": {},
   "toc_section_display": true,
   "toc_window_display": false
  }
 },
 "nbformat": 4,
 "nbformat_minor": 2
}
