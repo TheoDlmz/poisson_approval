{
 "cells": [
  {
   "cell_type": "markdown",
   "metadata": {},
   "source": [
    "# Tutorial on Plurality and Anti-plurality"
   ]
  },
  {
   "cell_type": "code",
   "execution_count": 1,
   "metadata": {
    "ExecuteTime": {
     "end_time": "2020-02-09T06:43:51.793528Z",
     "start_time": "2020-02-09T06:43:51.296689Z"
    }
   },
   "outputs": [],
   "source": [
    "from fractions import Fraction\n",
    "import poisson_approval as pa"
   ]
  },
  {
   "cell_type": "markdown",
   "metadata": {},
   "source": [
    "In addition to Approval, the package also implements Plurality and Anti-plurality."
   ]
  },
  {
   "cell_type": "markdown",
   "metadata": {},
   "source": [
    "## Plurality"
   ]
  },
  {
   "cell_type": "markdown",
   "metadata": {},
   "source": [
    "You just need to specify ``voting_rule=pa.PLURALITY`` when you define a Profile or a Strategy:"
   ]
  },
  {
   "cell_type": "code",
   "execution_count": 2,
   "metadata": {
    "ExecuteTime": {
     "end_time": "2020-02-09T06:43:51.801338Z",
     "start_time": "2020-02-09T06:43:51.794357Z"
    }
   },
   "outputs": [
    {
     "data": {
      "text/plain": [
       "<abc: 1/10, bac: 3/5, cab: 3/10> (Condorcet winner: b) (Plurality)"
      ]
     },
     "execution_count": 2,
     "metadata": {},
     "output_type": "execute_result"
    }
   ],
   "source": [
    "profile = pa.ProfileOrdinal(\n",
    "    {'abc': Fraction(1, 10), 'bac': Fraction(6, 10), 'cab': Fraction(3, 10)},\n",
    "    voting_rule=pa.PLURALITY)\n",
    "profile"
   ]
  },
  {
   "cell_type": "code",
   "execution_count": 3,
   "metadata": {
    "ExecuteTime": {
     "end_time": "2020-02-09T06:43:51.816340Z",
     "start_time": "2020-02-09T06:43:51.802336Z"
    }
   },
   "outputs": [
    {
     "data": {
      "text/plain": [
       "<abc: a, bac: b, cab: a> (Plurality)"
      ]
     },
     "execution_count": 3,
     "metadata": {},
     "output_type": "execute_result"
    }
   ],
   "source": [
    "strategy = pa.StrategyOrdinal({'abc': 'a', 'bac': 'b', 'cab': 'a'}, voting_rule=pa.PLURALITY)\n",
    "strategy"
   ]
  },
  {
   "cell_type": "markdown",
   "metadata": {},
   "source": [
    "Note that if you define a strategy with an attached profile, you do not need to specify the voting rule again because it is deduced from the one of the profile:"
   ]
  },
  {
   "cell_type": "code",
   "execution_count": 4,
   "metadata": {
    "ExecuteTime": {
     "end_time": "2020-02-09T06:43:51.827302Z",
     "start_time": "2020-02-09T06:43:51.818294Z"
    }
   },
   "outputs": [
    {
     "data": {
      "text/plain": [
       "<abc: a, bac: b, cab: a> ==> b (Plurality)"
      ]
     },
     "execution_count": 4,
     "metadata": {},
     "output_type": "execute_result"
    }
   ],
   "source": [
    "strategy = pa.StrategyOrdinal({'abc': 'a', 'bac': 'b', 'cab': 'a'}, profile=profile)\n",
    "strategy"
   ]
  },
  {
   "cell_type": "markdown",
   "metadata": {},
   "source": [
    "All the other features work as usual. For example:"
   ]
  },
  {
   "cell_type": "code",
   "execution_count": 5,
   "metadata": {
    "ExecuteTime": {
     "end_time": "2020-02-09T06:43:51.844224Z",
     "start_time": "2020-02-09T06:43:51.829265Z"
    },
    "scrolled": true
   },
   "outputs": [
    {
     "data": {
      "text/plain": [
       "Equilibria:\n",
       "<abc: a, bac: b, cab: a> ==> b (Plurality) (FF)\n",
       "<abc: a, bac: a, cab: c> ==> a (Plurality) (FF)\n",
       "<abc: b, bac: b, cab: c> ==> b (Plurality) (FF)\n",
       "\n",
       "Non-equilibria:\n",
       "<abc: a, bac: b, cab: c> ==> b (Plurality) (FF)\n",
       "<abc: a, bac: a, cab: a> ==> a (Plurality) (UF)\n",
       "<abc: b, bac: b, cab: a> ==> b (Plurality) (FF)\n",
       "<abc: b, bac: a, cab: c> ==> a (Plurality) (FF)\n",
       "<abc: b, bac: a, cab: a> ==> a (Plurality) (FF)"
      ]
     },
     "execution_count": 5,
     "metadata": {},
     "output_type": "execute_result"
    }
   ],
   "source": [
    "profile.analyzed_strategies"
   ]
  },
  {
   "cell_type": "markdown",
   "metadata": {},
   "source": [
    "You can also use the option ``voting_rule`` for a random generator of profiles:"
   ]
  },
  {
   "cell_type": "code",
   "execution_count": 6,
   "metadata": {
    "ExecuteTime": {
     "end_time": "2020-02-09T06:43:51.854197Z",
     "start_time": "2020-02-09T06:43:51.845223Z"
    }
   },
   "outputs": [
    {
     "data": {
      "text/plain": [
       "<abc: 21/100, acb: 8/25, bac: 2/25, bca: 1/4, cab: 1/25, cba: 1/10> (Condorcet winner: a) (Plurality)"
      ]
     },
     "execution_count": 6,
     "metadata": {},
     "output_type": "execute_result"
    }
   ],
   "source": [
    "generator_profile = pa.GeneratorProfileOrdinalGridUniform(\n",
    "    denominator=100, voting_rule=pa.PLURALITY)\n",
    "profile = generator_profile()\n",
    "profile"
   ]
  },
  {
   "cell_type": "markdown",
   "metadata": {},
   "source": [
    "## Anti-plurality"
   ]
  },
  {
   "cell_type": "markdown",
   "metadata": {},
   "source": [
    "The corresponding option is ``voting_rule=pa.ANTI_PLURALITY``. Since this package is focused on Approval, the anti-plurality ballots are represented by their approval counterpart: for example, a ballot against candidate `c` is represented by ``'ab'``."
   ]
  },
  {
   "cell_type": "code",
   "execution_count": 7,
   "metadata": {
    "ExecuteTime": {
     "end_time": "2020-02-09T06:43:51.867197Z",
     "start_time": "2020-02-09T06:43:51.855194Z"
    }
   },
   "outputs": [
    {
     "data": {
      "text/plain": [
       "<abc: 1/10, bac: 3/5, cab: 3/10> (Condorcet winner: b) (Anti-plurality)"
      ]
     },
     "execution_count": 7,
     "metadata": {},
     "output_type": "execute_result"
    }
   ],
   "source": [
    "profile = pa.ProfileOrdinal(\n",
    "    {'abc': Fraction(1, 10), 'bac': Fraction(6, 10), 'cab': Fraction(3, 10)},\n",
    "    voting_rule=pa.ANTI_PLURALITY)\n",
    "profile"
   ]
  },
  {
   "cell_type": "code",
   "execution_count": 8,
   "metadata": {
    "ExecuteTime": {
     "end_time": "2020-02-09T06:43:51.879172Z",
     "start_time": "2020-02-09T06:43:51.870155Z"
    }
   },
   "outputs": [
    {
     "data": {
      "text/plain": [
       "<abc: ab, bac: ab, cab: ac> ==> a (Anti-plurality)"
      ]
     },
     "execution_count": 8,
     "metadata": {},
     "output_type": "execute_result"
    }
   ],
   "source": [
    "strategy = pa.StrategyOrdinal({'abc': 'ab', 'bac': 'ab', 'cab': 'ac'}, profile=profile)\n",
    "strategy"
   ]
  },
  {
   "cell_type": "code",
   "execution_count": 9,
   "metadata": {
    "ExecuteTime": {
     "end_time": "2020-02-09T06:43:51.889104Z",
     "start_time": "2020-02-09T06:43:51.880128Z"
    }
   },
   "outputs": [
    {
     "data": {
      "text/plain": [
       "EquilibriumStatus.NOT_EQUILIBRIUM"
      ]
     },
     "execution_count": 9,
     "metadata": {},
     "output_type": "execute_result"
    }
   ],
   "source": [
    "strategy.is_equilibrium"
   ]
  }
 ],
 "metadata": {
  "kernelspec": {
   "display_name": "Python 3",
   "language": "python",
   "name": "python3"
  },
  "language_info": {
   "codemirror_mode": {
    "name": "ipython",
    "version": 3
   },
   "file_extension": ".py",
   "mimetype": "text/x-python",
   "name": "python",
   "nbconvert_exporter": "python",
   "pygments_lexer": "ipython3",
   "version": "3.7.3"
  },
  "toc": {
   "base_numbering": 1,
   "nav_menu": {},
   "number_sections": false,
   "sideBar": true,
   "skip_h1_title": false,
   "title_cell": "Table of Contents",
   "title_sidebar": "Contents",
   "toc_cell": false,
   "toc_position": {},
   "toc_section_display": true,
   "toc_window_display": false
  }
 },
 "nbformat": 4,
 "nbformat_minor": 2
}
