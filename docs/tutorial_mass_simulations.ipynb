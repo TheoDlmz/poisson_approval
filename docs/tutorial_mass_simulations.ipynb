{
 "cells": [
  {
   "cell_type": "markdown",
   "metadata": {},
   "source": [
    "# Tutorial on Mass Simulations"
   ]
  },
  {
   "cell_type": "code",
   "execution_count": 1,
   "metadata": {
    "ExecuteTime": {
     "end_time": "2020-01-05T09:07:47.792536Z",
     "start_time": "2020-01-05T09:07:47.331721Z"
    }
   },
   "outputs": [],
   "source": [
    "from matplotlib import pyplot as plt\n",
    "import poisson_approval as pa"
   ]
  },
  {
   "cell_type": "markdown",
   "metadata": {},
   "source": [
    "## Probability Estimation"
   ]
  },
  {
   "cell_type": "markdown",
   "metadata": {},
   "source": [
    "Probability that a TauVector drawn uniformly at random has a direct focus:"
   ]
  },
  {
   "cell_type": "code",
   "execution_count": 2,
   "metadata": {
    "ExecuteTime": {
     "end_time": "2020-01-05T09:07:47.797475Z",
     "start_time": "2020-01-05T09:07:47.793486Z"
    }
   },
   "outputs": [],
   "source": [
    "def test_direct_focus(tau):\n",
    "    return tau.focus == pa.Focus.DIRECT"
   ]
  },
  {
   "cell_type": "code",
   "execution_count": 3,
   "metadata": {
    "ExecuteTime": {
     "end_time": "2020-01-05T09:07:47.906223Z",
     "start_time": "2020-01-05T09:07:47.799470Z"
    }
   },
   "outputs": [
    {
     "data": {
      "text/plain": [
       "0.57"
      ]
     },
     "execution_count": 3,
     "metadata": {},
     "output_type": "execute_result"
    }
   ],
   "source": [
    "pa.probability(\n",
    "    generator=pa.GeneratorTauVectorUniform(),\n",
    "    n_samples=100,\n",
    "    test=test_direct_focus\n",
    ")"
   ]
  },
  {
   "cell_type": "markdown",
   "metadata": {},
   "source": [
    "To avoid the definition of an auxiliary function, you can use a \"lambda\". For example:"
   ]
  },
  {
   "cell_type": "code",
   "execution_count": 4,
   "metadata": {
    "ExecuteTime": {
     "end_time": "2020-01-05T09:07:47.968063Z",
     "start_time": "2020-01-05T09:07:47.908179Z"
    }
   },
   "outputs": [
    {
     "data": {
      "text/plain": [
       "0.64"
      ]
     },
     "execution_count": 4,
     "metadata": {},
     "output_type": "execute_result"
    }
   ],
   "source": [
    "pa.probability(\n",
    "    generator=pa.GeneratorTauVectorUniform(),\n",
    "    n_samples=100,\n",
    "    test=lambda tau: tau.focus == pa.Focus.DIRECT\n",
    ")"
   ]
  },
  {
   "cell_type": "markdown",
   "metadata": {
    "ExecuteTime": {
     "end_time": "2020-01-03T06:55:13.021088Z",
     "start_time": "2020-01-03T06:55:13.016102Z"
    }
   },
   "source": [
    "Probability that a ProfileOrdinal drawn uniformly at random has a direct equilibrium, conditionally on having a strict Condorcet winner:"
   ]
  },
  {
   "cell_type": "code",
   "execution_count": 5,
   "metadata": {
    "ExecuteTime": {
     "end_time": "2020-01-05T09:07:47.974003Z",
     "start_time": "2020-01-05T09:07:47.969016Z"
    }
   },
   "outputs": [],
   "source": [
    "def test_exists_direct_equilibrium(profile):\n",
    "    return len(profile.analyzed_strategies.equilibria) > 0"
   ]
  },
  {
   "cell_type": "code",
   "execution_count": 6,
   "metadata": {
    "ExecuteTime": {
     "end_time": "2020-01-05T09:07:47.983979Z",
     "start_time": "2020-01-05T09:07:47.975998Z"
    }
   },
   "outputs": [],
   "source": [
    "def test_is_strictly_condorcet(profile):\n",
    "    return profile.is_profile_condorcet == 1.0"
   ]
  },
  {
   "cell_type": "code",
   "execution_count": 7,
   "metadata": {
    "ExecuteTime": {
     "end_time": "2020-01-05T09:08:17.657679Z",
     "start_time": "2020-01-05T09:07:47.985978Z"
    }
   },
   "outputs": [
    {
     "data": {
      "text/plain": [
       "0.22"
      ]
     },
     "execution_count": 7,
     "metadata": {},
     "output_type": "execute_result"
    }
   ],
   "source": [
    "pa.probability(\n",
    "    generator=pa.GeneratorProfileOrdinalUniform(),\n",
    "    n_samples=100,\n",
    "    test=test_exists_direct_equilibrium,\n",
    "    conditional_on=test_is_strictly_condorcet\n",
    ")"
   ]
  },
  {
   "cell_type": "markdown",
   "metadata": {},
   "source": [
    "Alternate syntax using lambdas:"
   ]
  },
  {
   "cell_type": "code",
   "execution_count": 8,
   "metadata": {
    "ExecuteTime": {
     "end_time": "2020-01-05T09:08:46.947408Z",
     "start_time": "2020-01-05T09:08:17.659674Z"
    }
   },
   "outputs": [
    {
     "data": {
      "text/plain": [
       "0.27"
      ]
     },
     "execution_count": 8,
     "metadata": {},
     "output_type": "execute_result"
    }
   ],
   "source": [
    "pa.probability(\n",
    "    generator=pa.GeneratorProfileOrdinalUniform(),\n",
    "    n_samples=100,\n",
    "    test=lambda profile: len(profile.analyzed_strategies.equilibria) > 0,\n",
    "    conditional_on=lambda profile: profile.is_profile_condorcet == 1.0\n",
    ")"
   ]
  },
  {
   "cell_type": "markdown",
   "metadata": {},
   "source": [
    "## Grid explorations"
   ]
  },
  {
   "cell_type": "markdown",
   "metadata": {},
   "source": [
    "### ExploreGridProfilesOrdinal"
   ]
  },
  {
   "cell_type": "markdown",
   "metadata": {},
   "source": [
    "Here, we examine all examples with a given denominator in the profile. For example, if $\\textrm{denominator} = 9$, we will examine profiles such as $(1/9, 2/9, 2/9, 1/9, 1/3, 0)$ or $(1/9, 5/9, 0, 3/9, 0, 0)$, etc."
   ]
  },
  {
   "cell_type": "markdown",
   "metadata": {},
   "source": [
    "Beforehand, we may define a test function that indicates what kinds of profiles we want to study. In this example, we restrict to Condorcet profiles that have at least a utility-dependent equilibrium."
   ]
  },
  {
   "cell_type": "code",
   "execution_count": 9,
   "metadata": {
    "ExecuteTime": {
     "end_time": "2020-01-05T09:08:46.953342Z",
     "start_time": "2020-01-05T09:08:46.949353Z"
    }
   },
   "outputs": [],
   "source": [
    "def test_condorcet_with_utility_dependent(profile):\n",
    "    return(\n",
    "        profile.is_profile_condorcet == 1.0\n",
    "        and len(profile.analyzed_strategies.utility_dependent) > 0\n",
    "    )"
   ]
  },
  {
   "cell_type": "markdown",
   "metadata": {},
   "source": [
    "N.B.: as in the example above, it is better to put the fast tests (here, is_profile_condorcet) before the slow tests (here, having no true equilibrium). It speeds up the program significantly."
   ]
  },
  {
   "cell_type": "markdown",
   "metadata": {},
   "source": [
    "Launch the exploration:"
   ]
  },
  {
   "cell_type": "code",
   "execution_count": 10,
   "metadata": {
    "ExecuteTime": {
     "end_time": "2020-01-05T09:08:47.107931Z",
     "start_time": "2020-01-05T09:08:46.955337Z"
    }
   },
   "outputs": [
    {
     "data": {
      "text/plain": [
       "0 equilibrium, 1 utility-dependent equilibrium, 3 non-equilibria\n",
       "<abc: 2/3, cab: 1/3> (Condorcet winner: a)\n",
       "\n",
       "0 equilibrium, 1 utility-dependent equilibrium, 7 non-equilibria\n",
       "<abc: 1/3, acb: 1/3, bac: 1/3> (Condorcet winner: a)\n",
       "\n",
       "0 equilibrium, 2 utility-dependent equilibria, 2 non-equilibria\n",
       "<abc: 2/3, cba: 1/3> (Condorcet winner: a)\n",
       "<abc: 2/3, bca: 1/3> (Condorcet winner: a)\n",
       "\n",
       "0 equilibrium, 3 utility-dependent equilibria, 5 non-equilibria\n",
       "<abc: 1/3, acb: 1/3, bca: 1/3> (Condorcet winner: a)\n",
       "\n",
       "2 equilibria, 1 utility-dependent equilibrium, 5 non-equilibria\n",
       "<abc: 1/3, bac: 1/3, cab: 1/3> (Condorcet winner: a)"
      ]
     },
     "execution_count": 10,
     "metadata": {},
     "output_type": "execute_result"
    }
   ],
   "source": [
    "exploration = pa.ExploreGridProfilesOrdinal(\n",
    "    denominator=3, test=test_condorcet_with_utility_dependent)\n",
    "exploration"
   ]
  },
  {
   "cell_type": "markdown",
   "metadata": {},
   "source": [
    "Access one profile in particular in order to study it:"
   ]
  },
  {
   "cell_type": "code",
   "execution_count": 11,
   "metadata": {
    "ExecuteTime": {
     "end_time": "2020-01-05T09:08:47.114948Z",
     "start_time": "2020-01-05T09:08:47.109924Z"
    }
   },
   "outputs": [
    {
     "data": {
      "text/plain": [
       "<abc: 2/3, cab: 1/3> (Condorcet winner: a)"
      ]
     },
     "execution_count": 11,
     "metadata": {},
     "output_type": "execute_result"
    }
   ],
   "source": [
    "profile = exploration[(0, 1, 3)][0]\n",
    "profile"
   ]
  },
  {
   "cell_type": "markdown",
   "metadata": {},
   "source": [
    "If the test breaks the symmetry between candidates, you should use the option $\\verb|standardized = False|$:"
   ]
  },
  {
   "cell_type": "code",
   "execution_count": 12,
   "metadata": {
    "ExecuteTime": {
     "end_time": "2020-01-05T09:08:47.259558Z",
     "start_time": "2020-01-05T09:08:47.116906Z"
    }
   },
   "outputs": [
    {
     "data": {
      "text/plain": [
       "0 equilibrium, 1 utility-dependent equilibrium, 3 non-equilibria\n",
       "<bac: 1/2, cab: 1/2> (Condorcet winner: a, b, c)\n",
       "<acb: 1/2, cba: 1/2> (Condorcet winner: a, c)\n",
       "<acb: 1/2, bca: 1/2> (Condorcet winner: a, b, c)\n",
       "<acb: 1/2, bac: 1/2> (Condorcet winner: a, b)\n",
       "<abc: 1/2, cba: 1/2> (Condorcet winner: a, b, c)\n",
       "<abc: 1/2, cab: 1/2> (Condorcet winner: a, c)\n",
       "<abc: 1/2, bca: 1/2> (Condorcet winner: a, b)\n",
       "\n",
       "1 equilibrium, 0 utility-dependent equilibrium, 1 non-equilibrium\n",
       "<acb: 1> (Condorcet winner: a)\n",
       "<abc: 1> (Condorcet winner: a)\n",
       "\n",
       "1 equilibrium, 0 utility-dependent equilibrium, 3 non-equilibria\n",
       "<acb: 1/2, cab: 1/2> (Condorcet winner: a, c)\n",
       "<abc: 1/2, bac: 1/2> (Condorcet winner: a, b)\n",
       "<abc: 1/2, acb: 1/2> (Condorcet winner: a)"
      ]
     },
     "execution_count": 12,
     "metadata": {},
     "output_type": "execute_result"
    }
   ],
   "source": [
    "def test_a_is_condorcet_winner(profile):\n",
    "    return 'a' in profile.condorcet_winners\n",
    "exploration = pa.ExploreGridProfilesOrdinal(\n",
    "    test=test_a_is_condorcet_winner, denominator=2, standardized=False)\n",
    "exploration"
   ]
  },
  {
   "cell_type": "markdown",
   "metadata": {},
   "source": [
    "### ExploreGridTaus"
   ]
  },
  {
   "cell_type": "markdown",
   "metadata": {},
   "source": [
    "Define a test and explore:"
   ]
  },
  {
   "cell_type": "code",
   "execution_count": 13,
   "metadata": {
    "ExecuteTime": {
     "end_time": "2020-01-05T09:08:47.319364Z",
     "start_time": "2020-01-05T09:08:47.261518Z"
    }
   },
   "outputs": [
    {
     "data": {
      "text/plain": [
       "<a: 1/3, ab: 1/6, bc: 1/2> ==> b\n",
       "<a: 1/3, b: 1/6, bc: 1/2> ==> b\n",
       "<a: 1/3, ab: 1/6, ac: 1/3, b: 1/6> ==> a\n",
       "<a: 1/3, ac: 1/6, b: 1/3, c: 1/6> ==> a\n",
       "<a: 1/2, ab: 1/3, ac: 1/6> ==> a\n",
       "<a: 1/2, ac: 1/3, b: 1/6> ==> a\n",
       "<a: 1/2, ab: 1/6, b: 1/6, c: 1/6> ==> a"
      ]
     },
     "execution_count": 13,
     "metadata": {},
     "output_type": "execute_result"
    }
   ],
   "source": [
    "def test_direct_focus(tau):\n",
    "    return tau.focus == pa.Focus.DIRECT\n",
    "exploration = pa.ExploreGridTaus(\n",
    "    denominator=6, test=test_direct_focus)\n",
    "exploration"
   ]
  },
  {
   "cell_type": "markdown",
   "metadata": {},
   "source": [
    "Access one tau in particular in order to study it:"
   ]
  },
  {
   "cell_type": "code",
   "execution_count": 14,
   "metadata": {
    "ExecuteTime": {
     "end_time": "2020-01-05T09:08:47.326345Z",
     "start_time": "2020-01-05T09:08:47.321362Z"
    }
   },
   "outputs": [
    {
     "data": {
      "text/plain": [
       "<a: 1/3, ab: 1/6, bc: 1/2> ==> b"
      ]
     },
     "execution_count": 14,
     "metadata": {},
     "output_type": "execute_result"
    }
   ],
   "source": [
    "tau = exploration[0]\n",
    "tau"
   ]
  },
  {
   "cell_type": "markdown",
   "metadata": {},
   "source": [
    "## Meta-Analysis: NiceStatsProfileOrdinal"
   ]
  },
  {
   "cell_type": "markdown",
   "metadata": {},
   "source": [
    "Define a protocol of meta-analysis:\n",
    "\n",
    "(For more detailed information, cf. Reference section.)"
   ]
  },
  {
   "cell_type": "code",
   "execution_count": 15,
   "metadata": {
    "ExecuteTime": {
     "end_time": "2020-01-05T09:08:47.336319Z",
     "start_time": "2020-01-05T09:08:47.328341Z"
    }
   },
   "outputs": [],
   "source": [
    "nice_stats = pa.NiceStatsProfileOrdinal(\n",
    "    tests_profile=[\n",
    "        (lambda profile: any([strategy for strategy in profile.analyzed_strategies.equilibria\n",
    "                              if strategy.profile.condorcet_winners == strategy.winners]),\n",
    "         'There exists a true equilibrium electing the CW'),\n",
    "    ],\n",
    "    tests_strategy=[\n",
    "        (lambda strategy: strategy.profile.condorcet_winners == strategy.winners,\n",
    "         'There exists an equilibrium that elects the CW')\n",
    "    ],\n",
    "    tests_strategy_dist=[\n",
    "        (lambda strategy: strategy.profile.condorcet_winners == strategy.winners,\n",
    "         'There exists an equilibrium that elects the CW')\n",
    "    ],\n",
    "   conditional_on=lambda profile: profile.is_profile_condorcet == 1.\n",
    ")"
   ]
  },
  {
   "cell_type": "markdown",
   "metadata": {},
   "source": [
    "Run the Monte-Carlo simulation:"
   ]
  },
  {
   "cell_type": "code",
   "execution_count": 16,
   "metadata": {
    "ExecuteTime": {
     "end_time": "2020-01-05T09:08:50.271841Z",
     "start_time": "2020-01-05T09:08:47.339310Z"
    }
   },
   "outputs": [],
   "source": [
    "nice_stats.run(n_samples=10)"
   ]
  },
  {
   "cell_type": "markdown",
   "metadata": {},
   "source": [
    "Synthetic view of the results:"
   ]
  },
  {
   "cell_type": "code",
   "execution_count": 17,
   "metadata": {
    "ExecuteTime": {
     "end_time": "2020-01-05T09:08:50.696334Z",
     "start_time": "2020-01-05T09:08:50.273464Z"
    }
   },
   "outputs": [
    {
     "name": "stdout",
     "output_type": "stream",
     "text": [
      "P(There exists a true equilibrium electing the CW) = 0.4\n"
     ]
    },
    {
     "data": {
      "image/png": "[encoded data removed]",
      "text/plain": [
       "<Figure size 432x288 with 1 Axes>"
      ]
     },
     "metadata": {
      "needs_background": "light"
     },
     "output_type": "display_data"
    },
    {
     "name": "stdout",
     "output_type": "stream",
     "text": [
      "P(There exists an equilibrium that elects the CW) :\n",
      "{0: 0.25091069718222264, 1: 0.40495166848795006, 2: 0.3194069824186005, 3: 0.02295427535162249, 4: 0.0017763765596043358}\n"
     ]
    },
    {
     "data": {
      "image/png": "[encoded data removed]",
      "text/plain": [
       "<Figure size 432x288 with 1 Axes>"
      ]
     },
     "metadata": {
      "needs_background": "light"
     },
     "output_type": "display_data"
    }
   ],
   "source": [
    "nice_stats.display_results()"
   ]
  },
  {
   "cell_type": "markdown",
   "metadata": {},
   "source": [
    "Find an example for one of the tests:"
   ]
  },
  {
   "cell_type": "code",
   "execution_count": 18,
   "metadata": {
    "ExecuteTime": {
     "end_time": "2020-01-05T09:08:50.702319Z",
     "start_time": "2020-01-05T09:08:50.697331Z"
    }
   },
   "outputs": [
    {
     "data": {
      "text/plain": [
       "<abc: 0.25602826683693247, acb: 0.237375396922334, bac: 0.26563974316046646, bca: 0.10345508414884008, cab: 0.07327097917559577, cba: 0.06423052975583121> (Condorcet winner: a)"
      ]
     },
     "execution_count": 18,
     "metadata": {},
     "output_type": "execute_result"
    }
   ],
   "source": [
    "profile = nice_stats.find_example('There exists a true equilibrium electing the CW', False)\n",
    "profile"
   ]
  },
  {
   "cell_type": "markdown",
   "metadata": {},
   "source": [
    "Draw a plot:"
   ]
  },
  {
   "cell_type": "code",
   "execution_count": 19,
   "metadata": {
    "ExecuteTime": {
     "end_time": "2020-01-05T09:08:50.880870Z",
     "start_time": "2020-01-05T09:08:50.704313Z"
    }
   },
   "outputs": [
    {
     "data": {
      "text/plain": [
       "(-0.05, 1.05)"
      ]
     },
     "execution_count": 19,
     "metadata": {},
     "output_type": "execute_result"
    },
    {
     "data": {
      "image/png": "[encoded data removed]",
      "text/plain": [
       "<Figure size 432x288 with 1 Axes>"
      ]
     },
     "metadata": {
      "needs_background": "light"
     },
     "output_type": "display_data"
    }
   ],
   "source": [
    "nice_stats.plot_test_strategy('There exists an equilibrium that elects the CW')\n",
    "nice_stats.plot_cutoff('There exists a true equilibrium electing the CW',\n",
    "                       left='No true equilibrium', right='True equilibrium')\n",
    "plt.xlim(-0.05, 1.05)"
   ]
  }
 ],
 "metadata": {
  "kernelspec": {
   "display_name": "Python 3",
   "language": "python",
   "name": "python3"
  },
  "language_info": {
   "codemirror_mode": {
    "name": "ipython",
    "version": 3
   },
   "file_extension": ".py",
   "mimetype": "text/x-python",
   "name": "python",
   "nbconvert_exporter": "python",
   "pygments_lexer": "ipython3",
   "version": "3.7.3"
  },
  "toc": {
   "base_numbering": 1,
   "nav_menu": {},
   "number_sections": false,
   "sideBar": true,
   "skip_h1_title": true,
   "title_cell": "Table of Contents",
   "title_sidebar": "Contents",
   "toc_cell": false,
   "toc_position": {},
   "toc_section_display": true,
   "toc_window_display": false
  }
 },
 "nbformat": 4,
 "nbformat_minor": 2
}
