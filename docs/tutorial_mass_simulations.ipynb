{
 "cells": [
  {
   "cell_type": "markdown",
   "metadata": {},
   "source": [
    "# Tutorial on Mass Simulations"
   ]
  },
  {
   "cell_type": "code",
   "execution_count": 1,
   "metadata": {
    "ExecuteTime": {
     "end_time": "2020-01-11T09:36:16.674618Z",
     "start_time": "2020-01-11T09:36:16.205862Z"
    }
   },
   "outputs": [],
   "source": [
    "from matplotlib import pyplot as plt\n",
    "import poisson_approval as pa"
   ]
  },
  {
   "cell_type": "markdown",
   "metadata": {},
   "source": [
    "## Probability Estimation"
   ]
  },
  {
   "cell_type": "markdown",
   "metadata": {},
   "source": [
    "Probability that a TauVector drawn uniformly at random has a direct focus:"
   ]
  },
  {
   "cell_type": "code",
   "execution_count": 2,
   "metadata": {
    "ExecuteTime": {
     "end_time": "2020-01-11T09:36:16.679595Z",
     "start_time": "2020-01-11T09:36:16.676602Z"
    }
   },
   "outputs": [],
   "source": [
    "def test_direct_focus(tau):\n",
    "    return tau.focus == pa.Focus.DIRECT"
   ]
  },
  {
   "cell_type": "code",
   "execution_count": 3,
   "metadata": {
    "ExecuteTime": {
     "end_time": "2020-01-11T09:36:16.761380Z",
     "start_time": "2020-01-11T09:36:16.680592Z"
    }
   },
   "outputs": [
    {
     "data": {
      "text/plain": [
       "0.63"
      ]
     },
     "execution_count": 3,
     "metadata": {},
     "output_type": "execute_result"
    }
   ],
   "source": [
    "pa.probability(\n",
    "    generator=pa.GeneratorTauVectorUniform(),\n",
    "    n_samples=100,\n",
    "    test=test_direct_focus\n",
    ")"
   ]
  },
  {
   "cell_type": "markdown",
   "metadata": {},
   "source": [
    "To avoid the definition of an auxiliary function, you can use a \"lambda\". For example:"
   ]
  },
  {
   "cell_type": "code",
   "execution_count": 4,
   "metadata": {
    "ExecuteTime": {
     "end_time": "2020-01-11T09:36:16.833224Z",
     "start_time": "2020-01-11T09:36:16.763381Z"
    }
   },
   "outputs": [
    {
     "data": {
      "text/plain": [
       "0.56"
      ]
     },
     "execution_count": 4,
     "metadata": {},
     "output_type": "execute_result"
    }
   ],
   "source": [
    "pa.probability(\n",
    "    generator=pa.GeneratorTauVectorUniform(),\n",
    "    n_samples=100,\n",
    "    test=lambda tau: tau.focus == pa.Focus.DIRECT\n",
    ")"
   ]
  },
  {
   "cell_type": "markdown",
   "metadata": {
    "ExecuteTime": {
     "end_time": "2020-01-03T06:55:13.021088Z",
     "start_time": "2020-01-03T06:55:13.016102Z"
    }
   },
   "source": [
    "Probability that a ProfileOrdinal drawn uniformly at random has a direct equilibrium, conditionally on having a strict Condorcet winner:"
   ]
  },
  {
   "cell_type": "code",
   "execution_count": 5,
   "metadata": {
    "ExecuteTime": {
     "end_time": "2020-01-11T09:36:16.838170Z",
     "start_time": "2020-01-11T09:36:16.834180Z"
    }
   },
   "outputs": [],
   "source": [
    "def test_exists_direct_equilibrium(profile):\n",
    "    return len(profile.analyzed_strategies.equilibria) > 0"
   ]
  },
  {
   "cell_type": "code",
   "execution_count": 6,
   "metadata": {
    "ExecuteTime": {
     "end_time": "2020-01-11T09:36:16.849143Z",
     "start_time": "2020-01-11T09:36:16.839168Z"
    }
   },
   "outputs": [],
   "source": [
    "def test_is_strictly_condorcet(profile):\n",
    "    return profile.is_profile_condorcet == 1.0"
   ]
  },
  {
   "cell_type": "code",
   "execution_count": 7,
   "metadata": {
    "ExecuteTime": {
     "end_time": "2020-01-11T09:36:46.382216Z",
     "start_time": "2020-01-11T09:36:16.850140Z"
    }
   },
   "outputs": [
    {
     "data": {
      "text/plain": [
       "0.33"
      ]
     },
     "execution_count": 7,
     "metadata": {},
     "output_type": "execute_result"
    }
   ],
   "source": [
    "pa.probability(\n",
    "    generator=pa.GeneratorProfileOrdinalUniform(),\n",
    "    n_samples=100,\n",
    "    test=test_exists_direct_equilibrium,\n",
    "    conditional_on=test_is_strictly_condorcet\n",
    ")"
   ]
  },
  {
   "cell_type": "markdown",
   "metadata": {},
   "source": [
    "Probability that a random StrategyOrdinal is an equilibrium for a random ProfileOrdinal, conditionally on the fact that the profile has a strict Condorcet winner and that the initial strategy elects the Condorcet winner:"
   ]
  },
  {
   "cell_type": "code",
   "execution_count": 8,
   "metadata": {
    "ExecuteTime": {
     "end_time": "2020-01-11T09:36:46.388157Z",
     "start_time": "2020-01-11T09:36:46.384165Z"
    }
   },
   "outputs": [],
   "source": [
    "def test_is_equilibrium(profile, strategy):\n",
    "    return profile.is_equilibrium(strategy) == pa.EquilibriumStatus.EQUILIBRIUM"
   ]
  },
  {
   "cell_type": "code",
   "execution_count": 9,
   "metadata": {
    "ExecuteTime": {
     "end_time": "2020-01-11T09:36:46.422064Z",
     "start_time": "2020-01-11T09:36:46.390150Z"
    }
   },
   "outputs": [],
   "source": [
    "def test_elect_condorcet_winner(profile, strategy):\n",
    "    return (profile.is_profile_condorcet == 1. \n",
    "            and profile.tau(strategy).winners == profile.condorcet_winners)"
   ]
  },
  {
   "cell_type": "code",
   "execution_count": 10,
   "metadata": {
    "ExecuteTime": {
     "end_time": "2020-01-11T09:36:51.063692Z",
     "start_time": "2020-01-11T09:36:46.424058Z"
    }
   },
   "outputs": [
    {
     "data": {
      "text/plain": [
       "0.006"
      ]
     },
     "execution_count": 10,
     "metadata": {},
     "output_type": "execute_result"
    }
   ],
   "source": [
    "pa.probability(\n",
    "    generator=(pa.GeneratorProfileOrdinalUniform(), \n",
    "               pa.GeneratorStrategyOrdinalUniform()),\n",
    "    n_samples=1000,\n",
    "    test=test_is_equilibrium,\n",
    "    conditional_on=test_elect_condorcet_winner\n",
    ")"
   ]
  },
  {
   "cell_type": "markdown",
   "metadata": {},
   "source": [
    "## Find an Example"
   ]
  },
  {
   "cell_type": "markdown",
   "metadata": {},
   "source": [
    "An example of TauVector with a direct focus:"
   ]
  },
  {
   "cell_type": "code",
   "execution_count": 11,
   "metadata": {
    "ExecuteTime": {
     "end_time": "2020-01-11T09:36:51.070675Z",
     "start_time": "2020-01-11T09:36:51.065649Z"
    }
   },
   "outputs": [],
   "source": [
    "def test_direct_focus(tau):\n",
    "    return tau.focus == pa.Focus.DIRECT"
   ]
  },
  {
   "cell_type": "code",
   "execution_count": 12,
   "metadata": {
    "ExecuteTime": {
     "end_time": "2020-01-11T09:36:51.125487Z",
     "start_time": "2020-01-11T09:36:51.072628Z"
    }
   },
   "outputs": [
    {
     "data": {
      "text/plain": [
       "<a: 3/100, ab: 9/100, ac: 39/100, b: 23/100, bc: 13/100, c: 13/100> ==> c"
      ]
     },
     "execution_count": 12,
     "metadata": {},
     "output_type": "execute_result"
    }
   ],
   "source": [
    "generator = pa.GeneratorExample(\n",
    "    generator=pa.GeneratorTauVectorGridUniform(denominator=100),\n",
    "    test=test_direct_focus,\n",
    "    n_trials_max=None\n",
    ")\n",
    "tau = generator()\n",
    "tau"
   ]
  },
  {
   "cell_type": "markdown",
   "metadata": {},
   "source": [
    "An example of ProfileOrdinal and StrategyOrdinal, such that the strategy is an equilibrium for the profile:"
   ]
  },
  {
   "cell_type": "code",
   "execution_count": 13,
   "metadata": {
    "ExecuteTime": {
     "end_time": "2020-01-11T09:36:51.133465Z",
     "start_time": "2020-01-11T09:36:51.126485Z"
    }
   },
   "outputs": [],
   "source": [
    "def test_is_equilibrium(profile, strategy):\n",
    "    return profile.is_equilibrium(strategy) == pa.EquilibriumStatus.EQUILIBRIUM"
   ]
  },
  {
   "cell_type": "code",
   "execution_count": 14,
   "metadata": {
    "ExecuteTime": {
     "end_time": "2020-01-11T09:36:56.130105Z",
     "start_time": "2020-01-11T09:36:51.135460Z"
    }
   },
   "outputs": [
    {
     "name": "stdout",
     "output_type": "stream",
     "text": [
      "<abc: 2/25, bac: 11/25, bca: 23/100, cab: 13/100, cba: 3/25> (Condorcet winner: b)\n",
      "<abc: a, acb: a, bac: b, bca: b, cab: ac, cba: bc>\n"
     ]
    }
   ],
   "source": [
    "generator = pa.GeneratorExample(\n",
    "    generator=(pa.GeneratorProfileOrdinalGridUniform(denominator=100), \n",
    "               pa.GeneratorStrategyOrdinalUniform()),\n",
    "    test=test_is_equilibrium,\n",
    "    n_trials_max=None\n",
    ")\n",
    "profile, strategy = generator()\n",
    "print(profile)\n",
    "print(strategy)"
   ]
  },
  {
   "cell_type": "markdown",
   "metadata": {},
   "source": [
    "## Distribution Estimation"
   ]
  },
  {
   "cell_type": "markdown",
   "metadata": {},
   "source": [
    "When drawing a ProfileHistogram and an initial StrategyThreshold at random, distribution of the length of the cycle to which it converges (cf. ``ProfileHistogram.iterated_voting_taus``):"
   ]
  },
  {
   "cell_type": "code",
   "execution_count": 15,
   "metadata": {
    "ExecuteTime": {
     "end_time": "2020-01-11T09:36:56.135092Z",
     "start_time": "2020-01-11T09:36:56.131102Z"
    }
   },
   "outputs": [],
   "source": [
    "def len_cycle(profile, strategy_ini):\n",
    "    cycle = profile.iterated_voting_taus(strategy_ini=strategy_ini, n_max_episodes=100)['cycle_taus']\n",
    "    return len(cycle)"
   ]
  },
  {
   "cell_type": "code",
   "execution_count": 16,
   "metadata": {
    "ExecuteTime": {
     "end_time": "2020-01-11T09:37:03.622116Z",
     "start_time": "2020-01-11T09:36:56.137086Z"
    }
   },
   "outputs": [
    {
     "data": {
      "text/plain": [
       "{0: 0.08, 1: 0.58, 2: 0.18, 3: 0.08, 4: 0.04, 5: 0.02, 6: 0.01, 11: 0.01}"
      ]
     },
     "execution_count": 16,
     "metadata": {},
     "output_type": "execute_result"
    }
   ],
   "source": [
    "d_len_occurrences = pa.image_distribution(\n",
    "    generator=(pa.GeneratorProfileHistogramUniform(n_bins=10), pa.GeneratorStrategyThresholdUniform()),\n",
    "    n_samples=100, f=len_cycle)\n",
    "d_len_occurrences"
   ]
  },
  {
   "cell_type": "code",
   "execution_count": 17,
   "metadata": {
    "ExecuteTime": {
     "end_time": "2020-01-11T09:37:03.772714Z",
     "start_time": "2020-01-11T09:37:03.624066Z"
    }
   },
   "outputs": [
    {
     "data": {
      "text/plain": [
       "<BarContainer object of 8 artists>"
      ]
     },
     "execution_count": 17,
     "metadata": {},
     "output_type": "execute_result"
    },
    {
     "data": {
      "image/png": "[encoded data removed]",
      "text/plain": [
       "<Figure size 432x288 with 1 Axes>"
      ]
     },
     "metadata": {
      "needs_background": "light"
     },
     "output_type": "display_data"
    }
   ],
   "source": [
    "plt.bar(d_len_occurrences.keys(), d_len_occurrences.values())"
   ]
  },
  {
   "cell_type": "markdown",
   "metadata": {},
   "source": [
    "## Grid explorations"
   ]
  },
  {
   "cell_type": "markdown",
   "metadata": {},
   "source": [
    "### ExploreGridProfilesOrdinal"
   ]
  },
  {
   "cell_type": "markdown",
   "metadata": {},
   "source": [
    "Here, we examine all examples with a given denominator in the profile. For example, if $\\textrm{denominator} = 9$, we will examine profiles such as $(1/9, 2/9, 2/9, 1/9, 1/3, 0)$ or $(1/9, 5/9, 0, 3/9, 0, 0)$, etc."
   ]
  },
  {
   "cell_type": "markdown",
   "metadata": {},
   "source": [
    "Beforehand, we may define a test function that indicates what kinds of profiles we want to study. In this example, we restrict to Condorcet profiles that have at least a utility-dependent equilibrium."
   ]
  },
  {
   "cell_type": "code",
   "execution_count": 18,
   "metadata": {
    "ExecuteTime": {
     "end_time": "2020-01-11T09:37:03.777655Z",
     "start_time": "2020-01-11T09:37:03.773666Z"
    }
   },
   "outputs": [],
   "source": [
    "def test_condorcet_with_utility_dependent(profile):\n",
    "    return(\n",
    "        profile.is_profile_condorcet == 1.0\n",
    "        and len(profile.analyzed_strategies.utility_dependent) > 0\n",
    "    )"
   ]
  },
  {
   "cell_type": "markdown",
   "metadata": {},
   "source": [
    "N.B.: as in the example above, it is better to put the fast tests (here, is_profile_condorcet) before the slow tests (here, having no true equilibrium). It speeds up the program significantly."
   ]
  },
  {
   "cell_type": "markdown",
   "metadata": {},
   "source": [
    "Launch the exploration:"
   ]
  },
  {
   "cell_type": "code",
   "execution_count": 19,
   "metadata": {
    "ExecuteTime": {
     "end_time": "2020-01-11T09:37:03.932242Z",
     "start_time": "2020-01-11T09:37:03.778652Z"
    }
   },
   "outputs": [
    {
     "data": {
      "text/plain": [
       "0 equilibrium, 1 utility-dependent equilibrium, 3 non-equilibria\n",
       "<abc: 2/3, cab: 1/3> (Condorcet winner: a)\n",
       "\n",
       "0 equilibrium, 1 utility-dependent equilibrium, 7 non-equilibria\n",
       "<abc: 1/3, acb: 1/3, bac: 1/3> (Condorcet winner: a)\n",
       "\n",
       "0 equilibrium, 2 utility-dependent equilibria, 2 non-equilibria\n",
       "<abc: 2/3, cba: 1/3> (Condorcet winner: a)\n",
       "<abc: 2/3, bca: 1/3> (Condorcet winner: a)\n",
       "\n",
       "0 equilibrium, 3 utility-dependent equilibria, 5 non-equilibria\n",
       "<abc: 1/3, acb: 1/3, bca: 1/3> (Condorcet winner: a)\n",
       "\n",
       "2 equilibria, 1 utility-dependent equilibrium, 5 non-equilibria\n",
       "<abc: 1/3, bac: 1/3, cab: 1/3> (Condorcet winner: a)"
      ]
     },
     "execution_count": 19,
     "metadata": {},
     "output_type": "execute_result"
    }
   ],
   "source": [
    "exploration = pa.ExploreGridProfilesOrdinal(\n",
    "    denominator=3, test=test_condorcet_with_utility_dependent)\n",
    "exploration"
   ]
  },
  {
   "cell_type": "markdown",
   "metadata": {},
   "source": [
    "Access one profile in particular in order to study it:"
   ]
  },
  {
   "cell_type": "code",
   "execution_count": 20,
   "metadata": {
    "ExecuteTime": {
     "end_time": "2020-01-11T09:37:03.939225Z",
     "start_time": "2020-01-11T09:37:03.933240Z"
    }
   },
   "outputs": [
    {
     "data": {
      "text/plain": [
       "<abc: 2/3, cab: 1/3> (Condorcet winner: a)"
      ]
     },
     "execution_count": 20,
     "metadata": {},
     "output_type": "execute_result"
    }
   ],
   "source": [
    "profile = exploration[(0, 1, 3)][0]\n",
    "profile"
   ]
  },
  {
   "cell_type": "markdown",
   "metadata": {},
   "source": [
    "If the test breaks the symmetry between candidates, you should use the option $\\verb|standardized = False|$:"
   ]
  },
  {
   "cell_type": "code",
   "execution_count": 21,
   "metadata": {
    "ExecuteTime": {
     "end_time": "2020-01-11T09:37:04.074904Z",
     "start_time": "2020-01-11T09:37:03.941220Z"
    }
   },
   "outputs": [
    {
     "data": {
      "text/plain": [
       "0 equilibrium, 1 utility-dependent equilibrium, 3 non-equilibria\n",
       "<bac: 1/2, cab: 1/2> (Condorcet winner: a, b, c)\n",
       "<acb: 1/2, cba: 1/2> (Condorcet winner: a, c)\n",
       "<acb: 1/2, bca: 1/2> (Condorcet winner: a, b, c)\n",
       "<acb: 1/2, bac: 1/2> (Condorcet winner: a, b)\n",
       "<abc: 1/2, cba: 1/2> (Condorcet winner: a, b, c)\n",
       "<abc: 1/2, cab: 1/2> (Condorcet winner: a, c)\n",
       "<abc: 1/2, bca: 1/2> (Condorcet winner: a, b)\n",
       "\n",
       "1 equilibrium, 0 utility-dependent equilibrium, 1 non-equilibrium\n",
       "<acb: 1> (Condorcet winner: a)\n",
       "<abc: 1> (Condorcet winner: a)\n",
       "\n",
       "1 equilibrium, 0 utility-dependent equilibrium, 3 non-equilibria\n",
       "<acb: 1/2, cab: 1/2> (Condorcet winner: a, c)\n",
       "<abc: 1/2, bac: 1/2> (Condorcet winner: a, b)\n",
       "<abc: 1/2, acb: 1/2> (Condorcet winner: a)"
      ]
     },
     "execution_count": 21,
     "metadata": {},
     "output_type": "execute_result"
    }
   ],
   "source": [
    "def test_a_is_condorcet_winner(profile):\n",
    "    return 'a' in profile.condorcet_winners\n",
    "exploration = pa.ExploreGridProfilesOrdinal(\n",
    "    test=test_a_is_condorcet_winner, denominator=2, standardized=False)\n",
    "exploration"
   ]
  },
  {
   "cell_type": "markdown",
   "metadata": {},
   "source": [
    "### ExploreGridTaus"
   ]
  },
  {
   "cell_type": "markdown",
   "metadata": {},
   "source": [
    "Define a test and explore:"
   ]
  },
  {
   "cell_type": "code",
   "execution_count": 22,
   "metadata": {
    "ExecuteTime": {
     "end_time": "2020-01-11T09:37:04.129754Z",
     "start_time": "2020-01-11T09:37:04.075858Z"
    }
   },
   "outputs": [
    {
     "data": {
      "text/plain": [
       "<a: 1/3, ab: 1/6, bc: 1/2> ==> b\n",
       "<a: 1/3, b: 1/6, bc: 1/2> ==> b\n",
       "<a: 1/3, ab: 1/6, ac: 1/3, b: 1/6> ==> a\n",
       "<a: 1/3, ac: 1/6, b: 1/3, c: 1/6> ==> a\n",
       "<a: 1/2, ab: 1/3, ac: 1/6> ==> a\n",
       "<a: 1/2, ac: 1/3, b: 1/6> ==> a\n",
       "<a: 1/2, ab: 1/6, b: 1/6, c: 1/6> ==> a"
      ]
     },
     "execution_count": 22,
     "metadata": {},
     "output_type": "execute_result"
    }
   ],
   "source": [
    "def test_direct_focus(tau):\n",
    "    return tau.focus == pa.Focus.DIRECT\n",
    "exploration = pa.ExploreGridTaus(\n",
    "    denominator=6, test=test_direct_focus)\n",
    "exploration"
   ]
  },
  {
   "cell_type": "markdown",
   "metadata": {},
   "source": [
    "Access one tau in particular in order to study it:"
   ]
  },
  {
   "cell_type": "code",
   "execution_count": 23,
   "metadata": {
    "ExecuteTime": {
     "end_time": "2020-01-11T09:37:04.137725Z",
     "start_time": "2020-01-11T09:37:04.132707Z"
    }
   },
   "outputs": [
    {
     "data": {
      "text/plain": [
       "<a: 1/3, ab: 1/6, bc: 1/2> ==> b"
      ]
     },
     "execution_count": 23,
     "metadata": {},
     "output_type": "execute_result"
    }
   ],
   "source": [
    "tau = exploration[0]\n",
    "tau"
   ]
  },
  {
   "cell_type": "markdown",
   "metadata": {},
   "source": [
    "## Meta-Analysis: NiceStatsProfileOrdinal"
   ]
  },
  {
   "cell_type": "markdown",
   "metadata": {},
   "source": [
    "Define a protocol of meta-analysis:\n",
    "\n",
    "(For more detailed information, cf. Reference section.)"
   ]
  },
  {
   "cell_type": "code",
   "execution_count": 24,
   "metadata": {
    "ExecuteTime": {
     "end_time": "2020-01-11T09:37:04.147709Z",
     "start_time": "2020-01-11T09:37:04.138690Z"
    }
   },
   "outputs": [],
   "source": [
    "nice_stats = pa.NiceStatsProfileOrdinal(\n",
    "    tests_profile=[\n",
    "        (lambda profile: any([strategy for strategy in profile.analyzed_strategies.equilibria\n",
    "                              if strategy.profile.condorcet_winners == strategy.winners]),\n",
    "         'There exists a true equilibrium electing the CW'),\n",
    "    ],\n",
    "    tests_strategy=[\n",
    "        (lambda strategy: strategy.profile.condorcet_winners == strategy.winners,\n",
    "         'There exists an equilibrium that elects the CW')\n",
    "    ],\n",
    "    tests_strategy_dist=[\n",
    "        (lambda strategy: strategy.profile.condorcet_winners == strategy.winners,\n",
    "         'There exists an equilibrium that elects the CW')\n",
    "    ],\n",
    "   conditional_on=lambda profile: profile.is_profile_condorcet == 1.\n",
    ")"
   ]
  },
  {
   "cell_type": "markdown",
   "metadata": {},
   "source": [
    "Run the Monte-Carlo simulation:"
   ]
  },
  {
   "cell_type": "code",
   "execution_count": 25,
   "metadata": {
    "ExecuteTime": {
     "end_time": "2020-01-11T09:37:07.264718Z",
     "start_time": "2020-01-11T09:37:04.148664Z"
    }
   },
   "outputs": [],
   "source": [
    "nice_stats.run(n_samples=10)"
   ]
  },
  {
   "cell_type": "markdown",
   "metadata": {},
   "source": [
    "Synthetic view of the results:"
   ]
  },
  {
   "cell_type": "code",
   "execution_count": 26,
   "metadata": {
    "ExecuteTime": {
     "end_time": "2020-01-11T09:37:07.698213Z",
     "start_time": "2020-01-11T09:37:07.266328Z"
    }
   },
   "outputs": [
    {
     "name": "stdout",
     "output_type": "stream",
     "text": [
      "P(There exists a true equilibrium electing the CW) = 0.2\n"
     ]
    },
    {
     "data": {
      "image/png": "[encoded data removed]",
      "text/plain": [
       "<Figure size 432x288 with 1 Axes>"
      ]
     },
     "metadata": {
      "needs_background": "light"
     },
     "output_type": "display_data"
    },
    {
     "name": "stdout",
     "output_type": "stream",
     "text": [
      "P(There exists an equilibrium that elects the CW) :\n",
      "{0: 0.35119461226193943, 1: 0.43834457191331316, 2: 0.20273507248736333, 3: 0.007671313445239497, 4: 5.4429892144484024e-05}\n"
     ]
    },
    {
     "data": {
      "image/png": "[encoded data removed]",
      "text/plain": [
       "<Figure size 432x288 with 1 Axes>"
      ]
     },
     "metadata": {
      "needs_background": "light"
     },
     "output_type": "display_data"
    }
   ],
   "source": [
    "nice_stats.display_results()"
   ]
  },
  {
   "cell_type": "markdown",
   "metadata": {},
   "source": [
    "Find an example for one of the tests:"
   ]
  },
  {
   "cell_type": "code",
   "execution_count": 27,
   "metadata": {
    "ExecuteTime": {
     "end_time": "2020-01-11T09:37:07.705154Z",
     "start_time": "2020-01-11T09:37:07.699169Z"
    }
   },
   "outputs": [
    {
     "data": {
      "text/plain": [
       "<abc: 0.10474152761172983, acb: 0.09759184331876436, bac: 0.44099586881135955, bca: 0.07891546149125672, cab: 0.088164176476346, cba: 0.18959112229054353> (Condorcet winner: b)"
      ]
     },
     "execution_count": 27,
     "metadata": {},
     "output_type": "execute_result"
    }
   ],
   "source": [
    "profile = nice_stats.find_example('There exists a true equilibrium electing the CW', False)\n",
    "profile"
   ]
  },
  {
   "cell_type": "markdown",
   "metadata": {},
   "source": [
    "Draw a plot:"
   ]
  },
  {
   "cell_type": "code",
   "execution_count": 28,
   "metadata": {
    "ExecuteTime": {
     "end_time": "2020-01-11T09:37:07.878689Z",
     "start_time": "2020-01-11T09:37:07.706151Z"
    }
   },
   "outputs": [
    {
     "data": {
      "text/plain": [
       "(-0.05, 1.05)"
      ]
     },
     "execution_count": 28,
     "metadata": {},
     "output_type": "execute_result"
    },
    {
     "data": {
      "image/png": "[encoded data removed]",
      "text/plain": [
       "<Figure size 432x288 with 1 Axes>"
      ]
     },
     "metadata": {
      "needs_background": "light"
     },
     "output_type": "display_data"
    }
   ],
   "source": [
    "nice_stats.plot_test_strategy('There exists an equilibrium that elects the CW')\n",
    "nice_stats.plot_cutoff('There exists a true equilibrium electing the CW',\n",
    "                       left='No true equilibrium', right='True equilibrium')\n",
    "plt.xlim(-0.05, 1.05)"
   ]
  }
 ],
 "metadata": {
  "kernelspec": {
   "display_name": "Python 3",
   "language": "python",
   "name": "python3"
  },
  "language_info": {
   "codemirror_mode": {
    "name": "ipython",
    "version": 3
   },
   "file_extension": ".py",
   "mimetype": "text/x-python",
   "name": "python",
   "nbconvert_exporter": "python",
   "pygments_lexer": "ipython3",
   "version": "3.7.3"
  },
  "toc": {
   "base_numbering": 1,
   "nav_menu": {},
   "number_sections": false,
   "sideBar": true,
   "skip_h1_title": true,
   "title_cell": "Table of Contents",
   "title_sidebar": "Contents",
   "toc_cell": false,
   "toc_position": {},
   "toc_section_display": true,
   "toc_window_display": true
  }
 },
 "nbformat": 4,
 "nbformat_minor": 2
}
