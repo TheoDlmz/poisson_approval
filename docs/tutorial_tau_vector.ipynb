{
 "cells": [
  {
   "cell_type": "markdown",
   "metadata": {},
   "source": [
    "# Tutorial on TauVector"
   ]
  },
  {
   "cell_type": "code",
   "execution_count": 1,
   "metadata": {
    "ExecuteTime": {
     "end_time": "2020-01-03T13:38:42.690706Z",
     "start_time": "2020-01-03T13:38:42.235892Z"
    }
   },
   "outputs": [],
   "source": [
    "from fractions import Fraction\n",
    "import poisson_approval as pa"
   ]
  },
  {
   "cell_type": "markdown",
   "metadata": {},
   "source": [
    "## The Tau-Vector and its Basic Properties"
   ]
  },
  {
   "cell_type": "markdown",
   "metadata": {},
   "source": [
    "Create a tau-vector (ballot shares):"
   ]
  },
  {
   "cell_type": "code",
   "execution_count": 2,
   "metadata": {
    "ExecuteTime": {
     "end_time": "2020-01-03T13:38:42.696661Z",
     "start_time": "2020-01-03T13:38:42.692670Z"
    }
   },
   "outputs": [],
   "source": [
    "tau = pa.TauVector({'a': Fraction(1, 10), 'ab': Fraction(3, 5), 'c': Fraction(3, 10)})"
   ]
  },
  {
   "cell_type": "markdown",
   "metadata": {},
   "source": [
    "Share of the ballot $ab$:"
   ]
  },
  {
   "cell_type": "code",
   "execution_count": 3,
   "metadata": {
    "ExecuteTime": {
     "end_time": "2020-01-03T13:38:42.714612Z",
     "start_time": "2020-01-03T13:38:42.698656Z"
    }
   },
   "outputs": [
    {
     "data": {
      "text/plain": [
       "Fraction(3, 5)"
      ]
     },
     "execution_count": 3,
     "metadata": {},
     "output_type": "execute_result"
    }
   ],
   "source": [
    "tau.ab"
   ]
  },
  {
   "cell_type": "markdown",
   "metadata": {},
   "source": [
    "Scores:"
   ]
  },
  {
   "cell_type": "code",
   "execution_count": 4,
   "metadata": {
    "ExecuteTime": {
     "end_time": "2020-01-03T13:38:42.724586Z",
     "start_time": "2020-01-03T13:38:42.716607Z"
    }
   },
   "outputs": [
    {
     "data": {
      "text/plain": [
       "{a: 7/10, b: 3/5, c: 3/10}"
      ]
     },
     "execution_count": 4,
     "metadata": {},
     "output_type": "execute_result"
    }
   ],
   "source": [
    "tau.scores"
   ]
  },
  {
   "cell_type": "markdown",
   "metadata": {},
   "source": [
    "Winners:"
   ]
  },
  {
   "cell_type": "code",
   "execution_count": 5,
   "metadata": {
    "ExecuteTime": {
     "end_time": "2020-01-03T13:38:42.736554Z",
     "start_time": "2020-01-03T13:38:42.726580Z"
    }
   },
   "outputs": [
    {
     "data": {
      "text/plain": [
       "{'a'}"
      ]
     },
     "execution_count": 5,
     "metadata": {},
     "output_type": "execute_result"
    }
   ],
   "source": [
    "tau.winners"
   ]
  },
  {
   "cell_type": "markdown",
   "metadata": {},
   "source": [
    "## Events: Duos, Pivots and Trios"
   ]
  },
  {
   "cell_type": "markdown",
   "metadata": {},
   "source": [
    "An Event provides the asymptotic development of the limit probability when the expected number of voters $n$ tend to infinity, as well as the offsets for each type of ballot."
   ]
  },
  {
   "cell_type": "markdown",
   "metadata": {},
   "source": [
    "Duo between $a$ and $b$:\n",
    "\n",
    "($a$ and $b$ have the same score, but not necessarily higher than $c$.)"
   ]
  },
  {
   "cell_type": "code",
   "execution_count": 6,
   "metadata": {
    "ExecuteTime": {
     "end_time": "2020-01-03T13:38:42.748531Z",
     "start_time": "2020-01-03T13:38:42.738549Z"
    }
   },
   "outputs": [
    {
     "data": {
      "text/plain": [
       "<asymptotic = exp(- 0.1 n + o(1)), phi_a = 0, phi_c = 1, phi_ab = 1>"
      ]
     },
     "execution_count": 6,
     "metadata": {},
     "output_type": "execute_result"
    }
   ],
   "source": [
    "tau.duo_ab"
   ]
  },
  {
   "cell_type": "markdown",
   "metadata": {},
   "source": [
    "Pivots between $a$ and $b$:\n",
    "\n",
    "(For the definition of each variant, cf. Reference section.)"
   ]
  },
  {
   "cell_type": "code",
   "execution_count": 7,
   "metadata": {
    "ExecuteTime": {
     "end_time": "2020-01-03T13:38:42.759529Z",
     "start_time": "2020-01-03T13:38:42.751516Z"
    }
   },
   "outputs": [
    {
     "data": {
      "text/plain": [
       "<asymptotic = exp(- 0.1 n + o(1)), phi_a = 0, phi_c = 1, phi_ab = 1>"
      ]
     },
     "execution_count": 7,
     "metadata": {},
     "output_type": "execute_result"
    }
   ],
   "source": [
    "tau.pivot_weak_ab"
   ]
  },
  {
   "cell_type": "code",
   "execution_count": 8,
   "metadata": {
    "ExecuteTime": {
     "end_time": "2020-01-03T13:38:42.770481Z",
     "start_time": "2020-01-03T13:38:42.761487Z"
    }
   },
   "outputs": [
    {
     "data": {
      "text/plain": [
       "<asymptotic = exp(- 0.1 n + o(1)), phi_a = 0, phi_c = 1, phi_ab = 1>"
      ]
     },
     "execution_count": 8,
     "metadata": {},
     "output_type": "execute_result"
    }
   ],
   "source": [
    "tau.pivot_strict_ab"
   ]
  },
  {
   "cell_type": "code",
   "execution_count": 9,
   "metadata": {
    "ExecuteTime": {
     "end_time": "2020-01-03T13:38:42.782437Z",
     "start_time": "2020-01-03T13:38:42.773454Z"
    }
   },
   "outputs": [
    {
     "data": {
      "text/plain": [
       "<asymptotic = exp(- 0.1 n + o(1)), phi_a = 0, phi_c = 1, phi_ab = 1>"
      ]
     },
     "execution_count": 9,
     "metadata": {},
     "output_type": "execute_result"
    }
   ],
   "source": [
    "tau.pivot_tij_abc"
   ]
  },
  {
   "cell_type": "code",
   "execution_count": 10,
   "metadata": {
    "ExecuteTime": {
     "end_time": "2020-01-03T13:38:42.793439Z",
     "start_time": "2020-01-03T13:38:42.785423Z"
    }
   },
   "outputs": [
    {
     "data": {
      "text/plain": [
       "<asymptotic = exp(- inf)>"
      ]
     },
     "execution_count": 10,
     "metadata": {},
     "output_type": "execute_result"
    }
   ],
   "source": [
    "tau.pivot_tjk_abc"
   ]
  },
  {
   "cell_type": "markdown",
   "metadata": {},
   "source": [
    "Trios:\n",
    "\n",
    "(For the definition of each variant, cf. Reference section.)"
   ]
  },
  {
   "cell_type": "code",
   "execution_count": 11,
   "metadata": {
    "ExecuteTime": {
     "end_time": "2020-01-03T13:38:42.804372Z",
     "start_time": "2020-01-03T13:38:42.795397Z"
    }
   },
   "outputs": [
    {
     "data": {
      "text/plain": [
       "<asymptotic = exp(- 0.151472 n - 0.5 log n - 0.836813 + o(1)), phi_a = 0, phi_c = 1.41421, phi_ab = 0.707107>"
      ]
     },
     "execution_count": 11,
     "metadata": {},
     "output_type": "execute_result"
    }
   ],
   "source": [
    "tau.trio"
   ]
  },
  {
   "cell_type": "code",
   "execution_count": 12,
   "metadata": {
    "ExecuteTime": {
     "end_time": "2020-01-03T13:38:42.814345Z",
     "start_time": "2020-01-03T13:38:42.805368Z"
    }
   },
   "outputs": [
    {
     "data": {
      "text/plain": [
       "<asymptotic = exp(- inf)>"
      ]
     },
     "execution_count": 12,
     "metadata": {},
     "output_type": "execute_result"
    }
   ],
   "source": [
    "tau.trio_1t_a"
   ]
  },
  {
   "cell_type": "code",
   "execution_count": 13,
   "metadata": {
    "ExecuteTime": {
     "end_time": "2020-01-03T13:38:42.824319Z",
     "start_time": "2020-01-03T13:38:42.816341Z"
    }
   },
   "outputs": [
    {
     "data": {
      "text/plain": [
       "<asymptotic = exp(- 0.151472 n - 0.5 log n - 1.18339 + o(1)), phi_a = 0, phi_c = 1.41421, phi_ab = 0.707107>"
      ]
     },
     "execution_count": 13,
     "metadata": {},
     "output_type": "execute_result"
    }
   ],
   "source": [
    "tau.trio_2t_ab"
   ]
  },
  {
   "cell_type": "markdown",
   "metadata": {},
   "source": [
    "Print all weak pivots:"
   ]
  },
  {
   "cell_type": "code",
   "execution_count": 14,
   "metadata": {
    "ExecuteTime": {
     "end_time": "2020-01-03T13:38:42.836286Z",
     "start_time": "2020-01-03T13:38:42.825315Z"
    }
   },
   "outputs": [
    {
     "name": "stdout",
     "output_type": "stream",
     "text": [
      "pivot_weak_ab:  <asymptotic = exp(- 0.1 n + o(1)), phi_a = 0, phi_c = 1, phi_ab = 1>\n",
      "pivot_weak_ac:  <asymptotic = exp(- 0.0834849 n - 0.5 log n - 0.87535 + o(1)), phi_a = 0.654654, phi_c = 1.52753, phi_ab = 0.654654>\n",
      "pivot_weak_bc:  <asymptotic = exp(- 0.151472 n - 0.5 log n - 0.836813 + o(1)), phi_a = 0, phi_c = 1.41421, phi_ab = 0.707107>\n",
      "trio:  <asymptotic = exp(- 0.151472 n - 0.5 log n - 0.836813 + o(1)), phi_a = 0, phi_c = 1.41421, phi_ab = 0.707107>\n"
     ]
    }
   ],
   "source": [
    "tau.print_weak_pivots()"
   ]
  },
  {
   "cell_type": "markdown",
   "metadata": {},
   "source": [
    "Print all pivots:"
   ]
  },
  {
   "cell_type": "code",
   "execution_count": 15,
   "metadata": {
    "ExecuteTime": {
     "end_time": "2020-01-03T13:38:42.853241Z",
     "start_time": "2020-01-03T13:38:42.838281Z"
    }
   },
   "outputs": [
    {
     "name": "stdout",
     "output_type": "stream",
     "text": [
      "pivot_weak_ab:  <asymptotic = exp(- 0.1 n + o(1)), phi_a = 0, phi_c = 1, phi_ab = 1>\n",
      "pivot_weak_ac:  <asymptotic = exp(- 0.0834849 n - 0.5 log n - 0.87535 + o(1)), phi_a = 0.654654, phi_c = 1.52753, phi_ab = 0.654654>\n",
      "pivot_weak_bc:  <asymptotic = exp(- 0.151472 n - 0.5 log n - 0.836813 + o(1)), phi_a = 0, phi_c = 1.41421, phi_ab = 0.707107>\n",
      "pivot_strict_ab:  <asymptotic = exp(- 0.1 n + o(1)), phi_a = 0, phi_c = 1, phi_ab = 1>\n",
      "pivot_strict_ac:  <asymptotic = exp(- 0.0834849 n - 0.5 log n - 0.87535 + o(1)), phi_a = 0.654654, phi_c = 1.52753, phi_ab = 0.654654>\n",
      "pivot_strict_bc:  <asymptotic = exp(- inf)>\n",
      "pivot_tij_abc:  <asymptotic = exp(- 0.1 n + o(1)), phi_a = 0, phi_c = 1, phi_ab = 1>\n",
      "pivot_tij_acb:  <asymptotic = exp(- 0.0834849 n - 0.5 log n - 0.371758 + o(1)), phi_a = 0.654654, phi_c = 1.52753, phi_ab = 0.654654>\n",
      "pivot_tij_bac:  <asymptotic = exp(- 0.1 n + log n - 2.30259 + o(1)), phi_a = 0, phi_c = 1, phi_ab = 1>\n",
      "pivot_tij_bca:  <asymptotic = exp(- 0.151472 n - 0.5 log n - 0.302013 + o(1)), phi_a = 0, phi_c = 1.41421, phi_ab = 0.707107>\n",
      "pivot_tij_cab:  <asymptotic = exp(- 0.0834849 n - 0.5 log n + 0.0518905 + o(1)), phi_a = 0.654654, phi_c = 1.52753, phi_ab = 0.654654>\n",
      "pivot_tij_cba:  <asymptotic = exp(- 0.151472 n - 0.5 log n - 0.836813 + o(1)), phi_a = 0, phi_c = 1.41421, phi_ab = 0.707107>\n",
      "pivot_tjk_abc:  <asymptotic = exp(- inf)>\n",
      "pivot_tjk_acb:  <asymptotic = exp(- inf)>\n",
      "pivot_tjk_bac:  <asymptotic = exp(- 0.0834849 n - 0.5 log n - 0.371758 + o(1)), phi_a = 0.654654, phi_c = 1.52753, phi_ab = 0.654654>\n",
      "pivot_tjk_bca:  <asymptotic = exp(- 0.0834849 n - 0.5 log n + 0.0518905 + o(1)), phi_a = 0.654654, phi_c = 1.52753, phi_ab = 0.654654>\n",
      "pivot_tjk_cab:  <asymptotic = exp(- 0.1 n + o(1)), phi_a = 0, phi_c = 1, phi_ab = 1>\n",
      "pivot_tjk_cba:  <asymptotic = exp(- 0.1 n + log n - 2.30259 + o(1)), phi_a = 0, phi_c = 1, phi_ab = 1>\n",
      "trio:  <asymptotic = exp(- 0.151472 n - 0.5 log n - 0.836813 + o(1)), phi_a = 0, phi_c = 1.41421, phi_ab = 0.707107>\n",
      "trio_1t_a:  <asymptotic = exp(- inf)>\n",
      "trio_1t_b:  <asymptotic = exp(- 0.151472 n + 0.5 log n - 3.48597 + o(1)), phi_a = 0, phi_c = 1.41421, phi_ab = 0.707107>\n",
      "trio_1t_c:  <asymptotic = exp(- 0.151472 n - 0.5 log n - 0.490239 + o(1)), phi_a = 0, phi_c = 1.41421, phi_ab = 0.707107>\n",
      "trio_2t_ab:  <asymptotic = exp(- 0.151472 n - 0.5 log n - 1.18339 + o(1)), phi_a = 0, phi_c = 1.41421, phi_ab = 0.707107>\n",
      "trio_2t_ac:  <asymptotic = exp(- inf)>\n",
      "trio_2t_bc:  <asymptotic = exp(- 0.151472 n + 0.5 log n - 3.1394 + o(1)), phi_a = 0, phi_c = 1.41421, phi_ab = 0.707107>\n",
      "duo_ab:  <asymptotic = exp(- 0.1 n + o(1)), phi_a = 0, phi_c = 1, phi_ab = 1>\n",
      "duo_ac:  <asymptotic = exp(- 0.0834849 n - 0.5 log n - 0.87535 + o(1)), phi_a = 0.654654, phi_c = 1.52753, phi_ab = 0.654654>\n",
      "duo_bc:  <asymptotic = exp(- 0.0514719 n - 0.5 log n - 0.836813 + o(1)), phi_a = 1, phi_c = 1.41421, phi_ab = 0.707107>\n"
     ]
    }
   ],
   "source": [
    "tau.print_all_pivots()"
   ]
  },
  {
   "cell_type": "markdown",
   "metadata": {},
   "source": [
    "## Best Responses"
   ]
  },
  {
   "cell_type": "markdown",
   "metadata": {},
   "source": [
    "Focus of this Tau-Vector:\n",
    "\n",
    "(*Direct*: the three weak pivots have distinct magnitudes. *Forward-Focused*: the two lowest magnitudes are equal. *Backward-Focused*: the two highest magnitudes are equal. *Unfocused*: the three magnitudes are equal.)"
   ]
  },
  {
   "cell_type": "code",
   "execution_count": 16,
   "metadata": {
    "ExecuteTime": {
     "end_time": "2020-01-03T13:38:42.860222Z",
     "start_time": "2020-01-03T13:38:42.854238Z"
    }
   },
   "outputs": [
    {
     "data": {
      "text/plain": [
       "Focus.DIRECT"
      ]
     },
     "execution_count": 16,
     "metadata": {},
     "output_type": "execute_result"
    }
   ],
   "source": [
    "tau.focus"
   ]
  },
  {
   "cell_type": "markdown",
   "metadata": {},
   "source": [
    "Best response for each ranking:"
   ]
  },
  {
   "cell_type": "code",
   "execution_count": 17,
   "metadata": {
    "ExecuteTime": {
     "end_time": "2020-01-03T13:38:42.872190Z",
     "start_time": "2020-01-03T13:38:42.861219Z"
    }
   },
   "outputs": [
    {
     "data": {
      "text/plain": [
       "{'abc': <ballot = a, threshold_utility = 1, justification = Asymptotic method, pivot_tij = exp(- 0.1 n + o(1)), pivot_tjk = exp(- inf), trio_1t = exp(- inf), trio_2t = exp(- 0.151472 n - 0.5 log n - 1.18339 + o(1)), trio = exp(- 0.151472 n - 0.5 log n - 0.836813 + o(1))>,\n",
       " 'acb': <ballot = a, threshold_utility = 1, justification = Asymptotic method, pivot_tij = exp(- 0.0834849 n - 0.5 log n - 0.371758 + o(1)), pivot_tjk = exp(- inf), trio_1t = exp(- inf), trio_2t = exp(- inf), trio = exp(- 0.151472 n - 0.5 log n - 0.836813 + o(1))>,\n",
       " 'bac': <ballot = ab, threshold_utility = 0, justification = Asymptotic method, pivot_tij = exp(- 0.1 n + log n - 2.30259 + o(1)), pivot_tjk = exp(- 0.0834849 n - 0.5 log n - 0.371758 + o(1)), trio_1t = exp(- 0.151472 n + 0.5 log n - 3.48597 + o(1)), trio_2t = exp(- 0.151472 n - 0.5 log n - 1.18339 + o(1)), trio = exp(- 0.151472 n - 0.5 log n - 0.836813 + o(1))>,\n",
       " 'bca': <ballot = bc, threshold_utility = 0, justification = Asymptotic method, pivot_tij = exp(- 0.151472 n - 0.5 log n - 0.302013 + o(1)), pivot_tjk = exp(- 0.0834849 n - 0.5 log n + 0.0518905 + o(1)), trio_1t = exp(- 0.151472 n + 0.5 log n - 3.48597 + o(1)), trio_2t = exp(- 0.151472 n + 0.5 log n - 3.1394 + o(1)), trio = exp(- 0.151472 n - 0.5 log n - 0.836813 + o(1))>,\n",
       " 'cab': <ballot = c, threshold_utility = 1, justification = Asymptotic method, pivot_tij = exp(- 0.0834849 n - 0.5 log n + 0.0518905 + o(1)), pivot_tjk = exp(- 0.1 n + o(1)), trio_1t = exp(- 0.151472 n - 0.5 log n - 0.490239 + o(1)), trio_2t = exp(- inf), trio = exp(- 0.151472 n - 0.5 log n - 0.836813 + o(1))>,\n",
       " 'cba': <ballot = bc, threshold_utility = 0, justification = Asymptotic method, pivot_tij = exp(- 0.151472 n - 0.5 log n - 0.836813 + o(1)), pivot_tjk = exp(- 0.1 n + log n - 2.30259 + o(1)), trio_1t = exp(- 0.151472 n - 0.5 log n - 0.490239 + o(1)), trio_2t = exp(- 0.151472 n + 0.5 log n - 3.1394 + o(1)), trio = exp(- 0.151472 n - 0.5 log n - 0.836813 + o(1))>}"
      ]
     },
     "execution_count": 17,
     "metadata": {},
     "output_type": "execute_result"
    }
   ],
   "source": [
    "tau.d_ranking_best_response"
   ]
  }
 ],
 "metadata": {
  "kernelspec": {
   "display_name": "Python 3",
   "language": "python",
   "name": "python3"
  },
  "language_info": {
   "codemirror_mode": {
    "name": "ipython",
    "version": 3
   },
   "file_extension": ".py",
   "mimetype": "text/x-python",
   "name": "python",
   "nbconvert_exporter": "python",
   "pygments_lexer": "ipython3",
   "version": "3.7.3"
  },
  "toc": {
   "base_numbering": 1,
   "nav_menu": {},
   "number_sections": false,
   "sideBar": true,
   "skip_h1_title": true,
   "title_cell": "Table of Contents",
   "title_sidebar": "Contents",
   "toc_cell": false,
   "toc_position": {},
   "toc_section_display": true,
   "toc_window_display": false
  }
 },
 "nbformat": 4,
 "nbformat_minor": 2
}
