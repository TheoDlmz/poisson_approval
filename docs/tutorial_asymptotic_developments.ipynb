{
 "cells": [
  {
   "cell_type": "markdown",
   "metadata": {},
   "source": [
    "# Tutorial on Asymptotic Developments"
   ]
  },
  {
   "cell_type": "code",
   "execution_count": 1,
   "metadata": {
    "ExecuteTime": {
     "end_time": "2020-01-11T09:32:54.794080Z",
     "start_time": "2020-01-11T09:32:54.302283Z"
    }
   },
   "outputs": [],
   "source": [
    "from math import log, pi\n",
    "import poisson_approval as pa"
   ]
  },
  {
   "cell_type": "markdown",
   "metadata": {},
   "source": [
    "Asymptotic developments are mostly used internally by Poisson Approval in order to compute pivot event and best responses. However, they can also be used directly."
   ]
  },
  {
   "cell_type": "markdown",
   "metadata": {},
   "source": [
    "Define an asymptotic developement (manually):"
   ]
  },
  {
   "cell_type": "code",
   "execution_count": 2,
   "metadata": {
    "ExecuteTime": {
     "end_time": "2020-01-11T09:32:54.803987Z",
     "start_time": "2020-01-11T09:32:54.796009Z"
    }
   },
   "outputs": [
    {
     "data": {
      "text/plain": [
       "exp(- 0.111111 n - 0.5 log n - 0.513473 + o(1))"
      ]
     },
     "execution_count": 2,
     "metadata": {},
     "output_type": "execute_result"
    }
   ],
   "source": [
    "asymptotic = pa.Asymptotic(mu=-1 / 9, nu=-1 / 2, xi=-1 / 2 * log(8 * pi / 9))\n",
    "asymptotic"
   ]
  },
  {
   "cell_type": "markdown",
   "metadata": {},
   "source": [
    "Access its coefficients:"
   ]
  },
  {
   "cell_type": "code",
   "execution_count": 3,
   "metadata": {
    "ExecuteTime": {
     "end_time": "2020-01-11T09:32:54.812963Z",
     "start_time": "2020-01-11T09:32:54.806022Z"
    }
   },
   "outputs": [
    {
     "data": {
      "text/plain": [
       "-0.1111111111111111"
      ]
     },
     "execution_count": 3,
     "metadata": {},
     "output_type": "execute_result"
    }
   ],
   "source": [
    "asymptotic.mu"
   ]
  },
  {
   "cell_type": "code",
   "execution_count": 4,
   "metadata": {
    "ExecuteTime": {
     "end_time": "2020-01-11T09:32:54.822955Z",
     "start_time": "2020-01-11T09:32:54.813963Z"
    }
   },
   "outputs": [
    {
     "data": {
      "text/plain": [
       "-0.5"
      ]
     },
     "execution_count": 4,
     "metadata": {},
     "output_type": "execute_result"
    }
   ],
   "source": [
    "asymptotic.nu"
   ]
  },
  {
   "cell_type": "code",
   "execution_count": 5,
   "metadata": {
    "ExecuteTime": {
     "end_time": "2020-01-11T09:32:54.831937Z",
     "start_time": "2020-01-11T09:32:54.824931Z"
    }
   },
   "outputs": [
    {
     "data": {
      "text/plain": [
       "-0.5134734250965083"
      ]
     },
     "execution_count": 5,
     "metadata": {},
     "output_type": "execute_result"
    }
   ],
   "source": [
    "asymptotic.xi"
   ]
  },
  {
   "cell_type": "markdown",
   "metadata": {},
   "source": [
    "Multiply or add two asymptotic developments:"
   ]
  },
  {
   "cell_type": "code",
   "execution_count": 6,
   "metadata": {
    "ExecuteTime": {
     "end_time": "2020-01-11T09:32:54.841886Z",
     "start_time": "2020-01-11T09:32:54.834905Z"
    }
   },
   "outputs": [
    {
     "data": {
      "text/plain": [
       "exp(- 0.5 n - log n - 1 + o(1))"
      ]
     },
     "execution_count": 6,
     "metadata": {},
     "output_type": "execute_result"
    }
   ],
   "source": [
    "asymptotic2 = pa.Asymptotic(mu=-1 / 2, nu=-1, xi=-1)\n",
    "asymptotic2"
   ]
  },
  {
   "cell_type": "code",
   "execution_count": 7,
   "metadata": {
    "ExecuteTime": {
     "end_time": "2020-01-11T09:32:54.853856Z",
     "start_time": "2020-01-11T09:32:54.843881Z"
    }
   },
   "outputs": [
    {
     "data": {
      "text/plain": [
       "exp(- 0.611111 n - 1.5 log n - 1.51347 + o(1))"
      ]
     },
     "execution_count": 7,
     "metadata": {},
     "output_type": "execute_result"
    }
   ],
   "source": [
    "asymptotic * asymptotic2"
   ]
  },
  {
   "cell_type": "code",
   "execution_count": 8,
   "metadata": {
    "ExecuteTime": {
     "end_time": "2020-01-11T09:32:54.865821Z",
     "start_time": "2020-01-11T09:32:54.855850Z"
    }
   },
   "outputs": [
    {
     "data": {
      "text/plain": [
       "exp(- 0.111111 n - 0.5 log n - 0.513473 + o(1))"
      ]
     },
     "execution_count": 8,
     "metadata": {},
     "output_type": "execute_result"
    }
   ],
   "source": [
    "asymptotic + asymptotic2"
   ]
  },
  {
   "cell_type": "markdown",
   "metadata": {},
   "source": [
    "We now consider two random variables $X_1 \\sim \\text{Poisson}(\\tau_1 n)$ and $X_2 \\sim \\text{Poisson}(\\tau_2 n)$."
   ]
  },
  {
   "cell_type": "code",
   "execution_count": 9,
   "metadata": {
    "ExecuteTime": {
     "end_time": "2020-01-11T09:32:54.880822Z",
     "start_time": "2020-01-11T09:32:54.869812Z"
    }
   },
   "outputs": [
    {
     "name": "stdout",
     "output_type": "stream",
     "text": [
      "P(X_1 = 0) =  exp(- 0.111111 n + o(1))\n",
      "P(X_1 = X_2)  = exp(- 0.371461 n - 0.5 log n - 0.68676 + o(1))\n",
      "P(X_1 = X_2 + 1)  = exp(- 0.371461 n - 0.5 log n - 1.72648 + o(1))\n",
      "P(X_1 >= X_2) = exp(- 0.371461 n - 0.5 log n - 0.250496 + o(1))\n",
      "P(X_1 > X_2)  = exp(- 0.371461 n - 0.5 log n - 1.29022 + o(1))\n",
      "P(X_1 > X_2 + 1)  = exp(- 0.371461 n - 0.5 log n - 2.32994 + o(1))\n"
     ]
    }
   ],
   "source": [
    "tau_1, tau_2 = 1 / 9, 8 / 9\n",
    "print('P(X_1 = 0) = ', pa.Asymptotic.poisson_value(tau_1, 0))\n",
    "print('P(X_1 = X_2)  =', pa.Asymptotic.poisson_eq(tau_1, tau_2))\n",
    "print('P(X_1 = X_2 + 1)  =', pa.Asymptotic.poisson_one_more(tau_1, tau_2))\n",
    "print('P(X_1 >= X_2) =', pa.Asymptotic.poisson_ge(tau_1, tau_2))\n",
    "print('P(X_1 > X_2)  =', pa.Asymptotic.poisson_gt(tau_1, tau_2))\n",
    "print('P(X_1 > X_2 + 1)  =', pa.Asymptotic.poisson_gt_one_more(tau_1, tau_2))"
   ]
  }
 ],
 "metadata": {
  "kernelspec": {
   "display_name": "Python 3",
   "language": "python",
   "name": "python3"
  },
  "language_info": {
   "codemirror_mode": {
    "name": "ipython",
    "version": 3
   },
   "file_extension": ".py",
   "mimetype": "text/x-python",
   "name": "python",
   "nbconvert_exporter": "python",
   "pygments_lexer": "ipython3",
   "version": "3.7.3"
  },
  "toc": {
   "base_numbering": 1,
   "nav_menu": {},
   "number_sections": false,
   "sideBar": true,
   "skip_h1_title": true,
   "title_cell": "Table of Contents",
   "title_sidebar": "Contents",
   "toc_cell": false,
   "toc_position": {},
   "toc_section_display": true,
   "toc_window_display": false
  }
 },
 "nbformat": 4,
 "nbformat_minor": 2
}
