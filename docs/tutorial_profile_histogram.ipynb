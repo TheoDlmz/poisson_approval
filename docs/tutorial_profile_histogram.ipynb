{
 "cells": [
  {
   "cell_type": "markdown",
   "metadata": {},
   "source": [
    "# Tutorial on ProfileHistogram"
   ]
  },
  {
   "cell_type": "code",
   "execution_count": 1,
   "metadata": {
    "ExecuteTime": {
     "end_time": "2020-01-03T13:38:29.955767Z",
     "start_time": "2020-01-03T13:38:29.467036Z"
    }
   },
   "outputs": [],
   "source": [
    "from matplotlib import pyplot as plt\n",
    "import poisson_approval as pa"
   ]
  },
  {
   "cell_type": "markdown",
   "metadata": {},
   "source": [
    "## Profile"
   ]
  },
  {
   "cell_type": "markdown",
   "metadata": {},
   "source": [
    "Generate a random profile:"
   ]
  },
  {
   "cell_type": "code",
   "execution_count": 2,
   "metadata": {
    "ExecuteTime": {
     "end_time": "2020-01-03T13:38:29.964705Z",
     "start_time": "2020-01-03T13:38:29.956726Z"
    }
   },
   "outputs": [
    {
     "data": {
      "text/plain": [
       "<abc: 0.053743230902734695 [0.08966909 0.01442632 0.33096612 0.03478041 0.112998   0.01362975\n",
       " 0.00338772 0.05718252 0.2578021  0.08515797], acb: 0.43336573257487954 [0.23983974 0.13086062 0.07247007 0.07282276 0.11716795 0.11523873\n",
       " 0.02476115 0.22065176 0.00192119 0.00426604], bac: 0.05372144305861426 [0.30947192 0.17842114 0.06390927 0.10152159 0.10621856 0.024359\n",
       " 0.06926764 0.05795415 0.041422   0.04745474], bca: 0.04438450201855593 [0.01152976 0.01649768 0.42387152 0.10146042 0.07117235 0.03755548\n",
       " 0.21098342 0.10469953 0.015782   0.00644783], cab: 0.3671570451307352 [0.16232586 0.14515879 0.02036327 0.04999003 0.03815725 0.12647016\n",
       " 0.02101714 0.21859768 0.02259632 0.19532348], cba: 0.047628046314480366 [1.68825297e-04 1.65869425e-01 4.00968258e-01 5.85923602e-02\n",
       " 1.04515366e-01 7.78305189e-02 9.13553265e-02 4.82922403e-02\n",
       " 1.32283268e-02 3.91793532e-02]> (Condorcet winner: a)"
      ]
     },
     "execution_count": 2,
     "metadata": {},
     "output_type": "execute_result"
    }
   ],
   "source": [
    "generator_profile = pa.GeneratorProfileHistogramUniform(n_bins = 10)\n",
    "profile = generator_profile()\n",
    "profile"
   ]
  },
  {
   "cell_type": "markdown",
   "metadata": {},
   "source": [
    "Share of each ranking:"
   ]
  },
  {
   "cell_type": "code",
   "execution_count": 3,
   "metadata": {
    "ExecuteTime": {
     "end_time": "2020-01-03T13:38:29.980694Z",
     "start_time": "2020-01-03T13:38:29.966738Z"
    }
   },
   "outputs": [
    {
     "data": {
      "text/plain": [
       "{abc: 0.053743230902734695, acb: 0.43336573257487954, bac: 0.05372144305861426, bca: 0.04438450201855593, cab: 0.3671570451307352, cba: 0.047628046314480366}"
      ]
     },
     "execution_count": 3,
     "metadata": {},
     "output_type": "execute_result"
    }
   ],
   "source": [
    "profile.d_ranking_share"
   ]
  },
  {
   "cell_type": "markdown",
   "metadata": {},
   "source": [
    "Distribution of the utilities for voters $abc$:"
   ]
  },
  {
   "cell_type": "code",
   "execution_count": 4,
   "metadata": {
    "ExecuteTime": {
     "end_time": "2020-01-03T13:38:30.141233Z",
     "start_time": "2020-01-03T13:38:29.982661Z"
    }
   },
   "outputs": [
    {
     "data": {
      "text/plain": [
       "<matplotlib.legend.Legend at 0x171150dab00>"
      ]
     },
     "execution_count": 4,
     "metadata": {},
     "output_type": "execute_result"
    },
    {
     "data": {
      "image/png": "[encoded data removed]",
      "text/plain": [
       "<Figure size 432x288 with 1 Axes>"
      ]
     },
     "metadata": {
      "needs_background": "light"
     },
     "output_type": "display_data"
    }
   ],
   "source": [
    "ranking = 'abc'\n",
    "profile.plot_histogram(ranking, label='Histogram')\n",
    "profile.plot_cdf(ranking, label='CDF')\n",
    "plt.ylabel('Proportion of the voters %s' % ranking)\n",
    "plt.legend()"
   ]
  },
  {
   "cell_type": "markdown",
   "metadata": {},
   "source": [
    "## Strategic Analysis"
   ]
  },
  {
   "cell_type": "markdown",
   "metadata": {},
   "source": [
    "Generate a random strategy:"
   ]
  },
  {
   "cell_type": "code",
   "execution_count": 5,
   "metadata": {
    "ExecuteTime": {
     "end_time": "2020-01-03T13:38:30.147255Z",
     "start_time": "2020-01-03T13:38:30.142229Z"
    }
   },
   "outputs": [
    {
     "data": {
      "text/plain": [
       "<abc: utility-dependent (0.767686700553199), acb: utility-dependent (0.4653548493427636), bac: utility-dependent (0.9305583395615991), bca: utility-dependent (0.8660410485904834), cab: utility-dependent (0.9936925669594555), cba: utility-dependent (0.16862807660582568)>"
      ]
     },
     "execution_count": 5,
     "metadata": {},
     "output_type": "execute_result"
    }
   ],
   "source": [
    "generator_strategy = pa.GeneratorProfileStrategyThreshold()\n",
    "strategy = generator_strategy()\n",
    "strategy"
   ]
  },
  {
   "cell_type": "markdown",
   "metadata": {},
   "source": [
    "Tau vector (ballot shares) associated to the strategy in the given profile:"
   ]
  },
  {
   "cell_type": "code",
   "execution_count": 6,
   "metadata": {
    "ExecuteTime": {
     "end_time": "2020-01-03T13:38:30.163206Z",
     "start_time": "2020-01-03T13:38:30.149212Z"
    }
   },
   "outputs": [
    {
     "data": {
      "text/plain": [
       "<a: 0.2911171254841006, ab: 0.021195128043267612, ac: 0.18109034899085097, b: 0.09581158526322212, bc: 0.0427224202282457, c: 0.36806339199031296> ==> c"
      ]
     },
     "execution_count": 6,
     "metadata": {},
     "output_type": "execute_result"
    }
   ],
   "source": [
    "tau = profile.tau(strategy)\n",
    "tau"
   ]
  },
  {
   "cell_type": "markdown",
   "metadata": {},
   "source": [
    "Is the strategy an equilibrium for the given profile?"
   ]
  },
  {
   "cell_type": "code",
   "execution_count": 7,
   "metadata": {
    "ExecuteTime": {
     "end_time": "2020-01-03T13:38:30.182124Z",
     "start_time": "2020-01-03T13:38:30.165169Z"
    }
   },
   "outputs": [
    {
     "data": {
      "text/plain": [
       "EquilibriumStatus.NOT_EQUILIBRIUM"
      ]
     },
     "execution_count": 7,
     "metadata": {},
     "output_type": "execute_result"
    }
   ],
   "source": [
    "profile.is_equilibrium(strategy)"
   ]
  },
  {
   "cell_type": "markdown",
   "metadata": {},
   "source": [
    "Use iterated voting to search for an equilibrium:"
   ]
  },
  {
   "cell_type": "code",
   "execution_count": 8,
   "metadata": {
    "ExecuteTime": {
     "end_time": "2020-01-03T13:38:30.242002Z",
     "start_time": "2020-01-03T13:38:30.184118Z"
    }
   },
   "outputs": [
    {
     "name": "stdout",
     "output_type": "stream",
     "text": [
      "-1\n",
      "<abc: utility-dependent (0.767686700553199), acb: utility-dependent (0.4653548493427636), bac: utility-dependent (0.9305583395615991), bca: utility-dependent (0.8660410485904834), cab: utility-dependent (0.9936925669594555), cba: utility-dependent (0.16862807660582568)> ==> c\n",
      "0\n",
      "<abc: ab, acb: a, bac: ab, bca: bc, cab: c, cba: utility-dependent (0.6784379383556463)> ==> a\n",
      "1\n",
      "<abc: utility-dependent (0.6149446544430428), acb: a, bac: ab, bca: bc, cab: c, cba: utility-dependent (0.38505534555695725)> ==> a\n",
      "2\n",
      "<abc: utility-dependent (0.5458788769161699), acb: a, bac: ab, bca: bc, cab: c, cba: utility-dependent (0.45412112308383)> ==> a\n",
      "3\n",
      "<abc: utility-dependent (0.5514296994759739), acb: a, bac: ab, bca: bc, cab: c, cba: utility-dependent (0.4485703005240261)> ==> a\n",
      "4\n",
      "<abc: utility-dependent (0.5509261223033161), acb: a, bac: ab, bca: bc, cab: c, cba: utility-dependent (0.44907387769668394)> ==> a\n",
      "5\n",
      "<abc: utility-dependent (0.5509717624313708), acb: a, bac: ab, bca: bc, cab: c, cba: utility-dependent (0.4490282375686293)> ==> a\n",
      "6\n",
      "<abc: utility-dependent (0.5509676256132487), acb: a, bac: ab, bca: bc, cab: c, cba: utility-dependent (0.4490323743867514)> ==> a\n",
      "7\n",
      "<abc: utility-dependent (0.5509680005711306), acb: a, bac: ab, bca: bc, cab: c, cba: utility-dependent (0.4490319994288694)> ==> a\n",
      "8\n",
      "<abc: utility-dependent (0.5509679665852235), acb: a, bac: ab, bca: bc, cab: c, cba: utility-dependent (0.44903203341477643)> ==> a\n",
      "9\n",
      "<abc: utility-dependent (0.550967969665681), acb: a, bac: ab, bca: bc, cab: c, cba: utility-dependent (0.44903203033431893)> ==> a\n",
      "10\n",
      "<abc: utility-dependent (0.5509679693864706), acb: a, bac: ab, bca: bc, cab: c, cba: utility-dependent (0.44903203061352953)> ==> a\n",
      "11\n",
      "<abc: utility-dependent (0.5509679694117781), acb: a, bac: ab, bca: bc, cab: c, cba: utility-dependent (0.44903203058822205)> ==> a\n",
      "12\n",
      "<abc: utility-dependent (0.5509679694094842), acb: a, bac: ab, bca: bc, cab: c, cba: utility-dependent (0.4490320305905159)> ==> a\n",
      "13\n",
      "<abc: utility-dependent (0.5509679694096922), acb: a, bac: ab, bca: bc, cab: c, cba: utility-dependent (0.4490320305903078)> ==> a\n",
      "14\n",
      "<abc: utility-dependent (0.5509679694096733), acb: a, bac: ab, bca: bc, cab: c, cba: utility-dependent (0.4490320305903268)> ==> a\n",
      "15\n",
      "<abc: utility-dependent (0.550967969409675), acb: a, bac: ab, bca: bc, cab: c, cba: utility-dependent (0.44903203059032504)> ==> a\n",
      "16\n",
      "<abc: utility-dependent (0.5509679694096747), acb: a, bac: ab, bca: bc, cab: c, cba: utility-dependent (0.4490320305903252)> ==> a\n",
      "17\n",
      "<abc: utility-dependent (0.5509679694096747), acb: a, bac: ab, bca: bc, cab: c, cba: utility-dependent (0.4490320305903252)> ==> a\n"
     ]
    }
   ],
   "source": [
    "cycle = profile.iterated_voting(strategy_ini=strategy, n_max_episodes=1000, verbose=True)"
   ]
  },
  {
   "cell_type": "code",
   "execution_count": 9,
   "metadata": {
    "ExecuteTime": {
     "end_time": "2020-01-03T13:38:30.249943Z",
     "start_time": "2020-01-03T13:38:30.244956Z"
    }
   },
   "outputs": [
    {
     "data": {
      "text/plain": [
       "[<abc: utility-dependent (0.5509679694096747), acb: a, bac: ab, bca: bc, cab: c, cba: utility-dependent (0.4490320305903252)> ==> a]"
      ]
     },
     "execution_count": 9,
     "metadata": {},
     "output_type": "execute_result"
    }
   ],
   "source": [
    "cycle"
   ]
  },
  {
   "cell_type": "code",
   "execution_count": 10,
   "metadata": {
    "ExecuteTime": {
     "end_time": "2020-01-03T13:38:30.259917Z",
     "start_time": "2020-01-03T13:38:30.251937Z"
    }
   },
   "outputs": [
    {
     "name": "stdout",
     "output_type": "stream",
     "text": [
      "Convergence to an equilibrium: <abc: utility-dependent (0.5509679694096747), acb: a, bac: ab, bca: bc, cab: c, cba: utility-dependent (0.4490320305903252)> ==> a.\n"
     ]
    }
   ],
   "source": [
    "if len(cycle) == 0:\n",
    "    print('No convergence.')\n",
    "elif len(cycle) == 1:\n",
    "    print('Convergence to an equilibrium: %s.' % cycle[0])\n",
    "else:\n",
    "    print('Convergence to a cycle of cardinality %s.' % len(cycle))"
   ]
  },
  {
   "cell_type": "code",
   "execution_count": null,
   "metadata": {},
   "outputs": [],
   "source": []
  }
 ],
 "metadata": {
  "kernelspec": {
   "display_name": "Python 3",
   "language": "python",
   "name": "python3"
  },
  "language_info": {
   "codemirror_mode": {
    "name": "ipython",
    "version": 3
   },
   "file_extension": ".py",
   "mimetype": "text/x-python",
   "name": "python",
   "nbconvert_exporter": "python",
   "pygments_lexer": "ipython3",
   "version": "3.7.3"
  },
  "toc": {
   "base_numbering": 1,
   "nav_menu": {},
   "number_sections": false,
   "sideBar": true,
   "skip_h1_title": true,
   "title_cell": "Table of Contents",
   "title_sidebar": "Contents",
   "toc_cell": false,
   "toc_position": {},
   "toc_section_display": true,
   "toc_window_display": false
  }
 },
 "nbformat": 4,
 "nbformat_minor": 2
}
