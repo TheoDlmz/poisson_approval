{
 "cells": [
  {
   "cell_type": "markdown",
   "metadata": {},
   "source": [
    "# Probabilities"
   ]
  },
  {
   "cell_type": "code",
   "execution_count": 1,
   "metadata": {
    "ExecuteTime": {
     "end_time": "2021-02-15T09:50:05.271606Z",
     "start_time": "2021-02-15T09:50:00.013623Z"
    }
   },
   "outputs": [],
   "source": [
    "from matplotlib import pyplot as plt\n",
    "from fractions import Fraction\n",
    "import poisson_approval as pa"
   ]
  },
  {
   "cell_type": "markdown",
   "metadata": {},
   "source": [
    "## Random Factories"
   ]
  },
  {
   "cell_type": "markdown",
   "metadata": {},
   "source": [
    "The package provides a large variety of random factories to generate **profiles**, **strategies** or **tau-vectors**. For example, define a random factory of tau-vectors:"
   ]
  },
  {
   "cell_type": "code",
   "execution_count": 2,
   "metadata": {
    "ExecuteTime": {
     "end_time": "2021-02-15T09:50:05.282577Z",
     "start_time": "2021-02-15T09:50:05.276764Z"
    }
   },
   "outputs": [],
   "source": [
    "rand_tau = pa.RandTauVectorUniform()"
   ]
  },
  {
   "cell_type": "markdown",
   "metadata": {},
   "source": [
    "Then use this random factory to generate a tau-vector:"
   ]
  },
  {
   "cell_type": "code",
   "execution_count": 3,
   "metadata": {
    "ExecuteTime": {
     "end_time": "2021-02-15T09:50:05.318861Z",
     "start_time": "2021-02-15T09:50:05.285569Z"
    }
   },
   "outputs": [
    {
     "data": {
      "text/plain": [
       "<a: 0.01026179823073825, ab: 0.15335471082695618, ac: 0.18428374829679528, b: 0.10894428401103218, bc: 0.535560376132927, c: 0.007595082501551165> ==> b"
      ]
     },
     "execution_count": 3,
     "metadata": {},
     "output_type": "execute_result"
    }
   ],
   "source": [
    "tau = rand_tau()\n",
    "tau"
   ]
  },
  {
   "cell_type": "markdown",
   "metadata": {},
   "source": [
    "Most random factories of the package also have a \"grid\" counterpart where the coefficients are fractions of a given denominator. This is convenient to generate less \"messy\" examples:"
   ]
  },
  {
   "cell_type": "code",
   "execution_count": 4,
   "metadata": {
    "ExecuteTime": {
     "end_time": "2021-02-15T09:50:05.360947Z",
     "start_time": "2021-02-15T09:50:05.322851Z"
    }
   },
   "outputs": [
    {
     "data": {
      "text/plain": [
       "<a: 1/4, ab: 2/25, ac: 1/100, b: 1/20, bc: 19/50, c: 23/100> ==> c"
      ]
     },
     "execution_count": 4,
     "metadata": {},
     "output_type": "execute_result"
    }
   ],
   "source": [
    "rand_tau = pa.RandTauVectorGridUniform(denominator=100)\n",
    "tau = rand_tau()\n",
    "tau"
   ]
  },
  {
   "cell_type": "markdown",
   "metadata": {},
   "source": [
    "Also, most random factories have options that enable to finely tune the distribution:"
   ]
  },
  {
   "cell_type": "code",
   "execution_count": 5,
   "metadata": {
    "ExecuteTime": {
     "end_time": "2021-02-15T09:50:05.402717Z",
     "start_time": "2021-02-15T09:50:05.364738Z"
    }
   },
   "outputs": [
    {
     "data": {
      "text/plain": [
       "<a: 0.7678442160616922, b: 0.13215578393830785, c: 0.1> ==> a (Plurality)"
      ]
     },
     "execution_count": 5,
     "metadata": {},
     "output_type": "execute_result"
    }
   ],
   "source": [
    "rand_tau = pa.RandTauVectorUniform(\n",
    "    ballots=['a', 'b'], \n",
    "    d_ballot_fixed_share={'c': 0.1}, \n",
    "    voting_rule=pa.PLURALITY\n",
    ")\n",
    "tau = rand_tau()\n",
    "tau"
   ]
  },
  {
   "cell_type": "markdown",
   "metadata": {},
   "source": [
    "For more information, cf. the *Reference* section on random factories."
   ]
  },
  {
   "cell_type": "markdown",
   "metadata": {},
   "source": [
    "## Conditional Random Factory"
   ]
  },
  {
   "cell_type": "markdown",
   "metadata": {},
   "source": [
    "*RandConditional* is a random factory implementing rejection sampling. It needs:\n",
    "\n",
    "* Another random factory that is responsible for generating the objects,\n",
    "* A test that the objects must meet,\n",
    "* A maximum number of trials before renouncing (which can be *None* if you want to draw objects forever, until finding one that meets the test)."
   ]
  },
  {
   "cell_type": "markdown",
   "metadata": {},
   "source": [
    "Here, we use a conditional random factory to generate an example of *TauVector* with a direct focus:"
   ]
  },
  {
   "cell_type": "code",
   "execution_count": 6,
   "metadata": {
    "ExecuteTime": {
     "end_time": "2021-02-15T09:50:05.432590Z",
     "start_time": "2021-02-15T09:50:05.405629Z"
    }
   },
   "outputs": [],
   "source": [
    "def test_direct_focus(tau):\n",
    "    return tau.focus == pa.Focus.DIRECT"
   ]
  },
  {
   "cell_type": "code",
   "execution_count": 7,
   "metadata": {
    "ExecuteTime": {
     "end_time": "2021-02-15T09:50:05.476473Z",
     "start_time": "2021-02-15T09:50:05.435582Z"
    }
   },
   "outputs": [
    {
     "data": {
      "text/plain": [
       "<a: 19/100, ab: 8/25, ac: 1/100, b: 19/100, bc: 17/100, c: 3/25> ==> b"
      ]
     },
     "execution_count": 7,
     "metadata": {},
     "output_type": "execute_result"
    }
   ],
   "source": [
    "rand_tau = pa.RandConditional(\n",
    "    factory=pa.RandTauVectorGridUniform(denominator=100),\n",
    "    test=test_direct_focus,\n",
    "    n_trials_max=None\n",
    ")\n",
    "tau = rand_tau()\n",
    "tau"
   ]
  },
  {
   "cell_type": "markdown",
   "metadata": {},
   "source": [
    "Alternatively, *RandConditional* accepts a tuple of factories, and a test on the tuple of the results. Here is an example of a *ProfileNoisyDiscrete* and a *StrategyOrdinal*, such that the strategy is an equilibrium for the profile:"
   ]
  },
  {
   "cell_type": "code",
   "execution_count": 8,
   "metadata": {
    "ExecuteTime": {
     "end_time": "2021-02-15T09:50:05.504401Z",
     "start_time": "2021-02-15T09:50:05.480463Z"
    }
   },
   "outputs": [],
   "source": [
    "rand_profile = pa.RandProfileNoisyDiscreteGridUniform(\n",
    "    denominator=100,\n",
    "    types=[('abc', 0.4, 0.01),\n",
    "           ('bac', 0.2, 0.01),\n",
    "           ('cab', 0.7, 0.01)]\n",
    ")\n",
    "rand_strategy = pa.RandStrategyOrdinalUniform()\n",
    "def test_is_equilibrium(profile, strategy):\n",
    "    return profile.is_equilibrium(strategy) == pa.EquilibriumStatus.EQUILIBRIUM"
   ]
  },
  {
   "cell_type": "code",
   "execution_count": 9,
   "metadata": {
    "ExecuteTime": {
     "end_time": "2021-02-15T09:50:05.580209Z",
     "start_time": "2021-02-15T09:50:05.507390Z"
    }
   },
   "outputs": [
    {
     "name": "stdout",
     "output_type": "stream",
     "text": [
      "<abc 0.4 ± 0.01: 9/20, bac 0.2 ± 0.01: 41/100, cab 0.7 ± 0.01: 7/50> (Condorcet winner: a)\n",
      "<abc: a, acb: a, bac: ab, bca: bc, cab: c, cba: c>\n"
     ]
    }
   ],
   "source": [
    "rand_example = pa.RandConditional(\n",
    "    factory=(rand_profile, rand_strategy),\n",
    "    test=test_is_equilibrium,\n",
    "    n_trials_max=None\n",
    ")\n",
    "profile, strategy = rand_example()\n",
    "print(profile)\n",
    "print(strategy)"
   ]
  },
  {
   "cell_type": "markdown",
   "metadata": {},
   "source": [
    "## Probability Estimation"
   ]
  },
  {
   "cell_type": "markdown",
   "metadata": {},
   "source": [
    "To compute a probability, use the function *probability*."
   ]
  },
  {
   "cell_type": "markdown",
   "metadata": {},
   "source": [
    "For example, estimate the probability that a *TauVector* drawn uniformly at random has a direct focus:"
   ]
  },
  {
   "cell_type": "code",
   "execution_count": 10,
   "metadata": {
    "ExecuteTime": {
     "end_time": "2021-02-15T09:50:05.590184Z",
     "start_time": "2021-02-15T09:50:05.583201Z"
    }
   },
   "outputs": [],
   "source": [
    "def test_direct_focus(tau):\n",
    "    return tau.focus == pa.Focus.DIRECT"
   ]
  },
  {
   "cell_type": "code",
   "execution_count": 11,
   "metadata": {
    "ExecuteTime": {
     "end_time": "2021-02-15T09:50:05.931947Z",
     "start_time": "2021-02-15T09:50:05.594173Z"
    }
   },
   "outputs": [
    {
     "data": {
      "text/plain": [
       "0.43"
      ]
     },
     "execution_count": 11,
     "metadata": {},
     "output_type": "execute_result"
    }
   ],
   "source": [
    "pa.probability(\n",
    "    factory=pa.RandTauVectorUniform(),\n",
    "    n_samples=100,\n",
    "    test=test_direct_focus\n",
    ")"
   ]
  },
  {
   "cell_type": "markdown",
   "metadata": {},
   "source": [
    "To avoid the definition of an auxiliary function, you can use a *lambda*. For example:"
   ]
  },
  {
   "cell_type": "code",
   "execution_count": 12,
   "metadata": {
    "ExecuteTime": {
     "end_time": "2021-02-15T09:50:06.244476Z",
     "start_time": "2021-02-15T09:50:05.934940Z"
    }
   },
   "outputs": [
    {
     "data": {
      "text/plain": [
       "0.52"
      ]
     },
     "execution_count": 12,
     "metadata": {},
     "output_type": "execute_result"
    }
   ],
   "source": [
    "pa.probability(\n",
    "    factory=pa.RandTauVectorUniform(),\n",
    "    n_samples=100,\n",
    "    test=lambda tau: tau.focus == pa.Focus.DIRECT\n",
    ")"
   ]
  },
  {
   "cell_type": "markdown",
   "metadata": {
    "ExecuteTime": {
     "end_time": "2020-01-03T06:55:13.021088Z",
     "start_time": "2020-01-03T06:55:13.016102Z"
    }
   },
   "source": [
    "You can also compute a conditional probability. For example, the probability that a *ProfileNoisyDiscrete* (generated by the random factory defined below) has an ordinal equilibrium, conditionally on having a strict Condorcet winner:"
   ]
  },
  {
   "cell_type": "code",
   "execution_count": 13,
   "metadata": {
    "ExecuteTime": {
     "end_time": "2021-02-15T09:50:06.256443Z",
     "start_time": "2021-02-15T09:50:06.248539Z"
    }
   },
   "outputs": [],
   "source": [
    "rand_profile = pa.RandProfileNoisyDiscreteUniform(\n",
    "    types=[('abc', 0.4, 0.01),\n",
    "           ('bac', 0.2, 0.01),\n",
    "           ('cab', 0.7, 0.01)]\n",
    ")\n",
    "def test_exists_ordinal_equilibrium(profile):\n",
    "    return len(profile.analyzed_strategies_ordinal.equilibria) > 0\n",
    "def test_is_strictly_condorcet(profile):\n",
    "    return profile.is_profile_condorcet == 1.0"
   ]
  },
  {
   "cell_type": "code",
   "execution_count": 14,
   "metadata": {
    "ExecuteTime": {
     "end_time": "2021-02-15T09:50:10.768581Z",
     "start_time": "2021-02-15T09:50:06.258437Z"
    }
   },
   "outputs": [
    {
     "data": {
      "text/plain": [
       "1.0"
      ]
     },
     "execution_count": 14,
     "metadata": {},
     "output_type": "execute_result"
    }
   ],
   "source": [
    "pa.probability(\n",
    "    factory=rand_profile,\n",
    "    n_samples=100,\n",
    "    test=test_exists_ordinal_equilibrium,\n",
    "    conditional_on=test_is_strictly_condorcet\n",
    ")"
   ]
  },
  {
   "cell_type": "markdown",
   "metadata": {},
   "source": [
    "You can also use a tuple of random factories, and tests on the tuple of the results. For example, estimate the probability that a random *StrategyOrdinal* is an equilibrium for a random *ProfileNoisyDiscrete* (generated by the random factory defined below), conditionally on the fact that the profile has a strict Condorcet winner and that the initial strategy elects the Condorcet winner:"
   ]
  },
  {
   "cell_type": "code",
   "execution_count": 15,
   "metadata": {
    "ExecuteTime": {
     "end_time": "2021-02-15T09:50:10.787122Z",
     "start_time": "2021-02-15T09:50:10.773804Z"
    }
   },
   "outputs": [],
   "source": [
    "rand_profile = pa.RandProfileNoisyDiscreteUniform(\n",
    "    types=[('abc', 0.4, 0.01),\n",
    "           ('bac', 0.2, 0.01),\n",
    "           ('cab', 0.7, 0.01)]\n",
    ")\n",
    "rand_strategy = pa.RandStrategyOrdinalUniform()\n",
    "def test_is_equilibrium(profile, strategy):\n",
    "    return profile.is_equilibrium(strategy) == pa.EquilibriumStatus.EQUILIBRIUM\n",
    "def test_elect_condorcet_winner(profile, strategy):\n",
    "    return (profile.is_profile_condorcet == 1. \n",
    "            and profile.tau(strategy).winners == profile.condorcet_winners)"
   ]
  },
  {
   "cell_type": "code",
   "execution_count": 16,
   "metadata": {
    "ExecuteTime": {
     "end_time": "2021-02-15T09:50:11.478812Z",
     "start_time": "2021-02-15T09:50:10.790166Z"
    }
   },
   "outputs": [
    {
     "data": {
      "text/plain": [
       "0.36"
      ]
     },
     "execution_count": 16,
     "metadata": {},
     "output_type": "execute_result"
    }
   ],
   "source": [
    "pa.probability(\n",
    "    factory=(rand_profile, rand_strategy),\n",
    "    n_samples=100,\n",
    "    test=test_is_equilibrium,\n",
    "    conditional_on=test_elect_condorcet_winner\n",
    ")"
   ]
  },
  {
   "cell_type": "markdown",
   "metadata": {},
   "source": [
    "Finally, you can also use a tuple of tests in order to estimate several probabilities with the same sample. For example, estimate the probability that a *TauVector* drawn uniformly at random is direct, forward-focused, backward-focused, or unfocused:"
   ]
  },
  {
   "cell_type": "code",
   "execution_count": 17,
   "metadata": {
    "ExecuteTime": {
     "end_time": "2021-02-15T09:50:11.820701Z",
     "start_time": "2021-02-15T09:50:11.482801Z"
    }
   },
   "outputs": [
    {
     "data": {
      "text/plain": [
       "(0.52, 0.48, 0.0, 0.0)"
      ]
     },
     "execution_count": 17,
     "metadata": {},
     "output_type": "execute_result"
    }
   ],
   "source": [
    "pa.probability(\n",
    "    factory=pa.RandTauVectorUniform(),\n",
    "    n_samples=100,\n",
    "    test=(lambda tau: tau.focus == pa.Focus.DIRECT, \n",
    "          lambda tau: tau.focus == pa.Focus.FORWARD_FOCUSED,\n",
    "          lambda tau: tau.focus == pa.Focus.BACKWARD_FOCUSED,\n",
    "          lambda tau: tau.focus == pa.Focus.UNFOCUSED)\n",
    ")"
   ]
  },
  {
   "cell_type": "markdown",
   "metadata": {},
   "source": [
    "## Image Distribution Estimation"
   ]
  },
  {
   "cell_type": "markdown",
   "metadata": {},
   "source": [
    "To compute an image distribution, use the function *image_distribution*.\n",
    "\n",
    "For example, when drawing a *ProfileNoisyDiscrete* (with the random factory defined below) and an initial *StrategyOrdinal* at random, and when applying iterated voting, let us estimate the distribution of the length of the cycle to which it converges:"
   ]
  },
  {
   "cell_type": "code",
   "execution_count": 18,
   "metadata": {
    "ExecuteTime": {
     "end_time": "2021-02-15T09:50:11.833830Z",
     "start_time": "2021-02-15T09:50:11.826783Z"
    }
   },
   "outputs": [],
   "source": [
    "rand_profile = pa.RandProfileNoisyDiscreteUniform(\n",
    "    types=[('abc', 0.4, 0.01),\n",
    "           ('bca', 0.2, 0.01),\n",
    "           ('cab', 0.7, 0.01)]\n",
    ")\n",
    "rand_strategy = pa.RandStrategyOrdinalUniform()"
   ]
  },
  {
   "cell_type": "code",
   "execution_count": 19,
   "metadata": {
    "ExecuteTime": {
     "end_time": "2021-02-15T09:50:11.853016Z",
     "start_time": "2021-02-15T09:50:11.836724Z"
    }
   },
   "outputs": [],
   "source": [
    "def len_cycle(profile, strategy_ini):\n",
    "    cycle = profile.iterated_voting(init=strategy_ini, n_max_episodes=100)['cycle_taus_actual']\n",
    "    return len(cycle)"
   ]
  },
  {
   "cell_type": "code",
   "execution_count": 20,
   "metadata": {
    "ExecuteTime": {
     "end_time": "2021-02-15T09:50:15.348999Z",
     "start_time": "2021-02-15T09:50:11.856008Z"
    }
   },
   "outputs": [
    {
     "data": {
      "text/plain": [
       "{1: 0.21, 2: 0.02, 3: 0.77}"
      ]
     },
     "execution_count": 20,
     "metadata": {},
     "output_type": "execute_result"
    }
   ],
   "source": [
    "d_len_occurrences = pa.image_distribution(\n",
    "    factory=(rand_profile, rand_strategy),\n",
    "    n_samples=100, f=len_cycle)\n",
    "d_len_occurrences"
   ]
  },
  {
   "cell_type": "code",
   "execution_count": 21,
   "metadata": {
    "ExecuteTime": {
     "end_time": "2021-02-15T09:50:15.815367Z",
     "start_time": "2021-02-15T09:50:15.353987Z"
    }
   },
   "outputs": [
    {
     "data": {
      "text/plain": [
       "<BarContainer object of 3 artists>"
      ]
     },
     "execution_count": 21,
     "metadata": {},
     "output_type": "execute_result"
    },
    {
     "data": {
      "image/png": "[encoded data removed]",
      "text/plain": [
       "<Figure size 432x288 with 1 Axes>"
      ]
     },
     "metadata": {
      "needs_background": "light"
     },
     "output_type": "display_data"
    }
   ],
   "source": [
    "plt.bar(d_len_occurrences.keys(), d_len_occurrences.values())"
   ]
  }
 ],
 "metadata": {
  "kernelspec": {
   "display_name": "Python 3",
   "language": "python",
   "name": "python3"
  },
  "language_info": {
   "codemirror_mode": {
    "name": "ipython",
    "version": 3
   },
   "file_extension": ".py",
   "mimetype": "text/x-python",
   "name": "python",
   "nbconvert_exporter": "python",
   "pygments_lexer": "ipython3",
   "version": "3.7.3"
  },
  "toc": {
   "base_numbering": 1,
   "nav_menu": {},
   "number_sections": false,
   "sideBar": true,
   "skip_h1_title": true,
   "title_cell": "Table of Contents",
   "title_sidebar": "Contents",
   "toc_cell": false,
   "toc_position": {
    "height": "calc(100% - 180px)",
    "left": "10px",
    "top": "150px",
    "width": "218.875px"
   },
   "toc_section_display": true,
   "toc_window_display": false
  }
 },
 "nbformat": 4,
 "nbformat_minor": 2
}
